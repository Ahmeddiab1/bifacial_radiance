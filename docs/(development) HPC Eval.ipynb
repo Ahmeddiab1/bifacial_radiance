{
 "cells": [
  {
   "cell_type": "code",
   "execution_count": 1,
   "metadata": {},
   "outputs": [],
   "source": [
    "try:\n",
    "    from bifacial_radiance import *\n",
    "except ImportError:\n",
    "    raise RuntimeError('bifacial_radiance is required. download distribution')\n",
    "    # Simple example system using Radiance.\n",
    "    \n",
    "import numpy as np"
   ]
  },
  {
   "cell_type": "code",
   "execution_count": 2,
   "metadata": {},
   "outputs": [],
   "source": [
    "# Option 1: \n",
    "# Use a CW equal to the 3 panels, and replicate 3 times along the row.\n",
    "# The below routine creates a HEXAGONAL torque tube, for a 2-UP configuration of a specific module size. Parameters for the module, the torque tube, and the scene are below.\n",
    "# This is being run with gendaylit, for one specific timestamp\n",
    "# MODIFY THE TEST FOLDER TO YOUR LIKING. I utmostly dislike the interactive directory.\n",
    "testfolder = r'C:\\Users\\sayala\\Documents\\RadianceScenes\\Demo3'\n",
    "epwfile = r'C:\\Users\\sayala\\Documents\\RadianceScenes\\Demo3\\EPWs\\USA_VA_Richmond.Intl.AP.724010_TMY.epw'\n",
    "# This is the only thing that changes for running on the HPC at the moment\n",
    "#testfolder = '/scratch/sayala/RadianceScenes/Test1'\n",
    "#epwfile='/scratch/sayala/EPWs/USA_VA_Richmond.Intl.AP.724010_TMY.epw'\n",
    "\n",
    "simulationname = 'TestHPC1'\n",
    "moduletype = 'Longi'\n",
    "\n",
    "# Control Variables\n",
    "cumulativesky=False\n",
    "rewriteModule=True\n",
    "hpc=True\n",
    "\n",
    "# Scene Variables \n",
    "gcr = 0.35   # ground cover ratio,  = module_height / pitch\n",
    "albedo = 0.3     # ground albedo\n",
    "nMods = 20  # replicating the unit 3 times\n",
    "nRows = 7  # only 1 row\n",
    "\n",
    "# Analysis Variabls\n",
    "sensorsy = 210  # this will give 70 sensors per module.\n",
    "modWanted = nMods/2\n",
    "rowWanted = nRows/2\n",
    "\n",
    "# Fixed tilt variables\n",
    "azimuth_ang=180 # Facing south\n",
    "tilt =20 # tilt. \n",
    "\n",
    "# Tracker geometry options\n",
    "backtrack = True\n",
    "hub_height = 2   # tracker height at 0 tilt in meters (hub height)\n",
    "limit_angle = 45 # tracker rotation limit angle\n",
    "axis_azimuth=180\n",
    "angledelta=5\n",
    "\n",
    "\n",
    "# ModuleDict Variables\n",
    "numpanels = 1\n",
    "x=0.984  \n",
    "y = 1.996\n",
    "bifi=0.9\n",
    "xgap = 0.01 # 10 centimeters.\n",
    "ygap = 0.0\n",
    "zgap = 0.1\n",
    "\n",
    "# TorqueTube Parameters\n",
    "torqueTube = True\n",
    "axisofrotationTorqueTube=False\n",
    "diameter=0.1\n",
    "tubetype='Round'\n",
    "torqueTubeMaterial='Metal_Grey'\n",
    "\n",
    "# Cell Level Module Parameters\n",
    "cellLevelModule = False\n",
    "numcellsx=10\n",
    "numcellsy=6\n",
    "xcell=0.156\n",
    "ycell=0.156\n",
    "xcellgap=0.02\n",
    "ycellgap=0.02\n"
   ]
  },
  {
   "cell_type": "code",
   "execution_count": 3,
   "metadata": {},
   "outputs": [
    {
     "name": "stdout",
     "output_type": "stream",
     "text": [
      "path = C:\\Users\\sayala\\Documents\\RadianceScenes\\Demo3\n",
      "('\\nModule Name:', 'Longi')\n",
      "REWRITING pre-existing module file. \n",
      "Module Longi successfully created\n"
     ]
    },
    {
     "name": "stderr",
     "output_type": "stream",
     "text": [
      "C:\\ProgramData\\Anaconda2\\lib\\site-packages\\pvlib\\tracking.py:424: RuntimeWarning: invalid value encountered in minimum\n",
      "  temp = np.minimum(axes_distance*cosd(wid), 1)\n",
      "C:\\ProgramData\\Anaconda2\\lib\\site-packages\\pvlib\\tracking.py:431: RuntimeWarning: invalid value encountered in less\n",
      "  tracker_theta = np.where(wid < 0, wid + wc, wid - wc)\n",
      "C:\\ProgramData\\Anaconda2\\lib\\site-packages\\pvlib\\tracking.py:435: RuntimeWarning: invalid value encountered in greater\n",
      "  tracker_theta[tracker_theta > max_angle] = max_angle\n",
      "C:\\ProgramData\\Anaconda2\\lib\\site-packages\\pvlib\\tracking.py:436: RuntimeWarning: invalid value encountered in less\n",
      "  tracker_theta[tracker_theta < -max_angle] = -max_angle\n",
      "C:\\ProgramData\\Anaconda2\\lib\\site-packages\\pvlib\\tracking.py:543: RuntimeWarning: invalid value encountered in less\n",
      "  surface_azimuth[surface_azimuth < 0] += 360\n",
      "C:\\ProgramData\\Anaconda2\\lib\\site-packages\\pvlib\\tracking.py:544: RuntimeWarning: invalid value encountered in greater_equal\n",
      "  surface_azimuth[surface_azimuth >= 360] -= 360\n"
     ]
    },
    {
     "name": "stdout",
     "output_type": "stream",
     "text": [
      "Creating ~4000 skyfiles.  Takes 1-2 minutes\n",
      "Adjusting solarposition for sunrise hour, 0 timeindex\n",
      "Original datetime 1971-02-24 07:00:00-05:00\n",
      "Localized and adjusted datetime 1971-02-24 06:54:00-05:00 \n",
      "\n",
      "Adjusting solarposition for sunset hour, 11 timeindex\n",
      "Original datetime 1971-02-24 18:00:00-05:00\n",
      "Localized and adjusted datetime 1971-02-24 17:29:00-05:00 \n",
      "\n",
      "Created 12 skyfiles in /skies/\n"
     ]
    }
   ],
   "source": [
    "demo = RadianceObj(simulationname,path = testfolder)  # Create a RadianceObj 'object'\n",
    "demo.setGround(albedo) # input albedo number or material name like 'concrete'.  To see options, run this without any input.\n",
    "moduleDict=demo.makeModule(name=moduletype,x=x,y=y,bifi=bifi, \n",
    "                       torquetube=torqueTube, diameter = diameter, tubetype = tubetype, \n",
    "                       material = torqueTubeMaterial, zgap = zgap, numpanels = numpanels, ygap = ygap, \n",
    "                       rewriteModulefile = True, xgap=xgap, \n",
    "                       axisofrotationTorqueTube=axisofrotationTorqueTube, cellLevelModule=cellLevelModule, \n",
    "                       numcellsx=numcellsx, numcellsy = numcellsy)\n",
    "sceneDict = {'module_type':moduletype, 'pitch': round(moduleDict['sceney'] / gcr,3),'height':hub_height, 'nMods':nMods, 'nRows':nRows} #, 'nMods':20, 'nRows':7}  \n",
    "\n",
    "#epwfile = demo.getEPW(35.0375,-106.6055) # pull EPW data for CO Boulder\n",
    "metdata = demo.readEPW(epwfile=epwfile, hpc=True, daydate='02_24') # read in the EPW weather data from above\n",
    "trackerdict = demo.set1axis(cumulativesky=cumulativesky, axis_azimuth=axis_azimuth, limit_angle=limit_angle, angledelta=angledelta, backtrack=backtrack, gcr=gcr)\n",
    "trackerdict = demo.gendaylit1axis(hpc=hpc)  #benchmark time: gendaylit2:105s.  gendaylit: 5s\n",
    "\n",
    "# SAnity Check of SUnrise and Sunset Hours all YeaR:\n",
    "#metdata = demo.readEPW(epwfile=epwfile) # read in the EPW weather data from above\n",
    "#trackerdict = demo.set1axis(cumulativesky=cumulativesky, axis_azimuth=axis_azimuth, limit_angle=limit_angle, angledelta=angledelta, backtrack=backtrack, gcr=gcr)\n",
    "#trackerdict = demo.gendaylit1axis()  #benchmark time: gendaylit2:105s.  gendaylit: 5s\n"
   ]
  },
  {
   "cell_type": "code",
   "execution_count": 4,
   "metadata": {},
   "outputs": [
    {
     "name": "stdout",
     "output_type": "stream",
     "text": [
      "\n",
      "Making ~4000 .rad files for gendaylit 1-axis workflow (this takes a minute..)\n"
     ]
    },
    {
     "ename": "IOError",
     "evalue": "[Errno 2] No such file or directory: '/scratch/sayala/RadianceScenes/Test1\\\\objects\\\\1axis02_24_10_1.294_5.703_20x7.rad'",
     "output_type": "error",
     "traceback": [
      "\u001b[1;31m\u001b[0m",
      "\u001b[1;31mIOError\u001b[0mTraceback (most recent call last)",
      "\u001b[1;32m<ipython-input-4-e4f712ae5459>\u001b[0m in \u001b[0;36m<module>\u001b[1;34m()\u001b[0m\n\u001b[1;32m----> 1\u001b[1;33m \u001b[0mtrackerdict\u001b[0m \u001b[1;33m=\u001b[0m \u001b[0mdemo\u001b[0m\u001b[1;33m.\u001b[0m\u001b[0mmakeScene1axis\u001b[0m\u001b[1;33m(\u001b[0m\u001b[0mtrackerdict\u001b[0m\u001b[1;33m=\u001b[0m\u001b[0mtrackerdict\u001b[0m\u001b[1;33m,\u001b[0m \u001b[0mmoduletype\u001b[0m\u001b[1;33m=\u001b[0m\u001b[0mmoduletype\u001b[0m\u001b[1;33m,\u001b[0m \u001b[0msceneDict\u001b[0m\u001b[1;33m=\u001b[0m\u001b[0msceneDict\u001b[0m\u001b[1;33m,\u001b[0m \u001b[0mcumulativesky\u001b[0m\u001b[1;33m=\u001b[0m\u001b[0mcumulativesky\u001b[0m\u001b[1;33m)\u001b[0m \u001b[1;31m#makeScene creates a .rad file with 20 modules per row, 7 rows.\u001b[0m\u001b[1;33m\u001b[0m\u001b[0m\n\u001b[0m\u001b[0;32m      2\u001b[0m \u001b[0mdemo\u001b[0m\u001b[1;33m.\u001b[0m\u001b[0mmakeOct1axis\u001b[0m\u001b[1;33m(\u001b[0m\u001b[0mtrackerdict\u001b[0m\u001b[1;33m=\u001b[0m\u001b[0mtrackerdict\u001b[0m\u001b[1;33m,\u001b[0m \u001b[0mhpc\u001b[0m\u001b[1;33m=\u001b[0m\u001b[0mTrue\u001b[0m\u001b[1;33m)\u001b[0m\u001b[1;33m\u001b[0m\u001b[0m\n",
      "\u001b[1;32mc:\\users\\sayala\\documents\\github\\bifacial_radiance\\bifacial_radiance\\bifacial_radiance.py\u001b[0m in \u001b[0;36mmakeScene1axis\u001b[1;34m(self, trackerdict, moduletype, sceneDict, cumulativesky, nMods, nRows)\u001b[0m\n\u001b[0;32m   1523\u001b[0m                     \u001b[0mtrackerdict\u001b[0m\u001b[1;33m[\u001b[0m\u001b[0mtime\u001b[0m\u001b[1;33m]\u001b[0m\u001b[1;33m[\u001b[0m\u001b[1;34m'ground_clearance'\u001b[0m\u001b[1;33m]\u001b[0m \u001b[1;33m=\u001b[0m \u001b[0mheight\u001b[0m\u001b[1;33m\u001b[0m\u001b[0m\n\u001b[0;32m   1524\u001b[0m                     \u001b[0msceneDict2\u001b[0m \u001b[1;33m=\u001b[0m \u001b[1;33m{\u001b[0m\u001b[1;34m'tilt'\u001b[0m\u001b[1;33m:\u001b[0m\u001b[0mtrackerdict\u001b[0m\u001b[1;33m[\u001b[0m\u001b[0mtime\u001b[0m\u001b[1;33m]\u001b[0m\u001b[1;33m[\u001b[0m\u001b[1;34m'surf_tilt'\u001b[0m\u001b[1;33m]\u001b[0m\u001b[1;33m,\u001b[0m\u001b[1;34m'pitch'\u001b[0m\u001b[1;33m:\u001b[0m\u001b[0msceneDict\u001b[0m\u001b[1;33m[\u001b[0m\u001b[1;34m'pitch'\u001b[0m\u001b[1;33m]\u001b[0m\u001b[1;33m,\u001b[0m\u001b[1;34m'height'\u001b[0m\u001b[1;33m:\u001b[0m \u001b[0mtrackerdict\u001b[0m\u001b[1;33m[\u001b[0m\u001b[0mtime\u001b[0m\u001b[1;33m]\u001b[0m\u001b[1;33m[\u001b[0m\u001b[1;34m'ground_clearance'\u001b[0m\u001b[1;33m]\u001b[0m\u001b[1;33m,\u001b[0m\u001b[1;34m'azimuth'\u001b[0m\u001b[1;33m:\u001b[0m\u001b[0mtrackerdict\u001b[0m\u001b[1;33m[\u001b[0m\u001b[0mtime\u001b[0m\u001b[1;33m]\u001b[0m\u001b[1;33m[\u001b[0m\u001b[1;34m'surf_azm'\u001b[0m\u001b[1;33m]\u001b[0m\u001b[1;33m,\u001b[0m \u001b[1;34m'nMods'\u001b[0m\u001b[1;33m:\u001b[0m \u001b[0msceneDict\u001b[0m\u001b[1;33m[\u001b[0m\u001b[1;34m'nMods'\u001b[0m\u001b[1;33m]\u001b[0m\u001b[1;33m,\u001b[0m \u001b[1;34m'nRows'\u001b[0m\u001b[1;33m:\u001b[0m \u001b[0msceneDict\u001b[0m\u001b[1;33m[\u001b[0m\u001b[1;34m'nRows'\u001b[0m\u001b[1;33m]\u001b[0m\u001b[1;33m}\u001b[0m\u001b[1;33m\u001b[0m\u001b[0m\n\u001b[1;32m-> 1525\u001b[1;33m                     \u001b[0mradfile\u001b[0m \u001b[1;33m=\u001b[0m \u001b[0mscene\u001b[0m\u001b[1;33m.\u001b[0m\u001b[0mmakeSceneNxR\u001b[0m\u001b[1;33m(\u001b[0m\u001b[0mmoduletype\u001b[0m\u001b[1;33m=\u001b[0m\u001b[0mmoduletype\u001b[0m\u001b[1;33m,\u001b[0m \u001b[0msceneDict\u001b[0m\u001b[1;33m=\u001b[0m\u001b[0msceneDict2\u001b[0m\u001b[1;33m,\u001b[0m \u001b[0mradname\u001b[0m\u001b[1;33m=\u001b[0m\u001b[0mradname\u001b[0m\u001b[1;33m)\u001b[0m\u001b[1;33m\u001b[0m\u001b[0m\n\u001b[0m\u001b[0;32m   1526\u001b[0m                     \u001b[0mtrackerdict\u001b[0m\u001b[1;33m[\u001b[0m\u001b[0mtime\u001b[0m\u001b[1;33m]\u001b[0m\u001b[1;33m[\u001b[0m\u001b[1;34m'radfile'\u001b[0m\u001b[1;33m]\u001b[0m \u001b[1;33m=\u001b[0m \u001b[0mradfile\u001b[0m\u001b[1;33m\u001b[0m\u001b[0m\n\u001b[0;32m   1527\u001b[0m                     \u001b[0mtrackerdict\u001b[0m\u001b[1;33m[\u001b[0m\u001b[0mtime\u001b[0m\u001b[1;33m]\u001b[0m\u001b[1;33m[\u001b[0m\u001b[1;34m'scene'\u001b[0m\u001b[1;33m]\u001b[0m \u001b[1;33m=\u001b[0m \u001b[0mscene\u001b[0m\u001b[1;33m\u001b[0m\u001b[0m\n",
      "\u001b[1;32mc:\\users\\sayala\\documents\\github\\bifacial_radiance\\bifacial_radiance\\bifacial_radiance.py\u001b[0m in \u001b[0;36mmakeSceneNxR\u001b[1;34m(self, moduletype, sceneDict, radname)\u001b[0m\n\u001b[0;32m   2024\u001b[0m \u001b[1;33m\u001b[0m\u001b[0m\n\u001b[0;32m   2025\u001b[0m         \u001b[1;31m# py2 and 3 compatible: binary write, encode text first\u001b[0m\u001b[1;33m\u001b[0m\u001b[1;33m\u001b[0m\u001b[0m\n\u001b[1;32m-> 2026\u001b[1;33m         \u001b[1;32mwith\u001b[0m \u001b[0mopen\u001b[0m\u001b[1;33m(\u001b[0m\u001b[0mradfile\u001b[0m\u001b[1;33m,\u001b[0m \u001b[1;34m'wb'\u001b[0m\u001b[1;33m)\u001b[0m \u001b[1;32mas\u001b[0m \u001b[0mf\u001b[0m\u001b[1;33m:\u001b[0m\u001b[1;33m\u001b[0m\u001b[0m\n\u001b[0m\u001b[0;32m   2027\u001b[0m             \u001b[0mf\u001b[0m\u001b[1;33m.\u001b[0m\u001b[0mwrite\u001b[0m\u001b[1;33m(\u001b[0m\u001b[0mtext\u001b[0m\u001b[1;33m.\u001b[0m\u001b[0mencode\u001b[0m\u001b[1;33m(\u001b[0m\u001b[1;34m'ascii'\u001b[0m\u001b[1;33m)\u001b[0m\u001b[1;33m)\u001b[0m\u001b[1;33m\u001b[0m\u001b[0m\n\u001b[0;32m   2028\u001b[0m \u001b[1;33m\u001b[0m\u001b[0m\n",
      "\u001b[1;31mIOError\u001b[0m: [Errno 2] No such file or directory: '/scratch/sayala/RadianceScenes/Test1\\\\objects\\\\1axis02_24_10_1.294_5.703_20x7.rad'"
     ]
    }
   ],
   "source": [
    "trackerdict = demo.makeScene1axis(trackerdict=trackerdict, moduletype=moduletype, sceneDict=sceneDict, cumulativesky=cumulativesky) #makeScene creates a .rad file with 20 modules per row, 7 rows.\n",
    "demo.makeOct1axis(trackerdict=trackerdict, hpc=True)\n"
   ]
  },
  {
   "cell_type": "code",
   "execution_count": null,
   "metadata": {},
   "outputs": [],
   "source": [
    "trackerdict = demo.analysis1axis(trackerdict, sceneDict=sceneDict, modWanted=modWanted, rowWanted=rowWanted, sensorsy=sensorsy)\n"
   ]
  },
  {
   "cell_type": "code",
   "execution_count": null,
   "metadata": {},
   "outputs": [],
   "source": [
    "import os\n",
    "radfile = os.path.join(testfolder,'objects','%s_%0.5s_%0.5s_%sx%s.rad'%('sasdf',2.3,3, 7, 4) ) # update in 0.2.3 to shorten radnames\n",
    "radfile"
   ]
  },
  {
   "cell_type": "code",
   "execution_count": null,
   "metadata": {},
   "outputs": [],
   "source": [
    "radfile"
   ]
  },
  {
   "cell_type": "code",
   "execution_count": null,
   "metadata": {},
   "outputs": [],
   "source": [
    "trackerdict['05_11_06']\n",
    "\n"
   ]
  },
  {
   "cell_type": "code",
   "execution_count": null,
   "metadata": {},
   "outputs": [],
   "source": [
    "import pandas as pd\n",
    "import pytz\n",
    "import pvlib\n",
    "\n",
    "lat = metdata.latitude\n",
    "lon=metdata.longitude\n",
    "elev=metdata.elevation\n",
    "datessstime=metdata.datetime[1134]\n",
    "datetime = pd.to_datetime(datessstime)\n",
    "tz = metdata.timezone\n",
    "try:  # make sure the data is tz-localized.\n",
    "    datetimetz = datetime.tz_localize(pytz.FixedOffset(tz*60))  # either use pytz.FixedOffset (in minutes) or 'Etc/GMT+5'\n",
    "except:  # data is tz-localized already. Just put it in local time.\n",
    "    datetimetz = datetime.tz_convert(pytz.FixedOffset(tz*60))  \n",
    "\n",
    "print datetime\n",
    "\n",
    "solpos = pvlib.irradiance.solarposition.get_solarposition(datetimetz,lat,lon,elev)\n",
    "solpos = pvlib.irradiance.solarposition.get_solarposition(datetimetz-pd.Timedelta(minutes = 30),lat,lon,elev)\n",
    "print solpos\n",
    "\n",
    "axis_tilt=0\n",
    "axis_azimuth=180\n",
    "limit_angle=45\n",
    "backtrack=True\n",
    "trackingdata = pvlib.tracking.singleaxis(solpos['zenith'], solpos['azimuth'], axis_tilt, axis_azimuth, limit_angle, backtrack, gcr)\n",
    "\n",
    "self.tracker_theta = trackingdata['tracker_theta'].tolist()\n",
    "\n",
    "print trackingdata\n",
    "metdata.datetime.hour\n",
    "    "
   ]
  },
  {
   "cell_type": "code",
   "execution_count": null,
   "metadata": {},
   "outputs": [],
   "source": [
    "datetime.hour"
   ]
  },
  {
   "cell_type": "code",
   "execution_count": null,
   "metadata": {},
   "outputs": [],
   "source": []
  }
 ],
 "metadata": {
  "kernelspec": {
   "display_name": "Python 2",
   "language": "python",
   "name": "python2"
  },
  "language_info": {
   "codemirror_mode": {
    "name": "ipython",
    "version": 2
   },
   "file_extension": ".py",
   "mimetype": "text/x-python",
   "name": "python",
   "nbconvert_exporter": "python",
   "pygments_lexer": "ipython2",
   "version": "2.7.15"
  }
 },
 "nbformat": 4,
 "nbformat_minor": 2
}
