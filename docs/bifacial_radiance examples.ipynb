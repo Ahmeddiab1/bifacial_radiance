{
 "cells": [
  {
   "cell_type": "markdown",
   "metadata": {},
   "source": [
    "## bifacial_radiance examples\n",
    "what to do with the new bifacial_radiance python module\n",
    "\n",
    "### Prerequisites:\n",
    "This software requires the previous installation of RADIANCE from https://github.com/NREL/Radiance/releases\n",
    "\n",
    "If you are on a PC you should also install the Jaloxa radwinexe executables: http://www.jaloxa.eu/resources/radiance/radwinexe.shtml\n",
    "\n",
    "#### STEP 1: Install and import the program\n",
    "\n",
    " - clone the repo to your local directory\n",
    " - navigate to the \\bifacial_radiance directory which contains setup\n",
    " - run `pip install -e .  `\n",
    "\n",
    "Gencumulativesky requires gencumulativesky.exe to be installed in your Radiance directory.  Look in the /bifacial_radiance/data/ directory and copy gencumulativesky.exe to your Radiance install directory."
   ]
  },
  {
   "cell_type": "code",
   "execution_count": 1,
   "metadata": {
    "collapsed": true
   },
   "outputs": [],
   "source": [
    "try:\n",
    "    from bifacial_radiance import *\n",
    "except ImportError:\n",
    "    raise RuntimeError('bifacial_radiance is required. download distribution')"
   ]
  },
  {
   "cell_type": "code",
   "execution_count": 2,
   "metadata": {
    "scrolled": true
   },
   "outputs": [
    {
     "name": "stdout",
     "output_type": "stream",
     "text": [
      "path = C:\\Users\\cdeline\\Documents\\Python Scripts\\TestFolder\n"
     ]
    }
   ],
   "source": [
    "# Simple example system using Radiance.\n",
    "#point to an empty directory or existing Radiance directory\n",
    "testfolder = r'C:\\Users\\cdeline\\Documents\\Python Scripts\\TestFolder'  \n",
    "demo = RadianceObj('bifacial_example',testfolder)  # Create a RadianceObj 'object' named bifacial_example. no whitespace allowed"
   ]
  },
  {
   "cell_type": "code",
   "execution_count": 3,
   "metadata": {},
   "outputs": [
    {
     "name": "stdout",
     "output_type": "stream",
     "text": [
      "Getting weather file: USA_VA_Richmond.Intl.AP.724010_TMY.epw  ... OK!\n",
      "error: There were 4255 sun up hours in this climate file\n",
      "Total Ibh/Lbh: 0.000000\n"
     ]
    }
   ],
   "source": [
    "demo.setGround(0.62) # input albedo number or material name like 'concrete'.  To see options, run this without any input.\n",
    "\n",
    "# pull in meteorological data using pyEPW for any global lat/lon\n",
    "epwfile = demo.getEPW(37.5,-77.6) \n",
    "\n",
    "# read in the weather data pulled in above. \n",
    "# If you want a different location, replace this filename with the new EPW file name in `epwfile`.    \n",
    "metdata = demo.readEPW('EPWs\\\\USA_VA_Richmond.Intl.AP.724010_TMY.epw') \n",
    "\n",
    "# Solar resource definition.  Either choose a single time point, or use cumulativesky for the entire year. \n",
    "fullYear = True\n",
    "if fullYear:\n",
    "    demo.genCumSky(demo.epwfile) # entire year.\n",
    "    # NOTE: this will claim to throw an 'error' if there are times when the sun is below the horizon.  This is normal!\n",
    "else:\n",
    "    demo.gendaylit(metdata,4020)  # Noon, June 17th (timepoint # 4020)\n"
   ]
  },
  {
   "cell_type": "code",
   "execution_count": 4,
   "metadata": {},
   "outputs": [
    {
     "name": "stdout",
     "output_type": "stream",
     "text": [
      "Module Prism Solar Bi60 successfully created\n",
      "Available module names: ['mini_panel', 'simple_panel', 'monopanel', 'Prism Solar Bi60']\n"
     ]
    }
   ],
   "source": [
    "# create a custom PV module type. Prism Solar Bi60. x = .984 y = 1.695. Bifaciality = 0.90\n",
    "# Note: modules are currently 100% opaque.  This will be modified in the future\n",
    "demo.makeModule(name='Prism Solar Bi60',x=0.984,y=1.695,bifi = 0.90)\n",
    "\n",
    "# print available module types in data/module.json\n",
    "demo.printModules()\n"
   ]
  },
  {
   "cell_type": "code",
   "execution_count": null,
   "metadata": {},
   "outputs": [],
   "source": [
    "# create a scene using panels in landscape at 10 deg tilt, 1.5m pitch. 0.2 m ground clearance\n",
    "sceneDict = {'tilt':10,'pitch':1.5,'height':0.2,'orientation':'landscape','azimuth':180} \n",
    "module_type = 'monopanel'\n",
    "scene = demo.makeScene(module_type,sceneDict, nMods = 20, nRows = 7) #makeScene creates a .rad file with 20 modules per row, 7 rows.\n",
    "octfile = demo.makeOct(demo.getfilelist())  # makeOct combines all of the ground, sky and object files into a .oct file.\n",
    "analysis = AnalysisObj(octfile, demo.basename)  # return an analysis object including the scan dimensions for back irradiance\n",
    "analysis.analysis(octfile, demo.basename, scene.frontscan, scene.backscan)  # compare the back vs front irradiance  \n",
    "# the frontscan and backscan include a linescan along a chord of the module, both on the front and back.  \n",
    "# Return the minimum of the irradiance values, and the average of the irradiance values along a chord of the module.\n",
    "print('Annual bifacial ratio: %0.3f - %0.3f' %(min(analysis.backRatio), np.mean(analysis.backRatio)) )\n",
    "\n"
   ]
  },
  {
   "cell_type": "code",
   "execution_count": null,
   "metadata": {},
   "outputs": [],
   "source": [
    "# Make a color render and falsecolor image of the scene\n",
    "analysis.makeImage('side.vp')\n",
    "analysis.makeFalseColor('side.vp')"
   ]
  },
  {
   "cell_type": "code",
   "execution_count": null,
   "metadata": {
    "collapsed": true
   },
   "outputs": [],
   "source": [
    "# some other older examples.  Backward compatibility not guaranteed!\n",
    "'''\n",
    "    demo = RadianceObj('G173gencumsky_3.0m')  \n",
    "    demo.setGround('litesoil')\n",
    "    metdata = demo.readEPW(r'USA_CO_Boulder.724699_TMY2.epw')\n",
    "    # sky data for index 4010 - 4028 (June 17)  \n",
    "    #demo.gendaylit(metdata,4020)\n",
    "    demo.genCumSky(r'USA_CO_Boulder.724699_TMY2.epw')\n",
    "    octfile = demo.makeOct(demo.filelist + ['objects\\\\monopanel_G173_ht_3.0.rad'])\n",
    "    analysis = AnalysisObj(octfile, demo.basename)\n",
    "    analysis.G173analysis(octfile, demo.basename)\n",
    "    \n",
    "    demo2 = RadianceObj('G173gendaylit_3.0m')  \n",
    "    demo2.setGround('litesoil')\n",
    "    metdata = demo2.readEPW(r'USA_CO_Boulder.724699_TMY2.epw')\n",
    "    # sky data for index 4010 - 4028 (June 17)  \n",
    "    demo2.gendaylit(metdata,4020)\n",
    "    #demo.genCumSky(r'USA_CO_Boulder.724699_TMY2.epw')\n",
    "    octfile = demo2.makeOct(demo.filelist + ['objects\\\\monopanel_G173_ht_3.0.rad'])\n",
    "    analysis2 = AnalysisObj(octfile, demo2.basename)\n",
    "    analysis2.G173analysis(octfile, demo2.basename)\n",
    "\n",
    "    pvscdemo = RadianceObj('PVSC_gencumsky')  \n",
    "    pvscdemo.setGround('litesoil')\n",
    "    epwfile = pvscdemo.getEPW(40,-105)\n",
    "    metdata = pvscdemo.readEPW(epwfile)\n",
    "    # sky data for index 4010 - 4028 (June 17)  \n",
    "    #demo.gendaylit(metdata,4020)\n",
    "    start = datetime.datetime(2000,6,17,12)\n",
    "    end = datetime.datetime(2000,6,17,13)\n",
    "    pvscdemo.genCumSky(r'USA_CO_Boulder.724699_TMY2.epw', start, end)\n",
    "    octfile = pvscdemo.makeOct(pvscdemo.filelist + ['objects\\\\PVSC_4array.rad'])\n",
    "    pvscdemo.analysis(octfile, pvscdemo.basename)\n",
    "\n",
    "    pvscdemo = RadianceObj('PVSC_gendaylit')  \n",
    "    pvscdemo.setGround('litesoil')\n",
    "    metdata = pvscdemo.readEPW(r'USA_CO_Boulder.724699_TMY2.epw')\n",
    "    # sky data for index 4010 - 4028 (June 17)  \n",
    "    pvscdemo.gendaylit(metdata,4020)\n",
    "    #pvscdemo.genCumSky(r'USA_CO_Boulder.724699_TMY2.epw',datetime.datetime(2000,6,17,0), datetime.datetime(2000,6,17,23))\n",
    "    octfile = pvscdemo.makeOct(pvscdemo.filelist + ['objects\\\\PVSC_4array.rad'])\n",
    "    analysis = pvscdemo.analysis(octfile, pvscdemo.basename)\n",
    "    analysis.makeImage('PVSCfront.vp')\n",
    "    '''"
   ]
  }
 ],
 "metadata": {
  "anaconda-cloud": {},
  "kernelspec": {
   "display_name": "Python 2",
   "language": "python",
   "name": "python2"
  },
  "language_info": {
   "codemirror_mode": {
    "name": "ipython",
    "version": 2
   },
   "file_extension": ".py",
   "mimetype": "text/x-python",
   "name": "python",
   "nbconvert_exporter": "python",
   "pygments_lexer": "ipython2",
   "version": "2.7.13"
  }
 },
 "nbformat": 4,
 "nbformat_minor": 1
}
