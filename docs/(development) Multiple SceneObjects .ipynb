{
 "cells": [
  {
   "cell_type": "markdown",
   "metadata": {},
   "source": [
    "## Multiple SceneObjects\n",
    "\n",
    "Test fixed and tracking sceneObjects multiple on teh same scene.\n",
    "\n",
    "Try appendtoScene too.\n",
    "\n",
    "\n"
   ]
  },
  {
   "cell_type": "code",
   "execution_count": 1,
   "metadata": {},
   "outputs": [],
   "source": [
    "try:\n",
    "    from bifacial_radiance import RadianceObj, AnalysisObj\n",
    "except ImportError:\n",
    "    raise RuntimeError('bifacial_radiance is required. download distribution')\n",
    "    # Simple example system using Radiance.\n",
    "import numpy as np\n",
    "\n",
    "testfolder = r'C:\\Users\\sayala\\Documents\\RadianceScenes\\Demo2'\n",
    "\n"
   ]
  },
  {
   "cell_type": "code",
   "execution_count": 2,
   "metadata": {},
   "outputs": [
    {
     "name": "stdout",
     "output_type": "stream",
     "text": [
      "path = C:\\Users\\sayala\\Documents\\RadianceScenes\\Demo2\n",
      "Getting weather file: USA_VA_Richmond.Intl.AP.724010_TMY.epw  ... OK!\n",
      "('\\nModule Name:', 'Prism_Solar_Bi60_landscape')\n",
      "REWRITING pre-existing module file. \n",
      "Module Prism Solar Bi60 landscape successfully created\n",
      "Radfile APPENDED!\n"
     ]
    }
   ],
   "source": [
    "# GEnerating Standard FIXED SETUP\n",
    "demo = RadianceObj(\"MultipleObj\", path = testfolder)  # Create a RadianceObj 'object'\n",
    "demo.setGround(0.62)\n",
    "epwfile = demo.getEPW(lat = 37.5, lon = -77.6)    \n",
    "metdata = demo.readEPW('EPWs\\\\USA_VA_Richmond.Intl.AP.724010_TMY.epw') \n",
    "#metdata = demo.readEPW('EPWs\\\\USA_VA_Richmond.Intl.AP.724010_TMY.epw') # read in the weather data directly\n",
    "fullYear = True\n",
    "#demo.genCumSky(demo.epwfile) # entire year.\n",
    "demo.gendaylit(metdata,4020)  # Noon, June 17th \n",
    "module_type = 'Prism Solar Bi60 landscape' \n",
    "demo.makeModule(name=module_type,y=1,x=1.7,bifi = 0.90)\n",
    "sceneDict = {'tilt':10,'pitch':3,'clearance_height':0.2,'azimuth':180, 'nMods': 10, 'nRows': 2, 'appendRadfile':True} \n",
    "sceneObj1 = demo.makeScene(module_type,sceneDict)  \n"
   ]
  },
  {
   "cell_type": "code",
   "execution_count": 3,
   "metadata": {},
   "outputs": [
    {
     "name": "stdout",
     "output_type": "stream",
     "text": [
      "objects\\Prism_Solar_Bi60_landscape_0.2_3_10x2.rad\n",
      "objects\\Prism_Solar_Bi60_landscape.rad\n",
      "0.333333333333\n",
      "['materials\\\\ground.rad', 'skies\\\\sky2_37.5_-77.33_06_17_13.rad', 'objects\\\\Prism_Solar_Bi60_landscape_0.2_3_10x2.rad']\n"
     ]
    }
   ],
   "source": [
    "# Checking values after Scene\n",
    "print sceneObj1.radfiles\n",
    "print sceneObj1.modulefile\n",
    "print sceneObj1.gcr\n",
    "print demo.getfilelist()"
   ]
  },
  {
   "cell_type": "code",
   "execution_count": 4,
   "metadata": {},
   "outputs": [
    {
     "name": "stdout",
     "output_type": "stream",
     "text": [
      "('\\nModule Name:', 'Module2')\n",
      "REWRITING pre-existing module file. \n",
      "Module Module2 successfully created\n",
      "Radfile APPENDED!\n"
     ]
    }
   ],
   "source": [
    "# Creating a different Scene. Same Module, different values.\n",
    "sceneDict2 = {'tilt':30,'pitch':5,'clearance_height':1,'azimuth':180, 'nMods': 5, 'nRows': 1, 'originx': 0, 'originy': 5, 'appendRadfile':True} \n",
    "module_type2='Module2'\n",
    "demo.makeModule(name=module_type2,x=1,y=1.6, numpanels=2, ygap=0.15)\n",
    "sceneObj2 = demo.makeScene(module_type2,sceneDict2)  \n"
   ]
  },
  {
   "cell_type": "code",
   "execution_count": 5,
   "metadata": {},
   "outputs": [
    {
     "name": "stdout",
     "output_type": "stream",
     "text": [
      "objects\\Prism_Solar_Bi60_landscape_0.2_3_10x2.rad\n",
      "objects\\Prism_Solar_Bi60_landscape.rad\n",
      "0.333333333333\n",
      "objects\\Module2_1.0_5_5x1.rad\n",
      "objects\\Module2.rad\n",
      "0.67\n",
      "['materials\\\\ground.rad', 'skies\\\\sky2_37.5_-77.33_06_17_13.rad', 'objects\\\\Prism_Solar_Bi60_landscape_0.2_3_10x2.rad', 'objects\\\\Module2_1.0_5_5x1.rad']\n"
     ]
    }
   ],
   "source": [
    "# Checking values for both scenes after creating new SceneObj\n",
    "print sceneObj1.radfiles\n",
    "print sceneObj1.modulefile\n",
    "print sceneObj1.gcr\n",
    "print sceneObj2.radfiles\n",
    "print sceneObj2.modulefile\n",
    "print sceneObj2.gcr\n",
    "\n",
    "#getfilelist should have info for the rad file created by each scene obect\n",
    "print demo.getfilelist()"
   ]
  },
  {
   "cell_type": "code",
   "execution_count": null,
   "metadata": {},
   "outputs": [],
   "source": []
  },
  {
   "cell_type": "code",
   "execution_count": 6,
   "metadata": {},
   "outputs": [
    {
     "name": "stdout",
     "output_type": "stream",
     "text": [
      "Created MultipleObj.oct\n"
     ]
    }
   ],
   "source": [
    "octfile = demo.makeOct(demo.getfilelist()) "
   ]
  },
  {
   "cell_type": "markdown",
   "metadata": {},
   "source": [
    "### At this point you should be able to go into a command window (cmd.exe) and check the geometry. Example:\n",
    "\n",
    "### rvu -vf views\\front.vp -e .01 MultipleObj.oct\n",
    "And then proceed happily with your analysis:"
   ]
  },
  {
   "cell_type": "code",
   "execution_count": 7,
   "metadata": {},
   "outputs": [
    {
     "data": {
      "text/plain": [
       "{'appendRadfile': True,\n",
       " 'axis_tilt': 0,\n",
       " 'azimuth': 180,\n",
       " 'clearance_height': 0.2,\n",
       " 'nMods': 10,\n",
       " 'nRows': 2,\n",
       " 'originx': 0,\n",
       " 'originy': 0,\n",
       " 'pitch': 3,\n",
       " 'tilt': 10}"
      ]
     },
     "execution_count": 7,
     "metadata": {},
     "output_type": "execute_result"
    }
   ],
   "source": [
    "# sceneDict is saved for each scene. When calling the Analysis, you should refernce the scene object you want.\n",
    "sceneObj1.sceneDict"
   ]
  },
  {
   "cell_type": "code",
   "execution_count": 8,
   "metadata": {},
   "outputs": [
    {
     "data": {
      "text/plain": [
       "{'appendRadfile': True,\n",
       " 'axis_tilt': 0,\n",
       " 'azimuth': 180,\n",
       " 'clearance_height': 1,\n",
       " 'nMods': 5,\n",
       " 'nRows': 1,\n",
       " 'originx': 0,\n",
       " 'originy': 5,\n",
       " 'pitch': 5,\n",
       " 'tilt': 30}"
      ]
     },
     "execution_count": 8,
     "metadata": {},
     "output_type": "execute_result"
    }
   ],
   "source": [
    "sceneObj2.sceneDict"
   ]
  },
  {
   "cell_type": "code",
   "execution_count": 9,
   "metadata": {},
   "outputs": [
    {
     "name": "stdout",
     "output_type": "stream",
     "text": [
      "Linescan in process: FirstObj_Front\n",
      "Linescan in process: FirstObj_Back\n",
      "Saved: results\\irr_FirstObj.csv\n",
      "Annual bifacial ratio: 0.169 \n"
     ]
    }
   ],
   "source": [
    "analysis = AnalysisObj(octfile, demo.basename)  \n",
    "frontscan, backscan = analysis.moduleAnalysis(sceneObj1)\n",
    "frontdict, backdict = analysis.analysis(octfile, \"FirstObj\", frontscan, backscan)  # compare the back vs front irradiance  \n",
    "print('Annual bifacial ratio: %0.3f ' %( np.mean(analysis.Wm2Back) / np.mean(analysis.Wm2Front)) )"
   ]
  },
  {
   "cell_type": "code",
   "execution_count": 10,
   "metadata": {},
   "outputs": [
    {
     "name": "stdout",
     "output_type": "stream",
     "text": [
      "[4.824167e-17, 3.618125e-17, 2.412083e-17, 1.206042e-17, -1.232595e-32, -1.206042e-17, -2.412083e-17, -3.618125e-17, -4.824167e-17]\n",
      "\n",
      "[-0.3939231, -0.2954423, -0.1969616, -0.09848078, 0.0, 0.09848078, 0.1969616, 0.2954423, 0.3939231]\n",
      "\n",
      "[u'a4.0.a0.PVmodule.6457', u'a4.0.a0.PVmodule.6457', u'a4.0.a0.PVmodule.6457', u'a4.0.a0.PVmodule.6457', u'a4.0.a0.PVmodule.6457', u'a4.0.a0.PVmodule.6457', u'a4.0.a0.PVmodule.6457', u'a4.0.a0.PVmodule.6457', u'a4.0.a0.PVmodule.6457']\n"
     ]
    }
   ],
   "source": [
    "# Sanity check for first obect. Since we didn't pass any desired module, it should grab the center module of the center row (rounding down)\n",
    "# for 2 rows, that is row 1, module 5 ~ indexed at 0, a4.0.a0.PVmodule.....\"\"\n",
    "print frontdict['x']\n",
    "print (\"\")\n",
    "print frontdict['y']\n",
    "print (\"\")\n",
    "print frontdict['mattype']"
   ]
  },
  {
   "cell_type": "code",
   "execution_count": 11,
   "metadata": {},
   "outputs": [
    {
     "name": "stdout",
     "output_type": "stream",
     "text": [
      "Linescan in process: SecondOb_Front\n",
      "Linescan in process: SecondOb_Back\n",
      "Saved: results\\irr_SecondOb.csv\n",
      "Annual bifacial ratio: 0.358 \n"
     ]
    }
   ],
   "source": [
    "analysis = AnalysisObj(octfile, demo.basename)  \n",
    "frontscan, backscan = analysis.moduleAnalysis(sceneObj2)\n",
    "frontdict2, backdict2 = analysis.analysis(octfile, \"SecondOb\", frontscan, backscan)  # compare the back vs front irradiance  \n",
    "print('Annual bifacial ratio: %0.3f ' %( np.mean(analysis.Wm2Back) / np.mean(analysis.Wm2Front)) )"
   ]
  },
  {
   "cell_type": "code",
   "execution_count": 12,
   "metadata": {},
   "outputs": [
    {
     "name": "stdout",
     "output_type": "stream",
     "text": [
      "[1.421171e-16, 1.065878e-16, 7.105854e-17, 3.552927e-17, -4.930381e-32, -3.552927e-17, -7.105854e-17, -1.065878e-16, -1.421171e-16]\n",
      "\n",
      "[3.839526, 4.129644, 4.419763, 4.709881, 5.0, 5.290119, 5.580237, 5.870356, 6.160474]\n",
      "\n",
      "[u'a2.0.a0.PVmodule.6457', u'a2.0.a0.PVmodule.6457', u'a2.0.a0.PVmodule.6457', u'a2.0.a0.PVmodule.6457', u'groundplane', u'a2.0.a1.PVmodule.6457', u'a2.0.a1.PVmodule.6457', u'a2.0.a1.PVmodule.6457', u'a2.0.a1.PVmodule.6457']\n"
     ]
    }
   ],
   "source": [
    "# Sanity check for first obect. Since we didn't pass any desired module, it should grab the center module of the center row (rounding down)\n",
    "# for 1 rows, that is row 0, module 3 ~ indexed at 0, a2.0.a0.PVmodule... and a2.0.a1.PVmodule since it is a 2-UP system.\n",
    "print frontdict2['x']\n",
    "print (\"\")\n",
    "print frontdict2['y']\n",
    "print (\"\")\n",
    "print frontdict2['mattype']"
   ]
  },
  {
   "cell_type": "markdown",
   "metadata": {},
   "source": [
    "# OPTION B\n",
    "Another option is to \"append\" information to the radfiles itself. \n",
    "I usually use this to create \"markers\" for the geometry to orient myself when doing sanity-checks (for example, marke where 0,0 is, or where 5,0 coordinate is). That is what I am doing here, for the image I'm attaching."
   ]
  },
  {
   "cell_type": "code",
   "execution_count": 13,
   "metadata": {
    "scrolled": true
   },
   "outputs": [
    {
     "name": "stdout",
     "output_type": "stream",
     "text": [
      "('\\nCustom Object Name', 'objects\\\\Post1.rad')\n",
      "('\\nCustom Object Name', 'objects\\\\Post2.rad')\n",
      "Created MultipleObj.oct\n"
     ]
    }
   ],
   "source": [
    "# NOTE: offseting translation by 0.1 so the center of the cube is at the desired coordinate.\n",
    "name='Post1'\n",
    "text='! genbox black marker1 0.2 0.2 1 | xform -t -0.1 -0.1 0'\n",
    "customObject = demo.makeCustomObject(name,text)\n",
    "demo.appendtoScene(sceneObj1.radfiles, customObject, '!xform -rz 0')\n",
    "\n",
    "name='Post2'\n",
    "text='! genbox black marker2 0.2 0.2 2.5 | xform -t -0.1 4.9 0'   \n",
    "customObject = demo.makeCustomObject(name,text)\n",
    "demo.appendtoScene(sceneObj2.radfiles, customObject, '!xform -rz 0')\n",
    "octfile = demo.makeOct(demo.getfilelist()) \n"
   ]
  },
  {
   "cell_type": "markdown",
   "metadata": {},
   "source": [
    "At this point you should be able to go into a command window (cmd.exe) and check the geometry. Example:\n",
    "\n",
    "## rvu -vf views\\front.vp -e .01 MultipleObj.oct\n"
   ]
  }
 ],
 "metadata": {
  "anaconda-cloud": {},
  "kernelspec": {
   "display_name": "Python 2",
   "language": "python",
   "name": "python2"
  },
  "language_info": {
   "codemirror_mode": {
    "name": "ipython",
    "version": 2
   },
   "file_extension": ".py",
   "mimetype": "text/x-python",
   "name": "python",
   "nbconvert_exporter": "python",
   "pygments_lexer": "ipython2",
   "version": "2.7.15"
  }
 },
 "nbformat": 4,
 "nbformat_minor": 1
}
