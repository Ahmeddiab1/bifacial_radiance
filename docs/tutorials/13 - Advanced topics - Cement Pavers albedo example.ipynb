{
 "cells": [
  {
   "cell_type": "markdown",
   "metadata": {},
   "source": [
    "# 13 - Advanced topics - Cement Pavers albedo example\n",
    "\n",
    "This journal creates a paver underneath the single-axis trackers, and evaluates the improvement for noon, June 17th with and without the pavers for a location in Davis, CA.\n",
    "\n",
    "![Paver](../images_wiki/AdvancedJournals/Pavers.PNG)\n",
    "\n",
    "Measurements:\n",
    "![Paver](../images_wiki/AdvancedJournals/Pavers_Geometry.PNG)"
   ]
  },
  {
   "cell_type": "code",
   "execution_count": 1,
   "metadata": {},
   "outputs": [
    {
     "name": "stdout",
     "output_type": "stream",
     "text": [
      "Your simulation will be stored in C:\\Users\\Silvana\\Documents\\GitHub\\bifacial_radiance\\bifacial_radiance\\TEMP\\NewMat\n"
     ]
    }
   ],
   "source": [
    "import os\n",
    "from pathlib import Path\n",
    "\n",
    "testfolder = str(Path().resolve().parent.parent / 'bifacial_radiance' / 'TEMP' / 'NewMat')\n",
    "\n",
    "# Another option using relative address; for some operative systems you might need '/' instead of '\\'\n",
    "# testfolder = os.path.abspath(r'..\\..\\bifacial_radiance\\TEMP')  \n",
    "\n",
    "try:\n",
    "    os.stat(testfolder)\n",
    "except:\n",
    "    os.mkdir(testfolder)\n",
    "    \n",
    "print (\"Your simulation will be stored in %s\" % testfolder)"
   ]
  },
  {
   "cell_type": "code",
   "execution_count": 2,
   "metadata": {},
   "outputs": [],
   "source": [
    "from bifacial_radiance import *   \n",
    "import numpy as np"
   ]
  },
  {
   "cell_type": "code",
   "execution_count": 3,
   "metadata": {},
   "outputs": [
    {
     "name": "stdout",
     "output_type": "stream",
     "text": [
      "path = C:\\Users\\Silvana\\Documents\\GitHub\\bifacial_radiance\\bifacial_radiance\\TEMP\\NewMat\n",
      "Loading albedo, 1 value(s), 0.200 avg\n",
      "1 nonzero albedo values.\n",
      "Getting weather file: USA_CA_Sacramento.Metro.AP.724839_TMY3.epw\n",
      " ... OK!\n",
      "Saving file EPWs\\epw_temp.csv, # points: 8760\n",
      "Calculating Sun position for Metdata that is right-labeled  with a delta of -30 mins. i.e. 12 is 11:30 sunpos\n",
      "\n",
      "Module Name: 60cellmod\n",
      "Pre-existing .rad file objects\\60cellmod.rad will be overwritten\n",
      "Module was shifted by 0.078 in X to avoid sensors on air\n",
      "This is a Cell-Level detailed module with Packaging Factor of 0.85 %\n",
      "Module 60cellmod updated in module.json\n"
     ]
    }
   ],
   "source": [
    "timestamp = 4020 # Noon, June 17th. \n",
    "simulationname = 'PVEL_Davis'\n",
    "\n",
    "#Location:\n",
    "lat = 38.5449 # Davis, CA\n",
    "lon = -121.7405 # Davis, CA\n",
    "# MakeModule Parameters\n",
    "moduletype='60cellmod'\n",
    "numpanels = 1  # AgriPV site has 3 modules along the y direction (N-S since we are facing it to the south) .\n",
    "x = 0.95  \n",
    "y = 1.838\n",
    "xgap = 0.02# Leaving 2 centimeters between modules on x direction\n",
    "ygap = 0.0 # 1 - up \n",
    "zgap = 0.06 # gap between modules and torquetube.\n",
    "\n",
    "# Other default values:\n",
    "\n",
    "# TorqueTube Parameters\n",
    "axisofrotationTorqueTube=True\n",
    "torqueTube = False\n",
    "cellLevelModule = True\n",
    "\n",
    "numcellsx = 6\n",
    "numcellsy = 10\n",
    "xcell = 0.156\n",
    "ycell = 0.158\n",
    "xcellgap = 0.015\n",
    "ycellgap = 0.015\n",
    "\n",
    "sensorsy = numcellsy   # one sensor per cell\n",
    "\n",
    "cellLevelModuleParams = {'numcellsx': numcellsx, 'numcellsy':numcellsy, \n",
    "                         'xcell': xcell, 'ycell': ycell, 'xcellgap': xcellgap, 'ycellgap': ycellgap}\n",
    "\n",
    "# SceneDict Parameters\n",
    "gcr = 0.33 # m\n",
    "albedo = 0.2  #'grass'     # ground albedo\n",
    "hub_height = 1.237 # m  \n",
    "nMods = 20 # six modules per row.\n",
    "nRows = 3  # 3 row\n",
    "\n",
    "azimuth_ang = 90 # Facing east \n",
    "\n",
    "\n",
    "demo = RadianceObj(simulationname,path = testfolder)  # Create a RadianceObj 'object'\n",
    "demo.setGround(albedo) # input albedo number or material name like 'concrete'.  To see options, run this without any input.\n",
    "epwfile = demo.getEPW(lat, lon) # NJ lat/lon 40.0583° N, 74.4057\n",
    "metdata = demo.readEPW(epwfile) # read in the EPW weather data from above\n",
    "moduleDict=demo.makeModule(name=moduletype,x=x,y=y,numpanels = numpanels, xgap=xgap, ygap=ygap, cellLevelModuleParams = cellLevelModuleParams)\n"
   ]
  },
  {
   "cell_type": "code",
   "execution_count": 4,
   "metadata": {},
   "outputs": [
    {
     "name": "stdout",
     "output_type": "stream",
     "text": [
      "Added material sw_chantillywhite to file ground.rad\n"
     ]
    }
   ],
   "source": [
    "description = 'Sherman Williams \"Chantilly White\" acrylic paint'\n",
    "materialpav = 'sw_chantillywhite'\n",
    "Rrefl = 0.5\n",
    "Grefl = 0.5 \n",
    "Brefl = 0.5\n",
    "demo.addMaterial(material=materialpav, Rrefl=Rrefl, Grefl=Grefl, Brefl=Brefl, comment=description)"
   ]
  },
  {
   "cell_type": "code",
   "execution_count": 5,
   "metadata": {},
   "outputs": [
    {
     "name": "stdout",
     "output_type": "stream",
     "text": [
      "01_06_17_13_00\n",
      "Created PVEL_Davis.oct\n"
     ]
    }
   ],
   "source": [
    "demo.gendaylit(timestamp)\n",
    "tilt = demo.getSingleTimestampTrackerAngle(metdata, timeindex=timestamp, gcr=gcr, \n",
    "                                   axis_azimuth=180, axis_tilt=0, \n",
    "                                   limit_angle=60, backtrack=True)\n",
    "# create a scene with all the variables\n",
    "sceneDict = {'tilt':tilt,'gcr': gcr,'hub_height':hub_height,'azimuth':azimuth_ang, 'module_type':moduletype, 'nMods': nMods, 'nRows': nRows}  \n",
    "scene = demo.makeScene(moduletype=moduletype, sceneDict=sceneDict) #makeScene creates a .rad file with 20 modules per row, 7 rows.\n",
    "octfile = demo.makeOct(demo.getfilelist())  # makeOct combines all of the ground, sky and object fil|es into a .oct file."
   ]
  },
  {
   "cell_type": "markdown",
   "metadata": {},
   "source": [
    "### Simulation without Pavers"
   ]
  },
  {
   "cell_type": "code",
   "execution_count": 6,
   "metadata": {},
   "outputs": [
    {
     "name": "stdout",
     "output_type": "stream",
     "text": [
      "Linescan in process: PVEL_Davis_noPavers_Front\n",
      "Linescan in process: PVEL_Davis_noPavers_Back\n",
      "Saved: results\\irr_PVEL_Davis_noPavers.csv\n",
      "Simulation without Pavers Finished\n"
     ]
    }
   ],
   "source": [
    "analysis = AnalysisObj(octfile, demo.name)  # return an analysis object including the scan dimensions for back irradiance\n",
    "frontscan, backscan = analysis.moduleAnalysis(scene, sensorsy=sensorsy)\n",
    "analysis.analysis(octfile, simulationname+\"_noPavers\", frontscan, backscan)  # compare the back vs front irradiance  \n",
    "print(\"Simulation without Pavers Finished\")"
   ]
  },
  {
   "cell_type": "markdown",
   "metadata": {},
   "source": [
    "### Simulation With Pavers"
   ]
  },
  {
   "cell_type": "code",
   "execution_count": 7,
   "metadata": {},
   "outputs": [
    {
     "name": "stdout",
     "output_type": "stream",
     "text": [
      "\n",
      "Custom Object Name objects\\PAVER0.rad\n",
      "\n",
      "Custom Object Name objects\\PAVER1.rad\n",
      "\n",
      "Custom Object Name objects\\PAVER2.rad\n"
     ]
    }
   ],
   "source": [
    "torquetubelength = moduleDict['scenex']*(nMods) \n",
    "pitch = demo.moduleDict['sceney']/gcr\n",
    "startpitch = -pitch * (nRows-1)/2\n",
    "p_w = 0.947 # m\n",
    "p_h = 0.092 # m\n",
    "p_w2 = 0.187 # m\n",
    "p_h2 = 0.184 # m\n",
    "offset_w1y = -(p_w/2)+(p_w2/2)\n",
    "offset_w2y = (p_w/2)-(p_w2/2)\n",
    "\n",
    "for i in range (0, nRows):    \n",
    "    name='PAVER'+str(i)\n",
    "    text='! genbox {} paver{} {} {} {} | xform -t {} {} 0 | xform -t {} 0 0'.format(materialpav, i, \n",
    "                                    p_w, torquetubelength, p_h, \n",
    "                                    -p_w/2, (-torquetubelength+moduleDict['sceney'])/2.0,\n",
    "                                    startpitch+pitch*i)\n",
    "    text += '\\r\\n! genbox {} paverS1{} {} {} {} | xform -t {} {} 0 | xform -t {} 0 0'.format(materialpav, i,\n",
    "                                    p_w2, torquetubelength, p_h2, \n",
    "                                    -p_w2/2+offset_w1y, (-torquetubelength+moduleDict['sceney'])/2.0,\n",
    "                                    startpitch+pitch*i)\n",
    "    text += '\\r\\n! genbox {} paverS2{} {} {} {} | xform -t {} {} 0 | xform -t {} 0 0'.format(materialpav, i,\n",
    "                                    p_w2, torquetubelength, p_h2, \n",
    "                                    -p_w2/2+offset_w2y, (-torquetubelength+moduleDict['sceney'])/2.0,\n",
    "                                    startpitch+pitch*i)\n",
    "\n",
    "    customObject = demo.makeCustomObject(name,text)\n",
    "    demo.appendtoScene(radfile=scene.radfiles, customObject=customObject, text=\"!xform -rz 0\")"
   ]
  },
  {
   "cell_type": "code",
   "execution_count": 8,
   "metadata": {},
   "outputs": [
    {
     "name": "stdout",
     "output_type": "stream",
     "text": [
      "Created PVEL_Davis.oct\n"
     ]
    },
    {
     "data": {
      "text/plain": [
       "'PVEL_Davis.oct'"
      ]
     },
     "execution_count": 8,
     "metadata": {},
     "output_type": "execute_result"
    }
   ],
   "source": [
    "demo.makeOct()"
   ]
  },
  {
   "cell_type": "markdown",
   "metadata": {},
   "source": [
    "### rvu -vf views\\front.vp -e .01 -pe 0.01 -vp -5 -14 1 -vd 0 0.9946 -0.1040 PVEL_Davis.oct"
   ]
  },
  {
   "cell_type": "code",
   "execution_count": 9,
   "metadata": {},
   "outputs": [
    {
     "name": "stdout",
     "output_type": "stream",
     "text": [
      "Linescan in process: PVEL_Davis_WITHPavers_Front\n",
      "Linescan in process: PVEL_Davis_WITHPavers_Back\n",
      "Saved: results\\irr_PVEL_Davis_WITHPavers.csv\n",
      "Simulation WITH Pavers Finished\n"
     ]
    }
   ],
   "source": [
    "analysis = AnalysisObj(octfile, demo.name)  # return an analysis object including the scan dimensions for back irradiance\n",
    "frontscan, backscan = analysis.moduleAnalysis(scene, sensorsy=sensorsy)\n",
    "analysis.analysis(octfile, simulationname+\"_WITHPavers\", frontscan, backscan)  # compare the back vs front irradiance  \n",
    "print(\"Simulation WITH Pavers Finished\")\n"
   ]
  },
  {
   "cell_type": "code",
   "execution_count": 10,
   "metadata": {},
   "outputs": [],
   "source": [
    "df_0 = load.read1Result(os.path.join(testfolder, 'results', 'irr_PVEL_Davis_noPavers.csv'))\n",
    "df_w = load.read1Result(os.path.join(testfolder, 'results', 'irr_PVEL_Davis_WITHPavers.csv'))                        "
   ]
  },
  {
   "cell_type": "code",
   "execution_count": 11,
   "metadata": {},
   "outputs": [
    {
     "data": {
      "text/html": [
       "<div>\n",
       "<style scoped>\n",
       "    .dataframe tbody tr th:only-of-type {\n",
       "        vertical-align: middle;\n",
       "    }\n",
       "\n",
       "    .dataframe tbody tr th {\n",
       "        vertical-align: top;\n",
       "    }\n",
       "\n",
       "    .dataframe thead th {\n",
       "        text-align: right;\n",
       "    }\n",
       "</style>\n",
       "<table border=\"1\" class=\"dataframe\">\n",
       "  <thead>\n",
       "    <tr style=\"text-align: right;\">\n",
       "      <th></th>\n",
       "      <th>x</th>\n",
       "      <th>y</th>\n",
       "      <th>z</th>\n",
       "      <th>rearZ</th>\n",
       "      <th>mattype</th>\n",
       "      <th>rearMat</th>\n",
       "      <th>Wm2Front</th>\n",
       "      <th>Wm2Back</th>\n",
       "      <th>Back/FrontRatio</th>\n",
       "    </tr>\n",
       "  </thead>\n",
       "  <tbody>\n",
       "    <tr>\n",
       "      <th>0</th>\n",
       "      <td>0.773069</td>\n",
       "      <td>4.733681e-17</td>\n",
       "      <td>1.331170</td>\n",
       "      <td>1.309268</td>\n",
       "      <td>a9.1.a2.0.0.cellPVmodule.6457</td>\n",
       "      <td>a9.1.a2.0.0.cellPVmodule.2310</td>\n",
       "      <td>973.3497</td>\n",
       "      <td>117.08920</td>\n",
       "      <td>0.120295</td>\n",
       "    </tr>\n",
       "    <tr>\n",
       "      <th>1</th>\n",
       "      <td>0.600836</td>\n",
       "      <td>3.679062e-17</td>\n",
       "      <td>1.314889</td>\n",
       "      <td>1.292987</td>\n",
       "      <td>a9.1.a2.1.0.cellPVmodule.6457</td>\n",
       "      <td>a9.1.a2.1.0.cellPVmodule.2310</td>\n",
       "      <td>973.3496</td>\n",
       "      <td>110.12280</td>\n",
       "      <td>0.113138</td>\n",
       "    </tr>\n",
       "    <tr>\n",
       "      <th>2</th>\n",
       "      <td>0.428604</td>\n",
       "      <td>2.624444e-17</td>\n",
       "      <td>1.298609</td>\n",
       "      <td>1.276706</td>\n",
       "      <td>a9.1.a2.2.0.cellPVmodule.6457</td>\n",
       "      <td>a9.1.a2.2.0.cellPVmodule.2310</td>\n",
       "      <td>973.3486</td>\n",
       "      <td>103.60970</td>\n",
       "      <td>0.106447</td>\n",
       "    </tr>\n",
       "    <tr>\n",
       "      <th>3</th>\n",
       "      <td>0.256372</td>\n",
       "      <td>1.569826e-17</td>\n",
       "      <td>1.282328</td>\n",
       "      <td>1.260426</td>\n",
       "      <td>a9.1.a2.3.0.cellPVmodule.6457</td>\n",
       "      <td>a9.1.a2.3.0.cellPVmodule.2310</td>\n",
       "      <td>973.3477</td>\n",
       "      <td>99.03805</td>\n",
       "      <td>0.101750</td>\n",
       "    </tr>\n",
       "    <tr>\n",
       "      <th>4</th>\n",
       "      <td>0.084140</td>\n",
       "      <td>5.152079e-18</td>\n",
       "      <td>1.266047</td>\n",
       "      <td>1.244145</td>\n",
       "      <td>a9.1.a2.4.0.cellPVmodule.6457</td>\n",
       "      <td>a9.1.a2.4.0.cellPVmodule.2310</td>\n",
       "      <td>973.3467</td>\n",
       "      <td>97.12404</td>\n",
       "      <td>0.099783</td>\n",
       "    </tr>\n",
       "    <tr>\n",
       "      <th>5</th>\n",
       "      <td>-0.088092</td>\n",
       "      <td>-5.394103e-18</td>\n",
       "      <td>1.249766</td>\n",
       "      <td>1.227864</td>\n",
       "      <td>a9.1.a2.5.0.cellPVmodule.6457</td>\n",
       "      <td>a9.1.a2.5.0.cellPVmodule.2310</td>\n",
       "      <td>973.3458</td>\n",
       "      <td>96.41985</td>\n",
       "      <td>0.099060</td>\n",
       "    </tr>\n",
       "    <tr>\n",
       "      <th>6</th>\n",
       "      <td>-0.260325</td>\n",
       "      <td>-1.594028e-17</td>\n",
       "      <td>1.233486</td>\n",
       "      <td>1.211583</td>\n",
       "      <td>a9.1.a2.6.0.cellPVmodule.6457</td>\n",
       "      <td>a9.1.a2.6.0.cellPVmodule.2310</td>\n",
       "      <td>973.3448</td>\n",
       "      <td>102.61520</td>\n",
       "      <td>0.105425</td>\n",
       "    </tr>\n",
       "    <tr>\n",
       "      <th>7</th>\n",
       "      <td>-0.432557</td>\n",
       "      <td>-2.648647e-17</td>\n",
       "      <td>1.217205</td>\n",
       "      <td>1.195303</td>\n",
       "      <td>a9.1.a2.7.0.cellPVmodule.6457</td>\n",
       "      <td>a9.1.a2.7.0.cellPVmodule.2310</td>\n",
       "      <td>973.3438</td>\n",
       "      <td>105.10610</td>\n",
       "      <td>0.107984</td>\n",
       "    </tr>\n",
       "    <tr>\n",
       "      <th>8</th>\n",
       "      <td>-0.604789</td>\n",
       "      <td>-3.703265e-17</td>\n",
       "      <td>1.200924</td>\n",
       "      <td>1.179022</td>\n",
       "      <td>a9.1.a2.8.0.cellPVmodule.6457</td>\n",
       "      <td>a9.1.a2.8.0.cellPVmodule.2310</td>\n",
       "      <td>973.3428</td>\n",
       "      <td>109.98640</td>\n",
       "      <td>0.112999</td>\n",
       "    </tr>\n",
       "    <tr>\n",
       "      <th>9</th>\n",
       "      <td>-0.777021</td>\n",
       "      <td>-4.757883e-17</td>\n",
       "      <td>1.184643</td>\n",
       "      <td>1.162741</td>\n",
       "      <td>a9.1.a2.9.0.cellPVmodule.6457</td>\n",
       "      <td>a9.1.a2.9.0.cellPVmodule.2310</td>\n",
       "      <td>973.3419</td>\n",
       "      <td>119.14170</td>\n",
       "      <td>0.122405</td>\n",
       "    </tr>\n",
       "  </tbody>\n",
       "</table>\n",
       "</div>"
      ],
      "text/plain": [
       "          x             y         z     rearZ                        mattype  \\\n",
       "0  0.773069  4.733681e-17  1.331170  1.309268  a9.1.a2.0.0.cellPVmodule.6457   \n",
       "1  0.600836  3.679062e-17  1.314889  1.292987  a9.1.a2.1.0.cellPVmodule.6457   \n",
       "2  0.428604  2.624444e-17  1.298609  1.276706  a9.1.a2.2.0.cellPVmodule.6457   \n",
       "3  0.256372  1.569826e-17  1.282328  1.260426  a9.1.a2.3.0.cellPVmodule.6457   \n",
       "4  0.084140  5.152079e-18  1.266047  1.244145  a9.1.a2.4.0.cellPVmodule.6457   \n",
       "5 -0.088092 -5.394103e-18  1.249766  1.227864  a9.1.a2.5.0.cellPVmodule.6457   \n",
       "6 -0.260325 -1.594028e-17  1.233486  1.211583  a9.1.a2.6.0.cellPVmodule.6457   \n",
       "7 -0.432557 -2.648647e-17  1.217205  1.195303  a9.1.a2.7.0.cellPVmodule.6457   \n",
       "8 -0.604789 -3.703265e-17  1.200924  1.179022  a9.1.a2.8.0.cellPVmodule.6457   \n",
       "9 -0.777021 -4.757883e-17  1.184643  1.162741  a9.1.a2.9.0.cellPVmodule.6457   \n",
       "\n",
       "                         rearMat  Wm2Front    Wm2Back  Back/FrontRatio  \n",
       "0  a9.1.a2.0.0.cellPVmodule.2310  973.3497  117.08920         0.120295  \n",
       "1  a9.1.a2.1.0.cellPVmodule.2310  973.3496  110.12280         0.113138  \n",
       "2  a9.1.a2.2.0.cellPVmodule.2310  973.3486  103.60970         0.106447  \n",
       "3  a9.1.a2.3.0.cellPVmodule.2310  973.3477   99.03805         0.101750  \n",
       "4  a9.1.a2.4.0.cellPVmodule.2310  973.3467   97.12404         0.099783  \n",
       "5  a9.1.a2.5.0.cellPVmodule.2310  973.3458   96.41985         0.099060  \n",
       "6  a9.1.a2.6.0.cellPVmodule.2310  973.3448  102.61520         0.105425  \n",
       "7  a9.1.a2.7.0.cellPVmodule.2310  973.3438  105.10610         0.107984  \n",
       "8  a9.1.a2.8.0.cellPVmodule.2310  973.3428  109.98640         0.112999  \n",
       "9  a9.1.a2.9.0.cellPVmodule.2310  973.3419  119.14170         0.122405  "
      ]
     },
     "execution_count": 11,
     "metadata": {},
     "output_type": "execute_result"
    }
   ],
   "source": [
    "df_0"
   ]
  },
  {
   "cell_type": "code",
   "execution_count": 12,
   "metadata": {},
   "outputs": [
    {
     "data": {
      "text/html": [
       "<div>\n",
       "<style scoped>\n",
       "    .dataframe tbody tr th:only-of-type {\n",
       "        vertical-align: middle;\n",
       "    }\n",
       "\n",
       "    .dataframe tbody tr th {\n",
       "        vertical-align: top;\n",
       "    }\n",
       "\n",
       "    .dataframe thead th {\n",
       "        text-align: right;\n",
       "    }\n",
       "</style>\n",
       "<table border=\"1\" class=\"dataframe\">\n",
       "  <thead>\n",
       "    <tr style=\"text-align: right;\">\n",
       "      <th></th>\n",
       "      <th>x</th>\n",
       "      <th>y</th>\n",
       "      <th>z</th>\n",
       "      <th>rearZ</th>\n",
       "      <th>mattype</th>\n",
       "      <th>rearMat</th>\n",
       "      <th>Wm2Front</th>\n",
       "      <th>Wm2Back</th>\n",
       "      <th>Back/FrontRatio</th>\n",
       "    </tr>\n",
       "  </thead>\n",
       "  <tbody>\n",
       "    <tr>\n",
       "      <th>0</th>\n",
       "      <td>0.773069</td>\n",
       "      <td>4.733681e-17</td>\n",
       "      <td>1.331170</td>\n",
       "      <td>1.309268</td>\n",
       "      <td>a9.1.a2.0.0.cellPVmodule.6457</td>\n",
       "      <td>a9.1.a2.0.0.cellPVmodule.2310</td>\n",
       "      <td>973.5498</td>\n",
       "      <td>119.2991</td>\n",
       "      <td>0.122540</td>\n",
       "    </tr>\n",
       "    <tr>\n",
       "      <th>1</th>\n",
       "      <td>0.600836</td>\n",
       "      <td>3.679062e-17</td>\n",
       "      <td>1.314889</td>\n",
       "      <td>1.292987</td>\n",
       "      <td>a9.1.a2.1.0.cellPVmodule.6457</td>\n",
       "      <td>a9.1.a2.1.0.cellPVmodule.2310</td>\n",
       "      <td>973.5479</td>\n",
       "      <td>112.9893</td>\n",
       "      <td>0.116059</td>\n",
       "    </tr>\n",
       "    <tr>\n",
       "      <th>2</th>\n",
       "      <td>0.428604</td>\n",
       "      <td>2.624444e-17</td>\n",
       "      <td>1.298609</td>\n",
       "      <td>1.276706</td>\n",
       "      <td>a9.1.a2.2.0.cellPVmodule.6457</td>\n",
       "      <td>a9.1.a2.2.0.cellPVmodule.2310</td>\n",
       "      <td>973.5446</td>\n",
       "      <td>110.4395</td>\n",
       "      <td>0.113441</td>\n",
       "    </tr>\n",
       "    <tr>\n",
       "      <th>3</th>\n",
       "      <td>0.256372</td>\n",
       "      <td>1.569826e-17</td>\n",
       "      <td>1.282328</td>\n",
       "      <td>1.260426</td>\n",
       "      <td>a9.1.a2.3.0.cellPVmodule.6457</td>\n",
       "      <td>a9.1.a2.3.0.cellPVmodule.2310</td>\n",
       "      <td>973.5413</td>\n",
       "      <td>111.2228</td>\n",
       "      <td>0.114245</td>\n",
       "    </tr>\n",
       "    <tr>\n",
       "      <th>4</th>\n",
       "      <td>0.084140</td>\n",
       "      <td>5.152079e-18</td>\n",
       "      <td>1.266047</td>\n",
       "      <td>1.244145</td>\n",
       "      <td>a9.1.a2.4.0.cellPVmodule.6457</td>\n",
       "      <td>a9.1.a2.4.0.cellPVmodule.2310</td>\n",
       "      <td>973.5380</td>\n",
       "      <td>109.4782</td>\n",
       "      <td>0.112454</td>\n",
       "    </tr>\n",
       "    <tr>\n",
       "      <th>5</th>\n",
       "      <td>-0.088092</td>\n",
       "      <td>-5.394103e-18</td>\n",
       "      <td>1.249766</td>\n",
       "      <td>1.227864</td>\n",
       "      <td>a9.1.a2.5.0.cellPVmodule.6457</td>\n",
       "      <td>a9.1.a2.5.0.cellPVmodule.2310</td>\n",
       "      <td>973.5347</td>\n",
       "      <td>107.6355</td>\n",
       "      <td>0.110561</td>\n",
       "    </tr>\n",
       "    <tr>\n",
       "      <th>6</th>\n",
       "      <td>-0.260325</td>\n",
       "      <td>-1.594028e-17</td>\n",
       "      <td>1.233486</td>\n",
       "      <td>1.211583</td>\n",
       "      <td>a9.1.a2.6.0.cellPVmodule.6457</td>\n",
       "      <td>a9.1.a2.6.0.cellPVmodule.2310</td>\n",
       "      <td>973.5315</td>\n",
       "      <td>112.4386</td>\n",
       "      <td>0.115495</td>\n",
       "    </tr>\n",
       "    <tr>\n",
       "      <th>7</th>\n",
       "      <td>-0.432557</td>\n",
       "      <td>-2.648647e-17</td>\n",
       "      <td>1.217205</td>\n",
       "      <td>1.195303</td>\n",
       "      <td>a9.1.a2.7.0.cellPVmodule.6457</td>\n",
       "      <td>a9.1.a2.7.0.cellPVmodule.2310</td>\n",
       "      <td>973.5282</td>\n",
       "      <td>116.0397</td>\n",
       "      <td>0.119195</td>\n",
       "    </tr>\n",
       "    <tr>\n",
       "      <th>8</th>\n",
       "      <td>-0.604789</td>\n",
       "      <td>-3.703265e-17</td>\n",
       "      <td>1.200924</td>\n",
       "      <td>1.179022</td>\n",
       "      <td>a9.1.a2.8.0.cellPVmodule.6457</td>\n",
       "      <td>a9.1.a2.8.0.cellPVmodule.2310</td>\n",
       "      <td>973.5249</td>\n",
       "      <td>119.7284</td>\n",
       "      <td>0.122984</td>\n",
       "    </tr>\n",
       "    <tr>\n",
       "      <th>9</th>\n",
       "      <td>-0.777021</td>\n",
       "      <td>-4.757883e-17</td>\n",
       "      <td>1.184643</td>\n",
       "      <td>1.162741</td>\n",
       "      <td>a9.1.a2.9.0.cellPVmodule.6457</td>\n",
       "      <td>a9.1.a2.9.0.cellPVmodule.2310</td>\n",
       "      <td>973.5216</td>\n",
       "      <td>128.0146</td>\n",
       "      <td>0.131496</td>\n",
       "    </tr>\n",
       "  </tbody>\n",
       "</table>\n",
       "</div>"
      ],
      "text/plain": [
       "          x             y         z     rearZ                        mattype  \\\n",
       "0  0.773069  4.733681e-17  1.331170  1.309268  a9.1.a2.0.0.cellPVmodule.6457   \n",
       "1  0.600836  3.679062e-17  1.314889  1.292987  a9.1.a2.1.0.cellPVmodule.6457   \n",
       "2  0.428604  2.624444e-17  1.298609  1.276706  a9.1.a2.2.0.cellPVmodule.6457   \n",
       "3  0.256372  1.569826e-17  1.282328  1.260426  a9.1.a2.3.0.cellPVmodule.6457   \n",
       "4  0.084140  5.152079e-18  1.266047  1.244145  a9.1.a2.4.0.cellPVmodule.6457   \n",
       "5 -0.088092 -5.394103e-18  1.249766  1.227864  a9.1.a2.5.0.cellPVmodule.6457   \n",
       "6 -0.260325 -1.594028e-17  1.233486  1.211583  a9.1.a2.6.0.cellPVmodule.6457   \n",
       "7 -0.432557 -2.648647e-17  1.217205  1.195303  a9.1.a2.7.0.cellPVmodule.6457   \n",
       "8 -0.604789 -3.703265e-17  1.200924  1.179022  a9.1.a2.8.0.cellPVmodule.6457   \n",
       "9 -0.777021 -4.757883e-17  1.184643  1.162741  a9.1.a2.9.0.cellPVmodule.6457   \n",
       "\n",
       "                         rearMat  Wm2Front   Wm2Back  Back/FrontRatio  \n",
       "0  a9.1.a2.0.0.cellPVmodule.2310  973.5498  119.2991         0.122540  \n",
       "1  a9.1.a2.1.0.cellPVmodule.2310  973.5479  112.9893         0.116059  \n",
       "2  a9.1.a2.2.0.cellPVmodule.2310  973.5446  110.4395         0.113441  \n",
       "3  a9.1.a2.3.0.cellPVmodule.2310  973.5413  111.2228         0.114245  \n",
       "4  a9.1.a2.4.0.cellPVmodule.2310  973.5380  109.4782         0.112454  \n",
       "5  a9.1.a2.5.0.cellPVmodule.2310  973.5347  107.6355         0.110561  \n",
       "6  a9.1.a2.6.0.cellPVmodule.2310  973.5315  112.4386         0.115495  \n",
       "7  a9.1.a2.7.0.cellPVmodule.2310  973.5282  116.0397         0.119195  \n",
       "8  a9.1.a2.8.0.cellPVmodule.2310  973.5249  119.7284         0.122984  \n",
       "9  a9.1.a2.9.0.cellPVmodule.2310  973.5216  128.0146         0.131496  "
      ]
     },
     "execution_count": 12,
     "metadata": {},
     "output_type": "execute_result"
    }
   ],
   "source": [
    "df_w"
   ]
  },
  {
   "cell_type": "markdown",
   "metadata": {},
   "source": [
    "## Improvement in Rear Irradiance"
   ]
  },
  {
   "cell_type": "code",
   "execution_count": 18,
   "metadata": {},
   "outputs": [
    {
     "data": {
      "text/plain": [
       "8.2"
      ]
     },
     "execution_count": 18,
     "metadata": {},
     "output_type": "execute_result"
    }
   ],
   "source": [
    "round((df_w['Wm2Back'].mean()-df_0['Wm2Back'].mean())*100/df_0['Wm2Back'].mean(),1)"
   ]
  },
  {
   "cell_type": "code",
   "execution_count": null,
   "metadata": {},
   "outputs": [],
   "source": []
  }
 ],
 "metadata": {
  "kernelspec": {
   "display_name": "Python 3",
   "language": "python",
   "name": "python3"
  },
  "language_info": {
   "codemirror_mode": {
    "name": "ipython",
    "version": 3
   },
   "file_extension": ".py",
   "mimetype": "text/x-python",
   "name": "python",
   "nbconvert_exporter": "python",
   "pygments_lexer": "ipython3",
   "version": "3.8.3"
  }
 },
 "nbformat": 4,
 "nbformat_minor": 4
}
