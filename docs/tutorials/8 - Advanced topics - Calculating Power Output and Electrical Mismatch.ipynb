{
 "cells": [
  {
   "attachments": {},
   "cell_type": "markdown",
   "metadata": {},
   "source": [
    "# 8 - Advanced topics - Calculating Power Output and Electrical Mismatch\n",
    "\n",
    "Nonuniform rear-irradiance on bifacial PV systems can cause additional mismatch loss, which may not be appropriately captured in PV energy production estimates and software.\n",
    "\n",
    "<img src=\"..\\images_wiki\\AdvancedJournals\\Mismatch_Definition_Example.PNG\" width=\"600\">\n",
    "\n",
    "The **analysis.py** module in bifacial_radiance comes with functions to calculate power output, electrical mismatch, and some other irradiance calculations. This is the procedure used for this proceedings and submitted journals, which have much more detail on the procedure. \n",
    "\n",
    "        •\tDeline, C., Ayala Pelaez, S., MacAlpine, S., Olalla, C. Estimating and Parameterizing Mismatch Power Loss in Bifacial Photovoltaic Systems. (submitted Progress in PV on Sept. 30, 2019)\n",
    "\n",
    "        •\tDeline C, Ayala Pelaez S, MacAlpine S, Olalla C. Bifacial PV System Mismatch Loss Estimation & Parameterization. Presented in: 36th EU PVSEC, Marseille Fr. Slides: https://www.nrel.gov/docs/fy19osti/74885.pdf. Proceedings: https://www.nrel.gov/docs/fy20osti/73541.pdf\n",
    "\n",
    "        •\tAyala Pelaez S, Deline C, MacAlpine S, Olalla C. Bifacial PV system mismatch loss estimation. Poster presented at the 6th BifiPV Workshop, Amsterdam 2019. https://www.nrel.gov/docs/fy19osti/74831.pdf and http://bifipv-workshop.com/index.php?id=amsterdam-2019-program \n",
    "\n",
    "Ideally **mismatch losses M** should be calculated for the whole year, and then the **mismatch loss factor to apply to Grear \"Lrear\"** required by due diligence softwares can be calculated:\n",
    "\n",
    "<img src=\"..\\images_wiki\\AdvancedJournals\\Lrear_solving.PNG\" width=\"400\">\n",
    "\n",
    "In this journal we will explore calculating mismatch loss M for a reduced set of hours. A procedure similar to that in Tutorial 3 will be used to generate various hourly irradiance measurements in the results folder, which the mismatch.py module will load and analyze. Analysis is done with PVMismatch, so this must be installed.\n",
    "\n",
    "## STEPS:\n",
    "    1. Run an hourly simulation\n",
    "    2. Do mismatch analysis on the results.\n",
    "\n"
   ]
  },
  {
   "cell_type": "markdown",
   "metadata": {},
   "source": [
    "<a id='step1'></a>"
   ]
  },
  {
   "cell_type": "markdown",
   "metadata": {},
   "source": [
    "### 1. Run an hourly simulation\n",
    "\n",
    "This will generate the results over which we will perform the mismatch analysis"
   ]
  },
  {
   "cell_type": "code",
   "execution_count": null,
   "metadata": {},
   "outputs": [
    {
     "name": "stdout",
     "output_type": "stream",
     "text": [
      "path = C:\\Users\\sayala\\Documents\\GitHub\\bifacial_radiance\\bifacial_radiance\\TEMP\n",
      "Getting weather file: USA_VA_Richmond.Intl.AP.724010_TMY.epw\n",
      " ... OK!\n",
      "\n",
      "Module Name: Canadian_Solar\n",
      "Module file did not exist before, creating new module file\n",
      "Module Canadian Solar successfully created\n",
      "Creating ~4000 skyfiles.  Takes 1-2 minutes\n",
      "Created 10 skyfiles in /skies/\n",
      "\n",
      "Making ~10 .rad files for gendaylit 1-axis workflow (this takes a minute..)\n",
      "10 Radfiles created in /objects/\n",
      "\n",
      "Making 10 octfiles in root directory.\n"
     ]
    },
    {
     "name": "stderr",
     "output_type": "stream",
     "text": [
      "C:\\ProgramData\\Anaconda3\\lib\\site-packages\\pvlib\\tracking.py:449: RuntimeWarning: invalid value encountered in arccos\n",
      "  wc = np.degrees(np.arccos(temp))\n",
      "C:\\ProgramData\\Anaconda3\\lib\\site-packages\\pvlib\\tracking.py:473: RuntimeWarning: invalid value encountered in arccos\n",
      "  aoi = np.degrees(np.arccos(np.abs(np.sum(sun_vec*panel_norm, axis=0))))\n",
      "C:\\ProgramData\\Anaconda3\\lib\\site-packages\\pvlib\\tracking.py:568: RuntimeWarning: invalid value encountered in remainder\n",
      "  surface_azimuth = surface_azimuth % 360\n",
      "C:\\ProgramData\\Anaconda3\\lib\\site-packages\\pvlib\\tracking.py:572: RuntimeWarning: invalid value encountered in arccos\n",
      "  surface_tilt = 90 - np.degrees(np.arccos(dotproduct))\n"
     ]
    },
    {
     "name": "stdout",
     "output_type": "stream",
     "text": [
      "Created 1axis_11_06_08.oct\n",
      "Created 1axis_11_06_09.oct\n",
      "Created 1axis_11_06_10.oct\n",
      "Created 1axis_11_06_11.oct\n",
      "Created 1axis_11_06_12.oct\n"
     ]
    }
   ],
   "source": [
    "import bifacial_radiance\n",
    "import os \n",
    "\n",
    "simulationName = 'Tutorial 8'\n",
    "testfolder = os.path.abspath(r'..\\..\\bifacial_radiance\\TEMP')\n",
    "moduletype = \"Canadian Solar\"\n",
    "albedo = 0.25 \n",
    "lat = 37.5   \n",
    "lon = -77.6\n",
    "\n",
    "# Scene variables\n",
    "nMods = 20\n",
    "nRows = 7\n",
    "hub_height = 1.5 # meters\n",
    "gcr = 0.33\n",
    "\n",
    "# Traking parameters\n",
    "cumulativesky = False\n",
    "limit_angle = 60 \n",
    "angledelta = 0.01 \n",
    "backtrack = True \n",
    "\n",
    "#makeModule parameters\n",
    "x = 1\n",
    "y = 2\n",
    "xgap = 0.01\n",
    "zgap = 0.05\n",
    "ygap = 0.0  # numpanels=1 anyways so it doesnt matter anyway\n",
    "numpanels = 1\n",
    "torquetube = True\n",
    "axisofrotationTorqueTube = True\n",
    "diameter = 0.1\n",
    "tubetype = 'Oct'    \n",
    "material = 'black'\n",
    "\n",
    "startdate = '11/06'     \n",
    "enddate = '11/06'\n",
    "demo = bifacial_radiance.RadianceObj(simulationName, path=testfolder)  \n",
    "demo.setGround(albedo) \n",
    "epwfile = demo.getEPW(lat,lon) \n",
    "metdata = demo.readWeatherFile(epwfile) \n",
    "mymodule = demo.makeModule(name=moduletype, torquetube=torquetube, diameter=diameter, tubetype=tubetype, material=material, \n",
    "                x=x, y=y, xgap=xgap, ygap = ygap, zgap=zgap, numpanels=numpanels, \n",
    "                axisofrotationTorqueTube=axisofrotationTorqueTube)\n",
    "pitch = mymodule['sceney']/gcr\n",
    "sceneDict = {'pitch':pitch,'hub_height':hub_height, 'nMods': nMods, 'nRows': nRows}  \n",
    "demo.set1axis(limit_angle = limit_angle, backtrack = backtrack, gcr = gcr, cumulativesky = cumulativesky)\n",
    "demo.gendaylit1axis(startdate=startdate, enddate=enddate)\n",
    "demo.makeScene1axis(moduletype=moduletype,sceneDict=sceneDict) \n",
    "demo.makeOct1axis()\n",
    "demo.analysis1axis()"
   ]
  },
  {
   "cell_type": "code",
   "execution_count": null,
   "metadata": {},
   "outputs": [],
   "source": [
    "testfolder =  r'C:\\Users\\sayala\\Documents\\HPC_Scratch\\EUPVSEC\\new_bifacialRadiance_onVF_results\\HPCResults'\n",
    "writefiletitle = r'C:\\Users\\sayala\\Documents\\HPC_Scratch\\EUPVSEC\\new_bifacialRadiance_onVF_results\\Mismatch_Results.csv'\n",
    "\n",
    "        sensorsy=100\n",
    "        portraitorlandscape='portrait'\n",
    "        bififactor=1.0\n",
    "bifacial_radiance.mismatch.analysisIrradianceandPowerMismatch(resultsfolder, writefiletitle, sensorsy, portraitorlandscape, bififactor)"
   ]
  }
 ],
 "metadata": {
  "kernelspec": {
   "display_name": "Python 3",
   "language": "python",
   "name": "python3"
  },
  "language_info": {
   "codemirror_mode": {
    "name": "ipython",
    "version": 3
   },
   "file_extension": ".py",
   "mimetype": "text/x-python",
   "name": "python",
   "nbconvert_exporter": "python",
   "pygments_lexer": "ipython3",
   "version": "3.7.3"
  }
 },
 "nbformat": 4,
 "nbformat_minor": 2
}
