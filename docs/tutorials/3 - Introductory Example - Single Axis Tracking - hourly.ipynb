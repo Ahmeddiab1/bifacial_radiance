{
 "cells": [
  {
   "cell_type": "markdown",
   "metadata": {},
   "source": [
    "## 3 - Introductory Example - 1-Axis tracker by hour (gendaylit)\n",
    "\n",
    "Example demonstrating the use of Radiance gendaylit for 1-axis tracking.\n",
    "\n",
    "#### Types of 1-axis tracking simulations:\n",
    "\n",
    "<b>CumulativeSky: False </b>. This uses Gendaylit function, which performs the simulation hour by hour. A good computer and a some patience are needed for doing the 4000 daylight-hours of the year (~1 day on a 32GB RAM, Windows 10 i7-8700 CPU @ 3.2GHz with 6 cores), or else a high-performance-computing for handling full year simulations. The procedure can be broken into shorter steps for one day or a single timestamp simulation which is exemplified below.\n",
    "\n",
    "\n",
    "### Steps:\n",
    "<ol>\n",
    "    <li> <a href='#step1'> Create a folder for your simulation, and Load bifacial_radiance </a></li> \n",
    "    <li> <a href='#step2'> Create a Radiance Object </a></li> \n",
    "    <li> <a href='#step3'> Set the Albedo </a></li> \n",
    "    <li> <a href='#step4'> Download Weather Files </a></li>    \n",
    "    <ul> (VERY SIMILAR TO FIXED TILT EXAMPLE UNTIL HERE) </ul> \n",
    "    <li> <a href='#step5'> Set Tracking Angles </a></li> \n",
    "    <li> <a href='#step6'> Generate the Sky </a></li> \n",
    "    <li> <a href='#step7'> Define a Module type </a></li> \n",
    "    <li> <a href='#step8'> Create the scene </a></li> \n",
    "    <li> <a href='#step9'> Combine Ground, Sky and Scene Objects </a></li> \n",
    "    <li> <a href='#step10'> Analyze and get results </a></li> \n",
    "    <li> <a href='#step11'> Clean Results </a></li>   \n",
    "   \n",
    "</ol>\n",
    "\n",
    "And finally:  <ul> <a href='#condensed'> Condensed instructions </a></ul>   "
   ]
  },
  {
   "cell_type": "markdown",
   "metadata": {},
   "source": [
    "<a id='step1'></a>"
   ]
  },
  {
   "cell_type": "markdown",
   "metadata": {},
   "source": [
    "\n",
    "## 1. Create a folder for your simulation, and load bifacial_radiance \n",
    "\n",
    "First let's set the folder where the simulation will be saved. By default, this is the TEMP folder in the bifacial_radiance distribution.\n",
    "\n",
    "The lines below find the location of the folder relative to this Jupyter Journal. You can alternatively point to an empty directory (it will open a load GUI Visual Interface) or specify any other directory in your computer, for example:\n",
    "\n",
    "#### testfolder = r'C:\\Users\\sayala\\Documents\\RadianceScenes\\Tutorials\\Journal3'\n"
   ]
  },
  {
   "cell_type": "code",
   "execution_count": null,
   "metadata": {},
   "outputs": [],
   "source": [
    "import os\n",
    "testfolder = os.path.abspath(r'..\\..\\bifacial_radiance\\TEMP')  \n",
    "\n",
    "print (\"Your simulation will be stored in %s\" % testfolder)"
   ]
  },
  {
   "cell_type": "markdown",
   "metadata": {},
   "source": [
    "#### Pay attention: different importing method:\n",
    "\n",
    "So far we've used \"from bifacial_radiance import *\" to import all the bifacial_radiance files into our working space in jupyter. For this journal we will do a \"import bifacial_radiance\" . This method of importing requires a different call for some functions as you'll see below. For example, instead of calling demo = RadianceObj(path = testfolder) as on Tutorial 2, in this case we will neeed to do demo = bifacial_radiance.RadianceObj(path = testfolder). "
   ]
  },
  {
   "cell_type": "code",
   "execution_count": null,
   "metadata": {},
   "outputs": [],
   "source": [
    "import bifacial_radiance\n",
    "import numpy as np\n",
    "import pprint    # We will be pretty-printing the trackerdictionary throughout to show its structure."
   ]
  },
  {
   "cell_type": "markdown",
   "metadata": {},
   "source": [
    "<a id='step2'></a>"
   ]
  },
  {
   "cell_type": "markdown",
   "metadata": {},
   "source": [
    "## 2. Define all your system variables\n",
    "\n",
    "Just like in the condensed version show at the end of Tutorial 2, for this tutorial we will be starting all of our system variables from the beginning of the jupyter journal, instead than throughout the different cells (for the most part)"
   ]
  },
  {
   "cell_type": "code",
   "execution_count": null,
   "metadata": {},
   "outputs": [],
   "source": [
    "simulatonName = 'Tutorial 3'    # For adding a simulation name when defning RadianceObj. This is optional.\n",
    "moduletype = 'Custom Cell-Level Module'    # We will define the parameters for this below in Step 4.\n",
    "testfolder = r'C:\\Users\\sayala\\Documents\\RadianceScenes\\Tutorials\\Journal2'\n",
    "albedo = \"litesoil\"      # this is one of the options on ground.rad\n",
    "lat = 37.5   \n",
    "lon = -77.6\n",
    "\n",
    "# Scene variables\n",
    "nMods = 20\n",
    "nRows = 7\n",
    "hub_height = 2.3 # meters\n",
    "pitch = 10 # meters      # We will be using pitch instead of GCR for this example.\n",
    "\n",
    "# Traking parameters\n",
    "cumulativesky = False\n",
    "limit_angle = 45 # tracker rotation limit angle\n",
    "angledelta = 0.01 # we will be doing hourly simulation, we want the angle to be as close to real tracking as possible.\n",
    "backtrack = True \n",
    "\n",
    "#makeModule parameters\n",
    "# x and y will be defined later on Step 4 for this tutorial!!\n",
    "xgap = 0.01\n",
    "ygap = 0.10\n",
    "zgap = 0.05\n",
    "numpanels = 2\n",
    "torquetube = True\n",
    "axisofrotationTorqueTube = False\n",
    "diameter = 0.1\n",
    "tubetype = 'Oct'    # This will make an octagonal torque tube.\n",
    "material = 'black'   # Torque tube of this material (0% reflectivity)"
   ]
  },
  {
   "cell_type": "markdown",
   "metadata": {},
   "source": [
    "<a id='step3'></a>"
   ]
  },
  {
   "cell_type": "markdown",
   "metadata": {},
   "source": [
    "## 3. Create Radiance Object, Set Albedo and Weather\n",
    "\n",
    "Same steps as previous two tutorials, so condensing it into one step. You hopefully have this down by now! :)\n",
    "\n",
    "\n",
    "<div class=\"alert alert-warning\">\n",
    "Notice that we are doing bifacial_radiance.RadianceObj because we change the import method for this example!\n",
    "</div>"
   ]
  },
  {
   "cell_type": "code",
   "execution_count": null,
   "metadata": {},
   "outputs": [],
   "source": [
    "demo = bifacial_radiance.RadianceObj(simulationName, path = testfolder)  # Adding a simulation name. This is optional.\n",
    "demo.setGround(albedo) \n",
    "epwfile = demo.getEPW(lat = lat, lon = lon) \n",
    "metdata = demo.readWeatherFile(weatherFile = epwfile) \n"
   ]
  },
  {
   "cell_type": "markdown",
   "metadata": {},
   "source": [
    "<a id='step4'></a>"
   ]
  },
  {
   "cell_type": "markdown",
   "metadata": {},
   "source": [
    "## 4. Make Module: Cell Level Module Example\n",
    "\n",
    "Instead of doing a opaque, flat single-surface module, in this tutorial we will create a module made up by cells. We can define variuos parameters to make a cell-level module, such as cell size and spacing between cells. To do this, we will pass a dicitonary with the needed parameters to makeModule, as shown below.\n",
    "\n",
    "<div class=\"alert alert-warning\">\n",
    "Since we are passing a cell-level dictionary, the values for module's x and y of the module will be calculated by the software -- no need to pass them (and if you do, they'll just get ignored)\n",
    "    </div>"
   ]
  },
  {
   "cell_type": "code",
   "execution_count": null,
   "metadata": {},
   "outputs": [],
   "source": [
    "numcellsx = 6\n",
    "numcellsy = 12\n",
    "xcell = 0.156\n",
    "ycell = 0.156\n",
    "xcellgap = 0.02\n",
    "ycellgap = 0.02\n",
    "\n",
    "cellLevelModuleParams = {'numcellsx': numcellsx, 'numcellsy':numcellsy, \n",
    "                         'xcell': xcell, 'ycell': ycell, 'xcellgap': xcellgap, 'ycellgap': ycellgap}\n",
    "\n",
    "mymodule = demo.makeModule(name=moduletype, torquetube=torquetube, diameter=diameter, tubetype=tubetype, material=material, \n",
    "                xgap=xgap, ygap=ygap, zgap=zgap, numpanels=numpanels, \n",
    "                cellLevelModuleParams=cellLevelModuleParams, \n",
    "                axisofrotationTorqueTube=axisofrotationTorqueTube)"
   ]
  },
  {
   "cell_type": "markdown",
   "metadata": {},
   "source": [
    "<a id='step5'></a>"
   ]
  },
  {
   "cell_type": "markdown",
   "metadata": {},
   "source": [
    "## 5. Calculate GCR\n",
    "\n",
    "In this example we passed the parameter \"pitch\". Pitch is the spacing between rows (for example, between hub-posts) in a field.\n",
    "To calculate Ground Coverage Ratio (GCR), we must relate the pitch to the collector-width by:\n",
    "    \n",
    "![GCR = CW / pitch](../images_wiki/Journal3Pics/Equation_GCR.png)\n",
    "\n",
    "The collector width for our system must consider the number of panels and the y-gap:\n",
    "    \n",
    "![CW](../images_wiki/Journal3Pics/Equation_CW.png)\n",
    "    \n",
    "Collector Width gets saved in your module parameters (and later on your scene and trackerdict) as \"sceney\". You can calculate your collector width with the equation, or you can use this method to know your GCR:"
   ]
  },
  {
   "cell_type": "code",
   "execution_count": null,
   "metadata": {},
   "outputs": [],
   "source": [
    "# For more options on makemodule, see the help description of the function.  \n",
    "CW = mymodule['sceney']\n",
    "gcr = CW / pitch\n",
    "print (\"The GCR is :\", gcr)"
   ]
  },
  {
   "cell_type": "markdown",
   "metadata": {},
   "source": [
    "<a id='step6'></a>"
   ]
  },
  {
   "cell_type": "markdown",
   "metadata": {},
   "source": [
    "## 6. Set Tracking Angles\n",
    "\n",
    "This function will read the weather file, and based on the sun position it will calculate the angle the tracker should be at for each hour. It will create metdata files for each of the tracker angles considered.\n",
    "\n",
    "For doing hourly simulations, remember to set cumulativesky = False here!"
   ]
  },
  {
   "cell_type": "code",
   "execution_count": null,
   "metadata": {},
   "outputs": [],
   "source": [
    "trackerdict = demo.set1axis(metdata = metdata, limit_angle = limit_angle, backtrack = backtrack, \n",
    "                            gcr = gcr, cumulativesky = cumulativesky)"
   ]
  },
  {
   "cell_type": "code",
   "execution_count": null,
   "metadata": {
    "scrolled": true
   },
   "outputs": [],
   "source": [
    "print (\"Full trackerdict for all the year created by set1axis: %s \" % (len(demo.trackerdict))) \n"
   ]
  },
  {
   "cell_type": "markdown",
   "metadata": {},
   "source": [
    "set1axis initializes the trackerdictionary Trackerdict. Trackerdict contains all hours in the year as keys. For example: trackerdict['12_16_08']. It is a return variable on many of the 1axis functions, but it is also stored inside of your Radiance Obj (i.e. demo.trackerdict). In this journal we are storing it as a variable to mute the option (otherwise it prints the returned trackerdict contents every time)\n"
   ]
  },
  {
   "cell_type": "code",
   "execution_count": null,
   "metadata": {},
   "outputs": [],
   "source": [
    "pprint.pprint(trackerdict['12_16_08'])\n"
   ]
  },
  {
   "cell_type": "code",
   "execution_count": null,
   "metadata": {},
   "outputs": [],
   "source": [
    "pprint.pprint(demo.trackerdict['12_16_08'])"
   ]
  },
  {
   "cell_type": "markdown",
   "metadata": {},
   "source": [
    "All of the following functions add up elements to trackerdictionary to keep track (ba-dum tupzz) of the Scene and simulation parameters. In advanced journals we will explore the inner structure of trackerdict. For now, just now it exists :)"
   ]
  },
  {
   "cell_type": "markdown",
   "metadata": {},
   "source": [
    "<a id='step7'></a>"
   ]
  },
  {
   "cell_type": "markdown",
   "metadata": {},
   "source": [
    "## 7. Generate the Sky\n",
    "\n",
    "\n",
    "We will create skies for each hour we want to model with the function gendaylit1axis. \n",
    "\n",
    "If you don't specify a startdate and enddate, all the year will be created, which will take more time. \n",
    "\n",
    "For this example we are doing just two days in January. Format has to be a 'MM_DD' or 'MM/DD'"
   ]
  },
  {
   "cell_type": "code",
   "execution_count": null,
   "metadata": {},
   "outputs": [],
   "source": [
    "startdate = '01/13'     \n",
    "enddate = '01/14'\n",
    "trackerdict = demo.gendaylit1axis(startdate=startdate, enddate=enddate) "
   ]
  },
  {
   "cell_type": "markdown",
   "metadata": {},
   "source": [
    "Since we passed startdate and enddate to gendaylit, it will prune our trackerdict to only the desired days.\n",
    "Let's explore our trackerdict:"
   ]
  },
  {
   "cell_type": "code",
   "execution_count": null,
   "metadata": {},
   "outputs": [],
   "source": [
    "print (\"\\nTrimmed trackerdict by gendaylit1axis to start and enddate length: %s \" % (len(trackerdict)))\n",
    "print (\"\")\n",
    "trackerkeys = sorted(trackerdict.keys())\n",
    "print (\"Option of hours are: \", trackerkeys)\n",
    "print (\"\")\n",
    "print (\"Contents of trackerdict for sample hour:\")\n",
    "pprint.pprint(trackerdict[trackerkeys[0]])"
   ]
  },
  {
   "cell_type": "markdown",
   "metadata": {},
   "source": [
    "<a id='step8'></a>"
   ]
  },
  {
   "cell_type": "markdown",
   "metadata": {},
   "source": [
    "## 8. Make Scene 1axis\n",
    "\n",
    "We can use gcr or pitch fo our scene dictionary."
   ]
  },
  {
   "cell_type": "code",
   "execution_count": null,
   "metadata": {},
   "outputs": [],
   "source": [
    "# making the different scenes for the 1-axis tracking for the dates in trackerdict2.\n",
    "\n",
    "sceneDict = {'pitch': pitch,'hub_height':hub_height, 'nMods':nMods, 'nRows': nRows}  \n",
    "\n",
    "trackerdict = demo.makeScene1axis(trackerdict = trackerdict, moduletype = moduletype, sceneDict = sceneDict) "
   ]
  },
  {
   "cell_type": "markdown",
   "metadata": {},
   "source": [
    "The scene parameteres are now stored in the trackerdict. To view them and to access them:\n",
    "    "
   ]
  },
  {
   "cell_type": "code",
   "execution_count": null,
   "metadata": {},
   "outputs": [],
   "source": [
    "pprint.pprint(trackerdict[trackerkeys[0]])"
   ]
  },
  {
   "cell_type": "code",
   "execution_count": null,
   "metadata": {},
   "outputs": [],
   "source": [
    "pprint.pprint(demo.trackerdict[trackerkeys[5]]['scene'].__dict__)"
   ]
  },
  {
   "cell_type": "markdown",
   "metadata": {},
   "source": [
    "<a id='step9a'></a>"
   ]
  },
  {
   "cell_type": "markdown",
   "metadata": {},
   "source": [
    "## 9. Make Oct and Analyze \n",
    "\n",
    "### A. Make Oct and Analyze 1Hour\n",
    "\n",
    "There are various options now to analyze the trackerdict hours we have defined. We will start by doing just one hour, because it's the fastest. Make sure to select an hour that exists in your trackerdict!\n",
    "\n",
    "Options of hours:"
   ]
  },
  {
   "cell_type": "code",
   "execution_count": null,
   "metadata": {},
   "outputs": [],
   "source": [
    "pprint.pprint(trackerkeys)"
   ]
  },
  {
   "cell_type": "code",
   "execution_count": null,
   "metadata": {},
   "outputs": [],
   "source": [
    "demo.makeOct1axis(singleindex='01_13_08')\n",
    "results = demo.analysis1axis(singleindex='01_13_08')\n",
    "print('\\n\\nHourly bifi gain: {:0.3}'.format(sum(demo.Wm2Back) / sum(demo.Wm2Front)))"
   ]
  },
  {
   "cell_type": "markdown",
   "metadata": {},
   "source": [
    "The trackerdict now contains information about the octfile, as well as the Analysis Object results"
   ]
  },
  {
   "cell_type": "code",
   "execution_count": null,
   "metadata": {},
   "outputs": [],
   "source": [
    "print (\"\\n Contents of trackerdict for sample hour after analysis1axis: \")\n",
    "pprint.pprint(trackerdict[trackerkeys[0]])\n"
   ]
  },
  {
   "cell_type": "code",
   "execution_count": null,
   "metadata": {},
   "outputs": [],
   "source": [
    "pprint.pprint(trackerdict[trackerkeys[0]]['AnalysisObj'].__dict__)"
   ]
  },
  {
   "cell_type": "markdown",
   "metadata": {},
   "source": [
    "<a id='step9b'></a>"
   ]
  },
  {
   "cell_type": "markdown",
   "metadata": {},
   "source": [
    "### B. Make Oct and Analye Range of Hours"
   ]
  },
  {
   "cell_type": "markdown",
   "metadata": {},
   "source": [
    "You could do a range of indexes following a similar procedure:"
   ]
  },
  {
   "cell_type": "code",
   "execution_count": null,
   "metadata": {},
   "outputs": [],
   "source": [
    "for time in ['01_13_09','01_13_13']:  \n",
    "    demo.makeOct1axis(singleindex=time)\n",
    "    results=demo.analysis1axis(singleindex=time)\n",
    "\n",
    "print('Accumulated hourly bifi gain: {:0.3}'.format(sum(demo.Wm2Back) / sum(demo.Wm2Front)))"
   ]
  },
  {
   "cell_type": "markdown",
   "metadata": {},
   "source": [
    "Note that the bifacial gain printed above is for the accumulated irradiance between the hours modeled so far. \n",
    "That is, demo.Wm2Back and demo.Wm2Front are for January 13, 8AM to 1 AM. Compare demo.Wm2back below with what we had before:"
   ]
  },
  {
   "cell_type": "code",
   "execution_count": null,
   "metadata": {},
   "outputs": [],
   "source": [
    "demo.Wm2Back"
   ]
  },
  {
   "cell_type": "markdown",
   "metadata": {},
   "source": [
    "To print the specific bifacial gain for a specific hour, you can use the following:"
   ]
  },
  {
   "cell_type": "code",
   "execution_count": null,
   "metadata": {},
   "outputs": [],
   "source": [
    "sum(trackerdict['01_13_13']['AnalysisObj'].Wm2Back) / sum(trackerdict['01_13_13']['AnalysisObj'].Wm2Front)"
   ]
  },
  {
   "cell_type": "markdown",
   "metadata": {},
   "source": [
    "<a id='step9c'></a>"
   ]
  },
  {
   "cell_type": "markdown",
   "metadata": {},
   "source": [
    "### C. Make Oct and Analyze All Tracking Dictionary\n",
    "\n",
    "This might considerably more time, depending on the number of entries on the trackerdictionary. If no **startdt** and **enddt** where specified on STEP **gendaylit1axis, this will run ALL of the hours in the year (~4000 hours).**\n"
   ]
  },
  {
   "cell_type": "code",
   "execution_count": null,
   "metadata": {},
   "outputs": [],
   "source": [
    "demo.makeOct1axis()\n",
    "results = demo.analysis1axis()\n",
    "print('Accumulated hourly bifi gain for all the trackerdict: {:0.3}'.format(sum(demo.Wm2Back) / sum(demo.Wm2Front)))\n"
   ]
  },
  {
   "cell_type": "markdown",
   "metadata": {},
   "source": [
    "<div class=\"alert alert-warning\">\n",
    "Remember you should clean your results first! This will have torquetube and sky results if performed this way so don't trust this simplistic bifacial_gain examples.\n",
    "</div>"
   ]
  },
  {
   "cell_type": "markdown",
   "metadata": {},
   "source": [
    "<a id='condensed'></a>"
   ]
  },
  {
   "cell_type": "markdown",
   "metadata": {},
   "source": [
    "### Condensed Version: All Tracking Dictionary\n",
    "\n",
    "This is the summarized version to run gendaylit for one entries in the trackigndictionary."
   ]
  },
  {
   "cell_type": "code",
   "execution_count": null,
   "metadata": {},
   "outputs": [],
   "source": [
    "simulatonName = 'Tutorial 3'\n",
    "moduletype = 'Custom Cell-Level Module'    # We will define the parameters for this below in Step 4.\n",
    "testfolder = r'C:\\Users\\sayala\\Documents\\RadianceScenes\\Tutorials\\Journal2'\n",
    "albedo = \"litesoil\"      # this is one of the options on ground.rad\n",
    "lat = 37.5   \n",
    "lon = -77.6\n",
    "\n",
    "# Scene variables\n",
    "nMods = 20\n",
    "nRows = 7\n",
    "hub_height = 2.3 # meters\n",
    "pitch = 10 # meters      # We will be using pitch instead of GCR for this example.\n",
    "\n",
    "# Traking parameters\n",
    "cumulativesky = False\n",
    "limit_angle = 45 # tracker rotation limit angle\n",
    "angledelta = 0.01 # we will be doing hourly simulation, we want the angle to be as close to real tracking as possible.\n",
    "backtrack = True \n",
    "\n",
    "#makeModule parameters\n",
    "# x and y will be defined later on Step 4 for this tutorial!!\n",
    "xgap = 0.01\n",
    "ygap = 0.10\n",
    "zgap = 0.05\n",
    "numpanels = 2\n",
    "torquetube = True\n",
    "axisofrotationTorqueTube = False\n",
    "diameter = 0.1\n",
    "tubetype = 'Oct'    # This will make an octagonal torque tube.\n",
    "material = 'black'   # Torque tube of this material (0% reflectivity)\n",
    "\n",
    "startdate = '11/06'     \n",
    "enddate = '11/06'\n",
    "demo = bifacial_radiance.RadianceObj(simulatonName, path=testfolder)  \n",
    "demo.setGround(albedo) \n",
    "epwfile = demo.getEPW(lat,lon) \n",
    "metdata = demo.readWeatherFile(epwfile)  \n",
    "sceneDict = {'pitch':pitch,'hub_height':hub_height, 'nMods': nMods, 'nRows': nRows}  \n",
    "demo.set1axis(limit_angle = limit_angle, backtrack = backtrack, gcr = gcr, cumulativesky = cumulativesky)\n",
    "demo.gendaylit1axis(startdate=startdate, enddate=enddate)\n",
    "demo.makeScene1axis(moduletype=moduletype,sceneDict=sceneDict) #makeScene creates a .rad file with 20 modules per row, 7 rows.\n",
    "demo.makeOct1axis()\n",
    "demo.analysis1axis()"
   ]
  }
 ],
 "metadata": {
  "anaconda-cloud": {},
  "kernelspec": {
   "display_name": "Python 3",
   "language": "python",
   "name": "python3"
  },
  "language_info": {
   "codemirror_mode": {
    "name": "ipython",
    "version": 3
   },
   "file_extension": ".py",
   "mimetype": "text/x-python",
   "name": "python",
   "nbconvert_exporter": "python",
   "pygments_lexer": "ipython3",
   "version": "3.7.3"
  }
 },
 "nbformat": 4,
 "nbformat_minor": 1
}
