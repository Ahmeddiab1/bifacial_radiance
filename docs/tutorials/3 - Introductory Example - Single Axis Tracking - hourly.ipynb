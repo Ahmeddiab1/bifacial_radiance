{
 "cells": [
  {
   "cell_type": "markdown",
   "metadata": {},
   "source": [
    "## 3 - Introductory Example - 1-Axis tracker by hour (gendaylit)\n",
    "\n",
    "Example demonstrating the use of Radiance gendaylit for 1-axis tracking.\n",
    "\n",
    "#### Types of 1-axis tracking simulations:\n",
    "\n",
    "<b>CumulativeSky: False </b>. This uses Gendaylit function, which performs the simulation hour by hour. A good computer and a some patience are needed for doing the 4000 daylight-hours of the year (~1 day on a 32GB RAM, Windows 10 i7-8700 CPU @ 3.2GHz with 6 cores), or else a high-performance-computing for handling full year simulations. The procedure can be broken into shorter steps for one day or a single timestamp simulation which is exemplified below.\n",
    "\n",
    "\n",
    "### Steps:\n",
    "<ol>\n",
    "    <li> <a href='#step1'> Create a folder for your simulation, and Load bifacial_radiance </a></li> \n",
    "    <li> <a href='#step2'> Create a Radiance Object </a></li> \n",
    "    <li> <a href='#step3'> Set the Albedo </a></li> \n",
    "    <li> <a href='#step4'> Download Weather Files </a></li>    \n",
    "    <ul> (VERY SIMILAR TO FIXED TILT EXAMPLE UNTIL HERE) </ul> \n",
    "    <li> <a href='#step5'> Set Tracking Angles </a></li> \n",
    "    <li> <a href='#step6'> Generate the Sky </a></li> \n",
    "    <li> <a href='#step7'> Define a Module type </a></li> \n",
    "    <li> <a href='#step8'> Create the scene </a></li> \n",
    "    <li> <a href='#step9'> Combine Ground, Sky and Scene Objects </a></li> \n",
    "    <li> <a href='#step10'> Analyze and get results </a></li> \n",
    "    <li> <a href='#step11'> Clean Results </a></li>   \n",
    "   \n",
    "</ol>\n",
    "\n",
    "And finally:  <ul> <a href='#condensed'> Condensed instructions </a></ul>   "
   ]
  },
  {
   "cell_type": "markdown",
   "metadata": {},
   "source": [
    "<a id='step1'></a>"
   ]
  },
  {
   "cell_type": "markdown",
   "metadata": {},
   "source": [
    "\n",
    "## 1. Create a folder for your simulation, and load bifacial_radiance \n",
    "\n",
    "First let's set the folder where the simulation will be saved. By default, this is the TEMP folder in the bifacial_radiance distribution.\n",
    "\n",
    "The lines below find the location of the folder relative to this Jupyter Journal. You can alternatively point to an empty directory (it will open a load GUI Visual Interface) or specify any other directory in your computer, for example:\n",
    "\n",
    "#### testfolder = r'C:\\Users\\sayala\\Documents\\RadianceScenes\\Tutorials\\Journal3'\n"
   ]
  },
  {
   "cell_type": "code",
   "execution_count": 1,
   "metadata": {},
   "outputs": [
    {
     "name": "stdout",
     "output_type": "stream",
     "text": [
      "Your simulation will be stored in C:\\Users\\sayala\\Documents\\GitHub\\bifacial_radiance\\bifacial_radiance\\TEMP\n"
     ]
    }
   ],
   "source": [
    "import os\n",
    "testfolder = os.path.abspath(r'..\\..\\bifacial_radiance\\TEMP')  \n",
    "\n",
    "print (\"Your simulation will be stored in %s\" % testfolder)"
   ]
  },
  {
   "cell_type": "markdown",
   "metadata": {},
   "source": [
    "#### Pay attention: different importing method:\n",
    "\n",
    "So far we've used \"from bifacial_radiance import *\" to import all the bifacial_radiance files into our working space in jupyter. For this journal we will do a \"import bifacial_radiance\" . This method of importing requires a different call for some functions as you'll see below. For example, instead of calling demo = RadianceObj(path = testfolder) as on Tutorial 2, in this case we will neeed to do demo = bifacial_radiance.RadianceObj(path = testfolder). "
   ]
  },
  {
   "cell_type": "code",
   "execution_count": 2,
   "metadata": {},
   "outputs": [],
   "source": [
    "import bifacial_radiance\n",
    "import numpy as np\n",
    "import pprint    # We will be pretty-printing the trackerdictionary throughout to show its structure."
   ]
  },
  {
   "cell_type": "markdown",
   "metadata": {},
   "source": [
    "<a id='step2'></a>"
   ]
  },
  {
   "cell_type": "markdown",
   "metadata": {},
   "source": [
    "## 2. Define all your system variables\n",
    "\n",
    "Just like in the condensed version show at the end of Tutorial 2, for this tutorial we will be starting all of our system variables from the beginning of the jupyter journal, instead than throughout the different cells (for the most part)"
   ]
  },
  {
   "cell_type": "code",
   "execution_count": 18,
   "metadata": {},
   "outputs": [],
   "source": [
    "moduletype = 'Custom Cell-Level Module'    # We will define the parameters for this below in Step 4.\n",
    "testfolder = r'C:\\Users\\sayala\\Documents\\RadianceScenes\\Tutorials\\Journal2'\n",
    "albedo = \"litesoil\"      # this is one of the options on ground.rad\n",
    "lat = 37.5   \n",
    "lon = -77.6\n",
    "\n",
    "# Scene variables\n",
    "nMods = 20\n",
    "nRows = 7\n",
    "hub_height = 2.3 # meters\n",
    "pitch = 10 # meters      # We will be using pitch instead of GCR for this example.\n",
    "\n",
    "# Traking parameters\n",
    "cumulativesky = False\n",
    "limit_angle = 45 # tracker rotation limit angle\n",
    "angledelta = 0.01 # we will be doing hourly simulation, we want the angle to be as close to real tracking as possible.\n",
    "backtrack = True \n",
    "\n",
    "#makeModule parameters\n",
    "# x and y will be defined later on Step 4 for this tutorial!!\n",
    "xgap = 0.01\n",
    "ygap = 0.10\n",
    "zgap = 0.05\n",
    "numpanels = 2\n",
    "torquetube = True\n",
    "axisofrotationTorqueTube = False\n",
    "diameter = 0.1\n",
    "tubetype = 'Oct'    # This will make an octagonal torque tube.\n",
    "material = 'black'   # Torque tube of this material (0% reflectivity)\n",
    "\n",
    "# Analysis parameters\n",
    "modWanted = 9\n",
    "rowWanted = 2\n",
    "sensorsy = 6\n",
    "\n"
   ]
  },
  {
   "cell_type": "markdown",
   "metadata": {},
   "source": [
    "<a id='step3'></a>"
   ]
  },
  {
   "cell_type": "markdown",
   "metadata": {},
   "source": [
    "## 3. Create Radiance Object, Set Albedo and Weather\n",
    "\n",
    "Same steps as previous two tutorials, so condensing it into one step. You hopefully have this down by now! :)\n",
    "\n",
    "\n",
    "<div class=\"alert alert-warning\">\n",
    "Notice that we are doing bifacial_radiance.RadianceObj because we change the import method for this example!\n",
    "</div>"
   ]
  },
  {
   "cell_type": "code",
   "execution_count": 19,
   "metadata": {},
   "outputs": [
    {
     "name": "stdout",
     "output_type": "stream",
     "text": [
      "path = C:\\Users\\sayala\\Documents\\RadianceScenes\\Tutorials\\Journal2\n",
      "Getting weather file: USA_VA_Richmond.Intl.AP.724010_TMY.epw\n",
      " ... OK!\n"
     ]
    }
   ],
   "source": [
    "demo = bifacial_radiance.RadianceObj(path = testfolder) \n",
    "demo.setGround(albedo) \n",
    "epwfile = demo.getEPW(lat = lat, lon = lon) \n",
    "metdata = demo.readWeatherFile(weatherFile = epwfile) \n"
   ]
  },
  {
   "cell_type": "markdown",
   "metadata": {},
   "source": [
    "<a id='step4'></a>"
   ]
  },
  {
   "cell_type": "markdown",
   "metadata": {},
   "source": [
    "## 4. Make Module: Cell Level Module Example\n",
    "\n",
    "Instead of doing a opaque, flat single-surface module, in this tutorial we will create a module made up by cells. We can define variuos parameters to make a cell-level module, such as cell size and spacing between cells. To do this, we will pass a dicitonary with the needed parameters to makeModule, as shown below.\n",
    "\n",
    "<div class=\"alert alert-warning\">\n",
    "Since we are passing a cell-level dictionary, the values for module's x and y of the module will be calculated by the software -- no need to pass them (and if you do, they'll just get ignored)\n",
    "    </div>"
   ]
  },
  {
   "cell_type": "code",
   "execution_count": 20,
   "metadata": {},
   "outputs": [
    {
     "name": "stdout",
     "output_type": "stream",
     "text": [
      "\n",
      "Module Name: Custom_Cell-Level_Module\n",
      "REWRITING pre-existing module file. \n",
      "Module was shifted by 0.078 in X to avoid sensors on air\n",
      "This is a Cell-Level detailed module with Packaging Factor of 0.81 %\n",
      "Module Custom Cell-Level Module successfully created\n"
     ]
    }
   ],
   "source": [
    "numcellsx = 6\n",
    "numcellsy = 12\n",
    "xcell = 0.156\n",
    "ycell = 0.156\n",
    "xcellgap = 0.02\n",
    "ycellgap = 0.02\n",
    "\n",
    "cellLevelModuleParams = {'numcellsx': numcellsx, 'numcellsy':numcellsy, \n",
    "                         'xcell': xcell, 'ycell': ycell, 'xcellgap': xcellgap, 'ycellgap': ycellgap}\n",
    "\n",
    "mymodule = demo.makeModule(name=moduletype, torquetube=torquetube, diameter=diameter, tubetype=tubetype, material=material, \n",
    "                xgap=xgap, ygap=ygap, zgap=zgap, numpanels=numpanels, \n",
    "                cellLevelModuleParams=cellLevelModuleParams, \n",
    "                axisofrotationTorqueTube=axisofrotationTorqueTube)"
   ]
  },
  {
   "cell_type": "markdown",
   "metadata": {},
   "source": [
    "<a id='step5'></a>"
   ]
  },
  {
   "cell_type": "markdown",
   "metadata": {},
   "source": [
    "## 5. Calculate GCR\n",
    "\n",
    "In this example we passed the parameter \"pitch\". Pitch is the spacing between rows (for example, between hub-posts) in a field.\n",
    "To calculate Ground Coverage Ratio (GCR), we must relate the pitch to the collector-width by:\n",
    "    \n",
    "![GCR = CW / pitch](../images_wiki/Journal3Pics/Equation_GCR.png)\n",
    "\n",
    "The collector width for our system must consider the number of panels and the y-gap:\n",
    "    \n",
    "![CW](../images_wiki/Journal3Pics/Equation_CW.png)\n",
    "    \n",
    "Collector Width gets saved in your module parameters (and later on your scene and trackerdict) as \"sceney\". You can calculate your collector width with the equation, or you can use this method to know your GCR:"
   ]
  },
  {
   "cell_type": "code",
   "execution_count": 21,
   "metadata": {},
   "outputs": [
    {
     "name": "stdout",
     "output_type": "stream",
     "text": [
      "The GCR is : 0.4284\n"
     ]
    }
   ],
   "source": [
    "# For more options on makemodule, see the help description of the function.  \n",
    "CW = mymodule['sceney']\n",
    "gcr = CW / pitch\n",
    "print (\"The GCR is :\", gcr)"
   ]
  },
  {
   "cell_type": "markdown",
   "metadata": {},
   "source": [
    "<a id='step6'></a>"
   ]
  },
  {
   "cell_type": "markdown",
   "metadata": {},
   "source": [
    "## 6. Set Tracking Angles\n",
    "\n",
    "This function will read the weather file, and based on the sun position it will calculate the angle the tracker should be at for each hour. It will create metdata files for each of the tracker angles considered.\n",
    "\n",
    "For doing hourly simulations, remember to set cumulativesky = False here!"
   ]
  },
  {
   "cell_type": "code",
   "execution_count": 7,
   "metadata": {},
   "outputs": [
    {
     "name": "stderr",
     "output_type": "stream",
     "text": [
      "C:\\ProgramData\\Anaconda3\\lib\\site-packages\\pvlib\\tracking.py:449: RuntimeWarning: invalid value encountered in arccos\n",
      "  wc = np.degrees(np.arccos(temp))\n",
      "C:\\ProgramData\\Anaconda3\\lib\\site-packages\\pvlib\\tracking.py:473: RuntimeWarning: invalid value encountered in arccos\n",
      "  aoi = np.degrees(np.arccos(np.abs(np.sum(sun_vec*panel_norm, axis=0))))\n",
      "C:\\ProgramData\\Anaconda3\\lib\\site-packages\\pvlib\\tracking.py:568: RuntimeWarning: invalid value encountered in remainder\n",
      "  surface_azimuth = surface_azimuth % 360\n",
      "C:\\ProgramData\\Anaconda3\\lib\\site-packages\\pvlib\\tracking.py:572: RuntimeWarning: invalid value encountered in arccos\n",
      "  surface_tilt = 90 - np.degrees(np.arccos(dotproduct))\n"
     ]
    }
   ],
   "source": [
    "trackerdict = demo.set1axis(metdata = metdata, limit_angle = limit_angle, backtrack = backtrack, \n",
    "                            gcr = gcr, cumulativesky = cumulativesky)"
   ]
  },
  {
   "cell_type": "code",
   "execution_count": 8,
   "metadata": {
    "scrolled": true
   },
   "outputs": [
    {
     "name": "stdout",
     "output_type": "stream",
     "text": [
      "Full trackerdict for all the year created by set1axis: 4245 \n"
     ]
    }
   ],
   "source": [
    "print (\"Full trackerdict for all the year created by set1axis: %s \" % (len(demo.trackerdict))) \n"
   ]
  },
  {
   "cell_type": "markdown",
   "metadata": {},
   "source": [
    "set1axis initializes the trackerdictionary Trackerdict. Trackerdict contains all hours in the year as keys. For example: trackerdict['12_16_08']. It is a return variable on many of the 1axis functions, but it is also stored inside of your Radiance Obj (i.e. demo.trackerdict). In this journal we are storing it as a variable to mute the option (otherwise it prints the returned trackerdict contents every time)\n"
   ]
  },
  {
   "cell_type": "code",
   "execution_count": 9,
   "metadata": {},
   "outputs": [
    {
     "name": "stdout",
     "output_type": "stream",
     "text": [
      "{'dhi': 18, 'ghi': 18, 'surf_azm': 90.0, 'surf_tilt': 13.22, 'theta': -13.22}\n"
     ]
    }
   ],
   "source": [
    "pprint.pprint(trackerdict['12_16_08'])\n"
   ]
  },
  {
   "cell_type": "code",
   "execution_count": 10,
   "metadata": {},
   "outputs": [
    {
     "name": "stdout",
     "output_type": "stream",
     "text": [
      "{'dhi': 18, 'ghi': 18, 'surf_azm': 90.0, 'surf_tilt': 13.22, 'theta': -13.22}\n"
     ]
    }
   ],
   "source": [
    "pprint.pprint(demo.trackerdict['12_16_08'])"
   ]
  },
  {
   "cell_type": "markdown",
   "metadata": {},
   "source": [
    "All of the following functions add up elements to trackerdictionary to keep track (ba-dum tupzz) of the Scene and simulation parameters. In advanced journals we will explore the inner structure of trackerdict. For now, just now it exists :)"
   ]
  },
  {
   "cell_type": "markdown",
   "metadata": {},
   "source": [
    "<a id='step7'></a>"
   ]
  },
  {
   "cell_type": "markdown",
   "metadata": {},
   "source": [
    "## 7. Generate the Sky\n",
    "\n",
    "\n",
    "We will create skies for each hour we want to model with the function gendaylit1axis. \n",
    "\n",
    "If you don't specify a startdate and enddate, all the year will be created, which will take more time. \n",
    "\n",
    "For this example we are doing just two days in January. Format has to be a 'MM_DD' or 'MM/DD'"
   ]
  },
  {
   "cell_type": "code",
   "execution_count": 11,
   "metadata": {},
   "outputs": [
    {
     "name": "stdout",
     "output_type": "stream",
     "text": [
      "Creating ~4000 skyfiles.  Takes 1-2 minutes\n",
      "Created 20 skyfiles in /skies/\n"
     ]
    }
   ],
   "source": [
    "startdate = '01/13'     \n",
    "enddate = '01/14'\n",
    "trackerdict = demo.gendaylit1axis(startdate=startdate, enddate=enddate) "
   ]
  },
  {
   "cell_type": "markdown",
   "metadata": {},
   "source": [
    "Since we passed startdate and enddate to gendaylit, it will prune our trackerdict to only the desired days.\n",
    "Let's explore our trackerdict:"
   ]
  },
  {
   "cell_type": "code",
   "execution_count": 12,
   "metadata": {},
   "outputs": [
    {
     "name": "stdout",
     "output_type": "stream",
     "text": [
      "\n",
      "Trimmed trackerdict by gendaylit1axis to start and enddate length: 20 \n",
      "\n",
      "Option of hours are:  ['01_13_08', '01_13_09', '01_13_10', '01_13_11', '01_13_12', '01_13_13', '01_13_14', '01_13_15', '01_13_16', '01_13_17', '01_14_08', '01_14_09', '01_14_10', '01_14_11', '01_14_12', '01_14_13', '01_14_14', '01_14_15', '01_14_16', '01_14_17']\n",
      "\n",
      "Contents of trackerdict for sample hour:\n",
      "{'dhi': 15,\n",
      " 'ghi': 15,\n",
      " 'skyfile': 'skies\\\\sky2_37.5_-77.33_01_13_08.rad',\n",
      " 'surf_azm': 90.0,\n",
      " 'surf_tilt': 10.34,\n",
      " 'theta': -10.34}\n"
     ]
    }
   ],
   "source": [
    "print (\"\\nTrimmed trackerdict by gendaylit1axis to start and enddate length: %s \" % (len(trackerdict)))\n",
    "print (\"\")\n",
    "trackerkeys = sorted(trackerdict.keys())\n",
    "print (\"Option of hours are: \", trackerkeys)\n",
    "print (\"\")\n",
    "print (\"Contents of trackerdict for sample hour:\")\n",
    "pprint.pprint(trackerdict[trackerkeys[0]])"
   ]
  },
  {
   "cell_type": "markdown",
   "metadata": {},
   "source": [
    "<a id='step8'></a>"
   ]
  },
  {
   "cell_type": "markdown",
   "metadata": {},
   "source": [
    "## 8. Make Scene 1axis\n",
    "\n",
    "We can use gcr or pitch fo our scene dictionary."
   ]
  },
  {
   "cell_type": "code",
   "execution_count": 13,
   "metadata": {},
   "outputs": [
    {
     "name": "stdout",
     "output_type": "stream",
     "text": [
      "\n",
      "Making ~20 .rad files for gendaylit 1-axis workflow (this takes a minute..)\n",
      "Used the first sceneDict2\n",
      "5\n",
      "pitch 2 5\n",
      "gcr  0.8568\n",
      "Used the first sceneDict2\n",
      "5\n",
      "pitch 2 5\n",
      "gcr  0.8568\n",
      "Used the first sceneDict2\n",
      "5\n",
      "pitch 2 5\n",
      "gcr  0.8568\n",
      "Used the first sceneDict2\n",
      "5\n",
      "pitch 2 5\n",
      "gcr  0.8568\n",
      "Used the first sceneDict2\n",
      "5\n",
      "pitch 2 5\n",
      "gcr  0.8568\n",
      "Used the first sceneDict2\n",
      "5\n",
      "pitch 2 5\n",
      "gcr  0.8568\n",
      "Used the first sceneDict2\n",
      "5\n",
      "pitch 2 5\n",
      "gcr  0.8568\n",
      "Used the first sceneDict2\n",
      "5\n",
      "pitch 2 5\n",
      "gcr  0.8568\n",
      "Used the first sceneDict2\n",
      "5\n",
      "pitch 2 5\n",
      "gcr  0.8568\n",
      "Used the first sceneDict2\n",
      "5\n",
      "pitch 2 5\n",
      "gcr  0.8568\n",
      "Used the first sceneDict2\n",
      "5\n",
      "pitch 2 5\n",
      "gcr  0.8568\n",
      "Used the first sceneDict2\n",
      "5\n",
      "pitch 2 5\n",
      "gcr  0.8568\n",
      "Used the first sceneDict2\n",
      "5\n",
      "pitch 2 5\n",
      "gcr  0.8568\n",
      "Used the first sceneDict2\n",
      "5\n",
      "pitch 2 5\n",
      "gcr  0.8568\n",
      "Used the first sceneDict2\n",
      "5\n",
      "pitch 2 5\n",
      "gcr  0.8568\n",
      "Used the first sceneDict2\n",
      "5\n",
      "pitch 2 5\n",
      "gcr  0.8568\n",
      "Used the first sceneDict2\n",
      "5\n",
      "pitch 2 5\n",
      "gcr  0.8568\n",
      "Used the first sceneDict2\n",
      "5\n",
      "pitch 2 5\n",
      "gcr  0.8568\n",
      "Used the first sceneDict2\n",
      "5\n",
      "pitch 2 5\n",
      "gcr  0.8568\n",
      "Used the first sceneDict2\n",
      "5\n",
      "pitch 2 5\n",
      "gcr  0.8568\n",
      "20 Radfiles created in /objects/\n"
     ]
    }
   ],
   "source": [
    "# making the different scenes for the 1-axis tracking for the dates in trackerdict2.\n",
    "\n",
    "sceneDict = {'pitch': pitch,'hub_height':hub_height, 'nMods':nMods, 'nRows': nRows}  \n",
    "\n",
    "trackerdict = demo.makeScene1axis(trackerdict = trackerdict, moduletype = moduletype, sceneDict = sceneDict) "
   ]
  },
  {
   "cell_type": "code",
   "execution_count": 14,
   "metadata": {},
   "outputs": [
    {
     "name": "stdout",
     "output_type": "stream",
     "text": [
      "{'clearance_height': 1.9155344488542871,\n",
      " 'dhi': 15,\n",
      " 'ghi': 15,\n",
      " 'radfile': 'objects\\\\1axis01_13_08_1.915_5_10.34_20x7_origin0,0.rad',\n",
      " 'scene': <bifacial_radiance.main.SceneObj object at 0x000001D89CD4D128>,\n",
      " 'skyfile': 'skies\\\\sky2_37.5_-77.33_01_13_08.rad',\n",
      " 'surf_azm': 90.0,\n",
      " 'surf_tilt': 10.34,\n",
      " 'theta': -10.34}\n"
     ]
    }
   ],
   "source": [
    "pprint.pprint(trackerdict[trackerkeys[0]])"
   ]
  },
  {
   "cell_type": "markdown",
   "metadata": {},
   "source": [
    "The scene parameteres are now stored in the trackerdict. To view them and to access them:\n",
    "    "
   ]
  },
  {
   "cell_type": "code",
   "execution_count": 16,
   "metadata": {},
   "outputs": [
    {
     "name": "stdout",
     "output_type": "stream",
     "text": [
      "pitch = 5\n",
      "CW =  4.284\n",
      "gcr =  0.2092\n",
      "Note: Passed gcr to the sceneDict. Printing trackerdict after makeScene1axis\n",
      "{'bifi': 1,\n",
      " 'gcr': 0.8568,\n",
      " 'moduleDict': {'bifi': 1,\n",
      "                'cellModule': {'numcellsx': 6,\n",
      "                               'numcellsy': 12,\n",
      "                               'xcell': 0.156,\n",
      "                               'xcellgap': 0.02,\n",
      "                               'ycell': 0.156,\n",
      "                               'ycellgap': 0.02},\n",
      "                'modulefile': 'objects\\\\Custom_Cell-Level_Module.rad',\n",
      "                'numpanels': 2,\n",
      "                'offsetfromaxis': 0,\n",
      "                'scenex': 1.046,\n",
      "                'sceney': 4.284,\n",
      "                'scenez': 0.1,\n",
      "                'text': '! genbox black cellPVmodule 0.156 0.156 0.02 | xform '\n",
      "                        '-t -0.44 -2.142 0 -a 6 -t 0.176 0 0 -a 12 -t 0 0.176 '\n",
      "                        '0 -a 2 -t 0 2.192 0\\r\\n'\n",
      "                        '! genbox black octtube1a 1.046 0.04142135623730951 '\n",
      "                        '0.1 | xform -t -0.523 -0.020710678118654756 '\n",
      "                        '-0.15000000000000002\\r\\n'\n",
      "                        '! genbox black octtube1b 1.046 0.04142135623730951 '\n",
      "                        '0.1 | xform -t -0.445 -0.020710678118654756 -0.05 -rx '\n",
      "                        '45 -t 0 0 -0.1\\r\\n'\n",
      "                        '! genbox black octtube1c 1.046 0.04142135623730951 '\n",
      "                        '0.1 | xform -t -0.445 -0.020710678118654756 -0.05 -rx '\n",
      "                        '90 -t 0 0 -0.1\\r\\n'\n",
      "                        '! genbox black octtube1d 1.046 0.04142135623730951 '\n",
      "                        '0.1 | xform -t -0.445 -0.020710678118654756 -0.05 -rx '\n",
      "                        '135 -t 0 0 -0.1 ',\n",
      "                'torquetube': {'bool': True,\n",
      "                               'diameter': 0.1,\n",
      "                               'material': 'black',\n",
      "                               'tubetype': 'Oct'},\n",
      "                'x': 1.036,\n",
      "                'xgap': 0.01,\n",
      "                'y': 2.092,\n",
      "                'ygap': 0.1,\n",
      "                'zgap': 0.05},\n",
      " 'modulefile': 'objects\\\\Custom_Cell-Level_Module.rad',\n",
      " 'moduletype': 'Custom Cell-Level Module',\n",
      " 'offsetfromaxis': 0,\n",
      " 'radfiles': 'objects\\\\1axis01_13_13_2.097_5_-5.43_20x7_origin0,0.rad',\n",
      " 'scene': <bifacial_radiance.main.SceneObj object at 0x000001D89E27B4A8>,\n",
      " 'sceneDict': {'axis_tilt': 0,\n",
      "               'azimuth': 90.0,\n",
      "               'clearance_height': 2.0973034494498664,\n",
      "               'nMods': 20,\n",
      "               'nRows': 7,\n",
      "               'originx': 0,\n",
      "               'originy': 0,\n",
      "               'pitch': 5,\n",
      "               'tilt': -5.43},\n",
      " 'scenex': 1.046,\n",
      " 'sceney': 4.284,\n",
      " 'text': '!xform -rx -5.43 -t 0 0 2.3 -a 20 -t 1.046 0 0 -a 7 -t 0 5 0 -i 1 -t '\n",
      "         '-9.414 -15.0 0 -rz 90.0 -t 0 0 0 '\n",
      "         'objects\\\\Custom_Cell-Level_Module.rad',\n",
      " 'x': 1.036,\n",
      " 'y': 2.092}\n"
     ]
    }
   ],
   "source": [
    "print (\"pitch =\", pitch)\n",
    "print (\"CW = \", mymodule['sceney'])\n",
    "print (\"gcr = \", gcr)\n",
    "print (\"Note: Passed gcr to the sceneDict. Printing trackerdict after makeScene1axis\")\n",
    "pprint.pprint(demo.trackerdict[trackerkeys[5]]['scene'].__dict__)"
   ]
  },
  {
   "cell_type": "code",
   "execution_count": null,
   "metadata": {},
   "outputs": [],
   "source": [
    "pprint.pprint(demo.trackerdict[trackerkeys[0]]['scene'].scene.__dict__)"
   ]
  },
  {
   "cell_type": "code",
   "execution_count": null,
   "metadata": {},
   "outputs": [],
   "source": [
    "print (\"\\nTrimmed trackerdict by gendaylit1axis to start and enddate length: %s \" % (len(trackerdict)))\n",
    "print (\"\")\n",
    "print (\"Contents of trackerdict for sample hour: %s \" % ( trackerdict[trackerkeys[0]]))\n"
   ]
  },
  {
   "cell_type": "markdown",
   "metadata": {},
   "source": [
    "#### Run one single index (super fast example):"
   ]
  },
  {
   "cell_type": "code",
   "execution_count": null,
   "metadata": {},
   "outputs": [],
   "source": [
    "# Now this is the part that takes a long time, and will probably require parallel computing for doing more time points or the full year. \n",
    "# For this example we just run one hourly point:\n",
    "\n",
    "demo2.makeOct1axis(trackerdict2,singleindex='01_01_11')\n",
    "\n",
    "# This is for exemplifying the changes undergone in the trackerdict by each step. Just printing information.\n",
    "print (\"\\n Contents of trackerdict for sample hour after makeOct1axis: \\n trackerdict2['01_01_11']: \\n %s \\n\" % ( trackerdict2['01_01_11']))\n",
    "\n",
    "demo2.analysis1axis(trackerdict2,singleindex='01_01_11')\n",
    "\n",
    "# This is for exemplifying the changes undergone in the trackerdict by each step. Just printing information.\n",
    "print (\"\\n Contents of trackerdict for sample hour after makeOct1axis: \\n trackerdict2['01_01_11']: \\n %s \\n\" % ( trackerdict2['01_01_11']))\n",
    "\n",
    "# Printing the results.\n",
    "print('\\n\\n1-axis tracking hourly bifi gain: {:0.3}'.format(sum(demo2.Wm2Back) / sum(demo2.Wm2Front)))\n",
    "\n"
   ]
  },
  {
   "cell_type": "markdown",
   "metadata": {},
   "source": [
    "#### Run a range of indexes: (not as fast as a single index, not as slow as all!)\n"
   ]
  },
  {
   "cell_type": "markdown",
   "metadata": {},
   "source": []
  },
  {
   "cell_type": "code",
   "execution_count": null,
   "metadata": {},
   "outputs": [],
   "source": [
    "for time in ['01_01_11','01_01_12']:  # just two timepoints\n",
    "    demo2.makeOct1axis(trackerdict2,singleindex=time)\n",
    "    demo2.analysis1axis(trackerdict2,singleindex=time)\n",
    "\n",
    "print('1-axis tracking hourly bifi gain: {:0.3}'.format(sum(demo2.Wm2Back) / sum(demo2.Wm2Front)))"
   ]
  },
  {
   "cell_type": "markdown",
   "metadata": {},
   "source": [
    "#### Run the full trackingdictionary...\n",
    "(this might considerably more time, depending on the number of entries on the trackerdictionary! You've been warned) \n"
   ]
  },
  {
   "cell_type": "code",
   "execution_count": null,
   "metadata": {},
   "outputs": [],
   "source": [
    "demo2.makeOct1axis(trackerdict2,singleindex=time)\n",
    "demo2.analysis1axis(trackerdict2,singleindex=time)\n",
    "print('1-axis tracking hourly bifi gain: {:0.3}'.format(sum(demo2.Wm2Back) / sum(demo2.Wm2Front)))\n"
   ]
  },
  {
   "cell_type": "markdown",
   "metadata": {},
   "source": [
    "### Gendaylit for the WHOLE Year\n",
    "And because you asked: this is the summarized version to run with gendaylit the WHOLE year. \n",
    "#### This will take ~4 days on a really good computer. IF you're sure this is what you want, uncomment and run below :)"
   ]
  },
  {
   "cell_type": "code",
   "execution_count": null,
   "metadata": {},
   "outputs": [],
   "source": [
    "'''\n",
    "demo2 = RadianceObj('Gendaylit_AllYear_Tracking',testfolder)  \n",
    "demo2.setGround(0.2) \n",
    "epwfile = demo2.getEPW(37.5,-77.6) #pull TMY data for any global lat/lon\n",
    "metdata = demo2.readEPW(epwfile) # read in the weather data   \n",
    "module_type = 'Prism Solar Bi60'\n",
    "sceneDict = {'pitch':1.695 / 0.33,'height':2.35, 'nMods': 20, 'nRows': 7}  \n",
    "trackerdict2 = demo2.set1axis(cumulativesky = False)  # this cumulativesky = False key is crucial to set up the hourly workflow\n",
    "trackerdict2 = demo2.gendaylit1axis()  # optional parameters 'startdate', 'enddate' inputs = string 'MM/DD' or 'MM_DD' \n",
    "trackerdict2 = demo2.makeScene1axis(trackerdict2, module_type,sceneDict, cumulativesky = False) #makeScene creates a .rad file with 20 modules per row, 7 rows.\n",
    "demo2.makeOct1axis(trackerdict2)\n",
    "demo2.analysis1axis(trackerdict2)\n",
    "'''"
   ]
  }
 ],
 "metadata": {
  "anaconda-cloud": {},
  "kernelspec": {
   "display_name": "Python 3",
   "language": "python",
   "name": "python3"
  },
  "language_info": {
   "codemirror_mode": {
    "name": "ipython",
    "version": 3
   },
   "file_extension": ".py",
   "mimetype": "text/x-python",
   "name": "python",
   "nbconvert_exporter": "python",
   "pygments_lexer": "ipython3",
   "version": "3.7.3"
  }
 },
 "nbformat": 4,
 "nbformat_minor": 1
}
