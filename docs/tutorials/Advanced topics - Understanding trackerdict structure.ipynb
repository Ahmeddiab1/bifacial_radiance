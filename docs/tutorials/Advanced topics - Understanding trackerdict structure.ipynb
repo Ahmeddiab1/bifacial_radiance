{
 "cells": [
  {
   "cell_type": "code",
   "execution_count": null,
   "metadata": {},
   "outputs": [],
   "source": [
    "demo.__dict__\n",
    "demo.trackerdict[-5.0]\n",
    "demo.trackerdict[-5.0]['scene'].__dict__\n",
    "demo.trackerdict[-5.0]['scene']\n",
    "demo.trackerdict[-5.0]['scene'].__dict__\n",
    "demo.trackerdict[-5.0]['scene'].scenex\n",
    "demo.trackerdict[-5.0]['scene'].sceneDict\n",
    "demo.trackerdict[-5.0]['scene'].sceneDict['tilt']\n",
    "\n",
    "demo.trackerdict[-5.0]['AnalysisObj']\n",
    "demo.trackerdict[-5.0]['AnalysisObj'].__dict__\n",
    "demo.trackerdict[-5.0]['AnalysisObj'].mattype\n",
    "\n",
    "demo.trackerdict[0.0]['scene'].scene.__dict__\n",
    "\n",
    "#  THREE WAYS OF CALLING THE SAME THING:\n",
    "demo.trackerdict[-5.0]['scene'].scenex\n",
    "demo.trackerdict[-5.0]['scene'].moduleDict['scenex']\n",
    "demo.trackerdict[0.0]['scene'].scene.scenex"
   ]
  },
  {
   "cell_type": "code",
   "execution_count": null,
   "metadata": {},
   "outputs": [],
   "source": [
    "\n",
    "# Different save options\n",
    "demo.exportTrackerDict(trackerdict = demo.trackerdict, savefile = 'results\\\\test_reindexTrue.csv', reindex = False)\n",
    "demo.save(savefile = 'results\\\\demopickle.pickle')\n"
   ]
  }
 ],
 "metadata": {
  "kernelspec": {
   "display_name": "Python 3",
   "language": "python",
   "name": "python3"
  },
  "language_info": {
   "codemirror_mode": {
    "name": "ipython",
    "version": 3
   },
   "file_extension": ".py",
   "mimetype": "text/x-python",
   "name": "python",
   "nbconvert_exporter": "python",
   "pygments_lexer": "ipython3",
   "version": "3.7.3"
  }
 },
 "nbformat": 4,
 "nbformat_minor": 2
}
