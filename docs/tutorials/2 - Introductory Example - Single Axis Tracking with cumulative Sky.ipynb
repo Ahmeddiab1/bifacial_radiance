{
 "cells": [
  {
   "cell_type": "markdown",
   "metadata": {},
   "source": [
    "## 2 - Introductory Example - 1-Axis tracker with cumulative sky\n",
    "\n",
    "Method <b> Gencumsky </b> has been modified to divide the yearly-cumulative sky into various skies, each one representing the cumulative irradiance for the hours at which the tracker is at a certain angle. For faster running, for a tracker that moves between 45 and -45 degrees limit angle, if only positions every 5 degrees are considered (45, 40, 35 .... -4-, -45), then only 18 skies (and 18 simulations) will be run for the whole year.\n",
    "\n",
    "![Example of the hemisphere cumulative sky](../images_wiki/Journal2Pics/tracking_cumulativesky.png)\n",
    "\n",
    "\n",
    "This procedure was presented in:\n",
    "\n",
    "Ayala Pelaez S, Deline C, Greenberg P, Stein JS, Kostuk RK. Model and validation of single-axis tracking with bifacial PV. IEEE J Photovoltaics. 2019;9(3):715–21. https://ieeexplore.ieee.org/document/8644027 and https://www.nrel.gov/docs/fy19osti/72039.pdf (pre-print, conference version)\n",
    "\n",
    "\n",
    "### Steps:\n",
    "<ol>\n",
    "    <li> <a href='#step1'> Create a folder for your simulation, and Load bifacial_radiance </a></li> \n",
    "    <li> <a href='#step2'> Create a Radiance Object </a></li> \n",
    "    <li> <a href='#step3'> Set the Albedo </a></li> \n",
    "    <li> <a href='#step4'> Download Weather Files </a></li>    \n",
    "    <ul> (VERY SIMILAR TO FIXED TILT EXAMPLE UNTIL HERE) </ul> \n",
    "    <li> <a href='#step5'> Set Tracking Angles </a></li> \n",
    "    <li> <a href='#step6'> Generate the Sky </a></li> \n",
    "    <li> <a href='#step7'> Define a Module type </a></li> \n",
    "    <li> <a href='#step8'> Create the scene </a></li> \n",
    "    <li> <a href='#step9'> Combine Ground, Sky and Scene Objects </a></li> \n",
    "    <li> <a href='#step10'> Analyze and get results </a></li> \n",
    "    <li> <a href='#step11'> Clean Results </a></li>   \n",
    "   \n",
    "</ol>\n",
    "\n",
    "And finally:  <ul> <a href='#condensed'> Condensed instructions </a></ul>   "
   ]
  },
  {
   "cell_type": "markdown",
   "metadata": {},
   "source": [
    "<a id='step1'></a>"
   ]
  },
  {
   "cell_type": "markdown",
   "metadata": {},
   "source": [
    "\n",
    "## 1. Create a folder for your simulation, and load bifacial_radiance \n",
    "\n",
    "First let's set the folder where the simulation will be saved. By default, this is the TEMP folder in the bifacial_radiance distribution.\n",
    "\n",
    "The lines below find the location of the folder relative to this Jupyter Journa. You can alternatively point to an empty directory (it will open a load GUI Visual Interface) or specify any other directory in your computer, for example:\n",
    "\n",
    "#### testfolder = r'C:\\Users\\sayala\\Documents\\RadianceScenes\\Tutorials\\Journal2'\n",
    "\n"
   ]
  },
  {
   "cell_type": "code",
   "execution_count": 1,
   "metadata": {},
   "outputs": [
    {
     "name": "stdout",
     "output_type": "stream",
     "text": [
      "Your simulation will be stored in C:\\Users\\sayala\\Documents\\GitHub\\bifacial_radiance\\bifacial_radiance\\TEMP\n"
     ]
    }
   ],
   "source": [
    "import os\n",
    "testfolder = os.path.abspath(r'..\\..\\bifacial_radiance\\TEMP')  \n",
    "\n",
    "print (\"Your simulation will be stored in %s\" % testfolder)"
   ]
  },
  {
   "cell_type": "markdown",
   "metadata": {},
   "source": [
    "This will load bifacial_radiance and other libraries from python that will be useful for this Jupyter Journal:"
   ]
  },
  {
   "cell_type": "code",
   "execution_count": 2,
   "metadata": {},
   "outputs": [],
   "source": [
    "from bifacial_radiance import *\n",
    "import numpy as np"
   ]
  },
  {
   "cell_type": "markdown",
   "metadata": {},
   "source": [
    "<a id='step2'></a>"
   ]
  },
  {
   "cell_type": "markdown",
   "metadata": {},
   "source": [
    "## 2. Create a Radiance Object"
   ]
  },
  {
   "cell_type": "code",
   "execution_count": 3,
   "metadata": {},
   "outputs": [
    {
     "name": "stdout",
     "output_type": "stream",
     "text": [
      "path = C:\\Users\\sayala\\Documents\\GitHub\\bifacial_radiance\\bifacial_radiance\\TEMP\n"
     ]
    }
   ],
   "source": [
    "# Create a RadianceObj 'object' named bifacial_example. no whitespace allowed\n",
    "demo = RadianceObj('bifacial_tracking_example', path = testfolder)  "
   ]
  },
  {
   "cell_type": "markdown",
   "metadata": {},
   "source": [
    "This will create all the folder structure of the bifacial_radiance Scene in the designated testfolder in your computer, and it should look like this:\n",
    "\n",
    "\n",
    "![Folder Structure](../images_wiki/Journal1Pics/folderStructure.png)"
   ]
  },
  {
   "cell_type": "markdown",
   "metadata": {},
   "source": [
    "<a id='step3'></a>"
   ]
  },
  {
   "cell_type": "markdown",
   "metadata": {},
   "source": [
    "## 3. Set the Albedo"
   ]
  },
  {
   "cell_type": "markdown",
   "metadata": {},
   "source": [
    "To see more options of ground materials available (located on ground.rad), run this function without any input. "
   ]
  },
  {
   "cell_type": "code",
   "execution_count": 4,
   "metadata": {},
   "outputs": [
    {
     "name": "stdout",
     "output_type": "stream",
     "text": [
      "Input albedo 0-1, or ground material names:['black', 'litesoil', 'concrete', 'white_EPDM', 'beigeroof', 'beigeroof_lite', 'beigeroof_heavy', 'asphalt', 'greyroof', 'Metal_Aluminum_Anodized', 'Color_I11', 'M_0010_Snow', 'Metal_Grey']\n"
     ]
    }
   ],
   "source": [
    "# Input albedo number or material name like 'concrete'.  \n",
    "demo.setGround()  # This prints available materials."
   ]
  },
  {
   "cell_type": "markdown",
   "metadata": {},
   "source": [
    "If a number between 0 and 1 is passed, it assumes it's an albedo value. For this example, we want a natural-ground albedo value, so we'll use 0.25"
   ]
  },
  {
   "cell_type": "code",
   "execution_count": 5,
   "metadata": {},
   "outputs": [],
   "source": [
    "albedo = 0.25\n",
    "demo.setGround(albedo)"
   ]
  },
  {
   "cell_type": "markdown",
   "metadata": {},
   "source": [
    "<a id='step4'></a>"
   ]
  },
  {
   "cell_type": "markdown",
   "metadata": {},
   "source": [
    "## 4. Download and Load Weather Files\n",
    "\n",
    "There are various options provided in bifacial_radiance to load weatherfiles. getEPW is useful because you just set the latitude and longitude of the location and it donwloads the meteorologicla data for any location. "
   ]
  },
  {
   "cell_type": "code",
   "execution_count": 6,
   "metadata": {
    "scrolled": false
   },
   "outputs": [
    {
     "name": "stdout",
     "output_type": "stream",
     "text": [
      "Getting weather file: USA_VA_Richmond.Intl.AP.724010_TMY.epw\n",
      " ... OK!\n"
     ]
    }
   ],
   "source": [
    "# Pull in meteorological data using pyEPW for any global lat/lon\n",
    "epwfile = demo.getEPW(lat = 37.5, lon = -77.6)  # This location corresponds to Richmond, VA."
   ]
  },
  {
   "cell_type": "markdown",
   "metadata": {},
   "source": [
    "The downloaded EPW will be in the EPWs folder.\n",
    "\n",
    "To load the data, use readWeatherFile. This reads EPWs, TMY meterological data, or even your own data as long as it follows TMY data format (With any time resoultion)."
   ]
  },
  {
   "cell_type": "code",
   "execution_count": 7,
   "metadata": {},
   "outputs": [],
   "source": [
    "# Read in the weather data pulled in above. \n",
    "metdata = demo.readWeatherFile(weatherFile = epwfile) "
   ]
  },
  {
   "cell_type": "markdown",
   "metadata": {},
   "source": [
    "## TRACKING Workflow"
   ]
  },
  {
   "cell_type": "markdown",
   "metadata": {},
   "source": [
    "<a id='step5'></a>"
   ]
  },
  {
   "cell_type": "markdown",
   "metadata": {},
   "source": [
    "Until now, all the steps looked the same from Tutorial 1. The following section follows similar steps, but the functions are specific for working with single axis tracking.\n",
    "\n",
    "## 5. Set Tracking Angles\n",
    "\n",
    "This function will read the weather file, and based on the sun position it will calculate the angle the tracker should be at for each hour. It will create metdata files for each of the tracker angles considered."
   ]
  },
  {
   "cell_type": "code",
   "execution_count": 8,
   "metadata": {},
   "outputs": [
    {
     "name": "stderr",
     "output_type": "stream",
     "text": [
      "C:\\ProgramData\\Anaconda3\\lib\\site-packages\\pvlib\\tracking.py:449: RuntimeWarning: invalid value encountered in arccos\n",
      "  wc = np.degrees(np.arccos(temp))\n",
      "C:\\ProgramData\\Anaconda3\\lib\\site-packages\\pvlib\\tracking.py:473: RuntimeWarning: invalid value encountered in arccos\n",
      "  aoi = np.degrees(np.arccos(np.abs(np.sum(sun_vec*panel_norm, axis=0))))\n",
      "C:\\ProgramData\\Anaconda3\\lib\\site-packages\\pvlib\\tracking.py:568: RuntimeWarning: invalid value encountered in remainder\n",
      "  surface_azimuth = surface_azimuth % 360\n",
      "C:\\ProgramData\\Anaconda3\\lib\\site-packages\\pvlib\\tracking.py:572: RuntimeWarning: invalid value encountered in arccos\n",
      "  surface_tilt = 90 - np.degrees(np.arccos(dotproduct))\n"
     ]
    },
    {
     "name": "stdout",
     "output_type": "stream",
     "text": [
      "Saving file EPWs\\1axis_-5.0.csv, # points: 2215\n",
      "Saving file EPWs\\1axis_0.0.csv, # points: 81\n",
      "Saving file EPWs\\1axis_5.0.csv, # points: 2087\n"
     ]
    }
   ],
   "source": [
    "limit_angle = 5 # tracker rotation limit angle. Setting it ridiculously small so this runs faster.\n",
    "angledelta = 5 # sampling between the limit angles. \n",
    "backtrack = True\n",
    "gcr = 0.33\n",
    "cumulativesky = True # This is important for this example!\n",
    "trackerdict = demo.set1axis(metdata = metdata, limit_angle = limit_angle, backtrack = backtrack, \n",
    "                            gcr = gcr, cumulativesky = cumulativesky)"
   ]
  },
  {
   "cell_type": "markdown",
   "metadata": {},
   "source": [
    "Setting backtrack to True is important in this step, so the trackers correct for self-shading when following the sun at high zenith angles. "
   ]
  },
  {
   "cell_type": "markdown",
   "metadata": {},
   "source": [
    "<a id='step6'></a>"
   ]
  },
  {
   "cell_type": "markdown",
   "metadata": {},
   "source": [
    "## 6. Generate the Sky\n",
    "\n",
    "This will create the skies for each sub-metdata file created by set1axis.\n"
   ]
  },
  {
   "cell_type": "code",
   "execution_count": 9,
   "metadata": {},
   "outputs": [
    {
     "name": "stdout",
     "output_type": "stream",
     "text": [
      "message: There were 2110 sun up hours in this climate file\n",
      "Total Ibh/Lbh: 0.000000\n",
      "Created skyfile skies\\1axis_-5.0.rad\n",
      "message: There were 13 sun up hours in this climate file\n",
      "Total Ibh/Lbh: 0.000000\n",
      "Created skyfile skies\\1axis_0.0.rad\n",
      "message: There were 2067 sun up hours in this climate file\n",
      "Total Ibh/Lbh: 0.000000\n",
      "Created skyfile skies\\1axis_5.0.rad\n"
     ]
    }
   ],
   "source": [
    "trackerdict = demo.genCumSky1axis(trackerdict = trackerdict)"
   ]
  },
  {
   "cell_type": "markdown",
   "metadata": {},
   "source": [
    "This is how one of the cumulative sky .cal files associated with each .rad file generated look like: \n",
    "\n",
    "![Example of the gencumsky1axis](../images_wiki/Journal2Pics/gencumsky1axis_example_file_structure_and_contents.png)\n",
    "\n",
    "\n",
    "Each of the values corresponds to the cumulative rradiance of one of those patches, for when the tracker is at that specific angle through the year."
   ]
  },
  {
   "cell_type": "markdown",
   "metadata": {},
   "source": [
    "<a id='step7'></a>"
   ]
  },
  {
   "cell_type": "markdown",
   "metadata": {},
   "source": [
    "## 7. Define the Module type\n",
    "\n",
    "Let's make a more interesting module in this example. Let's do 2-up configuration in portrait, with the modules rotating around a 10 centimeter round torque tube. Let's add a gap between the two modules in 2-UP of 10 centimeters, as well as gap between the torque tube and the modules of 5 centimeters. Along the row, the modules are separated only 2 centimeters for this example. The torquetube is painted Metal_Grey in this example (it's one of the materials available in Ground.rad, and it is 40% reflective).\n"
   ]
  },
  {
   "cell_type": "code",
   "execution_count": 10,
   "metadata": {},
   "outputs": [
    {
     "name": "stdout",
     "output_type": "stream",
     "text": [
      "\n",
      "Module Name: Custom_Tracker_Module\n",
      "REWRITING pre-existing module file. \n",
      "Module Custom Tracker Module successfully created\n"
     ]
    },
    {
     "data": {
      "text/plain": [
       "{'x': 0.984,\n",
       " 'y': 1.7,\n",
       " 'scenex': 1.004,\n",
       " 'sceney': 3.5,\n",
       " 'scenez': 0.1,\n",
       " 'numpanels': 2,\n",
       " 'bifi': 1,\n",
       " 'text': '! genbox black Custom_Tracker_Module 0.984 1.7 0.02 | xform -t -0.492 -1.75 0.1 -a 2 -t 0 1.8 0\\r\\n! genrev Metal_Grey tube1 t*1.004 0.05 32 | xform -ry 90 -t -0.502 0 0',\n",
       " 'modulefile': 'objects\\\\Custom_Tracker_Module.rad',\n",
       " 'offsetfromaxis': 0.1,\n",
       " 'xgap': 0.02,\n",
       " 'ygap': 0.1,\n",
       " 'zgap': 0.05,\n",
       " 'cellModule': None,\n",
       " 'torquetube': {'bool': True,\n",
       "  'diameter': 0.1,\n",
       "  'tubetype': 'round',\n",
       "  'material': 'Metal_Grey'}}"
      ]
     },
     "execution_count": 10,
     "metadata": {},
     "output_type": "execute_result"
    }
   ],
   "source": [
    "x = 0.984  # meters\n",
    "y = 1.7    # meters\n",
    "moduletype = 'Custom Tracker Module'\n",
    "torquetube = True\n",
    "tubetype = 'round'\n",
    "diameter = 0.1 # diameter of the torque tube\n",
    "numpanels = 2\n",
    "axisofrotationTorqueTube = True\n",
    "zgap = 0.05\n",
    "ygap = 0.10\n",
    "xgap = 0.02\n",
    "material = 'Metal_Grey'\n",
    "\n",
    "demo.makeModule(name = moduletype, x = x, y = y, \n",
    "                torquetube = torquetube, tubetype = tubetype, material = material,\n",
    "                diameter = diameter, xgap = xgap, ygap = ygap, zgap = zgap, \n",
    "                numpanels = numpanels, axisofrotationTorqueTube = axisofrotationTorqueTube)"
   ]
  },
  {
   "cell_type": "markdown",
   "metadata": {},
   "source": [
    "<a id='step8'></a>"
   ]
  },
  {
   "cell_type": "markdown",
   "metadata": {},
   "source": [
    "## 8. Make the Scene\n",
    "\n",
    "The scene Dictionary specifies the information of the scene. For tracking, different input parameters are expected in the dictionary, such as number of rows, number of modules per row, row azimuth, hub_height (distance between the axis of rotation of the modules and the ground). "
   ]
  },
  {
   "cell_type": "code",
   "execution_count": 11,
   "metadata": {
    "scrolled": true
   },
   "outputs": [],
   "source": [
    "hub_height = 2.3\n",
    "sceneDict = {'gcr': gcr,'hub_height':hub_height, 'nMods': 20, 'nRows': 7}  \n"
   ]
  },
  {
   "cell_type": "markdown",
   "metadata": {},
   "source": [
    "To make the scene we have to create a Scene Object through the method makeScene1axis. This method will create a .rad file in the objects folder, with the parameters specified in sceneDict and the module created above."
   ]
  },
  {
   "cell_type": "code",
   "execution_count": 12,
   "metadata": {},
   "outputs": [
    {
     "name": "stdout",
     "output_type": "stream",
     "text": [
      "\n",
      "Making .rad files for cumulativesky 1-axis workflow\n",
      "3 Radfiles created in /objects/\n"
     ]
    }
   ],
   "source": [
    "trackerdict = demo.makeScene1axis(trackerdict = trackerdict, moduletype = moduletype, sceneDict = sceneDict) "
   ]
  },
  {
   "cell_type": "markdown",
   "metadata": {},
   "source": [
    "<a id='step9'></a>"
   ]
  },
  {
   "cell_type": "markdown",
   "metadata": {},
   "source": [
    "## 9. Combine Ground, Sky and Scene Objects\n",
    "\n",
    "makeOct1axis joins the sky.rad file, ground.rad file, and the geometry.rad files created in makeScene."
   ]
  },
  {
   "cell_type": "code",
   "execution_count": 13,
   "metadata": {},
   "outputs": [
    {
     "name": "stdout",
     "output_type": "stream",
     "text": [
      "\n",
      "Making 3 octfiles in root directory.\n",
      "Created 1axis_-5.0.oct\n",
      "Created 1axis_0.0.oct\n",
      "Created 1axis_5.0.oct\n"
     ]
    }
   ],
   "source": [
    "trackerdict = demo.makeOct1axis(trackerdict = trackerdict)"
   ]
  },
  {
   "cell_type": "markdown",
   "metadata": {},
   "source": [
    "<a id='step10'></a>"
   ]
  },
  {
   "cell_type": "markdown",
   "metadata": {},
   "source": [
    "## 10. Analyze and get results\n",
    "\n",
    "We can choose to analyze any module in the Scene we have created. The default, if no modWanted or rowWanted is passed, is to sample the center module of the center row. \n",
    "\n",
    "For this example we will sample row 2, module 9."
   ]
  },
  {
   "cell_type": "code",
   "execution_count": 14,
   "metadata": {},
   "outputs": [
    {
     "name": "stdout",
     "output_type": "stream",
     "text": [
      "Linescan in process: 1axis_-5.0_Row_2_Module_09_Front\n",
      "Linescan in process: 1axis_-5.0_Row_2_Module_09_Back\n",
      "Saved: results\\irr_1axis_-5.0_Row_2_Module_09.csv\n",
      "Index: -5.0. Wm2Front: 740285.6407407406. Wm2Back: 103560.38629629629\n",
      "Linescan in process: 1axis_0.0_Row_2_Module_09_Front\n",
      "Linescan in process: 1axis_0.0_Row_2_Module_09_Back\n",
      "Saved: results\\irr_1axis_0.0_Row_2_Module_09.csv\n",
      "Index: 0.0. Wm2Front: 4911.5599999999995. Wm2Back: 610.0302555555555\n",
      "Linescan in process: 1axis_5.0_Row_2_Module_09_Front\n",
      "Linescan in process: 1axis_5.0_Row_2_Module_09_Back\n",
      "Saved: results\\irr_1axis_5.0_Row_2_Module_09.csv\n",
      "Index: 5.0. Wm2Front: 759506.8888888888. Wm2Back: 103493.28666666667\n",
      "Saved: results\\cumulative_results__Row_2_Module_09.csv\n"
     ]
    }
   ],
   "source": [
    "modWanted = 9\n",
    "rowWanted = 2\n",
    "customname = '_Row_2_Module_09' # This is useful if we want to do various analysis.\n",
    "trackerdict = demo.analysis1axis(trackerdict, modWanted=9, rowWanted = 2, customname=customname)"
   ]
  },
  {
   "cell_type": "markdown",
   "metadata": {},
   "source": [
    "Let's look at the results with more detail. The analysis1axis routine created individual result .csv files for each angle, as well as one cumulative result .csv where the irradiance is added by sensor.\n"
   ]
  },
  {
   "cell_type": "code",
   "execution_count": 32,
   "metadata": {},
   "outputs": [
    {
     "data": {
      "text/html": [
       "<div>\n",
       "<style scoped>\n",
       "    .dataframe tbody tr th:only-of-type {\n",
       "        vertical-align: middle;\n",
       "    }\n",
       "\n",
       "    .dataframe tbody tr th {\n",
       "        vertical-align: top;\n",
       "    }\n",
       "\n",
       "    .dataframe thead th {\n",
       "        text-align: right;\n",
       "    }\n",
       "</style>\n",
       "<table border=\"1\" class=\"dataframe\">\n",
       "  <thead>\n",
       "    <tr style=\"text-align: right;\">\n",
       "      <th></th>\n",
       "      <th>x</th>\n",
       "      <th>y</th>\n",
       "      <th>z</th>\n",
       "      <th>rearZ</th>\n",
       "      <th>mattype</th>\n",
       "      <th>rearMat</th>\n",
       "      <th>Wm2Front</th>\n",
       "      <th>Wm2Back</th>\n",
       "      <th>Back/FrontRatio</th>\n",
       "    </tr>\n",
       "  </thead>\n",
       "  <tbody>\n",
       "    <tr>\n",
       "      <th>0</th>\n",
       "      <td>22.612121</td>\n",
       "      <td>-1.004</td>\n",
       "      <td>2.46</td>\n",
       "      <td>2.37</td>\n",
       "      <td>a8.1.a0.Custom_Tracker_Module.6457</td>\n",
       "      <td>a8.1.a0.Custom_Tracker_Module.2310</td>\n",
       "      <td>1.494932e+06</td>\n",
       "      <td>215996.597667</td>\n",
       "      <td>0.144486</td>\n",
       "    </tr>\n",
       "    <tr>\n",
       "      <th>1</th>\n",
       "      <td>22.262121</td>\n",
       "      <td>-1.004</td>\n",
       "      <td>2.46</td>\n",
       "      <td>2.37</td>\n",
       "      <td>a8.1.a0.Custom_Tracker_Module.6457</td>\n",
       "      <td>a8.1.a0.Custom_Tracker_Module.2310</td>\n",
       "      <td>1.495129e+06</td>\n",
       "      <td>210541.340767</td>\n",
       "      <td>0.140818</td>\n",
       "    </tr>\n",
       "    <tr>\n",
       "      <th>2</th>\n",
       "      <td>21.912121</td>\n",
       "      <td>-1.004</td>\n",
       "      <td>2.46</td>\n",
       "      <td>2.37</td>\n",
       "      <td>a8.1.a0.Custom_Tracker_Module.6457</td>\n",
       "      <td>a8.1.a0.Custom_Tracker_Module.2310</td>\n",
       "      <td>1.495282e+06</td>\n",
       "      <td>205133.326800</td>\n",
       "      <td>0.137187</td>\n",
       "    </tr>\n",
       "    <tr>\n",
       "      <th>3</th>\n",
       "      <td>21.562121</td>\n",
       "      <td>-1.004</td>\n",
       "      <td>2.46</td>\n",
       "      <td>2.37</td>\n",
       "      <td>a8.1.a0.Custom_Tracker_Module.6457</td>\n",
       "      <td>a8.1.a0.Custom_Tracker_Module.2310</td>\n",
       "      <td>1.495435e+06</td>\n",
       "      <td>201182.090833</td>\n",
       "      <td>0.134531</td>\n",
       "    </tr>\n",
       "    <tr>\n",
       "      <th>4</th>\n",
       "      <td>21.212121</td>\n",
       "      <td>-1.004</td>\n",
       "      <td>2.46</td>\n",
       "      <td>2.37</td>\n",
       "      <td>a8.1.tube1.16</td>\n",
       "      <td>sky</td>\n",
       "      <td>1.564489e+06</td>\n",
       "      <td>186642.728300</td>\n",
       "      <td>0.119299</td>\n",
       "    </tr>\n",
       "    <tr>\n",
       "      <th>5</th>\n",
       "      <td>20.862121</td>\n",
       "      <td>-1.004</td>\n",
       "      <td>2.46</td>\n",
       "      <td>2.37</td>\n",
       "      <td>a8.1.a1.Custom_Tracker_Module.6457</td>\n",
       "      <td>a8.1.a1.Custom_Tracker_Module.2310</td>\n",
       "      <td>1.498974e+06</td>\n",
       "      <td>201114.659600</td>\n",
       "      <td>0.134168</td>\n",
       "    </tr>\n",
       "    <tr>\n",
       "      <th>6</th>\n",
       "      <td>20.512121</td>\n",
       "      <td>-1.004</td>\n",
       "      <td>2.46</td>\n",
       "      <td>2.37</td>\n",
       "      <td>a8.1.a1.Custom_Tracker_Module.6457</td>\n",
       "      <td>a8.1.a1.Custom_Tracker_Module.2310</td>\n",
       "      <td>1.499042e+06</td>\n",
       "      <td>209882.411267</td>\n",
       "      <td>0.140011</td>\n",
       "    </tr>\n",
       "    <tr>\n",
       "      <th>7</th>\n",
       "      <td>20.162121</td>\n",
       "      <td>-1.004</td>\n",
       "      <td>2.46</td>\n",
       "      <td>2.37</td>\n",
       "      <td>a8.1.a1.Custom_Tracker_Module.6457</td>\n",
       "      <td>a8.1.a1.Custom_Tracker_Module.2310</td>\n",
       "      <td>1.499090e+06</td>\n",
       "      <td>215724.720400</td>\n",
       "      <td>0.143904</td>\n",
       "    </tr>\n",
       "    <tr>\n",
       "      <th>8</th>\n",
       "      <td>19.812121</td>\n",
       "      <td>-1.004</td>\n",
       "      <td>2.46</td>\n",
       "      <td>2.37</td>\n",
       "      <td>a8.1.a1.Custom_Tracker_Module.6457</td>\n",
       "      <td>a8.1.a1.Custom_Tracker_Module.2310</td>\n",
       "      <td>1.499964e+06</td>\n",
       "      <td>222755.453333</td>\n",
       "      <td>0.148507</td>\n",
       "    </tr>\n",
       "  </tbody>\n",
       "</table>\n",
       "</div>"
      ],
      "text/plain": [
       "           x      y     z  rearZ                             mattype  \\\n",
       "0  22.612121 -1.004  2.46   2.37  a8.1.a0.Custom_Tracker_Module.6457   \n",
       "1  22.262121 -1.004  2.46   2.37  a8.1.a0.Custom_Tracker_Module.6457   \n",
       "2  21.912121 -1.004  2.46   2.37  a8.1.a0.Custom_Tracker_Module.6457   \n",
       "3  21.562121 -1.004  2.46   2.37  a8.1.a0.Custom_Tracker_Module.6457   \n",
       "4  21.212121 -1.004  2.46   2.37                       a8.1.tube1.16   \n",
       "5  20.862121 -1.004  2.46   2.37  a8.1.a1.Custom_Tracker_Module.6457   \n",
       "6  20.512121 -1.004  2.46   2.37  a8.1.a1.Custom_Tracker_Module.6457   \n",
       "7  20.162121 -1.004  2.46   2.37  a8.1.a1.Custom_Tracker_Module.6457   \n",
       "8  19.812121 -1.004  2.46   2.37  a8.1.a1.Custom_Tracker_Module.6457   \n",
       "\n",
       "                              rearMat      Wm2Front        Wm2Back  \\\n",
       "0  a8.1.a0.Custom_Tracker_Module.2310  1.494932e+06  215996.597667   \n",
       "1  a8.1.a0.Custom_Tracker_Module.2310  1.495129e+06  210541.340767   \n",
       "2  a8.1.a0.Custom_Tracker_Module.2310  1.495282e+06  205133.326800   \n",
       "3  a8.1.a0.Custom_Tracker_Module.2310  1.495435e+06  201182.090833   \n",
       "4                                 sky  1.564489e+06  186642.728300   \n",
       "5  a8.1.a1.Custom_Tracker_Module.2310  1.498974e+06  201114.659600   \n",
       "6  a8.1.a1.Custom_Tracker_Module.2310  1.499042e+06  209882.411267   \n",
       "7  a8.1.a1.Custom_Tracker_Module.2310  1.499090e+06  215724.720400   \n",
       "8  a8.1.a1.Custom_Tracker_Module.2310  1.499964e+06  222755.453333   \n",
       "\n",
       "   Back/FrontRatio  \n",
       "0         0.144486  \n",
       "1         0.140818  \n",
       "2         0.137187  \n",
       "3         0.134531  \n",
       "4         0.119299  \n",
       "5         0.134168  \n",
       "6         0.140011  \n",
       "7         0.143904  \n",
       "8         0.148507  "
      ]
     },
     "execution_count": 32,
     "metadata": {},
     "output_type": "execute_result"
    }
   ],
   "source": [
    "results = load.read1Result('results\\cumulative_results__Row_2_Module_09.csv')\n",
    "results"
   ]
  },
  {
   "cell_type": "markdown",
   "metadata": {},
   "source": [
    "There are various things to notice:\n",
    "\n",
    "I. The materials column has a specific format that will tell you if you are sampling the correct module:\n",
    "\n",
    "                                a{ModWanted}.{rowWanted}.a{numPanel}.{moduletype}.material_key\n",
    "\n",
    "* Since for this journal numPanels = 2, numPanel can either be 0 or 1, for the East-most and West-most module in the collector width.\n",
    "* numPanel, ModWanted and RowWanted are indexed starting at 0 in the results.\n",
    "* material_key is from the surface generated inside radiance. Usually it is 6457 for top surface of hte module and .2310 for the bottom one. \n",
    "\n",
    "II. Sensors sample always in the same direction. For this N-S aligned tracker, that is East-most to West. For this 2-up portrait tracker which is 3.5 meters, 20x7 rows and we are sampling module 9 on row 2, the East to West sampling goes from 22.6 m to 19.81 m = 2.79m. It is not exatly 3.5 because the sensors are spaced evenly through the collector width (CW): \n",
    "\n",
    "\n",
    "![Sensors spaced along collector width](../images_wiki/Journal2Pics/spaced_sensors.png)\n",
    "\n",
    "III. When there is a ygap in the collector width (2-UP or more configuration), some of the sensors might end up sampling the torque tube, or the sky. You can ses that in the materials columns. This also happens if the number of sensors is quite high, the edges of the module might be sampled instead of the sensors. For this reason, before calculating bifacial gain these results must be cleaned. For more advanced simulations, make sure you clean each result csv file individually.  We provide some options on load.py but some are very use-specific, so you might have to develop your own cleaning tool (or let us know on issues!)\n",
    "\n",
    "<div class=\"alert alert-warning\">\n",
    "Important: If you have torquetubes and y-gap values, make sure you clean your results.\n",
    "</div>\n"
   ]
  },
  {
   "cell_type": "markdown",
   "metadata": {},
   "source": [
    "<a id='step11'></a>"
   ]
  },
  {
   "cell_type": "markdown",
   "metadata": {},
   "source": [
    "## 11. Clean Results\n",
    "\n",
    "We have two options for cleaning results. The simples on is <b>load.cleanResults</b>, but there is also a deepClean for specific purposes.\n",
    "\n",
    "cleanResults will find materials that should not have values and set them to NaN."
   ]
  },
  {
   "cell_type": "code",
   "execution_count": 26,
   "metadata": {},
   "outputs": [
    {
     "data": {
      "text/html": [
       "<div>\n",
       "<style scoped>\n",
       "    .dataframe tbody tr th:only-of-type {\n",
       "        vertical-align: middle;\n",
       "    }\n",
       "\n",
       "    .dataframe tbody tr th {\n",
       "        vertical-align: top;\n",
       "    }\n",
       "\n",
       "    .dataframe thead th {\n",
       "        text-align: right;\n",
       "    }\n",
       "</style>\n",
       "<table border=\"1\" class=\"dataframe\">\n",
       "  <thead>\n",
       "    <tr style=\"text-align: right;\">\n",
       "      <th></th>\n",
       "      <th>x</th>\n",
       "      <th>y</th>\n",
       "      <th>z</th>\n",
       "      <th>rearZ</th>\n",
       "      <th>mattype</th>\n",
       "      <th>rearMat</th>\n",
       "      <th>Wm2Front</th>\n",
       "      <th>Wm2Back</th>\n",
       "      <th>Back/FrontRatio</th>\n",
       "    </tr>\n",
       "  </thead>\n",
       "  <tbody>\n",
       "    <tr>\n",
       "      <th>0</th>\n",
       "      <td>22.612121</td>\n",
       "      <td>-1.004</td>\n",
       "      <td>2.46</td>\n",
       "      <td>2.37</td>\n",
       "      <td>a8.1.a0.Custom_Tracker_Module.6457</td>\n",
       "      <td>a8.1.a0.Custom_Tracker_Module.2310</td>\n",
       "      <td>1.494932e+06</td>\n",
       "      <td>215996.597667</td>\n",
       "      <td>0.144486</td>\n",
       "    </tr>\n",
       "    <tr>\n",
       "      <th>1</th>\n",
       "      <td>22.262121</td>\n",
       "      <td>-1.004</td>\n",
       "      <td>2.46</td>\n",
       "      <td>2.37</td>\n",
       "      <td>a8.1.a0.Custom_Tracker_Module.6457</td>\n",
       "      <td>a8.1.a0.Custom_Tracker_Module.2310</td>\n",
       "      <td>1.495129e+06</td>\n",
       "      <td>210541.340767</td>\n",
       "      <td>0.140818</td>\n",
       "    </tr>\n",
       "    <tr>\n",
       "      <th>2</th>\n",
       "      <td>21.912121</td>\n",
       "      <td>-1.004</td>\n",
       "      <td>2.46</td>\n",
       "      <td>2.37</td>\n",
       "      <td>a8.1.a0.Custom_Tracker_Module.6457</td>\n",
       "      <td>a8.1.a0.Custom_Tracker_Module.2310</td>\n",
       "      <td>1.495282e+06</td>\n",
       "      <td>205133.326800</td>\n",
       "      <td>0.137187</td>\n",
       "    </tr>\n",
       "    <tr>\n",
       "      <th>3</th>\n",
       "      <td>21.562121</td>\n",
       "      <td>-1.004</td>\n",
       "      <td>2.46</td>\n",
       "      <td>2.37</td>\n",
       "      <td>a8.1.a0.Custom_Tracker_Module.6457</td>\n",
       "      <td>a8.1.a0.Custom_Tracker_Module.2310</td>\n",
       "      <td>1.495435e+06</td>\n",
       "      <td>201182.090833</td>\n",
       "      <td>0.134531</td>\n",
       "    </tr>\n",
       "    <tr>\n",
       "      <th>4</th>\n",
       "      <td>21.212121</td>\n",
       "      <td>-1.004</td>\n",
       "      <td>2.46</td>\n",
       "      <td>2.37</td>\n",
       "      <td>a8.1.tube1.16</td>\n",
       "      <td>sky</td>\n",
       "      <td>NaN</td>\n",
       "      <td>NaN</td>\n",
       "      <td>0.119299</td>\n",
       "    </tr>\n",
       "    <tr>\n",
       "      <th>5</th>\n",
       "      <td>20.862121</td>\n",
       "      <td>-1.004</td>\n",
       "      <td>2.46</td>\n",
       "      <td>2.37</td>\n",
       "      <td>a8.1.a1.Custom_Tracker_Module.6457</td>\n",
       "      <td>a8.1.a1.Custom_Tracker_Module.2310</td>\n",
       "      <td>1.498974e+06</td>\n",
       "      <td>201114.659600</td>\n",
       "      <td>0.134168</td>\n",
       "    </tr>\n",
       "    <tr>\n",
       "      <th>6</th>\n",
       "      <td>20.512121</td>\n",
       "      <td>-1.004</td>\n",
       "      <td>2.46</td>\n",
       "      <td>2.37</td>\n",
       "      <td>a8.1.a1.Custom_Tracker_Module.6457</td>\n",
       "      <td>a8.1.a1.Custom_Tracker_Module.2310</td>\n",
       "      <td>1.499042e+06</td>\n",
       "      <td>209882.411267</td>\n",
       "      <td>0.140011</td>\n",
       "    </tr>\n",
       "    <tr>\n",
       "      <th>7</th>\n",
       "      <td>20.162121</td>\n",
       "      <td>-1.004</td>\n",
       "      <td>2.46</td>\n",
       "      <td>2.37</td>\n",
       "      <td>a8.1.a1.Custom_Tracker_Module.6457</td>\n",
       "      <td>a8.1.a1.Custom_Tracker_Module.2310</td>\n",
       "      <td>1.499090e+06</td>\n",
       "      <td>215724.720400</td>\n",
       "      <td>0.143904</td>\n",
       "    </tr>\n",
       "    <tr>\n",
       "      <th>8</th>\n",
       "      <td>19.812121</td>\n",
       "      <td>-1.004</td>\n",
       "      <td>2.46</td>\n",
       "      <td>2.37</td>\n",
       "      <td>a8.1.a1.Custom_Tracker_Module.6457</td>\n",
       "      <td>a8.1.a1.Custom_Tracker_Module.2310</td>\n",
       "      <td>1.499964e+06</td>\n",
       "      <td>222755.453333</td>\n",
       "      <td>0.148507</td>\n",
       "    </tr>\n",
       "  </tbody>\n",
       "</table>\n",
       "</div>"
      ],
      "text/plain": [
       "           x      y     z  rearZ                             mattype  \\\n",
       "0  22.612121 -1.004  2.46   2.37  a8.1.a0.Custom_Tracker_Module.6457   \n",
       "1  22.262121 -1.004  2.46   2.37  a8.1.a0.Custom_Tracker_Module.6457   \n",
       "2  21.912121 -1.004  2.46   2.37  a8.1.a0.Custom_Tracker_Module.6457   \n",
       "3  21.562121 -1.004  2.46   2.37  a8.1.a0.Custom_Tracker_Module.6457   \n",
       "4  21.212121 -1.004  2.46   2.37                       a8.1.tube1.16   \n",
       "5  20.862121 -1.004  2.46   2.37  a8.1.a1.Custom_Tracker_Module.6457   \n",
       "6  20.512121 -1.004  2.46   2.37  a8.1.a1.Custom_Tracker_Module.6457   \n",
       "7  20.162121 -1.004  2.46   2.37  a8.1.a1.Custom_Tracker_Module.6457   \n",
       "8  19.812121 -1.004  2.46   2.37  a8.1.a1.Custom_Tracker_Module.6457   \n",
       "\n",
       "                              rearMat      Wm2Front        Wm2Back  \\\n",
       "0  a8.1.a0.Custom_Tracker_Module.2310  1.494932e+06  215996.597667   \n",
       "1  a8.1.a0.Custom_Tracker_Module.2310  1.495129e+06  210541.340767   \n",
       "2  a8.1.a0.Custom_Tracker_Module.2310  1.495282e+06  205133.326800   \n",
       "3  a8.1.a0.Custom_Tracker_Module.2310  1.495435e+06  201182.090833   \n",
       "4                                 sky           NaN            NaN   \n",
       "5  a8.1.a1.Custom_Tracker_Module.2310  1.498974e+06  201114.659600   \n",
       "6  a8.1.a1.Custom_Tracker_Module.2310  1.499042e+06  209882.411267   \n",
       "7  a8.1.a1.Custom_Tracker_Module.2310  1.499090e+06  215724.720400   \n",
       "8  a8.1.a1.Custom_Tracker_Module.2310  1.499964e+06  222755.453333   \n",
       "\n",
       "   Back/FrontRatio  \n",
       "0         0.144486  \n",
       "1         0.140818  \n",
       "2         0.137187  \n",
       "3         0.134531  \n",
       "4         0.119299  \n",
       "5         0.134168  \n",
       "6         0.140011  \n",
       "7         0.143904  \n",
       "8         0.148507  "
      ]
     },
     "execution_count": 26,
     "metadata": {},
     "output_type": "execute_result"
    }
   ],
   "source": [
    "results_clean = load.cleanResult(results)\n",
    "results_clean\n"
   ]
  },
  {
   "cell_type": "markdown",
   "metadata": {},
   "source": [
    "These are the total irradiance values over all the hours of the year that the module at each sampling point will receive. Dividing the back irradiance average by the front irradiance average will give us the bifacial gain for the year:\n",
    "\n",
    "![Bifacial Gain in Irradiance Formula](../images_wiki/Journal1Pics/BGG_Formula.png)\n",
    "\n",
    "Assuming that our module from Prism Solar has a bifaciality factor (rear to front performance) of 90%, our <u> bifacial gain </u> is of:"
   ]
  },
  {
   "cell_type": "code",
   "execution_count": 37,
   "metadata": {},
   "outputs": [
    {
     "name": "stdout",
     "output_type": "stream",
     "text": [
      "Annual bifacial ratio: 0.126 \n"
     ]
    }
   ],
   "source": [
    "bifacialityfactor = 0.9\n",
    "print('Annual bifacial ratio: %0.3f ' %( np.nanmean(results_clean.Wm2Back) * bifacialityfactor / np.nanmean(results_clean.Wm2Front)) )"
   ]
  },
  {
   "cell_type": "markdown",
   "metadata": {},
   "source": [
    "<a id='condensed'></a>"
   ]
  },
  {
   "cell_type": "markdown",
   "metadata": {},
   "source": [
    "## CONDENSED VERSION\n",
    "Everything we've done so far in super short condensed version:"
   ]
  },
  {
   "cell_type": "code",
   "execution_count": 41,
   "metadata": {
    "scrolled": true
   },
   "outputs": [
    {
     "name": "stdout",
     "output_type": "stream",
     "text": [
      "path = C:\\Users\\sayala\\Documents\\RadianceScenes\\Tutorials\\Journal2\n",
      "Getting weather file: USA_VA_Richmond.Intl.AP.724010_TMY.epw\n",
      " ... OK!\n"
     ]
    },
    {
     "name": "stderr",
     "output_type": "stream",
     "text": [
      "C:\\ProgramData\\Anaconda3\\lib\\site-packages\\pvlib\\tracking.py:449: RuntimeWarning: invalid value encountered in arccos\n",
      "  wc = np.degrees(np.arccos(temp))\n",
      "C:\\ProgramData\\Anaconda3\\lib\\site-packages\\pvlib\\tracking.py:473: RuntimeWarning: invalid value encountered in arccos\n",
      "  aoi = np.degrees(np.arccos(np.abs(np.sum(sun_vec*panel_norm, axis=0))))\n",
      "C:\\ProgramData\\Anaconda3\\lib\\site-packages\\pvlib\\tracking.py:568: RuntimeWarning: invalid value encountered in remainder\n",
      "  surface_azimuth = surface_azimuth % 360\n",
      "C:\\ProgramData\\Anaconda3\\lib\\site-packages\\pvlib\\tracking.py:572: RuntimeWarning: invalid value encountered in arccos\n",
      "  surface_tilt = 90 - np.degrees(np.arccos(dotproduct))\n"
     ]
    },
    {
     "name": "stdout",
     "output_type": "stream",
     "text": [
      "Saving file EPWs\\1axis_-60.0.csv, # points: 364\n",
      "Saving file EPWs\\1axis_-55.0.csv, # points: 136\n",
      "Saving file EPWs\\1axis_-50.0.csv, # points: 169\n",
      "Saving file EPWs\\1axis_-45.0.csv, # points: 146\n",
      "Saving file EPWs\\1axis_-40.0.csv, # points: 173\n",
      "Saving file EPWs\\1axis_-35.0.csv, # points: 146\n",
      "Saving file EPWs\\1axis_-30.0.csv, # points: 157\n",
      "Saving file EPWs\\1axis_-25.0.csv, # points: 175\n",
      "Saving file EPWs\\1axis_-20.0.csv, # points: 110\n",
      "Saving file EPWs\\1axis_-15.0.csv, # points: 136\n",
      "Saving file EPWs\\1axis_-10.0.csv, # points: 362\n",
      "Saving file EPWs\\1axis_-5.0.csv, # points: 141\n",
      "Saving file EPWs\\1axis_0.0.csv, # points: 81\n",
      "Saving file EPWs\\1axis_5.0.csv, # points: 244\n",
      "Saving file EPWs\\1axis_10.0.csv, # points: 81\n",
      "Saving file EPWs\\1axis_15.0.csv, # points: 123\n",
      "Saving file EPWs\\1axis_20.0.csv, # points: 225\n",
      "Saving file EPWs\\1axis_25.0.csv, # points: 154\n",
      "Saving file EPWs\\1axis_30.0.csv, # points: 116\n",
      "Saving file EPWs\\1axis_35.0.csv, # points: 167\n",
      "Saving file EPWs\\1axis_40.0.csv, # points: 135\n",
      "Saving file EPWs\\1axis_45.0.csv, # points: 168\n",
      "Saving file EPWs\\1axis_50.0.csv, # points: 126\n",
      "Saving file EPWs\\1axis_55.0.csv, # points: 173\n",
      "Saving file EPWs\\1axis_60.0.csv, # points: 375\n",
      "message: There were 362 sun up hours in this climate file\n",
      "Total Ibh/Lbh: 0.000000\n",
      "Created skyfile skies\\1axis_-60.0.rad\n",
      "message: There were 135 sun up hours in this climate file\n",
      "Total Ibh/Lbh: 0.000000\n",
      "Created skyfile skies\\1axis_-55.0.rad\n",
      "message: There were 169 sun up hours in this climate file\n",
      "Total Ibh/Lbh: 0.000000\n",
      "Created skyfile skies\\1axis_-50.0.rad\n",
      "message: There were 146 sun up hours in this climate file\n",
      "Total Ibh/Lbh: 0.000000\n",
      "Created skyfile skies\\1axis_-45.0.rad\n",
      "message: There were 172 sun up hours in this climate file\n",
      "Total Ibh/Lbh: 0.000000\n",
      "Created skyfile skies\\1axis_-40.0.rad\n",
      "message: There were 145 sun up hours in this climate file\n",
      "Total Ibh/Lbh: 0.000000\n",
      "Created skyfile skies\\1axis_-35.0.rad\n",
      "message: There were 157 sun up hours in this climate file\n",
      "Total Ibh/Lbh: 0.000000\n",
      "Created skyfile skies\\1axis_-30.0.rad\n",
      "message: There were 172 sun up hours in this climate file\n",
      "Total Ibh/Lbh: 0.000000\n",
      "Created skyfile skies\\1axis_-25.0.rad\n",
      "message: There were 108 sun up hours in this climate file\n",
      "Total Ibh/Lbh: 0.000000\n",
      "Created skyfile skies\\1axis_-20.0.rad\n",
      "message: There were 133 sun up hours in this climate file\n",
      "Total Ibh/Lbh: 0.000000\n",
      "Created skyfile skies\\1axis_-15.0.rad\n",
      "message: There were 341 sun up hours in this climate file\n",
      "Total Ibh/Lbh: 0.000000\n",
      "Created skyfile skies\\1axis_-10.0.rad\n",
      "message: There were 70 sun up hours in this climate file\n",
      "Total Ibh/Lbh: 0.000000\n",
      "Created skyfile skies\\1axis_-5.0.rad\n",
      "message: There were 13 sun up hours in this climate file\n",
      "Total Ibh/Lbh: 0.000000\n",
      "Created skyfile skies\\1axis_0.0.rad\n",
      "message: There were 243 sun up hours in this climate file\n",
      "Total Ibh/Lbh: 0.000000\n",
      "Created skyfile skies\\1axis_5.0.rad\n",
      "message: There were 76 sun up hours in this climate file\n",
      "Total Ibh/Lbh: 0.000000\n",
      "Created skyfile skies\\1axis_10.0.rad\n",
      "message: There were 112 sun up hours in this climate file\n",
      "Total Ibh/Lbh: 0.000000\n",
      "Created skyfile skies\\1axis_15.0.rad\n",
      "message: There were 224 sun up hours in this climate file\n",
      "Total Ibh/Lbh: 0.000000\n",
      "Created skyfile skies\\1axis_20.0.rad\n",
      "message: There were 152 sun up hours in this climate file\n",
      "Total Ibh/Lbh: 0.000000\n",
      "Created skyfile skies\\1axis_25.0.rad\n",
      "message: There were 116 sun up hours in this climate file\n",
      "Total Ibh/Lbh: 0.000000\n",
      "Created skyfile skies\\1axis_30.0.rad\n",
      "message: There were 167 sun up hours in this climate file\n",
      "Total Ibh/Lbh: 0.000000\n",
      "Created skyfile skies\\1axis_35.0.rad\n",
      "message: There were 135 sun up hours in this climate file\n",
      "Total Ibh/Lbh: 0.000000\n",
      "Created skyfile skies\\1axis_40.0.rad\n",
      "message: There were 168 sun up hours in this climate file\n",
      "Total Ibh/Lbh: 0.000000\n",
      "Created skyfile skies\\1axis_45.0.rad\n",
      "message: There were 126 sun up hours in this climate file\n",
      "Total Ibh/Lbh: 0.000000\n",
      "Created skyfile skies\\1axis_50.0.rad\n",
      "message: There were 173 sun up hours in this climate file\n",
      "Total Ibh/Lbh: 0.000000\n",
      "Created skyfile skies\\1axis_55.0.rad\n",
      "message: There were 375 sun up hours in this climate file\n",
      "Total Ibh/Lbh: 0.000000\n",
      "Created skyfile skies\\1axis_60.0.rad\n",
      "sceneDict Warning: 'height' is being deprecated. Renaming as 'hub_height'\n",
      "\n",
      "Making .rad files for cumulativesky 1-axis workflow\n",
      "25 Radfiles created in /objects/\n",
      "\n",
      "Making 25 octfiles in root directory.\n"
     ]
    },
    {
     "ename": "KeyboardInterrupt",
     "evalue": "",
     "output_type": "error",
     "traceback": [
      "\u001b[1;31m---------------------------------------------------------------------------\u001b[0m",
      "\u001b[1;31mKeyboardInterrupt\u001b[0m                         Traceback (most recent call last)",
      "\u001b[1;32m<ipython-input-41-aa9fe74b14d7>\u001b[0m in \u001b[0;36m<module>\u001b[1;34m\u001b[0m\n\u001b[0;32m     25\u001b[0m \u001b[0msceneDict\u001b[0m \u001b[1;33m=\u001b[0m \u001b[1;33m{\u001b[0m\u001b[1;34m'gcr'\u001b[0m\u001b[1;33m:\u001b[0m \u001b[0mgcr\u001b[0m\u001b[1;33m,\u001b[0m\u001b[1;34m'height'\u001b[0m\u001b[1;33m:\u001b[0m\u001b[0mhub_height\u001b[0m\u001b[1;33m,\u001b[0m \u001b[1;34m'nMods'\u001b[0m\u001b[1;33m:\u001b[0m \u001b[0mnMods\u001b[0m\u001b[1;33m,\u001b[0m \u001b[1;34m'nRows'\u001b[0m\u001b[1;33m:\u001b[0m \u001b[0mnRows\u001b[0m\u001b[1;33m}\u001b[0m  \u001b[1;31m# orientation deprecated on v.0.2.4.\u001b[0m\u001b[1;33m\u001b[0m\u001b[1;33m\u001b[0m\u001b[0m\n\u001b[0;32m     26\u001b[0m \u001b[0mdemo\u001b[0m\u001b[1;33m.\u001b[0m\u001b[0mmakeScene1axis\u001b[0m\u001b[1;33m(\u001b[0m\u001b[0mmoduletype\u001b[0m\u001b[1;33m=\u001b[0m\u001b[0mmoduletype\u001b[0m\u001b[1;33m,\u001b[0m\u001b[0msceneDict\u001b[0m \u001b[1;33m=\u001b[0m \u001b[0msceneDict\u001b[0m\u001b[1;33m)\u001b[0m\u001b[1;33m\u001b[0m\u001b[1;33m\u001b[0m\u001b[0m\n\u001b[1;32m---> 27\u001b[1;33m \u001b[0mdemo\u001b[0m\u001b[1;33m.\u001b[0m\u001b[0mmakeOct1axis\u001b[0m\u001b[1;33m(\u001b[0m\u001b[1;33m)\u001b[0m\u001b[1;33m\u001b[0m\u001b[1;33m\u001b[0m\u001b[0m\n\u001b[0m\u001b[0;32m     28\u001b[0m \u001b[0mdemo\u001b[0m\u001b[1;33m.\u001b[0m\u001b[0manalysis1axis\u001b[0m\u001b[1;33m(\u001b[0m\u001b[0mmodWanted\u001b[0m \u001b[1;33m=\u001b[0m \u001b[0mmodWanted\u001b[0m\u001b[1;33m,\u001b[0m \u001b[0mrowWanted\u001b[0m \u001b[1;33m=\u001b[0m \u001b[0mrowWanted\u001b[0m\u001b[1;33m)\u001b[0m\u001b[1;33m\u001b[0m\u001b[1;33m\u001b[0m\u001b[0m\n",
      "\u001b[1;32mc:\\users\\sayala\\documents\\github\\bifacial_radiance\\bifacial_radiance\\main.py\u001b[0m in \u001b[0;36mmakeOct1axis\u001b[1;34m(self, trackerdict, singleindex, customname, hpc)\u001b[0m\n\u001b[0;32m   1291\u001b[0m                 \u001b[0mfilelist\u001b[0m \u001b[1;33m=\u001b[0m \u001b[0mself\u001b[0m\u001b[1;33m.\u001b[0m\u001b[0mmaterialfiles\u001b[0m \u001b[1;33m+\u001b[0m \u001b[1;33m[\u001b[0m\u001b[0mtrackerdict\u001b[0m\u001b[1;33m[\u001b[0m\u001b[0mindex\u001b[0m\u001b[1;33m]\u001b[0m\u001b[1;33m[\u001b[0m\u001b[1;34m'skyfile'\u001b[0m\u001b[1;33m]\u001b[0m\u001b[1;33m,\u001b[0m \u001b[0mtrackerdict\u001b[0m\u001b[1;33m[\u001b[0m\u001b[0mindex\u001b[0m\u001b[1;33m]\u001b[0m\u001b[1;33m[\u001b[0m\u001b[1;34m'radfile'\u001b[0m\u001b[1;33m]\u001b[0m\u001b[1;33m]\u001b[0m\u001b[1;33m\u001b[0m\u001b[1;33m\u001b[0m\u001b[0m\n\u001b[0;32m   1292\u001b[0m                 \u001b[0moctname\u001b[0m \u001b[1;33m=\u001b[0m \u001b[1;34m'1axis_%s%s'\u001b[0m\u001b[1;33m%\u001b[0m\u001b[1;33m(\u001b[0m\u001b[0mindex\u001b[0m\u001b[1;33m,\u001b[0m \u001b[0mcustomname\u001b[0m\u001b[1;33m)\u001b[0m\u001b[1;33m\u001b[0m\u001b[1;33m\u001b[0m\u001b[0m\n\u001b[1;32m-> 1293\u001b[1;33m                 \u001b[0mtrackerdict\u001b[0m\u001b[1;33m[\u001b[0m\u001b[0mindex\u001b[0m\u001b[1;33m]\u001b[0m\u001b[1;33m[\u001b[0m\u001b[1;34m'octfile'\u001b[0m\u001b[1;33m]\u001b[0m \u001b[1;33m=\u001b[0m \u001b[0mself\u001b[0m\u001b[1;33m.\u001b[0m\u001b[0mmakeOct\u001b[0m\u001b[1;33m(\u001b[0m\u001b[0mfilelist\u001b[0m\u001b[1;33m,\u001b[0m \u001b[0moctname\u001b[0m\u001b[1;33m,\u001b[0m \u001b[0mhpc\u001b[0m\u001b[1;33m)\u001b[0m\u001b[1;33m\u001b[0m\u001b[1;33m\u001b[0m\u001b[0m\n\u001b[0m\u001b[0;32m   1294\u001b[0m             \u001b[1;32mexcept\u001b[0m \u001b[0mKeyError\u001b[0m \u001b[1;32mas\u001b[0m \u001b[0me\u001b[0m\u001b[1;33m:\u001b[0m\u001b[1;33m\u001b[0m\u001b[1;33m\u001b[0m\u001b[0m\n\u001b[0;32m   1295\u001b[0m                 \u001b[0mprint\u001b[0m\u001b[1;33m(\u001b[0m\u001b[1;34m'Trackerdict key error: {}'\u001b[0m\u001b[1;33m.\u001b[0m\u001b[0mformat\u001b[0m\u001b[1;33m(\u001b[0m\u001b[0me\u001b[0m\u001b[1;33m)\u001b[0m\u001b[1;33m)\u001b[0m\u001b[1;33m\u001b[0m\u001b[1;33m\u001b[0m\u001b[0m\n",
      "\u001b[1;32mc:\\users\\sayala\\documents\\github\\bifacial_radiance\\bifacial_radiance\\main.py\u001b[0m in \u001b[0;36mmakeOct\u001b[1;34m(self, filelist, octname, hpc)\u001b[0m\n\u001b[0;32m   1238\u001b[0m         \u001b[0mcmd\u001b[0m \u001b[1;33m=\u001b[0m \u001b[1;34m'oconv '\u001b[0m \u001b[1;33m+\u001b[0m \u001b[1;34m' '\u001b[0m\u001b[1;33m.\u001b[0m\u001b[0mjoin\u001b[0m\u001b[1;33m(\u001b[0m\u001b[0mfilelist\u001b[0m\u001b[1;33m)\u001b[0m\u001b[1;33m\u001b[0m\u001b[1;33m\u001b[0m\u001b[0m\n\u001b[0;32m   1239\u001b[0m         \u001b[1;32mwith\u001b[0m \u001b[0mopen\u001b[0m\u001b[1;33m(\u001b[0m\u001b[1;34m'%s.oct'\u001b[0m \u001b[1;33m%\u001b[0m \u001b[1;33m(\u001b[0m\u001b[0moctname\u001b[0m\u001b[1;33m)\u001b[0m\u001b[1;33m,\u001b[0m \u001b[1;34m\"w\"\u001b[0m\u001b[1;33m)\u001b[0m \u001b[1;32mas\u001b[0m \u001b[0mf\u001b[0m\u001b[1;33m:\u001b[0m\u001b[1;33m\u001b[0m\u001b[1;33m\u001b[0m\u001b[0m\n\u001b[1;32m-> 1240\u001b[1;33m             \u001b[0m_\u001b[0m\u001b[1;33m,\u001b[0m\u001b[0merr\u001b[0m \u001b[1;33m=\u001b[0m \u001b[0m_popen\u001b[0m\u001b[1;33m(\u001b[0m\u001b[0mcmd\u001b[0m\u001b[1;33m,\u001b[0m \u001b[1;32mNone\u001b[0m\u001b[1;33m,\u001b[0m \u001b[0mf\u001b[0m\u001b[1;33m)\u001b[0m\u001b[1;33m\u001b[0m\u001b[1;33m\u001b[0m\u001b[0m\n\u001b[0m\u001b[0;32m   1241\u001b[0m             \u001b[1;31m#TODO:  exception handling for no sun up\u001b[0m\u001b[1;33m\u001b[0m\u001b[1;33m\u001b[0m\u001b[1;33m\u001b[0m\u001b[0m\n\u001b[0;32m   1242\u001b[0m             \u001b[1;32mif\u001b[0m \u001b[0merr\u001b[0m \u001b[1;32mis\u001b[0m \u001b[1;32mnot\u001b[0m \u001b[1;32mNone\u001b[0m\u001b[1;33m:\u001b[0m\u001b[1;33m\u001b[0m\u001b[1;33m\u001b[0m\u001b[0m\n",
      "\u001b[1;32mc:\\users\\sayala\\documents\\github\\bifacial_radiance\\bifacial_radiance\\main.py\u001b[0m in \u001b[0;36m_popen\u001b[1;34m(cmd, data_in, data_out)\u001b[0m\n\u001b[0;32m     88\u001b[0m \u001b[1;33m\u001b[0m\u001b[0m\n\u001b[0;32m     89\u001b[0m     \u001b[0mp\u001b[0m \u001b[1;33m=\u001b[0m \u001b[0mPopen\u001b[0m\u001b[1;33m(\u001b[0m\u001b[0mcmd\u001b[0m\u001b[1;33m,\u001b[0m \u001b[0mbufsize\u001b[0m\u001b[1;33m=\u001b[0m\u001b[1;33m-\u001b[0m\u001b[1;36m1\u001b[0m\u001b[1;33m,\u001b[0m \u001b[0mstdin\u001b[0m\u001b[1;33m=\u001b[0m\u001b[0mPIPE\u001b[0m\u001b[1;33m,\u001b[0m \u001b[0mstdout\u001b[0m\u001b[1;33m=\u001b[0m\u001b[0mdata_out\u001b[0m\u001b[1;33m,\u001b[0m \u001b[0mstderr\u001b[0m\u001b[1;33m=\u001b[0m\u001b[0mPIPE\u001b[0m\u001b[1;33m,\u001b[0m \u001b[0mshell\u001b[0m\u001b[1;33m=\u001b[0m\u001b[1;32mTrue\u001b[0m\u001b[1;33m)\u001b[0m \u001b[1;31m#shell=True required for Linux? quick fix, but may be security concern\u001b[0m\u001b[1;33m\u001b[0m\u001b[1;33m\u001b[0m\u001b[0m\n\u001b[1;32m---> 90\u001b[1;33m     \u001b[0mdata\u001b[0m\u001b[1;33m,\u001b[0m \u001b[0merr\u001b[0m \u001b[1;33m=\u001b[0m \u001b[0mp\u001b[0m\u001b[1;33m.\u001b[0m\u001b[0mcommunicate\u001b[0m\u001b[1;33m(\u001b[0m\u001b[0mdata_in\u001b[0m\u001b[1;33m)\u001b[0m\u001b[1;33m\u001b[0m\u001b[1;33m\u001b[0m\u001b[0m\n\u001b[0m\u001b[0;32m     91\u001b[0m     \u001b[1;31m#if err:\u001b[0m\u001b[1;33m\u001b[0m\u001b[1;33m\u001b[0m\u001b[1;33m\u001b[0m\u001b[0m\n\u001b[0;32m     92\u001b[0m     \u001b[1;31m#    return 'message: '+err.strip()\u001b[0m\u001b[1;33m\u001b[0m\u001b[1;33m\u001b[0m\u001b[1;33m\u001b[0m\u001b[0m\n",
      "\u001b[1;32mC:\\ProgramData\\Anaconda3\\lib\\subprocess.py\u001b[0m in \u001b[0;36mcommunicate\u001b[1;34m(self, input, timeout)\u001b[0m\n\u001b[0;32m    937\u001b[0m \u001b[1;33m\u001b[0m\u001b[0m\n\u001b[0;32m    938\u001b[0m             \u001b[1;32mtry\u001b[0m\u001b[1;33m:\u001b[0m\u001b[1;33m\u001b[0m\u001b[1;33m\u001b[0m\u001b[0m\n\u001b[1;32m--> 939\u001b[1;33m                 \u001b[0mstdout\u001b[0m\u001b[1;33m,\u001b[0m \u001b[0mstderr\u001b[0m \u001b[1;33m=\u001b[0m \u001b[0mself\u001b[0m\u001b[1;33m.\u001b[0m\u001b[0m_communicate\u001b[0m\u001b[1;33m(\u001b[0m\u001b[0minput\u001b[0m\u001b[1;33m,\u001b[0m \u001b[0mendtime\u001b[0m\u001b[1;33m,\u001b[0m \u001b[0mtimeout\u001b[0m\u001b[1;33m)\u001b[0m\u001b[1;33m\u001b[0m\u001b[1;33m\u001b[0m\u001b[0m\n\u001b[0m\u001b[0;32m    940\u001b[0m             \u001b[1;32mexcept\u001b[0m \u001b[0mKeyboardInterrupt\u001b[0m\u001b[1;33m:\u001b[0m\u001b[1;33m\u001b[0m\u001b[1;33m\u001b[0m\u001b[0m\n\u001b[0;32m    941\u001b[0m                 \u001b[1;31m# https://bugs.python.org/issue25942\u001b[0m\u001b[1;33m\u001b[0m\u001b[1;33m\u001b[0m\u001b[1;33m\u001b[0m\u001b[0m\n",
      "\u001b[1;32mC:\\ProgramData\\Anaconda3\\lib\\subprocess.py\u001b[0m in \u001b[0;36m_communicate\u001b[1;34m(self, input, endtime, orig_timeout)\u001b[0m\n\u001b[0;32m   1269\u001b[0m                     \u001b[1;32mraise\u001b[0m \u001b[0mTimeoutExpired\u001b[0m\u001b[1;33m(\u001b[0m\u001b[0mself\u001b[0m\u001b[1;33m.\u001b[0m\u001b[0margs\u001b[0m\u001b[1;33m,\u001b[0m \u001b[0morig_timeout\u001b[0m\u001b[1;33m)\u001b[0m\u001b[1;33m\u001b[0m\u001b[1;33m\u001b[0m\u001b[0m\n\u001b[0;32m   1270\u001b[0m             \u001b[1;32mif\u001b[0m \u001b[0mself\u001b[0m\u001b[1;33m.\u001b[0m\u001b[0mstderr\u001b[0m \u001b[1;32mis\u001b[0m \u001b[1;32mnot\u001b[0m \u001b[1;32mNone\u001b[0m\u001b[1;33m:\u001b[0m\u001b[1;33m\u001b[0m\u001b[1;33m\u001b[0m\u001b[0m\n\u001b[1;32m-> 1271\u001b[1;33m                 \u001b[0mself\u001b[0m\u001b[1;33m.\u001b[0m\u001b[0mstderr_thread\u001b[0m\u001b[1;33m.\u001b[0m\u001b[0mjoin\u001b[0m\u001b[1;33m(\u001b[0m\u001b[0mself\u001b[0m\u001b[1;33m.\u001b[0m\u001b[0m_remaining_time\u001b[0m\u001b[1;33m(\u001b[0m\u001b[0mendtime\u001b[0m\u001b[1;33m)\u001b[0m\u001b[1;33m)\u001b[0m\u001b[1;33m\u001b[0m\u001b[1;33m\u001b[0m\u001b[0m\n\u001b[0m\u001b[0;32m   1272\u001b[0m                 \u001b[1;32mif\u001b[0m \u001b[0mself\u001b[0m\u001b[1;33m.\u001b[0m\u001b[0mstderr_thread\u001b[0m\u001b[1;33m.\u001b[0m\u001b[0mis_alive\u001b[0m\u001b[1;33m(\u001b[0m\u001b[1;33m)\u001b[0m\u001b[1;33m:\u001b[0m\u001b[1;33m\u001b[0m\u001b[1;33m\u001b[0m\u001b[0m\n\u001b[0;32m   1273\u001b[0m                     \u001b[1;32mraise\u001b[0m \u001b[0mTimeoutExpired\u001b[0m\u001b[1;33m(\u001b[0m\u001b[0mself\u001b[0m\u001b[1;33m.\u001b[0m\u001b[0margs\u001b[0m\u001b[1;33m,\u001b[0m \u001b[0morig_timeout\u001b[0m\u001b[1;33m)\u001b[0m\u001b[1;33m\u001b[0m\u001b[1;33m\u001b[0m\u001b[0m\n",
      "\u001b[1;32mC:\\ProgramData\\Anaconda3\\lib\\threading.py\u001b[0m in \u001b[0;36mjoin\u001b[1;34m(self, timeout)\u001b[0m\n\u001b[0;32m   1030\u001b[0m \u001b[1;33m\u001b[0m\u001b[0m\n\u001b[0;32m   1031\u001b[0m         \u001b[1;32mif\u001b[0m \u001b[0mtimeout\u001b[0m \u001b[1;32mis\u001b[0m \u001b[1;32mNone\u001b[0m\u001b[1;33m:\u001b[0m\u001b[1;33m\u001b[0m\u001b[1;33m\u001b[0m\u001b[0m\n\u001b[1;32m-> 1032\u001b[1;33m             \u001b[0mself\u001b[0m\u001b[1;33m.\u001b[0m\u001b[0m_wait_for_tstate_lock\u001b[0m\u001b[1;33m(\u001b[0m\u001b[1;33m)\u001b[0m\u001b[1;33m\u001b[0m\u001b[1;33m\u001b[0m\u001b[0m\n\u001b[0m\u001b[0;32m   1033\u001b[0m         \u001b[1;32melse\u001b[0m\u001b[1;33m:\u001b[0m\u001b[1;33m\u001b[0m\u001b[1;33m\u001b[0m\u001b[0m\n\u001b[0;32m   1034\u001b[0m             \u001b[1;31m# the behavior of a negative timeout isn't documented, but\u001b[0m\u001b[1;33m\u001b[0m\u001b[1;33m\u001b[0m\u001b[1;33m\u001b[0m\u001b[0m\n",
      "\u001b[1;32mC:\\ProgramData\\Anaconda3\\lib\\threading.py\u001b[0m in \u001b[0;36m_wait_for_tstate_lock\u001b[1;34m(self, block, timeout)\u001b[0m\n\u001b[0;32m   1046\u001b[0m         \u001b[1;32mif\u001b[0m \u001b[0mlock\u001b[0m \u001b[1;32mis\u001b[0m \u001b[1;32mNone\u001b[0m\u001b[1;33m:\u001b[0m  \u001b[1;31m# already determined that the C code is done\u001b[0m\u001b[1;33m\u001b[0m\u001b[1;33m\u001b[0m\u001b[0m\n\u001b[0;32m   1047\u001b[0m             \u001b[1;32massert\u001b[0m \u001b[0mself\u001b[0m\u001b[1;33m.\u001b[0m\u001b[0m_is_stopped\u001b[0m\u001b[1;33m\u001b[0m\u001b[1;33m\u001b[0m\u001b[0m\n\u001b[1;32m-> 1048\u001b[1;33m         \u001b[1;32melif\u001b[0m \u001b[0mlock\u001b[0m\u001b[1;33m.\u001b[0m\u001b[0macquire\u001b[0m\u001b[1;33m(\u001b[0m\u001b[0mblock\u001b[0m\u001b[1;33m,\u001b[0m \u001b[0mtimeout\u001b[0m\u001b[1;33m)\u001b[0m\u001b[1;33m:\u001b[0m\u001b[1;33m\u001b[0m\u001b[1;33m\u001b[0m\u001b[0m\n\u001b[0m\u001b[0;32m   1049\u001b[0m             \u001b[0mlock\u001b[0m\u001b[1;33m.\u001b[0m\u001b[0mrelease\u001b[0m\u001b[1;33m(\u001b[0m\u001b[1;33m)\u001b[0m\u001b[1;33m\u001b[0m\u001b[1;33m\u001b[0m\u001b[0m\n\u001b[0;32m   1050\u001b[0m             \u001b[0mself\u001b[0m\u001b[1;33m.\u001b[0m\u001b[0m_stop\u001b[0m\u001b[1;33m(\u001b[0m\u001b[1;33m)\u001b[0m\u001b[1;33m\u001b[0m\u001b[1;33m\u001b[0m\u001b[0m\n",
      "\u001b[1;31mKeyboardInterrupt\u001b[0m: "
     ]
    }
   ],
   "source": [
    "albedo = 0.25\n",
    "lat = 37.5\n",
    "lon = -77.6\n",
    "nMods = 20\n",
    "nRows = 7\n",
    "hub_height = 2.3\n",
    "gcr = 0.33\n",
    "moduletype = 'Custom Tracker Module'  # this must already exist since we are not calling makeModule in this CONDENSED example.\n",
    "testfolder = r'C:\\Users\\sayala\\Documents\\RadianceScenes\\Tutorials\\Journal2'\n",
    "limit_angle = 60\n",
    "angeldelta = 5\n",
    "backtrack = True\n",
    "gcr = gcr\n",
    "modWanted = 9\n",
    "rowWanted = 2\n",
    "cumulativesky = True\n",
    "\n",
    "import bifacial_radiance\n",
    "demo = RadianceObj(path = testfolder) \n",
    "demo.setGround(albedo)\n",
    "epwfile = demo.getEPW(lat,lon) \n",
    "metdata = demo.readEPW(epwfile)\n",
    "demo.set1axis(limit_angle = limit_angle, backtrack = backtrack, gcr = gcr, cumulativesky = cumulativesky)\n",
    "demo.genCumSky1axis()\n",
    "sceneDict = {'gcr': gcr,'height':hub_height, 'nMods': nMods, 'nRows': nRows}  # orientation deprecated on v.0.2.4.\n",
    "demo.makeScene1axis(moduletype=moduletype,sceneDict = sceneDict)\n",
    "demo.makeOct1axis()\n",
    "demo.analysis1axis(modWanted = modWanted, rowWanted = rowWanted)\n"
   ]
  },
  {
   "cell_type": "code",
   "execution_count": null,
   "metadata": {},
   "outputs": [],
   "source": []
  }
 ],
 "metadata": {
  "anaconda-cloud": {},
  "kernelspec": {
   "display_name": "Python 3",
   "language": "python",
   "name": "python3"
  },
  "language_info": {
   "codemirror_mode": {
    "name": "ipython",
    "version": 3
   },
   "file_extension": ".py",
   "mimetype": "text/x-python",
   "name": "python",
   "nbconvert_exporter": "python",
   "pygments_lexer": "ipython3",
   "version": "3.7.3"
  }
 },
 "nbformat": 4,
 "nbformat_minor": 1
}
