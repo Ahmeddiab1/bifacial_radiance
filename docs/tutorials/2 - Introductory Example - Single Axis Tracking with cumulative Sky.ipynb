{
 "cells": [
  {
   "cell_type": "markdown",
   "metadata": {},
   "source": [
    "## 2 - Introductory Example - 1-Axis tracker with cumulative sky\n",
    "\n",
    "Method <b> Gencumsky </b> has been modified to divide the yearly-cumulative sky into various skies, each one representing the cumulative irradiance for the hours at which the tracker is at a certain angle. For faster running, for a tracker that moves between 45 and -45 degrees limit angle, if only positions every 5 degrees are considered (45, 40, 35 .... -4-, -45), then only 18 skies (and 18 simulations) will be run for the whole year.\n",
    "\n",
    "![Example of the hemisphere cumulative sky](../images_wiki/Journal2Pics/tracking_cumulativesky.png)\n",
    "\n",
    "\n",
    "This procedure was presented in:\n",
    "\n",
    "    S. Ayala Pelaez, C. Deline, P. Greenberg, J. S. Stein, and R. K. Kostuk, “Model and Validation of Single-Axis Tracking with Bifacial PV - Preprint,” Golden Co Natl. Renew. Energy Lab. NREL/CP-5K00-72039., no. October, 2018. https://www.nrel.gov/docs/fy19osti/72039.pdf\n",
    "\n",
    "\n",
    "Steps:\n",
    "<ol>\n",
    "    <li> <a href='#step1'> Create a folder for your simulation, and Load bifacial_radiance </a></li> \n",
    "    <li> <a href='#step2'> Create a Radiance Object </a></li> \n",
    "    <li> <a href='#step3'> Set the Albedo </a></li> \n",
    "    <li> <a href='#step4'> Download Weather Files </a></li> \n",
    "    <li> <a href='#step5'> Generate the Sky </a></li> \n",
    "    <li> <a href='#step6'> Define a Module type </a></li> \n",
    "    <li> <a href='#step7'> Create the scene </a></li> \n",
    "    <li> <a href='#step8'> Combine Ground, Sky and Scene Objects </a></li> \n",
    "    <li> <a href='#step9'> Analyze and get results </a></li> \n",
    "    <li> <a href='#step10'> Visualize scene options </a></li>   \n",
    "</ol>\n"
   ]
  },
  {
   "cell_type": "markdown",
   "metadata": {},
   "source": [
    "<a id='step1'></a>"
   ]
  },
  {
   "cell_type": "markdown",
   "metadata": {},
   "source": [
    "\n",
    "## 1. Create a folder for your simulation, and load bifacial_radiance \n",
    "\n",
    "First let's set the folder where the simulation will be saved. By default, this is the TEMP folder in the bifacial_radiance distribution.\n",
    "\n",
    "The lines below find the location of the folder relative to this Jupyter Journa. You can alternatively point to an empty directory (it will open a load GUI Visual Interface) or specify any other directory in your computer, for example:\n",
    "\n",
    "#### testfolder = r'C:\\Users\\sayala\\Documents\\RadianceScenes\\Demo'\n",
    "\n"
   ]
  },
  {
   "cell_type": "code",
   "execution_count": 6,
   "metadata": {},
   "outputs": [
    {
     "name": "stdout",
     "output_type": "stream",
     "text": [
      "Your simulation will be stored in C:\\Users\\sayala\\Documents\\GitHub\\bifacial_radiance\\bifacial_radiance\\TEMP\n"
     ]
    }
   ],
   "source": [
    "import os\n",
    "testfolder = os.path.abspath(r'..\\..\\bifacial_radiance\\TEMP')  \n",
    "\n",
    "print (\"Your simulation will be stored in %s\" % testfolder)"
   ]
  },
  {
   "cell_type": "markdown",
   "metadata": {},
   "source": [
    "This will load bifacial_radiance and other libraries from python that will be useful for this Jupyter Journal:"
   ]
  },
  {
   "cell_type": "code",
   "execution_count": 5,
   "metadata": {},
   "outputs": [],
   "source": [
    "try:\n",
    "    from bifacial_radiance import RadianceObj, AnalysisObj\n",
    "except ImportError:\n",
    "    raise RuntimeError('bifacial_radiance is required. download distribution')\n",
    "import numpy as np"
   ]
  },
  {
   "cell_type": "markdown",
   "metadata": {},
   "source": [
    "<a id='step2'></a>"
   ]
  },
  {
   "cell_type": "markdown",
   "metadata": {},
   "source": [
    "## 2. Create a Radiance Object"
   ]
  },
  {
   "cell_type": "code",
   "execution_count": 7,
   "metadata": {},
   "outputs": [
    {
     "name": "stdout",
     "output_type": "stream",
     "text": [
      "path = C:\\Users\\sayala\\Documents\\GitHub\\bifacial_radiance\\bifacial_radiance\\TEMP\n"
     ]
    }
   ],
   "source": [
    "# Create a RadianceObj 'object' named bifacial_example. no whitespace allowed\n",
    "demo = RadianceObj('bifacial_tracking_example',testfolder)  "
   ]
  },
  {
   "cell_type": "markdown",
   "metadata": {},
   "source": [
    "This will create all the folder structure of the bifacial_radiance Scene in the designated testfolder in your computer, and it should look like this:\n",
    "\n",
    "\n",
    "![Folder Structure](../images_wiki/Journal1Pics/folderStructure.png)"
   ]
  },
  {
   "cell_type": "markdown",
   "metadata": {},
   "source": [
    "<a id='step3'></a>"
   ]
  },
  {
   "cell_type": "markdown",
   "metadata": {},
   "source": [
    "## 3. Set the Albedo"
   ]
  },
  {
   "cell_type": "markdown",
   "metadata": {},
   "source": [
    "To see more options of ground materials available (located on ground.rad), run this function without any input. "
   ]
  },
  {
   "cell_type": "code",
   "execution_count": 9,
   "metadata": {},
   "outputs": [
    {
     "name": "stdout",
     "output_type": "stream",
     "text": [
      "Input albedo 0-1, or ground material names:['black', 'litesoil', 'concrete', 'white_EPDM', 'beigeroof', 'beigeroof_lite', 'beigeroof_heavy', 'asphalt', 'greyroof', 'Metal_Aluminum_Anodized', 'Color_I11', 'M_0010_Snow', 'Metal_Grey']\n"
     ]
    }
   ],
   "source": [
    "# Input albedo number or material name like 'concrete'.  \n",
    "demo.setGround()  # This prints available materials."
   ]
  },
  {
   "cell_type": "markdown",
   "metadata": {},
   "source": [
    "If a number between 0 and 1 is passed, it assumes it's an albedo value. For this example, we want a natural-ground albedo value, so we'll use 0.25"
   ]
  },
  {
   "cell_type": "code",
   "execution_count": 10,
   "metadata": {},
   "outputs": [],
   "source": [
    "albedo = 0.25\n",
    "demo.setGround(albedo)"
   ]
  },
  {
   "cell_type": "markdown",
   "metadata": {},
   "source": [
    "<a id='step4'></a>"
   ]
  },
  {
   "cell_type": "markdown",
   "metadata": {},
   "source": [
    "## 4. Download and Load Weather Files\n",
    "\n",
    "There are various options provided in bifacial_radiance to load weatherfiles. getEPW is useful because you just set the latitude and longitude of the location and it donwloads the meteorologicla data for any location. "
   ]
  },
  {
   "cell_type": "code",
   "execution_count": 11,
   "metadata": {
    "scrolled": false
   },
   "outputs": [
    {
     "name": "stdout",
     "output_type": "stream",
     "text": [
      "Getting weather file: USA_VA_Richmond.Intl.AP.724010_TMY.epw\n",
      " ... OK!\n"
     ]
    }
   ],
   "source": [
    "# Pull in meteorological data using pyEPW for any global lat/lon\n",
    "epwfile = demo.getEPW(lat = 37.5, lon = -77.6)  # This location corresponds to Richmond, VA."
   ]
  },
  {
   "cell_type": "markdown",
   "metadata": {},
   "source": [
    "The downloaded EPW will be in the EPWs folder.\n",
    "\n",
    "To load the data, use readWeatherFile. This reads EPWs, TMY meterological data, or even your own data as long as it follows TMY data format (With any time resoultion)."
   ]
  },
  {
   "cell_type": "code",
   "execution_count": 12,
   "metadata": {},
   "outputs": [
    {
     "name": "stderr",
     "output_type": "stream",
     "text": [
      "c:\\users\\sayala\\documents\\github\\bifacial_radiance\\bifacial_radiance\\main.py:2656: pvlibDeprecationWarning: The get_sun_rise_set_transit function was deprecated in pvlib 0.6.1 and will be removed in 0.7. Use sun_rise_set_transit_spa instead.\n",
      "  sunup= pvlib.irradiance.solarposition.get_sun_rise_set_transit(datetimetz, lat, lon) #only for pvlib <0.6.1\n"
     ]
    }
   ],
   "source": [
    "# Read in the weather data pulled in above. \n",
    "metdata = demo.readWeatherFile(epwfile) "
   ]
  },
  {
   "cell_type": "markdown",
   "metadata": {},
   "source": [
    "## TRACKING Workflow"
   ]
  },
  {
   "cell_type": "markdown",
   "metadata": {},
   "source": [
    "Until now, all the steps looked the same from the Introductory Example for Fixed Tilt. The following section follows similar steps, but the functions are specific for working with single axis tracking.\n",
    "\n",
    "## 5. Set Tracking Angles\n",
    "\n",
    "This function will read the weather file, and based on the sun position it will calculate the angle the tracker should be at for each hour. It will create metdata files for each of the tracker angles considered."
   ]
  },
  {
   "cell_type": "code",
   "execution_count": 16,
   "metadata": {},
   "outputs": [
    {
     "name": "stderr",
     "output_type": "stream",
     "text": [
      "C:\\ProgramData\\Anaconda3\\lib\\site-packages\\pvlib\\tracking.py:449: RuntimeWarning: invalid value encountered in arccos\n",
      "  wc = np.degrees(np.arccos(temp))\n",
      "C:\\ProgramData\\Anaconda3\\lib\\site-packages\\pvlib\\tracking.py:473: RuntimeWarning: invalid value encountered in arccos\n",
      "  aoi = np.degrees(np.arccos(np.abs(np.sum(sun_vec*panel_norm, axis=0))))\n",
      "C:\\ProgramData\\Anaconda3\\lib\\site-packages\\pvlib\\tracking.py:568: RuntimeWarning: invalid value encountered in remainder\n",
      "  surface_azimuth = surface_azimuth % 360\n",
      "C:\\ProgramData\\Anaconda3\\lib\\site-packages\\pvlib\\tracking.py:572: RuntimeWarning: invalid value encountered in arccos\n",
      "  surface_tilt = 90 - np.degrees(np.arccos(dotproduct))\n"
     ]
    },
    {
     "name": "stdout",
     "output_type": "stream",
     "text": [
      "Saving file EPWs\\1axis_-5.0.csv, # points: 141\n",
      "Saving file EPWs\\1axis_-30.0.csv, # points: 157\n",
      "Saving file EPWs\\1axis_-45.0.csv, # points: 815\n",
      "Saving file EPWs\\1axis_-20.0.csv, # points: 110\n",
      "Saving file EPWs\\1axis_10.0.csv, # points: 81\n",
      "Saving file EPWs\\1axis_35.0.csv, # points: 167\n",
      "Saving file EPWs\\1axis_45.0.csv, # points: 842\n",
      "Saving file EPWs\\1axis_5.0.csv, # points: 244\n",
      "Saving file EPWs\\1axis_15.0.csv, # points: 123\n",
      "Saving file EPWs\\1axis_30.0.csv, # points: 116\n",
      "Saving file EPWs\\1axis_20.0.csv, # points: 225\n",
      "Saving file EPWs\\1axis_-35.0.csv, # points: 146\n",
      "Saving file EPWs\\1axis_25.0.csv, # points: 154\n",
      "Saving file EPWs\\1axis_-10.0.csv, # points: 362\n",
      "Saving file EPWs\\1axis_-40.0.csv, # points: 173\n",
      "Saving file EPWs\\1axis_0.0.csv, # points: 81\n",
      "Saving file EPWs\\1axis_40.0.csv, # points: 135\n",
      "Saving file EPWs\\1axis_-15.0.csv, # points: 136\n",
      "Saving file EPWs\\1axis_-25.0.csv, # points: 175\n"
     ]
    }
   ],
   "source": [
    "limit_angle = 45 # tracker rotation limit angle\n",
    "backtrack = True\n",
    "gcr = 0.33\n",
    "cumulativesky = True # This is important for this example!\n",
    "trackerdict = demo.set1axis(metdata, limit_angle = limit_angle, backtrack = backtrack, gcr = gcr, cumulativesky=cumulativesky)"
   ]
  },
  {
   "cell_type": "markdown",
   "metadata": {},
   "source": [
    "Setting backtrack to True is important in this step, so the trackers correct for self-shading when following the sun at high zenith angles. "
   ]
  },
  {
   "cell_type": "markdown",
   "metadata": {},
   "source": [
    "<a id='step6'></a>"
   ]
  },
  {
   "cell_type": "markdown",
   "metadata": {},
   "source": [
    "## 6. Generate the Sky\n",
    "\n",
    "This will create the skies for each sub-metdata file created by set1axis.\n"
   ]
  },
  {
   "cell_type": "code",
   "execution_count": 19,
   "metadata": {},
   "outputs": [
    {
     "name": "stdout",
     "output_type": "stream",
     "text": [
      "message: There were 70 sun up hours in this climate file\n",
      "Total Ibh/Lbh: 0.000000\n",
      "Created skyfile skies\\1axis_-5.0.rad\n",
      "message: There were 157 sun up hours in this climate file\n",
      "Total Ibh/Lbh: 0.000000\n",
      "Created skyfile skies\\1axis_-30.0.rad\n",
      "message: There were 812 sun up hours in this climate file\n",
      "Total Ibh/Lbh: 0.000000\n",
      "Created skyfile skies\\1axis_-45.0.rad\n",
      "message: There were 108 sun up hours in this climate file\n",
      "Total Ibh/Lbh: 0.000000\n",
      "Created skyfile skies\\1axis_-20.0.rad\n",
      "message: There were 76 sun up hours in this climate file\n",
      "Total Ibh/Lbh: 0.000000\n",
      "Created skyfile skies\\1axis_10.0.rad\n",
      "message: There were 167 sun up hours in this climate file\n",
      "Total Ibh/Lbh: 0.000000\n",
      "Created skyfile skies\\1axis_35.0.rad\n",
      "message: There were 842 sun up hours in this climate file\n",
      "Total Ibh/Lbh: 0.000000\n",
      "Created skyfile skies\\1axis_45.0.rad\n",
      "message: There were 243 sun up hours in this climate file\n",
      "Total Ibh/Lbh: 0.000000\n",
      "Created skyfile skies\\1axis_5.0.rad\n",
      "message: There were 112 sun up hours in this climate file\n",
      "Total Ibh/Lbh: 0.000000\n",
      "Created skyfile skies\\1axis_15.0.rad\n",
      "message: There were 116 sun up hours in this climate file\n",
      "Total Ibh/Lbh: 0.000000\n",
      "Created skyfile skies\\1axis_30.0.rad\n",
      "message: There were 224 sun up hours in this climate file\n",
      "Total Ibh/Lbh: 0.000000\n",
      "Created skyfile skies\\1axis_20.0.rad\n",
      "message: There were 145 sun up hours in this climate file\n",
      "Total Ibh/Lbh: 0.000000\n",
      "Created skyfile skies\\1axis_-35.0.rad\n",
      "message: There were 152 sun up hours in this climate file\n",
      "Total Ibh/Lbh: 0.000000\n",
      "Created skyfile skies\\1axis_25.0.rad\n",
      "message: There were 341 sun up hours in this climate file\n",
      "Total Ibh/Lbh: 0.000000\n",
      "Created skyfile skies\\1axis_-10.0.rad\n",
      "message: There were 172 sun up hours in this climate file\n",
      "Total Ibh/Lbh: 0.000000\n",
      "Created skyfile skies\\1axis_-40.0.rad\n",
      "message: There were 13 sun up hours in this climate file\n",
      "Total Ibh/Lbh: 0.000000\n",
      "Created skyfile skies\\1axis_0.0.rad\n",
      "message: There were 135 sun up hours in this climate file\n",
      "Total Ibh/Lbh: 0.000000\n",
      "Created skyfile skies\\1axis_40.0.rad\n",
      "message: There were 133 sun up hours in this climate file\n",
      "Total Ibh/Lbh: 0.000000\n",
      "Created skyfile skies\\1axis_-15.0.rad\n",
      "message: There were 172 sun up hours in this climate file\n",
      "Total Ibh/Lbh: 0.000000\n",
      "Created skyfile skies\\1axis_-25.0.rad\n"
     ]
    }
   ],
   "source": [
    "trackerdict = demo.genCumSky1axis(trackerdict)"
   ]
  },
  {
   "cell_type": "markdown",
   "metadata": {},
   "source": [
    "This is how one of the cumulative sky .cal files associated with each .rad file generated look like: \n",
    "\n",
    "![Example of the gencumsky1axis](../images_wiki/Journal2Pics/gencumsky1axis_example_file_structure_and_contents.png)\n",
    "\n",
    "\n",
    "Each of the values corresponds to the cumulative rradiance of one of those patches, for when the tracker is at that specific angle through the year."
   ]
  },
  {
   "cell_type": "markdown",
   "metadata": {},
   "source": [
    "<a id='step7'></a>"
   ]
  },
  {
   "cell_type": "markdown",
   "metadata": {},
   "source": [
    "## 7. Define the Module type\n",
    "\n",
    "Let's make a more interesting module in this example. Let's do 2-up configuration in portrait, with the modules rotating around a 10 centimeter round torque tube. Let's add a gap between the two modules in 2-UP of 10 centimeters, as well as gap between the torque tube and the modules of 5 centimeters. Along the row, the modules are separated only 2 centimeters for this example. The torquetube is painted Metal_Grey in this example (it's one of the materials available in Ground.rad, and it is 40% reflective).\n"
   ]
  },
  {
   "cell_type": "code",
   "execution_count": 21,
   "metadata": {},
   "outputs": [
    {
     "name": "stdout",
     "output_type": "stream",
     "text": [
      "\n",
      "Module Name: Custom_Tracker_Module\n",
      "Module file did not exist before, creating new module file\n",
      "Module Custom Tracker Module successfully created\n"
     ]
    },
    {
     "data": {
      "text/plain": [
       "{'x': 0.984,\n",
       " 'y': 1.7,\n",
       " 'scenex': 1.004,\n",
       " 'sceney': 3.5,\n",
       " 'scenez': 0.1,\n",
       " 'numpanels': 2,\n",
       " 'bifi': 1,\n",
       " 'text': '! genbox black Custom_Tracker_Module 0.984 1.7 0.02 | xform -t -0.492 -1.75 0.1 -a 2 -t 0 1.8 0\\r\\n! genrev Metal_Grey tube1 t*1.004 0.05 32 | xform -ry 90 -t -0.502 0 0',\n",
       " 'modulefile': 'objects\\\\Custom_Tracker_Module.rad',\n",
       " 'offsetfromaxis': 0.1,\n",
       " 'xgap': 0.02,\n",
       " 'ygap': 0.1,\n",
       " 'zgap': 0.05,\n",
       " 'cellModule': None,\n",
       " 'torquetube': {'bool': True,\n",
       "  'diameter': 0.1,\n",
       "  'tubetype': 'round',\n",
       "  'material': 'Metal_Grey'}}"
      ]
     },
     "execution_count": 21,
     "metadata": {},
     "output_type": "execute_result"
    }
   ],
   "source": [
    "x = 0.984  # meters\n",
    "y = 1.7    # meters\n",
    "module_type = 'Custom Tracker Module'\n",
    "torquetube = True\n",
    "tubetype = 'round'\n",
    "diameter = 0.1 # diameter of the torque tube\n",
    "numpanels = 2\n",
    "axisofrotationTorqueTube = True\n",
    "zgap = 0.05\n",
    "ygap = 0.10\n",
    "xgap = 0.02\n",
    "material = 'Metal_Grey'\n",
    "\n",
    "demo.makeModule(name=module_type,x=x,y=y, torquetube = torquetube, tubetype = tubetype, material = material,\n",
    "    diameter = diameter, xgap=xgap, ygap =ygap, zgap = zgap, numpanels = numpanels, axisofrotationTorqueTube=axisofrotationTorqueTube)"
   ]
  },
  {
   "cell_type": "markdown",
   "metadata": {},
   "source": []
  },
  {
   "cell_type": "markdown",
   "metadata": {},
   "source": [
    "## 7. Make the Scene\n",
    "\n",
    "The sceneDicitonary specifies the information of the scene. For tracking, different input parameters are expected in the dictionary, such as number of rows, number of modules per row, row azimuth, hube_height (distance between the axis of rotation of the modules and the ground). \n",
    "\n",
    "Azimuth gets measured from N = 0, so for South facing modules azimuth should equal 180 degrees\n"
   ]
  },
  {
   "cell_type": "code",
   "execution_count": 25,
   "metadata": {
    "scrolled": true
   },
   "outputs": [],
   "source": [
    "hub_height = 2.\n",
    "sceneDict = {'gcr': gcr,'hub_height':hub_height, 'nMods': 20, 'nRows': 7}  \n"
   ]
  },
  {
   "cell_type": "markdown",
   "metadata": {},
   "source": [
    "To make the scene we have to create a Scene Object through the method makeScene1axis. This method will create a .rad file in the objects folder, with the parameters specified in sceneDict and the module created above."
   ]
  },
  {
   "cell_type": "code",
   "execution_count": 26,
   "metadata": {},
   "outputs": [
    {
     "name": "stdout",
     "output_type": "stream",
     "text": [
      "\n",
      "Making .rad files for cumulativesky 1-axis workflow\n",
      "19 Radfiles created in /objects/\n"
     ]
    }
   ],
   "source": [
    "trackerdict = demo.makeScene1axis(trackerdict,module_type,sceneDict) "
   ]
  },
  {
   "cell_type": "code",
   "execution_count": null,
   "metadata": {},
   "outputs": [],
   "source": [
    "\n",
    "\n",
    "# makeOct1axis joins the sky.rad file, ground.rad file, and the geometry.rad files created in makeScene.\n",
    "trackerdict = demo.makeOct1axis(trackerdict)\n",
    "\n",
    "# Note: with v0.2.4 the analysis1axis has additional parameters to allow custom scans.  parameters: \n",
    "#    sensorsy = int() (9 = default)\n",
    "#    modwanted = int() (middle module default)\n",
    "#    rowwanted   =  int() (middle row default)\n",
    "# Now we need to run analysis and combine the results into an annual total.  \n",
    "# This can be done by doing a frontscan and backscan for the modwanted and rowwanted specified.\n",
    "# the frontscan and backscan include a linescan along a chord of the module, both on the front and back.  \n",
    "trackerdict = demo.analysis1axis(trackerdict, modWanted=9, rowWanted = 2)\n",
    "\n",
    "# Return the minimum of the irradiance ratio, and the average of the irradiance ratio along a chord of the module.\n",
    "print('Annual RADIANCE bifacial ratio for 1-axis tracking: %0.3f' %(sum(demo.Wm2Back)/sum(demo.Wm2Front)) )\n"
   ]
  },
  {
   "cell_type": "markdown",
   "metadata": {},
   "source": [
    "### Note: same workflow can use stored self inputs rather than repeatedly keep passing trackerdict. \n",
    "In super short version:"
   ]
  },
  {
   "cell_type": "code",
   "execution_count": 8,
   "metadata": {
    "scrolled": true
   },
   "outputs": [
    {
     "name": "stdout",
     "output_type": "stream",
     "text": [
      "path = C:\\Users\\sayala\\Documents\\RadianceScenes\\Demo2\n",
      "Getting weather file: USA_VA_Richmond.Intl.AP.724010_TMY.epw  ... OK!\n",
      "Saving file EPWs\\1axis_0.0.csv, # points: 2546\n",
      "Saving file EPWs\\1axis_-30.0.csv, # points: 200\n",
      "Saving file EPWs\\1axis_35.0.csv, # points: 166\n",
      "Saving file EPWs\\1axis_5.0.csv, # points: 930\n",
      "Saving file EPWs\\1axis_-25.0.csv, # points: 220\n",
      "Saving file EPWs\\1axis_40.0.csv, # points: 142\n",
      "Saving file EPWs\\1axis_10.0.csv, # points: 303\n",
      "Saving file EPWs\\1axis_-20.0.csv, # points: 177\n",
      "Saving file EPWs\\1axis_45.0.csv, # points: 832\n",
      "Saving file EPWs\\1axis_15.0.csv, # points: 125\n",
      "Saving file EPWs\\1axis_-15.0.csv, # points: 192\n",
      "Saving file EPWs\\1axis_-45.0.csv, # points: 808\n",
      "Saving file EPWs\\1axis_20.0.csv, # points: 228\n",
      "Saving file EPWs\\1axis_-10.0.csv, # points: 402\n",
      "Saving file EPWs\\1axis_-40.0.csv, # points: 173\n",
      "Saving file EPWs\\1axis_25.0.csv, # points: 150\n",
      "Saving file EPWs\\1axis_-5.0.csv, # points: 869\n",
      "Saving file EPWs\\1axis_-35.0.csv, # points: 179\n",
      "Saving file EPWs\\1axis_30.0.csv, # points: 118\n",
      "message: There were 78 sun up hours in this climate file\n",
      "Total Ibh/Lbh: 0.000000\n",
      "Created skyfile skies\\1axis_0.0.rad\n",
      "message: There were 158 sun up hours in this climate file\n",
      "Total Ibh/Lbh: 0.000000\n",
      "Created skyfile skies\\1axis_-30.0.rad\n",
      "message: There were 166 sun up hours in this climate file\n",
      "Total Ibh/Lbh: 0.000000\n",
      "Created skyfile skies\\1axis_35.0.rad\n",
      "message: There were 243 sun up hours in this climate file\n",
      "Total Ibh/Lbh: 0.000000\n",
      "Created skyfile skies\\1axis_5.0.rad\n",
      "message: There were 175 sun up hours in this climate file\n",
      "Total Ibh/Lbh: 0.000000\n",
      "Created skyfile skies\\1axis_-25.0.rad\n",
      "message: There were 142 sun up hours in this climate file\n",
      "Total Ibh/Lbh: 0.000000\n",
      "Created skyfile skies\\1axis_40.0.rad\n",
      "message: There were 77 sun up hours in this climate file\n",
      "Total Ibh/Lbh: 0.000000\n",
      "Created skyfile skies\\1axis_10.0.rad\n",
      "message: There were 106 sun up hours in this climate file\n",
      "Total Ibh/Lbh: 0.000000\n",
      "Created skyfile skies\\1axis_-20.0.rad\n",
      "message: There were 832 sun up hours in this climate file\n",
      "Total Ibh/Lbh: 0.000000\n",
      "Created skyfile skies\\1axis_45.0.rad\n",
      "message: There were 114 sun up hours in this climate file\n",
      "Total Ibh/Lbh: 0.000000\n",
      "Created skyfile skies\\1axis_15.0.rad\n",
      "message: There were 133 sun up hours in this climate file\n",
      "Total Ibh/Lbh: 0.000000\n",
      "Created skyfile skies\\1axis_-15.0.rad\n",
      "message: There were 805 sun up hours in this climate file\n",
      "Total Ibh/Lbh: 0.000000\n",
      "Created skyfile skies\\1axis_-45.0.rad\n",
      "message: There were 227 sun up hours in this climate file\n",
      "Total Ibh/Lbh: 0.000000\n",
      "Created skyfile skies\\1axis_20.0.rad\n",
      "message: There were 342 sun up hours in this climate file\n",
      "Total Ibh/Lbh: 0.000000\n",
      "Created skyfile skies\\1axis_-10.0.rad\n",
      "message: There were 172 sun up hours in this climate file\n",
      "Total Ibh/Lbh: 0.000000\n",
      "Created skyfile skies\\1axis_-40.0.rad\n",
      "message: There were 148 sun up hours in this climate file\n",
      "Total Ibh/Lbh: 0.000000\n",
      "Created skyfile skies\\1axis_25.0.rad\n",
      "message: There were 73 sun up hours in this climate file\n",
      "Total Ibh/Lbh: 0.000000\n",
      "Created skyfile skies\\1axis_-5.0.rad\n",
      "message: There were 146 sun up hours in this climate file\n",
      "Total Ibh/Lbh: 0.000000\n",
      "Created skyfile skies\\1axis_-35.0.rad\n",
      "message: There were 118 sun up hours in this climate file\n",
      "Total Ibh/Lbh: 0.000000\n",
      "Created skyfile skies\\1axis_30.0.rad\n",
      "\n",
      "Making .rad files for cumulativesky 1-axis workflow\n",
      "19 Radfiles created in /objects/\n",
      "\n",
      "Making 19 octfiles for 1-axis tracking in root directory.\n",
      "Created 1axis_0.0.oct\n",
      "Created 1axis_-30.0.oct\n",
      "Created 1axis_35.0.oct\n",
      "Created 1axis_5.0.oct\n",
      "Created 1axis_-25.0.oct\n",
      "Created 1axis_40.0.oct\n",
      "Created 1axis_10.0.oct\n",
      "Created 1axis_-20.0.oct\n",
      "Created 1axis_45.0.oct\n",
      "Created 1axis_15.0.oct\n",
      "Created 1axis_-15.0.oct\n",
      "Created 1axis_-45.0.oct\n",
      "Created 1axis_20.0.oct\n",
      "Created 1axis_-10.0.oct\n",
      "Created 1axis_-40.0.oct\n",
      "Created 1axis_25.0.oct\n",
      "Created 1axis_-5.0.oct\n",
      "Created 1axis_-35.0.oct\n",
      "Created 1axis_30.0.oct\n",
      "Linescan in process: 1axis_-45.0_Front\n",
      "Linescan in process: 1axis_-45.0_Back\n",
      "Saved: results\\irr_1axis_-45.0.csv\n",
      "Index: -45.0. Wm2Front: 249566.895926. Wm2Back: 19384.2455556\n",
      "Linescan in process: 1axis_-40.0_Front\n",
      "Linescan in process: 1axis_-40.0_Back\n",
      "Saved: results\\irr_1axis_-40.0.csv\n",
      "Index: -40.0. Wm2Front: 64635.0832963. Wm2Back: 5147.35622222\n",
      "Linescan in process: 1axis_-35.0_Front\n",
      "Linescan in process: 1axis_-35.0_Back\n",
      "Saved: results\\irr_1axis_-35.0.csv\n",
      "Index: -35.0. Wm2Front: 52374.2586667. Wm2Back: 4000.96866667\n",
      "Linescan in process: 1axis_-30.0_Front\n",
      "Linescan in process: 1axis_-30.0_Back\n",
      "Saved: results\\irr_1axis_-30.0.csv\n",
      "Index: -30.0. Wm2Front: 47763.6232963. Wm2Back: 3872.36092593\n",
      "Linescan in process: 1axis_-25.0_Front\n",
      "Linescan in process: 1axis_-25.0_Back\n",
      "Saved: results\\irr_1axis_-25.0.csv\n",
      "Index: -25.0. Wm2Front: 87761.7807407. Wm2Back: 6906.90740741\n",
      "Linescan in process: 1axis_-20.0_Front\n",
      "Linescan in process: 1axis_-20.0_Back\n",
      "Saved: results\\irr_1axis_-20.0.csv\n",
      "Index: -20.0. Wm2Front: 28741.9303704. Wm2Back: 2223.83040741\n",
      "Linescan in process: 1axis_-15.0_Front\n",
      "Linescan in process: 1axis_-15.0_Back\n",
      "Saved: results\\irr_1axis_-15.0.csv\n",
      "Index: -15.0. Wm2Front: 26914.0655556. Wm2Back: 2134.80774074\n",
      "Linescan in process: 1axis_-10.0_Front\n",
      "Linescan in process: 1axis_-10.0_Back\n",
      "Saved: results\\irr_1axis_-10.0.csv\n",
      "Index: -10.0. Wm2Front: 141562.181481. Wm2Back: 11234.2171481\n",
      "Linescan in process: 1axis_-5.0_Front\n",
      "Linescan in process: 1axis_-5.0_Back\n",
      "Saved: results\\irr_1axis_-5.0.csv\n",
      "Index: -5.0. Wm2Front: 1608.84496296. Wm2Back: 153.732814815\n",
      "Linescan in process: 1axis_0.0_Front\n",
      "Linescan in process: 1axis_0.0_Back\n",
      "Saved: results\\irr_1axis_0.0.csv\n",
      "Index: 0.0. Wm2Front: 5932.48611111. Wm2Back: 410.173859259\n",
      "Linescan in process: 1axis_5.0_Front\n",
      "Linescan in process: 1axis_5.0_Back\n",
      "Saved: results\\irr_1axis_5.0.csv\n",
      "Index: 5.0. Wm2Front: 136599.122222. Wm2Back: 10650.050037\n",
      "Linescan in process: 1axis_10.0_Front\n",
      "Linescan in process: 1axis_10.0_Back\n",
      "Saved: results\\irr_1axis_10.0.csv\n",
      "Index: 10.0. Wm2Front: 22398.5144444. Wm2Back: 1579.30477778\n",
      "Linescan in process: 1axis_15.0_Front\n",
      "Linescan in process: 1axis_15.0_Back\n",
      "Saved: results\\irr_1axis_15.0.csv\n",
      "Index: 15.0. Wm2Front: 26239.9674074. Wm2Back: 1670.07488889\n",
      "Linescan in process: 1axis_20.0_Front\n",
      "Linescan in process: 1axis_20.0_Back\n",
      "Saved: results\\irr_1axis_20.0.csv\n",
      "Index: 20.0. Wm2Front: 96825.4744444. Wm2Back: 6858.268\n",
      "Linescan in process: 1axis_25.0_Front\n",
      "Linescan in process: 1axis_25.0_Back\n",
      "Saved: results\\irr_1axis_25.0.csv\n",
      "Index: 25.0. Wm2Front: 41199.6223704. Wm2Back: 2718.62581481\n",
      "Linescan in process: 1axis_30.0_Front\n",
      "Linescan in process: 1axis_30.0_Back\n",
      "Saved: results\\irr_1axis_30.0.csv\n",
      "Index: 30.0. Wm2Front: 47028.9877778. Wm2Back: 2737.57759259\n",
      "Linescan in process: 1axis_35.0_Front\n",
      "Linescan in process: 1axis_35.0_Back\n",
      "Saved: results\\irr_1axis_35.0.csv\n",
      "Index: 35.0. Wm2Front: 69287.6914815. Wm2Back: 3978.97455556\n",
      "Linescan in process: 1axis_40.0_Front\n",
      "Linescan in process: 1axis_40.0_Back\n",
      "Saved: results\\irr_1axis_40.0.csv\n",
      "Index: 40.0. Wm2Front: 50883.864963. Wm2Back: 2663.45833333\n",
      "Linescan in process: 1axis_45.0_Front\n",
      "Linescan in process: 1axis_45.0_Back\n",
      "Saved: results\\irr_1axis_45.0.csv\n",
      "Index: 45.0. Wm2Front: 257535.217037. Wm2Back: 13469.9401111\n",
      "Annual bifacial ratio for 1-axis tracking: 0.070\n"
     ]
    }
   ],
   "source": [
    "try:\n",
    "    from bifacial_radiance import *\n",
    "except ImportError:\n",
    "    raise RuntimeError('bifacial_radiance is required. download distribution')\n",
    "\n",
    "demo = RadianceObj(path = testfolder) \n",
    "demo.setGround(0.2)\n",
    "epwfile = demo.getEPW(37.5,-77.6) \n",
    "metdata = demo.readEPW(epwfile)\n",
    "demo.set1axis()\n",
    "demo.genCumSky1axis()\n",
    "module_type = '2upTracker' # Since we already created this module type, we don't need to makeModule, we just need to call it when we make the Scene.\n",
    "sceneDict = {'pitch':module_height / gcr,'height':hub_height, 'nMods': 20, 'nRows': 7}  # orientation deprecated on v.0.2.4.\n",
    "demo.makeScene1axis(moduletype=module_type,sceneDict = sceneDict)\n",
    "demo.makeOct1axis()\n",
    "demo.analysis1axis()\n",
    "print('Annual bifacial ratio for 1-axis tracking: %0.3f' %(np.mean(demo.Wm2Back)/np.mean(demo.Wm2Front)) )\n"
   ]
  },
  {
   "cell_type": "markdown",
   "metadata": {},
   "source": [
    "# GENDAYLIT Workflow.  -- hourly tracker option"
   ]
  },
  {
   "cell_type": "code",
   "execution_count": null,
   "metadata": {},
   "outputs": [],
   "source": [
    "## New v0.2.3 software includes the option for hourly tracked simulation workflow using gendaylit. \n",
    "\n",
    "# The first part is the same:\n",
    "demo2 = RadianceObj('Gendaylit_TrackingHourly',testfolder)  \n",
    "demo2.setGround(0.2) \n",
    "epwfile = demo2.getEPW(37.5,-77.6) #pull TMY data for any global lat/lon\n",
    "metdata = demo2.readEPW(epwfile) # read in the weather data   \n",
    "\n",
    "# This is the same for gencumsky and gendaylit: create a new moduletype, and specify a sceneDict. \n",
    "module_type = 'Prism Solar Bi60'\n",
    "demo2.makeModule(name=module_type,x=0.984,y=1.695,bifi = 0.90)  # set module type to be used and passed into makeScene1axis\n",
    "# Create the scenedictionary for the 1-axis tracking\n",
    "sceneDict = {'pitch':1.695 / 0.33,'height':2.35, 'nMods': 20, 'nRows': 7}  \n",
    "\n"
   ]
  },
  {
   "cell_type": "code",
   "execution_count": null,
   "metadata": {},
   "outputs": [],
   "source": [
    "# NEW hourly gendaylit workflow. Note that trackerdict is returned with hourly time points as keys instead of tracker angles.\n",
    "trackerdict2 = demo2.set1axis(cumulativesky = False)  # this cumulativesky = False key is crucial to set up the hourly workflow\n",
    "\n",
    "# This is for exemplifying the changes undergone in the trackerdict by each step. Just printing information.\n",
    "print (\"Full trackerdict for all the year created by set1axis: %s \" % (len(trackerdict2))) # trackerdict contains all hours in the year as keys. For example: trackerdict2['12_16_08']\n",
    "print (\"Contents of trackerdict for sample hour after creating on set1axis, \\n trackerdict2['12_16_08']: \\n %s \\n\" % ( trackerdict2['12_16_08']))\n",
    "\n",
    "# Create the skyfiles needed for 1-axis tracking. \n",
    "# If you don't specify a startdate and enddate, all the year will be created, which will take more time. \n",
    "# For this example we are doing the first half of January.\n",
    "# Specifying the startdate and enddate also trims down the trackerdict from the whole year to just the entries between that start and enddate.\n",
    "trackerdict2 = demo2.gendaylit1axis(startdate='01/01', enddate='01/15')  # optional parameters 'startdate', 'enddate' inputs = string 'MM/DD' or 'MM_DD' \n",
    "\n",
    "# This is for exemplifying the changes undergone in the trackerdict by each step. Just printing information.\n",
    "print (\"\\nTrimmed trackerdict by gendaylit1axis to start and enddate: %s \" % (len(trackerdict2)))\n",
    "print (\"Contents of trackerdict for sample hour after running gendaylit1axis \\n trackerdict2['01_01_11']: %s \" % ( trackerdict2['01_01_11']))\n"
   ]
  },
  {
   "cell_type": "code",
   "execution_count": null,
   "metadata": {},
   "outputs": [],
   "source": [
    "# making the different scenes for the 1-axis tracking for the dates in trackerdict2.\n",
    "trackerdict2 = demo2.makeScene1axis(trackerdict2, module_type,sceneDict, cumulativesky = False) #makeScene creates a .rad file with 20 modules per row, 7 rows.\n",
    "\n",
    "# This is for exemplifying the changes undergone in the trackerdict by each step. Just printing information.\n",
    "print (\"\\n Contents of trackerdict for sample hour after makeScene1axis: \\n trackerdict2['01_01_11']: \\n %s \" % ( trackerdict2['01_01_11']))"
   ]
  },
  {
   "cell_type": "markdown",
   "metadata": {},
   "source": [
    "#### Run one single index (super fast example):"
   ]
  },
  {
   "cell_type": "code",
   "execution_count": null,
   "metadata": {},
   "outputs": [],
   "source": [
    "# Now this is the part that takes a long time, and will probably require parallel computing for doing more time points or the full year. \n",
    "# For this example we just run one hourly point:\n",
    "\n",
    "demo2.makeOct1axis(trackerdict2,singleindex='01_01_11')\n",
    "\n",
    "# This is for exemplifying the changes undergone in the trackerdict by each step. Just printing information.\n",
    "print (\"\\n Contents of trackerdict for sample hour after makeOct1axis: \\n trackerdict2['01_01_11']: \\n %s \\n\" % ( trackerdict2['01_01_11']))\n",
    "\n",
    "demo2.analysis1axis(trackerdict2,singleindex='01_01_11')\n",
    "\n",
    "# This is for exemplifying the changes undergone in the trackerdict by each step. Just printing information.\n",
    "print (\"\\n Contents of trackerdict for sample hour after makeOct1axis: \\n trackerdict2['01_01_11']: \\n %s \\n\" % ( trackerdict2['01_01_11']))\n",
    "\n",
    "# Printing the results.\n",
    "print('\\n\\n1-axis tracking hourly bifi gain: {:0.3}'.format(sum(demo2.Wm2Back) / sum(demo2.Wm2Front)))\n",
    "\n"
   ]
  },
  {
   "cell_type": "markdown",
   "metadata": {},
   "source": [
    "#### Run a range of indexes: (not as fast as a single index, not as slow as all!)\n"
   ]
  },
  {
   "cell_type": "code",
   "execution_count": null,
   "metadata": {},
   "outputs": [],
   "source": [
    "for time in ['01_01_11','01_01_12']:  # just two timepoints\n",
    "    demo2.makeOct1axis(trackerdict2,singleindex=time)\n",
    "    demo2.analysis1axis(trackerdict2,singleindex=time)\n",
    "\n",
    "print('1-axis tracking hourly bifi gain: {:0.3}'.format(sum(demo2.Wm2Back) / sum(demo2.Wm2Front)))"
   ]
  },
  {
   "cell_type": "markdown",
   "metadata": {},
   "source": [
    "#### Run the full trackingdictionary...\n",
    "(this might considerably more time, depending on the number of entries on the trackerdictionary! You've been warned) \n"
   ]
  },
  {
   "cell_type": "code",
   "execution_count": null,
   "metadata": {},
   "outputs": [],
   "source": [
    "demo2.makeOct1axis(trackerdict2,singleindex=time)\n",
    "demo2.analysis1axis(trackerdict2,singleindex=time)\n",
    "print('1-axis tracking hourly bifi gain: {:0.3}'.format(sum(demo2.Wm2Back) / sum(demo2.Wm2Front)))\n"
   ]
  },
  {
   "cell_type": "markdown",
   "metadata": {},
   "source": [
    "### Gendaylit for the WHOLE Year\n",
    "And because you asked: this is the summarized version to run with gendaylit the WHOLE year. \n",
    "#### This will take ~4 days on a really good computer. IF you're sure this is what you want, uncomment and run below :)"
   ]
  },
  {
   "cell_type": "code",
   "execution_count": null,
   "metadata": {},
   "outputs": [],
   "source": [
    "'''\n",
    "demo2 = RadianceObj('Gendaylit_AllYear_Tracking',testfolder)  \n",
    "demo2.setGround(0.2) \n",
    "epwfile = demo2.getEPW(37.5,-77.6) #pull TMY data for any global lat/lon\n",
    "metdata = demo2.readEPW(epwfile) # read in the weather data   \n",
    "module_type = 'Prism Solar Bi60'\n",
    "sceneDict = {'pitch':1.695 / 0.33,'height':2.35, 'nMods': 20, 'nRows': 7}  \n",
    "trackerdict2 = demo2.set1axis(cumulativesky = False)  # this cumulativesky = False key is crucial to set up the hourly workflow\n",
    "trackerdict2 = demo2.gendaylit1axis()  # optional parameters 'startdate', 'enddate' inputs = string 'MM/DD' or 'MM_DD' \n",
    "trackerdict2 = demo2.makeScene1axis(trackerdict2, module_type,sceneDict, cumulativesky = False) #makeScene creates a .rad file with 20 modules per row, 7 rows.\n",
    "demo2.makeOct1axis(trackerdict2)\n",
    "demo2.analysis1axis(trackerdict2)\n",
    "'''"
   ]
  }
 ],
 "metadata": {
  "anaconda-cloud": {},
  "kernelspec": {
   "display_name": "Python 3",
   "language": "python",
   "name": "python3"
  },
  "language_info": {
   "codemirror_mode": {
    "name": "ipython",
    "version": 3
   },
   "file_extension": ".py",
   "mimetype": "text/x-python",
   "name": "python",
   "nbconvert_exporter": "python",
   "pygments_lexer": "ipython3",
   "version": "3.7.3"
  }
 },
 "nbformat": 4,
 "nbformat_minor": 1
}
