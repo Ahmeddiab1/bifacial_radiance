{
 "cells": [
  {
   "cell_type": "markdown",
   "metadata": {},
   "source": [
    "## 1-Axis tracker example\n",
    "\n",
    "Example demonstrating Radiance gencumulativesky for 1-axis tracking.\n",
    "\n",
    "#### This assumes bifacial_radiance has been installed properly. \n",
    "\n",
    "See bifacial_radiance wiki, bifacial_radiance main page, or the jupyter journal with bifacial_radiance examples on proper installation.\n",
    "\n",
    "#### Types of 1-axis tracking simulations:\n",
    "\n",
    "<b> CumulativeSky: True</b> gencumsky has been modified to divide the yearly-cumulative sky into various skies, each one representing the cumulative irradiance for the hours at which the tracker is at a certain angle. For faster running, for a tracker that moves between 60 and -60 degrees limit angle, if only positions every 5 degrees are considered (60, 55, 50 ... -55, -60), then only 25 skies (and 25 simulations) will be run for the whole year.\n",
    "\n",
    "This procedure was presented in. Reffer to this journal for more information:\n",
    "\n",
    "    S. Ayala Pelaez, C. Deline, P. Greenberg, J. S. Stein, and R. K. Kostuk, “Model and Validation of Single-Axis Tracking with Bifacial PV - Preprint,” Golden Co Natl. Renew. Energy Lab. NREL/CP-5K00-72039., no. October, 2018. https://www.nrel.gov/docs/fy19osti/72039.pdf\n",
    "\n",
    "<b>CumulativeSky: False </b>. This uses Gendaylit function, which performs the simulation hour by hour. A good computer and a ton of patience are needed for doing the ~4000 daylight-hours of the year, or else a high-performance-computing for handling full year simulations. The procedure can be broken into shorter steps for one day or a single timestamp simulation which is exemplified below.\n",
    "\n",
    "The first part is common to both procedures. We show a couple tricks of loading files / or weather files here too.\n",
    "\n",
    "\n"
   ]
  },
  {
   "cell_type": "code",
   "execution_count": 2,
   "metadata": {},
   "outputs": [
    {
     "name": "stdout",
     "output_type": "stream",
     "text": [
      "Your simulation will be stored in C:\\Users\\sayala\\Documents\\GitHub\\bifacial_radiance\\bifacial_radiance\\TEMP\n"
     ]
    }
   ],
   "source": [
    "import os\n",
    "testfolder = os.path.abspath(r'..\\bifacial_radiance\\TEMP')  \n",
    "\n",
    "# You can alternatively point to an empty directory (it will open a load GUI Visual Interface)\n",
    "# or specify any other directory in your computer. I.E.:\n",
    "# testfolder = r'C:\\Users\\sayala\\Documents\\RadianceScenes\\Demo'\n",
    "\n",
    "print (\"Your simulation will be stored in %s\" % testfolder)"
   ]
  },
  {
   "cell_type": "code",
   "execution_count": 3,
   "metadata": {},
   "outputs": [],
   "source": [
    "#tracker geometry options:\n",
    "module_height = 1.7  # module portrait dimension in meters\n",
    "gcr = 0.33   # ground cover ratio,  = module_height / pitch\n",
    "albedo = 0.3     # ground albedo\n",
    "hub_height = 2   # tracker height at 0 tilt in meters (hub height)\n",
    "limit_angle = 45 # tracker rotation limit angle"
   ]
  },
  {
   "cell_type": "code",
   "execution_count": 4,
   "metadata": {},
   "outputs": [
    {
     "name": "stdout",
     "output_type": "stream",
     "text": [
      "path = C:\\Users\\sayala\\Documents\\GitHub\\bifacial_radiance\\bifacial_radiance\\TEMP\n"
     ]
    }
   ],
   "source": [
    "try:\n",
    "    from bifacial_radiance import RadianceObj, AnalysisObj\n",
    "except ImportError:\n",
    "    raise RuntimeError('bifacial_radiance is required. download distribution')\n",
    "    # Simple example system using Radiance.\n",
    "import numpy as np\n",
    "\n",
    "# Easy graphical director picker:  \n",
    "# this is only required if you want a graphical directory picker.  \n",
    "# Note:  easygui sometimes opens in the background forcing you to hunt for the window!  \n",
    "#import easygui \n",
    "#testfolder = easygui.diropenbox(msg = 'Select or create an empty directory for the Radiance tree',title='Browse for empty Radiance directory')\n",
    "\n",
    "demo = RadianceObj(path = testfolder)  # Create a RadianceObj 'object'\n",
    "demo.setGround(albedo) # input albedo number or material name like 'concrete'.  To see options, run this without any input.\n",
    "\n"
   ]
  },
  {
   "cell_type": "markdown",
   "metadata": {},
   "source": [
    "#### Look at a couple of ways to get meteorological data"
   ]
  },
  {
   "cell_type": "code",
   "execution_count": 8,
   "metadata": {
    "scrolled": false
   },
   "outputs": [
    {
     "name": "stdout",
     "output_type": "stream",
     "text": [
      "Getting weather file: USA_VA_Richmond.Intl.AP.724010_TMY.epw\n",
      " ... OK!\n"
     ]
    },
    {
     "name": "stderr",
     "output_type": "stream",
     "text": [
      "c:\\users\\sayala\\documents\\github\\bifacial_radiance\\bifacial_radiance\\main.py:2449: pvlibDeprecationWarning: The get_sun_rise_set_transit function was deprecated in pvlib 0.6.1 and will be removed in 0.7. Use sun_rise_set_transit_spa instead.\n",
      "  sunup= pvlib.irradiance.solarposition.get_sun_rise_set_transit(datetimetz, lat, lon) #only for pvlib <0.6.1\n",
      "c:\\users\\sayala\\documents\\github\\bifacial_radiance\\bifacial_radiance\\main.py:2449: pvlibDeprecationWarning: The get_sun_rise_set_transit function was deprecated in pvlib 0.6.1 and will be removed in 0.7. Use sun_rise_set_transit_spa instead.\n",
      "  sunup= pvlib.irradiance.solarposition.get_sun_rise_set_transit(datetimetz, lat, lon) #only for pvlib <0.6.1\n"
     ]
    }
   ],
   "source": [
    "EPWmode = True\n",
    "if EPWmode is True:\n",
    "    epwfile = demo.getEPW(37.5,-77.6) #Pull EPW data for any global lat/lon. In this case, Richmond, VA\n",
    "    metdata = demo.readEPW(epwfile) # read in the weather data\n",
    "    #metdata = demo.readEPW('EPWs\\\\USA_VA_Richmond.Intl.AP.724010_TMY.epw') # read in the weather data directly\n",
    "else:\n",
    "    metdata = demo.readTMY() # load TMY3 data from another source, like solar prospector. A version is saved as \\EPWs\\tmy3_temp.csv\n",
    "\n",
    "# Alternatively, you can use readWeatherFile, which doesn't care if the file is an EPW or a CSV.\n",
    "metdata = demo.readWeatherFile(epwfile)"
   ]
  },
  {
   "cell_type": "markdown",
   "metadata": {},
   "source": [
    "## CumulativeSky Workflow"
   ]
  },
  {
   "cell_type": "code",
   "execution_count": 9,
   "metadata": {
    "scrolled": true
   },
   "outputs": [
    {
     "name": "stderr",
     "output_type": "stream",
     "text": [
      "C:\\ProgramData\\Anaconda3\\lib\\site-packages\\pvlib\\tracking.py:428: RuntimeWarning: invalid value encountered in arccos\n",
      "  wc = np.degrees(np.arccos(temp))\n",
      "C:\\ProgramData\\Anaconda3\\lib\\site-packages\\pvlib\\tracking.py:431: RuntimeWarning: invalid value encountered in less\n",
      "  tracker_theta = np.where(wid < 0, wid + wc, wid - wc)\n",
      "C:\\ProgramData\\Anaconda3\\lib\\site-packages\\pvlib\\tracking.py:435: RuntimeWarning: invalid value encountered in greater\n",
      "  tracker_theta[tracker_theta > max_angle] = max_angle\n",
      "C:\\ProgramData\\Anaconda3\\lib\\site-packages\\pvlib\\tracking.py:436: RuntimeWarning: invalid value encountered in less\n",
      "  tracker_theta[tracker_theta < -max_angle] = -max_angle\n",
      "C:\\ProgramData\\Anaconda3\\lib\\site-packages\\pvlib\\tracking.py:450: RuntimeWarning: invalid value encountered in arccos\n",
      "  aoi = np.degrees(np.arccos(np.abs(np.sum(sun_vec*panel_norm, axis=0))))\n",
      "C:\\ProgramData\\Anaconda3\\lib\\site-packages\\pvlib\\tracking.py:543: RuntimeWarning: invalid value encountered in less\n",
      "  surface_azimuth[surface_azimuth < 0] += 360\n",
      "C:\\ProgramData\\Anaconda3\\lib\\site-packages\\pvlib\\tracking.py:544: RuntimeWarning: invalid value encountered in greater_equal\n",
      "  surface_azimuth[surface_azimuth >= 360] -= 360\n",
      "C:\\ProgramData\\Anaconda3\\lib\\site-packages\\pvlib\\tracking.py:548: RuntimeWarning: invalid value encountered in arccos\n",
      "  surface_tilt = 90 - np.degrees(np.arccos(dotproduct))\n"
     ]
    },
    {
     "name": "stdout",
     "output_type": "stream",
     "text": [
      "Saving file EPWs\\1axis_-5.0.csv, # points: 141\n",
      "Saving file EPWs\\1axis_-30.0.csv, # points: 157\n",
      "Saving file EPWs\\1axis_-45.0.csv, # points: 815\n",
      "Saving file EPWs\\1axis_-20.0.csv, # points: 110\n",
      "Saving file EPWs\\1axis_10.0.csv, # points: 81\n",
      "Saving file EPWs\\1axis_35.0.csv, # points: 167\n",
      "Saving file EPWs\\1axis_45.0.csv, # points: 842\n",
      "Saving file EPWs\\1axis_5.0.csv, # points: 244\n",
      "Saving file EPWs\\1axis_15.0.csv, # points: 123\n",
      "Saving file EPWs\\1axis_30.0.csv, # points: 116\n",
      "Saving file EPWs\\1axis_20.0.csv, # points: 225\n",
      "Saving file EPWs\\1axis_-35.0.csv, # points: 146\n",
      "Saving file EPWs\\1axis_25.0.csv, # points: 154\n",
      "Saving file EPWs\\1axis_-10.0.csv, # points: 362\n",
      "Saving file EPWs\\1axis_-40.0.csv, # points: 173\n",
      "Saving file EPWs\\1axis_0.0.csv, # points: 81\n",
      "Saving file EPWs\\1axis_40.0.csv, # points: 135\n",
      "Saving file EPWs\\1axis_-15.0.csv, # points: 136\n",
      "Saving file EPWs\\1axis_-25.0.csv, # points: 175\n",
      "message: There were 70 sun up hours in this climate file\n",
      "Total Ibh/Lbh: 0.000000\n",
      "Created skyfile skies\\1axis_-5.0.rad\n",
      "message: There were 157 sun up hours in this climate file\n",
      "Total Ibh/Lbh: 0.000000\n",
      "Created skyfile skies\\1axis_-30.0.rad\n",
      "message: There were 812 sun up hours in this climate file\n",
      "Total Ibh/Lbh: 0.000000\n",
      "Created skyfile skies\\1axis_-45.0.rad\n",
      "message: There were 108 sun up hours in this climate file\n",
      "Total Ibh/Lbh: 0.000000\n",
      "Created skyfile skies\\1axis_-20.0.rad\n",
      "message: There were 76 sun up hours in this climate file\n",
      "Total Ibh/Lbh: 0.000000\n",
      "Created skyfile skies\\1axis_10.0.rad\n",
      "message: There were 167 sun up hours in this climate file\n",
      "Total Ibh/Lbh: 0.000000\n",
      "Created skyfile skies\\1axis_35.0.rad\n",
      "message: There were 842 sun up hours in this climate file\n",
      "Total Ibh/Lbh: 0.000000\n",
      "Created skyfile skies\\1axis_45.0.rad\n",
      "message: There were 243 sun up hours in this climate file\n",
      "Total Ibh/Lbh: 0.000000\n",
      "Created skyfile skies\\1axis_5.0.rad\n",
      "message: There were 112 sun up hours in this climate file\n",
      "Total Ibh/Lbh: 0.000000\n",
      "Created skyfile skies\\1axis_15.0.rad\n",
      "message: There were 116 sun up hours in this climate file\n",
      "Total Ibh/Lbh: 0.000000\n",
      "Created skyfile skies\\1axis_30.0.rad\n",
      "message: There were 224 sun up hours in this climate file\n",
      "Total Ibh/Lbh: 0.000000\n",
      "Created skyfile skies\\1axis_20.0.rad\n",
      "message: There were 145 sun up hours in this climate file\n",
      "Total Ibh/Lbh: 0.000000\n",
      "Created skyfile skies\\1axis_-35.0.rad\n",
      "message: There were 152 sun up hours in this climate file\n",
      "Total Ibh/Lbh: 0.000000\n",
      "Created skyfile skies\\1axis_25.0.rad\n",
      "message: There were 341 sun up hours in this climate file\n",
      "Total Ibh/Lbh: 0.000000\n",
      "Created skyfile skies\\1axis_-10.0.rad\n",
      "message: There were 172 sun up hours in this climate file\n",
      "Total Ibh/Lbh: 0.000000\n",
      "Created skyfile skies\\1axis_-40.0.rad\n",
      "message: There were 13 sun up hours in this climate file\n",
      "Total Ibh/Lbh: 0.000000\n",
      "Created skyfile skies\\1axis_0.0.rad\n",
      "message: There were 135 sun up hours in this climate file\n",
      "Total Ibh/Lbh: 0.000000\n",
      "Created skyfile skies\\1axis_40.0.rad\n",
      "message: There were 133 sun up hours in this climate file\n",
      "Total Ibh/Lbh: 0.000000\n",
      "Created skyfile skies\\1axis_-15.0.rad\n",
      "message: There were 172 sun up hours in this climate file\n",
      "Total Ibh/Lbh: 0.000000\n",
      "Created skyfile skies\\1axis_-25.0.rad\n"
     ]
    }
   ],
   "source": [
    "# We have 2 workflows: cumulativesky and hourly.  Start with cumulativesky\n",
    "\n",
    "# create metdata files for each condition. It will create a met-data file for each angle the tracker will find itself in.\n",
    "# set1axis has as input variable cumulativesky, which is set to True as default.\n",
    "trackerdict = demo.set1axis(metdata, limit_angle = limit_angle, backtrack = True, gcr = gcr)\n",
    "\n",
    "# Create the skies for each sub-metdata file created by set1axis.\n",
    "trackerdict = demo.genCumSky1axis(trackerdict)"
   ]
  },
  {
   "cell_type": "code",
   "execution_count": 11,
   "metadata": {},
   "outputs": [
    {
     "name": "stdout",
     "output_type": "stream",
     "text": [
      "\n",
      "Module Name: Prism_Solar_Bi60\n",
      "Module file did not exist before, creating new module file\n",
      "Module Prism Solar Bi60 successfully created\n",
      "\n",
      "Module Name: 2upTracker\n",
      "Module file did not exist before, creating new module file\n",
      "Module 2upTracker successfully created\n",
      "\n",
      "Module Name: cellLevelModule\n",
      "Module file did not exist before, creating new module file\n",
      "Module was shifted by 0.078 in X to avoid sensors on air\n",
      "This is a Cell-Level detailed module with Packaging Factor of 0.81 %\n",
      "Module cellLevelModule successfully created\n",
      "\n",
      "Usage: SceneObj(moduletype)\n",
      "No module type selected. Available module types: dict_keys(['Prism Solar Bi60', '2upTracker', 'test', 'Prism Solar Bi60 landscape', 'cellModule', 'cellLevelModule'])\n",
      "Available module names: ['Prism Solar Bi60', '2upTracker', 'test', 'Prism Solar Bi60 landscape', 'cellModule', 'cellLevelModule']\n"
     ]
    },
    {
     "data": {
      "text/plain": [
       "dict_keys(['Prism Solar Bi60', '2upTracker', 'test', 'Prism Solar Bi60 landscape', 'cellModule', 'cellLevelModule'])"
      ]
     },
     "execution_count": 11,
     "metadata": {},
     "output_type": "execute_result"
    }
   ],
   "source": [
    "# Create a new moduletype: Prism Solar Bi60. width = .984m height = 1.695m. Bifaciality = 0.90\n",
    "demo.makeModule(name='Prism Solar Bi60',x=0.984,y=module_height)\n",
    "# note that beginning in v0.2.3 you can add torque tubes and multiple module arrays. e.g:\n",
    "demo.makeModule(name='2upTracker',x=0.984,y=module_height, torquetube = True, tubetype = 'round', \n",
    "    diameter = 0.1, xgap=0.02, ygap = 0.05, zgap = 0.05, numpanels = 2, axisofrotationTorqueTube=True)\n",
    "# and now in v0.2.4 you can even add cell-level options if you want non-opaque, cell-defined modules.\n",
    "# To do this, pass a dictionary with the Cell Level Module PArameters:\n",
    "cellLevelModuleParams = {'numcellsx': 6, 'numcellsy':10, 'xcell': 0.156, 'ycell':0.156, 'xcellgap':0.02, 'ycellgap':0.02}\n",
    "\n",
    "demo.makeModule(name='cellLevelModule', bifi=1, torquetube=True, diameter=0.1, tubetype='Oct', material='Metal_Grey', \n",
    "                xgap=0.02, ygap=0.05, zgap=0.05, numpanels=2, \n",
    "                cellLevelModuleParams=cellLevelModuleParams, \n",
    "                axisofrotationTorqueTube=False)\n"
   ]
  },
  {
   "cell_type": "code",
   "execution_count": 12,
   "metadata": {},
   "outputs": [
    {
     "name": "stdout",
     "output_type": "stream",
     "text": [
      "\n",
      "Usage: SceneObj(moduletype)\n",
      "No module type selected. Available module types: dict_keys(['Prism Solar Bi60', '2upTracker', 'test', 'Prism Solar Bi60 landscape', 'cellModule', 'cellLevelModule'])\n",
      "Available module names: ['Prism Solar Bi60', '2upTracker', 'test', 'Prism Solar Bi60 landscape', 'cellModule', 'cellLevelModule']\n"
     ]
    },
    {
     "data": {
      "text/plain": [
       "dict_keys(['Prism Solar Bi60', '2upTracker', 'test', 'Prism Solar Bi60 landscape', 'cellModule', 'cellLevelModule'])"
      ]
     },
     "execution_count": 12,
     "metadata": {},
     "output_type": "execute_result"
    }
   ],
   "source": [
    "# For more options on makemodule, see the help description of the function.  \n",
    "\n",
    "print(\"\")\n",
    "demo.printModules()# print available module types"
   ]
  },
  {
   "cell_type": "code",
   "execution_count": 13,
   "metadata": {
    "scrolled": true
   },
   "outputs": [
    {
     "name": "stdout",
     "output_type": "stream",
     "text": [
      "\n",
      "Making .rad files for cumulativesky 1-axis workflow\n",
      "19 Radfiles created in /objects/\n",
      "\n",
      "Making 19 octfiles for 1-axis tracking in root directory.\n",
      "Created 1axis_-5.0.oct\n",
      "Created 1axis_-30.0.oct\n",
      "Created 1axis_-45.0.oct\n",
      "Created 1axis_-20.0.oct\n",
      "Created 1axis_10.0.oct\n",
      "Created 1axis_35.0.oct\n",
      "Created 1axis_45.0.oct\n",
      "Created 1axis_5.0.oct\n",
      "Created 1axis_15.0.oct\n",
      "Created 1axis_30.0.oct\n",
      "Created 1axis_20.0.oct\n",
      "Created 1axis_-35.0.oct\n",
      "Created 1axis_25.0.oct\n",
      "Created 1axis_-10.0.oct\n",
      "Created 1axis_-40.0.oct\n",
      "Created 1axis_0.0.oct\n",
      "Created 1axis_40.0.oct\n",
      "Created 1axis_-15.0.oct\n",
      "Created 1axis_-25.0.oct\n",
      "Linescan in process: 1axis_-45.0_Front\n",
      "Linescan in process: 1axis_-45.0_Back\n",
      "Saved: results\\irr_1axis_-45.0.csv\n",
      "Index: -45.0. Wm2Front: 323669.65555555554. Wm2Back: 47256.54777777778\n",
      "Linescan in process: 1axis_-40.0_Front\n",
      "Linescan in process: 1axis_-40.0_Back\n",
      "Saved: results\\irr_1axis_-40.0.csv\n",
      "Index: -40.0. Wm2Front: 78301.63666666666. Wm2Back: 12710.161111111109\n",
      "Linescan in process: 1axis_-35.0_Front\n",
      "Linescan in process: 1axis_-35.0_Back\n",
      "Saved: results\\irr_1axis_-35.0.csv\n",
      "Index: -35.0. Wm2Front: 62560.62222222222. Wm2Back: 10102.738666666668\n",
      "Linescan in process: 1axis_-30.0_Front\n",
      "Linescan in process: 1axis_-30.0_Back\n",
      "Saved: results\\irr_1axis_-30.0.csv\n",
      "Index: -30.0. Wm2Front: 55811.205555555556. Wm2Back: 9679.104555555554\n",
      "Linescan in process: 1axis_-25.0_Front\n",
      "Linescan in process: 1axis_-25.0_Back\n",
      "Saved: results\\irr_1axis_-25.0.csv\n",
      "Index: -25.0. Wm2Front: 95469.41666666667. Wm2Back: 16476.726666666666\n",
      "Linescan in process: 1axis_-20.0_Front\n",
      "Linescan in process: 1axis_-20.0_Back\n",
      "Saved: results\\irr_1axis_-20.0.csv\n",
      "Index: -20.0. Wm2Front: 31675.578888888893. Wm2Back: 5833.690444444444\n",
      "Linescan in process: 1axis_-15.0_Front\n",
      "Linescan in process: 1axis_-15.0_Back\n",
      "Saved: results\\irr_1axis_-15.0.csv\n",
      "Index: -15.0. Wm2Front: 28592.701111111113. Wm2Back: 5413.696999999999\n",
      "Linescan in process: 1axis_-10.0_Front\n",
      "Linescan in process: 1axis_-10.0_Back\n",
      "Saved: results\\irr_1axis_-10.0.csv\n",
      "Index: -10.0. Wm2Front: 143014.67777777778. Wm2Back: 26814.435555555552\n",
      "Linescan in process: 1axis_-5.0_Front\n",
      "Linescan in process: 1axis_-5.0_Back\n",
      "Saved: results\\irr_1axis_-5.0.csv\n",
      "Index: -5.0. Wm2Front: 1533.7563333333333. Wm2Back: 305.8525\n",
      "Linescan in process: 1axis_0.0_Front\n",
      "Linescan in process: 1axis_0.0_Back\n",
      "Saved: results\\irr_1axis_0.0.csv\n",
      "Index: 0.0. Wm2Front: 5100.040888888889. Wm2Back: 935.8778555555554\n",
      "Linescan in process: 1axis_5.0_Front\n",
      "Linescan in process: 1axis_5.0_Back\n",
      "Saved: results\\irr_1axis_5.0.csv\n",
      "Index: 5.0. Wm2Front: 138836.09999999998. Wm2Back: 25479.60444444444\n",
      "Linescan in process: 1axis_10.0_Front\n",
      "Linescan in process: 1axis_10.0_Back\n",
      "Saved: results\\irr_1axis_10.0.csv\n",
      "Index: 10.0. Wm2Front: 23600.682222222225. Wm2Back: 4275.620222222222\n",
      "Linescan in process: 1axis_15.0_Front\n",
      "Linescan in process: 1axis_15.0_Back\n",
      "Saved: results\\irr_1axis_15.0.csv\n",
      "Index: 15.0. Wm2Front: 28227.198888888888. Wm2Back: 4791.782999999999\n",
      "Linescan in process: 1axis_20.0_Front\n",
      "Linescan in process: 1axis_20.0_Back\n",
      "Saved: results\\irr_1axis_20.0.csv\n",
      "Index: 20.0. Wm2Front: 105853.19999999998. Wm2Back: 18204.43888888889\n",
      "Linescan in process: 1axis_25.0_Front\n",
      "Linescan in process: 1axis_25.0_Back\n",
      "Saved: results\\irr_1axis_25.0.csv\n",
      "Index: 25.0. Wm2Front: 49050.19333333333. Wm2Back: 7848.846111111112\n",
      "Linescan in process: 1axis_30.0_Front\n",
      "Linescan in process: 1axis_30.0_Back\n",
      "Saved: results\\irr_1axis_30.0.csv\n",
      "Index: 30.0. Wm2Front: 54685.22111111111. Wm2Back: 8335.959777777778\n",
      "Linescan in process: 1axis_35.0_Front\n",
      "Linescan in process: 1axis_35.0_Back\n",
      "Saved: results\\irr_1axis_35.0.csv\n",
      "Index: 35.0. Wm2Front: 81168.01. Wm2Back: 12092.342222222222\n",
      "Linescan in process: 1axis_40.0_Front\n",
      "Linescan in process: 1axis_40.0_Back\n",
      "Saved: results\\irr_1axis_40.0.csv\n",
      "Index: 40.0. Wm2Front: 58196.84444444445. Wm2Back: 8184.981555555556\n",
      "Linescan in process: 1axis_45.0_Front\n",
      "Linescan in process: 1axis_45.0_Back\n",
      "Saved: results\\irr_1axis_45.0.csv\n",
      "Index: 45.0. Wm2Front: 367530.6777777778. Wm2Back: 38412.06888888889\n",
      "Annual RADIANCE bifacial ratio for 1-axis tracking: 0.152\n"
     ]
    }
   ],
   "source": [
    "# Now let's create a scene using panels in portrait, 2m hub height, 0.33 GCR. \n",
    "# NOTE: clearance needs to be calculated at each step. hub height is constant.\n",
    "# 'orientation':'portrait' deprecated in v0.2.4 Also, sceneDict now defines nMods and nRows for the scene.\n",
    "sceneDict = {'pitch':module_height / gcr,'hub_height':hub_height, 'nMods': 20, 'nRows': 7}  \n",
    "module_type = 'Prism Solar Bi60' # We are using the first simple module we defined.\n",
    "# makeScene creates a .rad file with 20 modules per row, 7 rows repeating the module_type Prism Solar Bi60.\n",
    "trackerdict = demo.makeScene1axis(trackerdict,module_type,sceneDict) \n",
    "\n",
    "# makeOct1axis joins the sky.rad file, ground.rad file, and the geometry.rad files created in makeScene.\n",
    "trackerdict = demo.makeOct1axis(trackerdict)\n",
    "\n",
    "# Note: with v0.2.4 the analysis1axis has additional parameters to allow custom scans.  parameters: \n",
    "#    sensorsy = int() (9 = default)\n",
    "#    modwanted = int() (middle module default)\n",
    "#    rowwanted   =  int() (middle row default)\n",
    "# Now we need to run analysis and combine the results into an annual total.  \n",
    "# This can be done by doing a frontscan and backscan for the modwanted and rowwanted specified.\n",
    "# the frontscan and backscan include a linescan along a chord of the module, both on the front and back.  \n",
    "trackerdict = demo.analysis1axis(trackerdict, modWanted=9, rowWanted = 2)\n",
    "\n",
    "# Return the minimum of the irradiance ratio, and the average of the irradiance ratio along a chord of the module.\n",
    "print('Annual RADIANCE bifacial ratio for 1-axis tracking: %0.3f' %(sum(demo.Wm2Back)/sum(demo.Wm2Front)) )\n"
   ]
  },
  {
   "cell_type": "markdown",
   "metadata": {},
   "source": [
    "### Note: same workflow can use stored self inputs rather than repeatedly keep passing trackerdict. \n",
    "In super short version:"
   ]
  },
  {
   "cell_type": "code",
   "execution_count": 8,
   "metadata": {
    "scrolled": true
   },
   "outputs": [
    {
     "name": "stdout",
     "output_type": "stream",
     "text": [
      "path = C:\\Users\\sayala\\Documents\\RadianceScenes\\Demo2\n",
      "Getting weather file: USA_VA_Richmond.Intl.AP.724010_TMY.epw  ... OK!\n",
      "Saving file EPWs\\1axis_0.0.csv, # points: 2546\n",
      "Saving file EPWs\\1axis_-30.0.csv, # points: 200\n",
      "Saving file EPWs\\1axis_35.0.csv, # points: 166\n",
      "Saving file EPWs\\1axis_5.0.csv, # points: 930\n",
      "Saving file EPWs\\1axis_-25.0.csv, # points: 220\n",
      "Saving file EPWs\\1axis_40.0.csv, # points: 142\n",
      "Saving file EPWs\\1axis_10.0.csv, # points: 303\n",
      "Saving file EPWs\\1axis_-20.0.csv, # points: 177\n",
      "Saving file EPWs\\1axis_45.0.csv, # points: 832\n",
      "Saving file EPWs\\1axis_15.0.csv, # points: 125\n",
      "Saving file EPWs\\1axis_-15.0.csv, # points: 192\n",
      "Saving file EPWs\\1axis_-45.0.csv, # points: 808\n",
      "Saving file EPWs\\1axis_20.0.csv, # points: 228\n",
      "Saving file EPWs\\1axis_-10.0.csv, # points: 402\n",
      "Saving file EPWs\\1axis_-40.0.csv, # points: 173\n",
      "Saving file EPWs\\1axis_25.0.csv, # points: 150\n",
      "Saving file EPWs\\1axis_-5.0.csv, # points: 869\n",
      "Saving file EPWs\\1axis_-35.0.csv, # points: 179\n",
      "Saving file EPWs\\1axis_30.0.csv, # points: 118\n",
      "message: There were 78 sun up hours in this climate file\n",
      "Total Ibh/Lbh: 0.000000\n",
      "Created skyfile skies\\1axis_0.0.rad\n",
      "message: There were 158 sun up hours in this climate file\n",
      "Total Ibh/Lbh: 0.000000\n",
      "Created skyfile skies\\1axis_-30.0.rad\n",
      "message: There were 166 sun up hours in this climate file\n",
      "Total Ibh/Lbh: 0.000000\n",
      "Created skyfile skies\\1axis_35.0.rad\n",
      "message: There were 243 sun up hours in this climate file\n",
      "Total Ibh/Lbh: 0.000000\n",
      "Created skyfile skies\\1axis_5.0.rad\n",
      "message: There were 175 sun up hours in this climate file\n",
      "Total Ibh/Lbh: 0.000000\n",
      "Created skyfile skies\\1axis_-25.0.rad\n",
      "message: There were 142 sun up hours in this climate file\n",
      "Total Ibh/Lbh: 0.000000\n",
      "Created skyfile skies\\1axis_40.0.rad\n",
      "message: There were 77 sun up hours in this climate file\n",
      "Total Ibh/Lbh: 0.000000\n",
      "Created skyfile skies\\1axis_10.0.rad\n",
      "message: There were 106 sun up hours in this climate file\n",
      "Total Ibh/Lbh: 0.000000\n",
      "Created skyfile skies\\1axis_-20.0.rad\n",
      "message: There were 832 sun up hours in this climate file\n",
      "Total Ibh/Lbh: 0.000000\n",
      "Created skyfile skies\\1axis_45.0.rad\n",
      "message: There were 114 sun up hours in this climate file\n",
      "Total Ibh/Lbh: 0.000000\n",
      "Created skyfile skies\\1axis_15.0.rad\n",
      "message: There were 133 sun up hours in this climate file\n",
      "Total Ibh/Lbh: 0.000000\n",
      "Created skyfile skies\\1axis_-15.0.rad\n",
      "message: There were 805 sun up hours in this climate file\n",
      "Total Ibh/Lbh: 0.000000\n",
      "Created skyfile skies\\1axis_-45.0.rad\n",
      "message: There were 227 sun up hours in this climate file\n",
      "Total Ibh/Lbh: 0.000000\n",
      "Created skyfile skies\\1axis_20.0.rad\n",
      "message: There were 342 sun up hours in this climate file\n",
      "Total Ibh/Lbh: 0.000000\n",
      "Created skyfile skies\\1axis_-10.0.rad\n",
      "message: There were 172 sun up hours in this climate file\n",
      "Total Ibh/Lbh: 0.000000\n",
      "Created skyfile skies\\1axis_-40.0.rad\n",
      "message: There were 148 sun up hours in this climate file\n",
      "Total Ibh/Lbh: 0.000000\n",
      "Created skyfile skies\\1axis_25.0.rad\n",
      "message: There were 73 sun up hours in this climate file\n",
      "Total Ibh/Lbh: 0.000000\n",
      "Created skyfile skies\\1axis_-5.0.rad\n",
      "message: There were 146 sun up hours in this climate file\n",
      "Total Ibh/Lbh: 0.000000\n",
      "Created skyfile skies\\1axis_-35.0.rad\n",
      "message: There were 118 sun up hours in this climate file\n",
      "Total Ibh/Lbh: 0.000000\n",
      "Created skyfile skies\\1axis_30.0.rad\n",
      "\n",
      "Making .rad files for cumulativesky 1-axis workflow\n",
      "19 Radfiles created in /objects/\n",
      "\n",
      "Making 19 octfiles for 1-axis tracking in root directory.\n",
      "Created 1axis_0.0.oct\n",
      "Created 1axis_-30.0.oct\n",
      "Created 1axis_35.0.oct\n",
      "Created 1axis_5.0.oct\n",
      "Created 1axis_-25.0.oct\n",
      "Created 1axis_40.0.oct\n",
      "Created 1axis_10.0.oct\n",
      "Created 1axis_-20.0.oct\n",
      "Created 1axis_45.0.oct\n",
      "Created 1axis_15.0.oct\n",
      "Created 1axis_-15.0.oct\n",
      "Created 1axis_-45.0.oct\n",
      "Created 1axis_20.0.oct\n",
      "Created 1axis_-10.0.oct\n",
      "Created 1axis_-40.0.oct\n",
      "Created 1axis_25.0.oct\n",
      "Created 1axis_-5.0.oct\n",
      "Created 1axis_-35.0.oct\n",
      "Created 1axis_30.0.oct\n",
      "Linescan in process: 1axis_-45.0_Front\n",
      "Linescan in process: 1axis_-45.0_Back\n",
      "Saved: results\\irr_1axis_-45.0.csv\n",
      "Index: -45.0. Wm2Front: 249566.895926. Wm2Back: 19384.2455556\n",
      "Linescan in process: 1axis_-40.0_Front\n",
      "Linescan in process: 1axis_-40.0_Back\n",
      "Saved: results\\irr_1axis_-40.0.csv\n",
      "Index: -40.0. Wm2Front: 64635.0832963. Wm2Back: 5147.35622222\n",
      "Linescan in process: 1axis_-35.0_Front\n",
      "Linescan in process: 1axis_-35.0_Back\n",
      "Saved: results\\irr_1axis_-35.0.csv\n",
      "Index: -35.0. Wm2Front: 52374.2586667. Wm2Back: 4000.96866667\n",
      "Linescan in process: 1axis_-30.0_Front\n",
      "Linescan in process: 1axis_-30.0_Back\n",
      "Saved: results\\irr_1axis_-30.0.csv\n",
      "Index: -30.0. Wm2Front: 47763.6232963. Wm2Back: 3872.36092593\n",
      "Linescan in process: 1axis_-25.0_Front\n",
      "Linescan in process: 1axis_-25.0_Back\n",
      "Saved: results\\irr_1axis_-25.0.csv\n",
      "Index: -25.0. Wm2Front: 87761.7807407. Wm2Back: 6906.90740741\n",
      "Linescan in process: 1axis_-20.0_Front\n",
      "Linescan in process: 1axis_-20.0_Back\n",
      "Saved: results\\irr_1axis_-20.0.csv\n",
      "Index: -20.0. Wm2Front: 28741.9303704. Wm2Back: 2223.83040741\n",
      "Linescan in process: 1axis_-15.0_Front\n",
      "Linescan in process: 1axis_-15.0_Back\n",
      "Saved: results\\irr_1axis_-15.0.csv\n",
      "Index: -15.0. Wm2Front: 26914.0655556. Wm2Back: 2134.80774074\n",
      "Linescan in process: 1axis_-10.0_Front\n",
      "Linescan in process: 1axis_-10.0_Back\n",
      "Saved: results\\irr_1axis_-10.0.csv\n",
      "Index: -10.0. Wm2Front: 141562.181481. Wm2Back: 11234.2171481\n",
      "Linescan in process: 1axis_-5.0_Front\n",
      "Linescan in process: 1axis_-5.0_Back\n",
      "Saved: results\\irr_1axis_-5.0.csv\n",
      "Index: -5.0. Wm2Front: 1608.84496296. Wm2Back: 153.732814815\n",
      "Linescan in process: 1axis_0.0_Front\n",
      "Linescan in process: 1axis_0.0_Back\n",
      "Saved: results\\irr_1axis_0.0.csv\n",
      "Index: 0.0. Wm2Front: 5932.48611111. Wm2Back: 410.173859259\n",
      "Linescan in process: 1axis_5.0_Front\n",
      "Linescan in process: 1axis_5.0_Back\n",
      "Saved: results\\irr_1axis_5.0.csv\n",
      "Index: 5.0. Wm2Front: 136599.122222. Wm2Back: 10650.050037\n",
      "Linescan in process: 1axis_10.0_Front\n",
      "Linescan in process: 1axis_10.0_Back\n",
      "Saved: results\\irr_1axis_10.0.csv\n",
      "Index: 10.0. Wm2Front: 22398.5144444. Wm2Back: 1579.30477778\n",
      "Linescan in process: 1axis_15.0_Front\n",
      "Linescan in process: 1axis_15.0_Back\n",
      "Saved: results\\irr_1axis_15.0.csv\n",
      "Index: 15.0. Wm2Front: 26239.9674074. Wm2Back: 1670.07488889\n",
      "Linescan in process: 1axis_20.0_Front\n",
      "Linescan in process: 1axis_20.0_Back\n",
      "Saved: results\\irr_1axis_20.0.csv\n",
      "Index: 20.0. Wm2Front: 96825.4744444. Wm2Back: 6858.268\n",
      "Linescan in process: 1axis_25.0_Front\n",
      "Linescan in process: 1axis_25.0_Back\n",
      "Saved: results\\irr_1axis_25.0.csv\n",
      "Index: 25.0. Wm2Front: 41199.6223704. Wm2Back: 2718.62581481\n",
      "Linescan in process: 1axis_30.0_Front\n",
      "Linescan in process: 1axis_30.0_Back\n",
      "Saved: results\\irr_1axis_30.0.csv\n",
      "Index: 30.0. Wm2Front: 47028.9877778. Wm2Back: 2737.57759259\n",
      "Linescan in process: 1axis_35.0_Front\n",
      "Linescan in process: 1axis_35.0_Back\n",
      "Saved: results\\irr_1axis_35.0.csv\n",
      "Index: 35.0. Wm2Front: 69287.6914815. Wm2Back: 3978.97455556\n",
      "Linescan in process: 1axis_40.0_Front\n",
      "Linescan in process: 1axis_40.0_Back\n",
      "Saved: results\\irr_1axis_40.0.csv\n",
      "Index: 40.0. Wm2Front: 50883.864963. Wm2Back: 2663.45833333\n",
      "Linescan in process: 1axis_45.0_Front\n",
      "Linescan in process: 1axis_45.0_Back\n",
      "Saved: results\\irr_1axis_45.0.csv\n",
      "Index: 45.0. Wm2Front: 257535.217037. Wm2Back: 13469.9401111\n",
      "Annual bifacial ratio for 1-axis tracking: 0.070\n"
     ]
    }
   ],
   "source": [
    "try:\n",
    "    from bifacial_radiance import *\n",
    "except ImportError:\n",
    "    raise RuntimeError('bifacial_radiance is required. download distribution')\n",
    "\n",
    "demo = RadianceObj(path = testfolder) \n",
    "demo.setGround(0.2)\n",
    "epwfile = demo.getEPW(37.5,-77.6) \n",
    "metdata = demo.readEPW(epwfile)\n",
    "demo.set1axis()\n",
    "demo.genCumSky1axis()\n",
    "module_type = '2upTracker' # Since we already created this module type, we don't need to makeModule, we just need to call it when we make the Scene.\n",
    "sceneDict = {'pitch':module_height / gcr,'height':hub_height, 'nMods': 20, 'nRows': 7}  # orientation deprecated on v.0.2.4.\n",
    "demo.makeScene1axis(moduletype=module_type,sceneDict = sceneDict)\n",
    "demo.makeOct1axis()\n",
    "demo.analysis1axis()\n",
    "print('Annual bifacial ratio for 1-axis tracking: %0.3f' %(np.mean(demo.Wm2Back)/np.mean(demo.Wm2Front)) )\n"
   ]
  },
  {
   "cell_type": "markdown",
   "metadata": {},
   "source": [
    "# GENDAYLIT Workflow.  -- hourly tracker option"
   ]
  },
  {
   "cell_type": "code",
   "execution_count": null,
   "metadata": {},
   "outputs": [],
   "source": [
    "## New v0.2.3 software includes the option for hourly tracked simulation workflow using gendaylit. \n",
    "\n",
    "# The first part is the same:\n",
    "demo2 = RadianceObj('Gendaylit_TrackingHourly',testfolder)  \n",
    "demo2.setGround(0.2) \n",
    "epwfile = demo2.getEPW(37.5,-77.6) #pull TMY data for any global lat/lon\n",
    "metdata = demo2.readEPW(epwfile) # read in the weather data   \n",
    "\n",
    "# This is the same for gencumsky and gendaylit: create a new moduletype, and specify a sceneDict. \n",
    "module_type = 'Prism Solar Bi60'\n",
    "demo2.makeModule(name=module_type,x=0.984,y=1.695,bifi = 0.90)  # set module type to be used and passed into makeScene1axis\n",
    "# Create the scenedictionary for the 1-axis tracking\n",
    "sceneDict = {'pitch':1.695 / 0.33,'height':2.35, 'nMods': 20, 'nRows': 7}  \n",
    "\n"
   ]
  },
  {
   "cell_type": "code",
   "execution_count": null,
   "metadata": {},
   "outputs": [],
   "source": [
    "# NEW hourly gendaylit workflow. Note that trackerdict is returned with hourly time points as keys instead of tracker angles.\n",
    "trackerdict2 = demo2.set1axis(cumulativesky = False)  # this cumulativesky = False key is crucial to set up the hourly workflow\n",
    "\n",
    "# This is for exemplifying the changes undergone in the trackerdict by each step. Just printing information.\n",
    "print (\"Full trackerdict for all the year created by set1axis: %s \" % (len(trackerdict2))) # trackerdict contains all hours in the year as keys. For example: trackerdict2['12_16_08']\n",
    "print (\"Contents of trackerdict for sample hour after creating on set1axis, \\n trackerdict2['12_16_08']: \\n %s \\n\" % ( trackerdict2['12_16_08']))\n",
    "\n",
    "# Create the skyfiles needed for 1-axis tracking. \n",
    "# If you don't specify a startdate and enddate, all the year will be created, which will take more time. \n",
    "# For this example we are doing the first half of January.\n",
    "# Specifying the startdate and enddate also trims down the trackerdict from the whole year to just the entries between that start and enddate.\n",
    "trackerdict2 = demo2.gendaylit1axis(startdate='01/01', enddate='01/15')  # optional parameters 'startdate', 'enddate' inputs = string 'MM/DD' or 'MM_DD' \n",
    "\n",
    "# This is for exemplifying the changes undergone in the trackerdict by each step. Just printing information.\n",
    "print (\"\\nTrimmed trackerdict by gendaylit1axis to start and enddate: %s \" % (len(trackerdict2)))\n",
    "print (\"Contents of trackerdict for sample hour after running gendaylit1axis \\n trackerdict2['01_01_11']: %s \" % ( trackerdict2['01_01_11']))\n"
   ]
  },
  {
   "cell_type": "code",
   "execution_count": null,
   "metadata": {},
   "outputs": [],
   "source": [
    "# making the different scenes for the 1-axis tracking for the dates in trackerdict2.\n",
    "trackerdict2 = demo2.makeScene1axis(trackerdict2, module_type,sceneDict, cumulativesky = False) #makeScene creates a .rad file with 20 modules per row, 7 rows.\n",
    "\n",
    "# This is for exemplifying the changes undergone in the trackerdict by each step. Just printing information.\n",
    "print (\"\\n Contents of trackerdict for sample hour after makeScene1axis: \\n trackerdict2['01_01_11']: \\n %s \" % ( trackerdict2['01_01_11']))"
   ]
  },
  {
   "cell_type": "markdown",
   "metadata": {},
   "source": [
    "#### Run one single index (super fast example):"
   ]
  },
  {
   "cell_type": "code",
   "execution_count": null,
   "metadata": {},
   "outputs": [],
   "source": [
    "# Now this is the part that takes a long time, and will probably require parallel computing for doing more time points or the full year. \n",
    "# For this example we just run one hourly point:\n",
    "\n",
    "demo2.makeOct1axis(trackerdict2,singleindex='01_01_11')\n",
    "\n",
    "# This is for exemplifying the changes undergone in the trackerdict by each step. Just printing information.\n",
    "print (\"\\n Contents of trackerdict for sample hour after makeOct1axis: \\n trackerdict2['01_01_11']: \\n %s \\n\" % ( trackerdict2['01_01_11']))\n",
    "\n",
    "demo2.analysis1axis(trackerdict2,singleindex='01_01_11')\n",
    "\n",
    "# This is for exemplifying the changes undergone in the trackerdict by each step. Just printing information.\n",
    "print (\"\\n Contents of trackerdict for sample hour after makeOct1axis: \\n trackerdict2['01_01_11']: \\n %s \\n\" % ( trackerdict2['01_01_11']))\n",
    "\n",
    "# Printing the results.\n",
    "print('\\n\\n1-axis tracking hourly bifi gain: {:0.3}'.format(sum(demo2.Wm2Back) / sum(demo2.Wm2Front)))\n",
    "\n"
   ]
  },
  {
   "cell_type": "markdown",
   "metadata": {},
   "source": [
    "#### Run a range of indexes: (not as fast as a single index, not as slow as all!)\n"
   ]
  },
  {
   "cell_type": "code",
   "execution_count": null,
   "metadata": {},
   "outputs": [],
   "source": [
    "for time in ['01_01_11','01_01_12']:  # just two timepoints\n",
    "    demo2.makeOct1axis(trackerdict2,singleindex=time)\n",
    "    demo2.analysis1axis(trackerdict2,singleindex=time)\n",
    "\n",
    "print('1-axis tracking hourly bifi gain: {:0.3}'.format(sum(demo2.Wm2Back) / sum(demo2.Wm2Front)))"
   ]
  },
  {
   "cell_type": "markdown",
   "metadata": {},
   "source": [
    "#### Run the full trackingdictionary...\n",
    "(this might considerably more time, depending on the number of entries on the trackerdictionary! You've been warned) \n"
   ]
  },
  {
   "cell_type": "code",
   "execution_count": null,
   "metadata": {},
   "outputs": [],
   "source": [
    "demo2.makeOct1axis(trackerdict2,singleindex=time)\n",
    "demo2.analysis1axis(trackerdict2,singleindex=time)\n",
    "print('1-axis tracking hourly bifi gain: {:0.3}'.format(sum(demo2.Wm2Back) / sum(demo2.Wm2Front)))\n"
   ]
  },
  {
   "cell_type": "markdown",
   "metadata": {},
   "source": [
    "### Gendaylit for the WHOLE Year\n",
    "And because you asked: this is the summarized version to run with gendaylit the WHOLE year. \n",
    "#### This will take ~4 days on a really good computer. IF you're sure this is what you want, uncomment and run below :)"
   ]
  },
  {
   "cell_type": "code",
   "execution_count": null,
   "metadata": {},
   "outputs": [],
   "source": [
    "'''\n",
    "demo2 = RadianceObj('Gendaylit_AllYear_Tracking',testfolder)  \n",
    "demo2.setGround(0.2) \n",
    "epwfile = demo2.getEPW(37.5,-77.6) #pull TMY data for any global lat/lon\n",
    "metdata = demo2.readEPW(epwfile) # read in the weather data   \n",
    "module_type = 'Prism Solar Bi60'\n",
    "sceneDict = {'pitch':1.695 / 0.33,'height':2.35, 'nMods': 20, 'nRows': 7}  \n",
    "trackerdict2 = demo2.set1axis(cumulativesky = False)  # this cumulativesky = False key is crucial to set up the hourly workflow\n",
    "trackerdict2 = demo2.gendaylit1axis()  # optional parameters 'startdate', 'enddate' inputs = string 'MM/DD' or 'MM_DD' \n",
    "trackerdict2 = demo2.makeScene1axis(trackerdict2, module_type,sceneDict, cumulativesky = False) #makeScene creates a .rad file with 20 modules per row, 7 rows.\n",
    "demo2.makeOct1axis(trackerdict2)\n",
    "demo2.analysis1axis(trackerdict2)\n",
    "'''"
   ]
  }
 ],
 "metadata": {
  "anaconda-cloud": {},
  "kernelspec": {
   "display_name": "Python 3",
   "language": "python",
   "name": "python3"
  },
  "language_info": {
   "codemirror_mode": {
    "name": "ipython",
    "version": 3
   },
   "file_extension": ".py",
   "mimetype": "text/x-python",
   "name": "python",
   "nbconvert_exporter": "python",
   "pygments_lexer": "ipython3",
   "version": "3.7.3"
  }
 },
 "nbformat": 4,
 "nbformat_minor": 1
}
