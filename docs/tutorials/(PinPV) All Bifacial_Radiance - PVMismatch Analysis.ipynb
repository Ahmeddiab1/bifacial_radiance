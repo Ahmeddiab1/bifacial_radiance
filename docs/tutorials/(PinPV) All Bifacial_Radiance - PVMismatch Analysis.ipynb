{
 "cells": [
  {
   "cell_type": "markdown",
   "metadata": {},
   "source": [
    "# (PinPV) All Bifacial_Radiance - PVMismatch Analysis\n",
    "\n",
    "### Uses HPC runs, and bifacial_radiance_master_EUPVSEC branch for the analysis function\n",
    "started on 08/10/19\n",
    "\n",
    "\n",
    "ANALYSIS Runs include:\n",
    "<ul>\n",
    "    <li> <a href='#df3_Tracking'>df3_Tracking</a></li>\n",
    "    <li> <a href='#df4_FixedTilt'>df4_FixedTilt</a></li>\n",
    "    <li> <a href='#df4_b_FixedTilt_PortraitMode'>df4_FixedTilt_PortraitMode</a></li>\n",
    "    <li> <a href='#df5_TrackingTT'>df5_Tracking_with_TorqueTube</a></li>\n",
    "    <li> <a href='#df6_PVPMCRuns'>df6_PVPMCRuns</a></li>\n",
    "</ul>"
   ]
  },
  {
   "cell_type": "code",
   "execution_count": 1,
   "metadata": {},
   "outputs": [],
   "source": [
    "import bifacial_radiance"
   ]
  },
  {
   "cell_type": "markdown",
   "metadata": {},
   "source": [
    "<a id='df3_Tracking'></a>"
   ]
  },
  {
   "cell_type": "markdown",
   "metadata": {},
   "source": [
    "## df3_Tracking"
   ]
  },
  {
   "cell_type": "code",
   "execution_count": 2,
   "metadata": {},
   "outputs": [
    {
     "name": "stdout",
     "output_type": "stream",
     "text": [
      "3960 files in the directory\n"
     ]
    },
    {
     "name": "stderr",
     "output_type": "stream",
     "text": [
      "c:\\users\\sayala\\documents\\github\\bifacial_radiance\\bifacial_radiance\\analysis.py:373: RuntimeWarning: invalid value encountered in double_scalars\n",
      "  return (np.abs(np.subtract.outer(data,data)).sum()/data.__len__()**2 / np.mean(data))*100\n"
     ]
    },
    {
     "name": "stdout",
     "output_type": "stream",
     "text": [
      "Saved Results to  C:\\Users\\sayala\\Documents\\HPC_Scratch\\EUPVSEC\\new_bifacialRadiance_onVF_results\\HPCResults\\BifRad_PVMismatch_Cairo_C_0.5.csv\n",
      "3960 files in the directory\n",
      "Saved Results to  C:\\Users\\sayala\\Documents\\HPC_Scratch\\EUPVSEC\\new_bifacialRadiance_onVF_results\\HPCResults\\BifRad_PVMismatch_Cairo_C_0.75.csv\n",
      "3960 files in the directory\n",
      "Saved Results to  C:\\Users\\sayala\\Documents\\HPC_Scratch\\EUPVSEC\\new_bifacialRadiance_onVF_results\\HPCResults\\BifRad_PVMismatch_Cairo_C_1.csv\n",
      "3960 files in the directory\n",
      "Saved Results to  C:\\Users\\sayala\\Documents\\HPC_Scratch\\EUPVSEC\\new_bifacialRadiance_onVF_results\\HPCResults\\BifRad_PVMismatch_Cairo_C_1.2.csv\n",
      "4323 files in the directory\n",
      "Saved Results to  C:\\Users\\sayala\\Documents\\HPC_Scratch\\EUPVSEC\\new_bifacialRadiance_onVF_results\\HPCResults\\BifRad_PVMismatch_Shanghai_C_0.5.csv\n",
      "4323 files in the directory\n",
      "Saved Results to  C:\\Users\\sayala\\Documents\\HPC_Scratch\\EUPVSEC\\new_bifacialRadiance_onVF_results\\HPCResults\\BifRad_PVMismatch_Shanghai_C_0.75.csv\n",
      "4323 files in the directory\n",
      "Saved Results to  C:\\Users\\sayala\\Documents\\HPC_Scratch\\EUPVSEC\\new_bifacialRadiance_onVF_results\\HPCResults\\BifRad_PVMismatch_Shanghai_C_1.csv\n",
      "4323 files in the directory\n",
      "Saved Results to  C:\\Users\\sayala\\Documents\\HPC_Scratch\\EUPVSEC\\new_bifacialRadiance_onVF_results\\HPCResults\\BifRad_PVMismatch_Shanghai_C_1.2.csv\n",
      "4245 files in the directory\n",
      "Saved Results to  C:\\Users\\sayala\\Documents\\HPC_Scratch\\EUPVSEC\\new_bifacialRadiance_onVF_results\\HPCResults\\BifRad_PVMismatch_Richmond_C_0.5.csv\n",
      "4245 files in the directory\n",
      "Saved Results to  C:\\Users\\sayala\\Documents\\HPC_Scratch\\EUPVSEC\\new_bifacialRadiance_onVF_results\\HPCResults\\BifRad_PVMismatch_Richmond_C_0.75.csv\n",
      "4245 files in the directory\n",
      "Saved Results to  C:\\Users\\sayala\\Documents\\HPC_Scratch\\EUPVSEC\\new_bifacialRadiance_onVF_results\\HPCResults\\BifRad_PVMismatch_Richmond_C_1.csv\n",
      "4245 files in the directory\n",
      "Saved Results to  C:\\Users\\sayala\\Documents\\HPC_Scratch\\EUPVSEC\\new_bifacialRadiance_onVF_results\\HPCResults\\BifRad_PVMismatch_Richmond_C_1.2.csv\n"
     ]
    }
   ],
   "source": [
    "Cs = ['0.5', '0.75','1', '1.2']\n",
    "cities = ['Cairo', 'Shanghai', 'Richmond']\n",
    "\n",
    "basefolder = r'C:\\Users\\sayala\\Documents\\HPC_Scratch\\EUPVSEC\\new_bifacialRadiance_onVF_results\\HPCResults'\n",
    "\n",
    "for i in range (0, len(cities)):\n",
    "    for j in range(0, len(Cs)):\n",
    "    \n",
    "        resultsfolder = basefolder + '\\\\Tracking_'+cities[i]+'_C_'+Cs[j]+'\\\\results'\n",
    "        writefiletitle = basefolder + '\\\\BifRad_PVMismatch_'+cities[i]+'_C_'+Cs[j]+'.csv'\n",
    "        sensorsy=100\n",
    "        portraitorlandscape='portrait'\n",
    "        bififactor=1.0\n",
    "        bifacial_radiance.mismatch.analysisIrradianceandPowerMismatch(resultsfolder, writefiletitle, sensorsy, portraitorlandscape, bififactor)\n"
   ]
  },
  {
   "cell_type": "markdown",
   "metadata": {},
   "source": [
    "<a id='df4_FixedTilt'></a>"
   ]
  },
  {
   "cell_type": "markdown",
   "metadata": {},
   "source": [
    "## df4_FixedTilt"
   ]
  },
  {
   "cell_type": "code",
   "execution_count": 4,
   "metadata": {},
   "outputs": [
    {
     "name": "stdout",
     "output_type": "stream",
     "text": [
      "3960 files in the directory\n",
      "Saved Results to  C:\\Users\\sayala\\Documents\\HPC_Scratch\\EUPVSEC\\new_bifacialRadiance_onVF_results\\HPCResults\\FixedTilt\\BifRad_PVMismatch_FixedTilt_Landscape_Cairo_C_0.15.csv\n",
      "3960 files in the directory\n",
      "Saved Results to  C:\\Users\\sayala\\Documents\\HPC_Scratch\\EUPVSEC\\new_bifacialRadiance_onVF_results\\HPCResults\\FixedTilt\\BifRad_PVMismatch_FixedTilt_Landscape_Cairo_C_0.25.csv\n",
      "3960 files in the directory\n",
      "Saved Results to  C:\\Users\\sayala\\Documents\\HPC_Scratch\\EUPVSEC\\new_bifacialRadiance_onVF_results\\HPCResults\\FixedTilt\\BifRad_PVMismatch_FixedTilt_Landscape_Cairo_C_0.5.csv\n",
      "3960 files in the directory\n",
      "Saved Results to  C:\\Users\\sayala\\Documents\\HPC_Scratch\\EUPVSEC\\new_bifacialRadiance_onVF_results\\HPCResults\\FixedTilt\\BifRad_PVMismatch_FixedTilt_Landscape_Cairo_C_0.75.csv\n",
      "3960 files in the directory\n",
      "Saved Results to  C:\\Users\\sayala\\Documents\\HPC_Scratch\\EUPVSEC\\new_bifacialRadiance_onVF_results\\HPCResults\\FixedTilt\\BifRad_PVMismatch_FixedTilt_Landscape_Cairo_C_1.csv\n",
      "4323 files in the directory\n",
      "Saved Results to  C:\\Users\\sayala\\Documents\\HPC_Scratch\\EUPVSEC\\new_bifacialRadiance_onVF_results\\HPCResults\\FixedTilt\\BifRad_PVMismatch_FixedTilt_Landscape_Shanghai_C_0.15.csv\n",
      "4323 files in the directory\n",
      "Saved Results to  C:\\Users\\sayala\\Documents\\HPC_Scratch\\EUPVSEC\\new_bifacialRadiance_onVF_results\\HPCResults\\FixedTilt\\BifRad_PVMismatch_FixedTilt_Landscape_Shanghai_C_0.25.csv\n",
      "4323 files in the directory\n",
      "Saved Results to  C:\\Users\\sayala\\Documents\\HPC_Scratch\\EUPVSEC\\new_bifacialRadiance_onVF_results\\HPCResults\\FixedTilt\\BifRad_PVMismatch_FixedTilt_Landscape_Shanghai_C_0.5.csv\n",
      "4323 files in the directory\n",
      "Saved Results to  C:\\Users\\sayala\\Documents\\HPC_Scratch\\EUPVSEC\\new_bifacialRadiance_onVF_results\\HPCResults\\FixedTilt\\BifRad_PVMismatch_FixedTilt_Landscape_Shanghai_C_0.75.csv\n",
      "4323 files in the directory\n",
      "Saved Results to  C:\\Users\\sayala\\Documents\\HPC_Scratch\\EUPVSEC\\new_bifacialRadiance_onVF_results\\HPCResults\\FixedTilt\\BifRad_PVMismatch_FixedTilt_Landscape_Shanghai_C_1.csv\n",
      "4245 files in the directory\n",
      "Saved Results to  C:\\Users\\sayala\\Documents\\HPC_Scratch\\EUPVSEC\\new_bifacialRadiance_onVF_results\\HPCResults\\FixedTilt\\BifRad_PVMismatch_FixedTilt_Landscape_Richmond_C_0.15.csv\n",
      "4245 files in the directory\n",
      "Saved Results to  C:\\Users\\sayala\\Documents\\HPC_Scratch\\EUPVSEC\\new_bifacialRadiance_onVF_results\\HPCResults\\FixedTilt\\BifRad_PVMismatch_FixedTilt_Landscape_Richmond_C_0.25.csv\n",
      "4245 files in the directory\n",
      "Saved Results to  C:\\Users\\sayala\\Documents\\HPC_Scratch\\EUPVSEC\\new_bifacialRadiance_onVF_results\\HPCResults\\FixedTilt\\BifRad_PVMismatch_FixedTilt_Landscape_Richmond_C_0.5.csv\n",
      "4245 files in the directory\n",
      "Saved Results to  C:\\Users\\sayala\\Documents\\HPC_Scratch\\EUPVSEC\\new_bifacialRadiance_onVF_results\\HPCResults\\FixedTilt\\BifRad_PVMismatch_FixedTilt_Landscape_Richmond_C_0.75.csv\n",
      "4245 files in the directory\n",
      "Saved Results to  C:\\Users\\sayala\\Documents\\HPC_Scratch\\EUPVSEC\\new_bifacialRadiance_onVF_results\\HPCResults\\FixedTilt\\BifRad_PVMismatch_FixedTilt_Landscape_Richmond_C_1.csv\n"
     ]
    }
   ],
   "source": [
    "Cs = ['0.15', '0.25', '0.5', '0.75','1']\n",
    "cities = ['Cairo', 'Shanghai', 'Richmond']\n",
    "\n",
    "basefolder = r'C:\\Users\\sayala\\Documents\\HPC_Scratch\\EUPVSEC\\new_bifacialRadiance_onVF_results\\HPCResults\\FixedTilt'\n",
    "\n",
    "for i in range (0, len(cities)):\n",
    "    for j in range(0, len(Cs)):\n",
    "    \n",
    "        resultsfolder = basefolder + '\\\\FixedTilt_'+cities[i]+'_C_'+Cs[j]+'\\\\results'\n",
    "        writefiletitle = basefolder + '\\\\BifRad_PVMismatch_FixedTilt_Landscape_'+cities[i]+'_C_'+Cs[j]+'.csv'\n",
    "        sensorsy=100\n",
    "        portraitorlandscape='landscape'\n",
    "        bififactor=1.0\n",
    "        bifacial_radiance.mismatch.analysisIrradianceandPowerMismatch(resultsfolder, writefiletitle, sensorsy, portraitorlandscape, bififactor)\n"
   ]
  },
  {
   "cell_type": "markdown",
   "metadata": {},
   "source": [
    "<a id='df4_b_FixedTilt_PortraitMode'></a>"
   ]
  },
  {
   "cell_type": "markdown",
   "metadata": {},
   "source": [
    "## df4_b_FixedTilt_PortraitMode\n"
   ]
  },
  {
   "cell_type": "code",
   "execution_count": null,
   "metadata": {},
   "outputs": [],
   "source": [
    "Cs = ['0.15', '0.25', '0.5', '0.75','1']\n",
    "cities = ['Cairo', 'Shanghai', 'Richmond']\n",
    "\n",
    "basefolder = r'C:\\Users\\sayala\\Documents\\HPC_Scratch\\EUPVSEC\\new_bifacialRadiance_onVF_results\\HPCResults\\FixedTilt'\n",
    "\n",
    "for i in range (0, len(cities)):\n",
    "    for j in range(0, len(Cs)):\n",
    "    \n",
    "        resultsfolder = basefolder + '\\\\FixedTilt_'+cities[i]+'_C_'+Cs[j]+'\\\\results'\n",
    "        writefiletitle = basefolder + '\\\\BifRad_PVMismatch_FixedTilt_Portrait_'+cities[i]+'_C_'+Cs[j]+'.csv'\n",
    "        sensorsy=100\n",
    "        portraitorlandscape='Portrait'\n",
    "        bififactor=1.0\n",
    "        bifacial_radiance.mismatch.analysisIrradianceandPowerMismatch(resultsfolder, writefiletitle, sensorsy, portraitorlandscape, bififactor)\n"
   ]
  },
  {
   "cell_type": "markdown",
   "metadata": {},
   "source": [
    "<a id='df5_TrackingTT'></a>"
   ]
  },
  {
   "cell_type": "markdown",
   "metadata": {},
   "source": [
    "## df5_TrackingTT"
   ]
  },
  {
   "cell_type": "code",
   "execution_count": 2,
   "metadata": {},
   "outputs": [
    {
     "name": "stdout",
     "output_type": "stream",
     "text": [
      "3960 files in the directory\n"
     ]
    },
    {
     "name": "stderr",
     "output_type": "stream",
     "text": [
      "c:\\users\\sayala\\documents\\github\\bifacial_radiance\\bifacial_radiance\\analysis.py:373: RuntimeWarning: invalid value encountered in double_scalars\n",
      "  return (np.abs(np.subtract.outer(data,data)).sum()/data.__len__()**2 / np.mean(data))*100\n"
     ]
    },
    {
     "name": "stdout",
     "output_type": "stream",
     "text": [
      "Saved Results to  C:\\Users\\sayala\\Documents\\HPC_Scratch\\EUPVSEC\\new_bifacialRadiance_onVF_results\\HPCResults\\df5_TrackingTT\\BifRad_PVMismatch_TrackingTT_Cairo_C_0.5.csv\n",
      "3960 files in the directory\n",
      "Saved Results to  C:\\Users\\sayala\\Documents\\HPC_Scratch\\EUPVSEC\\new_bifacialRadiance_onVF_results\\HPCResults\\df5_TrackingTT\\BifRad_PVMismatch_TrackingTT_Cairo_C_0.75.csv\n",
      "3960 files in the directory\n",
      "Saved Results to  C:\\Users\\sayala\\Documents\\HPC_Scratch\\EUPVSEC\\new_bifacialRadiance_onVF_results\\HPCResults\\df5_TrackingTT\\BifRad_PVMismatch_TrackingTT_Cairo_C_1.csv\n",
      "3960 files in the directory\n",
      "Saved Results to  C:\\Users\\sayala\\Documents\\HPC_Scratch\\EUPVSEC\\new_bifacialRadiance_onVF_results\\HPCResults\\df5_TrackingTT\\BifRad_PVMismatch_TrackingTT_Cairo_C_1.2.csv\n",
      "4323 files in the directory\n",
      "Saved Results to  C:\\Users\\sayala\\Documents\\HPC_Scratch\\EUPVSEC\\new_bifacialRadiance_onVF_results\\HPCResults\\df5_TrackingTT\\BifRad_PVMismatch_TrackingTT_Shanghai_C_0.5.csv\n",
      "4323 files in the directory\n",
      "Saved Results to  C:\\Users\\sayala\\Documents\\HPC_Scratch\\EUPVSEC\\new_bifacialRadiance_onVF_results\\HPCResults\\df5_TrackingTT\\BifRad_PVMismatch_TrackingTT_Shanghai_C_0.75.csv\n",
      "4323 files in the directory\n",
      "Saved Results to  C:\\Users\\sayala\\Documents\\HPC_Scratch\\EUPVSEC\\new_bifacialRadiance_onVF_results\\HPCResults\\df5_TrackingTT\\BifRad_PVMismatch_TrackingTT_Shanghai_C_1.csv\n",
      "4323 files in the directory\n",
      "Saved Results to  C:\\Users\\sayala\\Documents\\HPC_Scratch\\EUPVSEC\\new_bifacialRadiance_onVF_results\\HPCResults\\df5_TrackingTT\\BifRad_PVMismatch_TrackingTT_Shanghai_C_1.2.csv\n",
      "4245 files in the directory\n",
      "Saved Results to  C:\\Users\\sayala\\Documents\\HPC_Scratch\\EUPVSEC\\new_bifacialRadiance_onVF_results\\HPCResults\\df5_TrackingTT\\BifRad_PVMismatch_TrackingTT_Richmond_C_0.5.csv\n",
      "4245 files in the directory\n",
      "Saved Results to  C:\\Users\\sayala\\Documents\\HPC_Scratch\\EUPVSEC\\new_bifacialRadiance_onVF_results\\HPCResults\\df5_TrackingTT\\BifRad_PVMismatch_TrackingTT_Richmond_C_0.75.csv\n",
      "4245 files in the directory\n",
      "Saved Results to  C:\\Users\\sayala\\Documents\\HPC_Scratch\\EUPVSEC\\new_bifacialRadiance_onVF_results\\HPCResults\\df5_TrackingTT\\BifRad_PVMismatch_TrackingTT_Richmond_C_1.csv\n",
      "4245 files in the directory\n",
      "Saved Results to  C:\\Users\\sayala\\Documents\\HPC_Scratch\\EUPVSEC\\new_bifacialRadiance_onVF_results\\HPCResults\\df5_TrackingTT\\BifRad_PVMismatch_TrackingTT_Richmond_C_1.2.csv\n"
     ]
    }
   ],
   "source": [
    "Cs = ['0.5', '0.75','1', '1.2']\n",
    "cities = ['Cairo', 'Shanghai', 'Richmond']\n",
    "\n",
    "basefolder = r'C:\\Users\\sayala\\Documents\\HPC_Scratch\\EUPVSEC\\new_bifacialRadiance_onVF_results\\HPCResults\\df5_TrackingTT'\n",
    "\n",
    "for i in range (0, len(cities)):\n",
    "    for j in range(0, len(Cs)):\n",
    "    \n",
    "        resultsfolder = basefolder + '\\\\Tracking_'+cities[i]+'_C_'+Cs[j]+'\\\\results'\n",
    "        writefiletitle = basefolder + '\\\\BifRad_PVMismatch_TrackingTT_'+cities[i]+'_C_'+Cs[j]+'.csv'\n",
    "        sensorsy=100\n",
    "        portraitorlandscape='portrait'\n",
    "        bififactor=1.0\n",
    "        bifacial_radiance.mismatch.analysisIrradianceandPowerMismatch(resultsfolder, writefiletitle, sensorsy, portraitorlandscape, bififactor)\n"
   ]
  },
  {
   "cell_type": "markdown",
   "metadata": {},
   "source": [
    "<a id='df6_PVPMCRuns'></a>"
   ]
  },
  {
   "cell_type": "markdown",
   "metadata": {},
   "source": [
    "## df6_PVPMCRuns\n",
    "\n"
   ]
  },
  {
   "cell_type": "markdown",
   "metadata": {},
   "source": [
    "<div class=\"alert alert-block alert-info\">\n",
    "<b>Not doing runs >11</b> because those have y-gap and 2 modules, and analysis function only considers 1 module at the moment."
   ]
  },
  {
   "cell_type": "code",
   "execution_count": 5,
   "metadata": {},
   "outputs": [
    {
     "name": "stdout",
     "output_type": "stream",
     "text": [
      "4323 files in the directory\n",
      "Saved Results to  C:\\Users\\sayala\\Documents\\HPC_Scratch\\EUPVSEC\\PVPMC_Tracking Results\\BifRad_PVMismatch_PVPMCRuns_Shanghai_1b.csv\n",
      "4323 files in the directory\n",
      "Saved Results to  C:\\Users\\sayala\\Documents\\HPC_Scratch\\EUPVSEC\\PVPMC_Tracking Results\\BifRad_PVMismatch_PVPMCRuns_Shanghai_2.csv\n",
      "4323 files in the directory\n",
      "Saved Results to  C:\\Users\\sayala\\Documents\\HPC_Scratch\\EUPVSEC\\PVPMC_Tracking Results\\BifRad_PVMismatch_PVPMCRuns_Shanghai_3.csv\n",
      "4323 files in the directory\n",
      "Saved Results to  C:\\Users\\sayala\\Documents\\HPC_Scratch\\EUPVSEC\\PVPMC_Tracking Results\\BifRad_PVMismatch_PVPMCRuns_Shanghai_4.csv\n",
      "4323 files in the directory\n",
      "Saved Results to  C:\\Users\\sayala\\Documents\\HPC_Scratch\\EUPVSEC\\PVPMC_Tracking Results\\BifRad_PVMismatch_PVPMCRuns_Shanghai_5.csv\n",
      "4323 files in the directory\n",
      "Saved Results to  C:\\Users\\sayala\\Documents\\HPC_Scratch\\EUPVSEC\\PVPMC_Tracking Results\\BifRad_PVMismatch_PVPMCRuns_Shanghai_6.csv\n",
      "4323 files in the directory\n",
      "Saved Results to  C:\\Users\\sayala\\Documents\\HPC_Scratch\\EUPVSEC\\PVPMC_Tracking Results\\BifRad_PVMismatch_PVPMCRuns_Shanghai_7.csv\n",
      "4323 files in the directory\n",
      "Saved Results to  C:\\Users\\sayala\\Documents\\HPC_Scratch\\EUPVSEC\\PVPMC_Tracking Results\\BifRad_PVMismatch_PVPMCRuns_Shanghai_8.csv\n",
      "4323 files in the directory\n",
      "Saved Results to  C:\\Users\\sayala\\Documents\\HPC_Scratch\\EUPVSEC\\PVPMC_Tracking Results\\BifRad_PVMismatch_PVPMCRuns_Shanghai_9.csv\n",
      "4323 files in the directory\n",
      "Saved Results to  C:\\Users\\sayala\\Documents\\HPC_Scratch\\EUPVSEC\\PVPMC_Tracking Results\\BifRad_PVMismatch_PVPMCRuns_Shanghai_10.csv\n",
      "4245 files in the directory\n",
      "Saved Results to  C:\\Users\\sayala\\Documents\\HPC_Scratch\\EUPVSEC\\PVPMC_Tracking Results\\BifRad_PVMismatch_PVPMCRuns_Richmond_1b.csv\n",
      "4245 files in the directory\n",
      "Saved Results to  C:\\Users\\sayala\\Documents\\HPC_Scratch\\EUPVSEC\\PVPMC_Tracking Results\\BifRad_PVMismatch_PVPMCRuns_Richmond_2.csv\n",
      "4245 files in the directory\n",
      "Saved Results to  C:\\Users\\sayala\\Documents\\HPC_Scratch\\EUPVSEC\\PVPMC_Tracking Results\\BifRad_PVMismatch_PVPMCRuns_Richmond_3.csv\n",
      "4245 files in the directory\n",
      "Saved Results to  C:\\Users\\sayala\\Documents\\HPC_Scratch\\EUPVSEC\\PVPMC_Tracking Results\\BifRad_PVMismatch_PVPMCRuns_Richmond_4.csv\n",
      "4245 files in the directory\n",
      "Saved Results to  C:\\Users\\sayala\\Documents\\HPC_Scratch\\EUPVSEC\\PVPMC_Tracking Results\\BifRad_PVMismatch_PVPMCRuns_Richmond_5.csv\n",
      "4245 files in the directory\n",
      "Saved Results to  C:\\Users\\sayala\\Documents\\HPC_Scratch\\EUPVSEC\\PVPMC_Tracking Results\\BifRad_PVMismatch_PVPMCRuns_Richmond_6.csv\n",
      "4245 files in the directory\n",
      "Saved Results to  C:\\Users\\sayala\\Documents\\HPC_Scratch\\EUPVSEC\\PVPMC_Tracking Results\\BifRad_PVMismatch_PVPMCRuns_Richmond_7.csv\n",
      "4245 files in the directory\n",
      "Saved Results to  C:\\Users\\sayala\\Documents\\HPC_Scratch\\EUPVSEC\\PVPMC_Tracking Results\\BifRad_PVMismatch_PVPMCRuns_Richmond_8.csv\n",
      "4245 files in the directory\n",
      "Saved Results to  C:\\Users\\sayala\\Documents\\HPC_Scratch\\EUPVSEC\\PVPMC_Tracking Results\\BifRad_PVMismatch_PVPMCRuns_Richmond_9.csv\n",
      "4245 files in the directory\n",
      "Saved Results to  C:\\Users\\sayala\\Documents\\HPC_Scratch\\EUPVSEC\\PVPMC_Tracking Results\\BifRad_PVMismatch_PVPMCRuns_Richmond_10.csv\n"
     ]
    }
   ],
   "source": [
    "cities = ['Cairo', 'Shanghai', 'Richmond']\n",
    "runs = (['0', '1', '1b', '2', '3', '4', '5', '6', '7', '8', '9', '10'])\n",
    "\n",
    "# Format of how the resultfolders are stored is a bit different. Example:\n",
    "# r'C:\\Users\\sayala\\Documents\\HPC_Scratch\\EUPVSEC\\PVPMC_Tracking Results\\CAIRO\\Bifacial_Radiance Results\\PVPMC_0\\results'\n",
    "basefolder = r'C:\\Users\\sayala\\Documents\\HPC_Scratch\\EUPVSEC\\PVPMC_Tracking Results'\n",
    "\n",
    "for i in range (1, len(cities)): #0, len(cities)):\n",
    "    for j in range(2, len(runs)): # 0, len(runs)):\n",
    "    \n",
    "        resultsfolder = basefolder + '\\\\'+cities[i]+'\\\\Bifacial_Radiance Results\\\\PVPMC_'+runs[j]+'\\\\results'\n",
    "        writefiletitle = basefolder + '\\\\BifRad_PVMismatch_PVPMCRuns_'+cities[i]+'_'+runs[j]+'.csv'\n",
    "        sensorsy=100\n",
    "        portraitorlandscape='portrait'\n",
    "        bififactor=1.0\n",
    "        bifacial_radiance.mismatch.analysisIrradianceandPowerMismatch(resultsfolder, writefiletitle, sensorsy, portraitorlandscape, bififactor)\n"
   ]
  },
  {
   "cell_type": "code",
   "execution_count": 6,
   "metadata": {},
   "outputs": [
    {
     "name": "stdout",
     "output_type": "stream",
     "text": [
      "4245 files in the directory\n",
      "Saved Results to  C:\\Users\\sayala\\Documents\\HPC_Scratch\\EUPVSEC\\PVPMC_Tracking Results\\BifRad_PVMismatch_PVPMCRuns_Richmond_0.csv\n",
      "4245 files in the directory\n",
      "Saved Results to  C:\\Users\\sayala\\Documents\\HPC_Scratch\\EUPVSEC\\PVPMC_Tracking Results\\BifRad_PVMismatch_PVPMCRuns_Richmond_1.csv\n"
     ]
    }
   ],
   "source": [
    "cities = ['Cairo', 'Shanghai', 'Richmond']\n",
    "runs = (['0', '1', '1b', '2', '3', '4', '5', '6', '7', '8', '9', '10'])\n",
    "\n",
    "# Format of how the resultfolders are stored is a bit different. Example:\n",
    "# r'C:\\Users\\sayala\\Documents\\HPC_Scratch\\EUPVSEC\\PVPMC_Tracking Results\\CAIRO\\Bifacial_Radiance Results\\PVPMC_0\\results'\n",
    "basefolder = r'C:\\Users\\sayala\\Documents\\HPC_Scratch\\EUPVSEC\\PVPMC_Tracking Results'\n",
    "\n",
    "for i in range (2, len(cities)): #0, len(cities)):\n",
    "    for j in range(0, 2): #2, len(runs)): # 0, len(runs)):\n",
    "    \n",
    "        resultsfolder = basefolder + '\\\\'+cities[i]+'\\\\Bifacial_Radiance Results\\\\PVPMC_'+runs[j]+'\\\\results'\n",
    "        writefiletitle = basefolder + '\\\\BifRad_PVMismatch_PVPMCRuns_'+cities[i]+'_'+runs[j]+'.csv'\n",
    "        sensorsy=100\n",
    "        portraitorlandscape='portrait'\n",
    "        bififactor=1.0\n",
    "        bifacial_radiance.mismatch.analysisIrradianceandPowerMismatch(resultsfolder, writefiletitle, sensorsy, portraitorlandscape, bififactor)\n"
   ]
  },
  {
   "cell_type": "code",
   "execution_count": null,
   "metadata": {},
   "outputs": [],
   "source": []
  },
  {
   "cell_type": "markdown",
   "metadata": {},
   "source": [
    "## Sanity Check Richmond take 2"
   ]
  },
  {
   "cell_type": "code",
   "execution_count": 2,
   "metadata": {},
   "outputs": [
    {
     "name": "stdout",
     "output_type": "stream",
     "text": [
      "4245 files in the directory\n",
      "Saved Results to  C:\\Users\\sayala\\Documents\\HPC_Scratch\\EUPVSEC\\SanityCheck_Richmond\\FixedTilt_Richmond_C_0.15\\BifRad_PVMismatch_FixedTilt_Landscape_RichmondEPW_C_0.15.csv\n"
     ]
    }
   ],
   "source": [
    "Cs = ['0.15']\n",
    "cities = ['Richmond']\n",
    "i = 0; j=0\n",
    "\n",
    "basefolder = r'C:\\Users\\sayala\\Documents\\HPC_Scratch\\EUPVSEC\\SanityCheck_Richmond\\FixedTilt_Richmond_C_0.15'\n",
    "\n",
    "\n",
    "resultsfolder = basefolder + '\\\\results'\n",
    "writefiletitle = basefolder + '\\\\BifRad_PVMismatch_FixedTilt_Landscape_'+cities[i]+'_C_'+Cs[j]+'_REDO.csv'\n",
    "sensorsy=100\n",
    "portraitorlandscape='landscape'\n",
    "bififactor=1.0\n",
    "bifacial_radiance.mismatch.analysisIrradianceandPowerMismatch(resultsfolder, writefiletitle, sensorsy, portraitorlandscape, bififactor)\n"
   ]
  },
  {
   "cell_type": "markdown",
   "metadata": {},
   "source": [
    "# Test of new Faster Routine for analysis (df4)\n"
   ]
  },
  {
   "cell_type": "code",
   "execution_count": 3,
   "metadata": {},
   "outputs": [
    {
     "name": "stdout",
     "output_type": "stream",
     "text": [
      "3960 files in the directory\n",
      "Sensors y > cellsy; Downsampling data by finding 'CellCenter\n",
      "Saved Results to  C:\\Users\\sayala\\Documents\\HPC_Scratch\\EUPVSEC\\PinPV_Bifacial_Radiance_Runs\\HPCResults\\df4_FixedTilt\\BifRad_PVMismatch_FixedTilt_Landscape_Cairo_C_0.15.csv\n",
      "3960 files in the directory\n",
      "Sensors y > cellsy; Downsampling data by finding 'CellCenter\n",
      "Saved Results to  C:\\Users\\sayala\\Documents\\HPC_Scratch\\EUPVSEC\\PinPV_Bifacial_Radiance_Runs\\HPCResults\\df4_FixedTilt\\BifRad_PVMismatch_FixedTilt_Landscape_Cairo_C_0.25.csv\n",
      "3960 files in the directory\n",
      "Sensors y > cellsy; Downsampling data by finding 'CellCenter\n",
      "Saved Results to  C:\\Users\\sayala\\Documents\\HPC_Scratch\\EUPVSEC\\PinPV_Bifacial_Radiance_Runs\\HPCResults\\df4_FixedTilt\\BifRad_PVMismatch_FixedTilt_Landscape_Cairo_C_0.5.csv\n",
      "3960 files in the directory\n",
      "Sensors y > cellsy; Downsampling data by finding 'CellCenter\n",
      "Saved Results to  C:\\Users\\sayala\\Documents\\HPC_Scratch\\EUPVSEC\\PinPV_Bifacial_Radiance_Runs\\HPCResults\\df4_FixedTilt\\BifRad_PVMismatch_FixedTilt_Landscape_Cairo_C_0.75.csv\n",
      "3960 files in the directory\n",
      "Sensors y > cellsy; Downsampling data by finding 'CellCenter\n",
      "Saved Results to  C:\\Users\\sayala\\Documents\\HPC_Scratch\\EUPVSEC\\PinPV_Bifacial_Radiance_Runs\\HPCResults\\df4_FixedTilt\\BifRad_PVMismatch_FixedTilt_Landscape_Cairo_C_1.csv\n",
      "4323 files in the directory\n",
      "Sensors y > cellsy; Downsampling data by finding 'CellCenter\n",
      "Saved Results to  C:\\Users\\sayala\\Documents\\HPC_Scratch\\EUPVSEC\\PinPV_Bifacial_Radiance_Runs\\HPCResults\\df4_FixedTilt\\BifRad_PVMismatch_FixedTilt_Landscape_Shanghai_C_0.15.csv\n",
      "4323 files in the directory\n",
      "Sensors y > cellsy; Downsampling data by finding 'CellCenter\n",
      "Saved Results to  C:\\Users\\sayala\\Documents\\HPC_Scratch\\EUPVSEC\\PinPV_Bifacial_Radiance_Runs\\HPCResults\\df4_FixedTilt\\BifRad_PVMismatch_FixedTilt_Landscape_Shanghai_C_0.25.csv\n",
      "4323 files in the directory\n",
      "Sensors y > cellsy; Downsampling data by finding 'CellCenter\n",
      "Saved Results to  C:\\Users\\sayala\\Documents\\HPC_Scratch\\EUPVSEC\\PinPV_Bifacial_Radiance_Runs\\HPCResults\\df4_FixedTilt\\BifRad_PVMismatch_FixedTilt_Landscape_Shanghai_C_0.5.csv\n",
      "4323 files in the directory\n",
      "Sensors y > cellsy; Downsampling data by finding 'CellCenter\n",
      "Saved Results to  C:\\Users\\sayala\\Documents\\HPC_Scratch\\EUPVSEC\\PinPV_Bifacial_Radiance_Runs\\HPCResults\\df4_FixedTilt\\BifRad_PVMismatch_FixedTilt_Landscape_Shanghai_C_0.75.csv\n",
      "4323 files in the directory\n",
      "Sensors y > cellsy; Downsampling data by finding 'CellCenter\n",
      "Saved Results to  C:\\Users\\sayala\\Documents\\HPC_Scratch\\EUPVSEC\\PinPV_Bifacial_Radiance_Runs\\HPCResults\\df4_FixedTilt\\BifRad_PVMismatch_FixedTilt_Landscape_Shanghai_C_1.csv\n",
      "4245 files in the directory\n",
      "Sensors y > cellsy; Downsampling data by finding 'CellCenter\n",
      "Saved Results to  C:\\Users\\sayala\\Documents\\HPC_Scratch\\EUPVSEC\\PinPV_Bifacial_Radiance_Runs\\HPCResults\\df4_FixedTilt\\BifRad_PVMismatch_FixedTilt_Landscape_Richmond_C_0.15.csv\n",
      "4245 files in the directory\n",
      "Sensors y > cellsy; Downsampling data by finding 'CellCenter\n",
      "Saved Results to  C:\\Users\\sayala\\Documents\\HPC_Scratch\\EUPVSEC\\PinPV_Bifacial_Radiance_Runs\\HPCResults\\df4_FixedTilt\\BifRad_PVMismatch_FixedTilt_Landscape_Richmond_C_0.25.csv\n",
      "4245 files in the directory\n",
      "Sensors y > cellsy; Downsampling data by finding 'CellCenter\n",
      "Saved Results to  C:\\Users\\sayala\\Documents\\HPC_Scratch\\EUPVSEC\\PinPV_Bifacial_Radiance_Runs\\HPCResults\\df4_FixedTilt\\BifRad_PVMismatch_FixedTilt_Landscape_Richmond_C_0.5.csv\n",
      "4245 files in the directory\n",
      "Sensors y > cellsy; Downsampling data by finding 'CellCenter\n",
      "Saved Results to  C:\\Users\\sayala\\Documents\\HPC_Scratch\\EUPVSEC\\PinPV_Bifacial_Radiance_Runs\\HPCResults\\df4_FixedTilt\\BifRad_PVMismatch_FixedTilt_Landscape_Richmond_C_0.75.csv\n",
      "4245 files in the directory\n",
      "Sensors y > cellsy; Downsampling data by finding 'CellCenter\n",
      "Saved Results to  C:\\Users\\sayala\\Documents\\HPC_Scratch\\EUPVSEC\\PinPV_Bifacial_Radiance_Runs\\HPCResults\\df4_FixedTilt\\BifRad_PVMismatch_FixedTilt_Landscape_Richmond_C_1.csv\n"
     ]
    }
   ],
   "source": [
    "Cs = ['0.15', '0.25', '0.5', '0.75','1']\n",
    "cities = ['Cairo', 'Shanghai', 'Richmond']\n",
    "\n",
    "basefolder = r'C:\\Users\\sayala\\Documents\\HPC_Scratch\\EUPVSEC\\PinPV_Bifacial_Radiance_Runs\\HPCResults\\df4_FixedTilt'\n",
    "    \n",
    "for i in range (0, len(cities)):\n",
    "    for j in range(0, len(Cs)):\n",
    "    \n",
    "        resultsfolder = basefolder + '\\\\FixedTilt_'+cities[i]+'_C_'+Cs[j]+'\\\\results'\n",
    "        writefiletitle = basefolder + '\\\\BifRad_PVMismatch_FixedTilt_Landscape_'+cities[i]+'_C_'+Cs[j]+'.csv'\n",
    "        portraitorlandscape='landscape'\n",
    "        bififactor=1.0\n",
    "        bifacial_radiance.mismatch.analysisIrradianceandPowerMismatch(resultsfolder, writefiletitle, portraitorlandscape, bififactor)\n"
   ]
  },
  {
   "cell_type": "markdown",
   "metadata": {},
   "source": []
  },
  {
   "cell_type": "markdown",
   "metadata": {},
   "source": [
    "## Sanity Check Cairo , H = 0.15, 5 rows only!"
   ]
  },
  {
   "cell_type": "code",
   "execution_count": 2,
   "metadata": {},
   "outputs": [
    {
     "name": "stdout",
     "output_type": "stream",
     "text": [
      "3960 files in the directory\n",
      "Same number of sensorsy and cellsy for your module.\n"
     ]
    },
    {
     "name": "stderr",
     "output_type": "stream",
     "text": [
      "c:\\users\\sayala\\documents\\github\\bifacial_radiance\\bifacial_radiance\\analysis.py:373: RuntimeWarning: invalid value encountered in double_scalars\n",
      "  return (np.abs(np.subtract.outer(data,data)).sum()/data.__len__()**2 / np.mean(data))*100\n"
     ]
    },
    {
     "name": "stdout",
     "output_type": "stream",
     "text": [
      "Saved Results to  C:\\Users\\sayala\\Documents\\HPC_Scratch\\EUPVSEC\\SanityCheck_Cairo_5Rws\\results\\BifRad_PVMismatch_FixedTilt_Landscape_Cairo_C_0.15_5nRows.csv\n"
     ]
    }
   ],
   "source": [
    "\n",
    "resultsfolder = r'C:\\Users\\sayala\\Documents\\HPC_Scratch\\EUPVSEC\\SanityCheck_Cairo_5Rws\\results'\n",
    "writefiletitle = resultsfolder + '\\\\BifRad_PVMismatch_FixedTilt_Landscape_Cairo_C_0.15_5nRows.csv'\n",
    "sensorsy=100\n",
    "portraitorlandscape='landscape'\n",
    "bififactor=1.0\n",
    "numcells=72\n",
    "downsamplingmethod='byAverage'\n",
    "bifacial_radiance.mismatch.analysisIrradianceandPowerMismatch(testfolder=resultsfolder, writefiletitle=writefiletitle, portraitorlandscape=portraitorlandscape, bififactor=bififactor, numcells=numcells, downsamplingmethod=downsamplingmethod)\n"
   ]
  },
  {
   "cell_type": "code",
   "execution_count": 3,
   "metadata": {},
   "outputs": [
    {
     "name": "stdout",
     "output_type": "stream",
     "text": [
      "HEllo\n"
     ]
    }
   ],
   "source": [
    "print(\"HEllo\")"
   ]
  },
  {
   "cell_type": "code",
   "execution_count": null,
   "metadata": {},
   "outputs": [],
   "source": []
  }
 ],
 "metadata": {
  "kernelspec": {
   "display_name": "Python 3",
   "language": "python",
   "name": "python3"
  },
  "language_info": {
   "codemirror_mode": {
    "name": "ipython",
    "version": 3
   },
   "file_extension": ".py",
   "mimetype": "text/x-python",
   "name": "python",
   "nbconvert_exporter": "python",
   "pygments_lexer": "ipython3",
   "version": "3.7.3"
  }
 },
 "nbformat": 4,
 "nbformat_minor": 2
}
