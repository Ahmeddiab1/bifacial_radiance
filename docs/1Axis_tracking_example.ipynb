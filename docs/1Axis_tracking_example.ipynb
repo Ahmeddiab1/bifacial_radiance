{
 "cells": [
  {
   "cell_type": "markdown",
   "metadata": {},
   "source": [
    "## 1-Axis tracker example\n",
    "\n",
    "Example demonstrating Radiance gencumulativesky for 1-axis tracking.\n",
    "\n",
    "#### Prerequisites (Step 0):\n",
    "This software requires the previous installation of RADIANCE from https://github.com/NREL/Radiance/releases.\n",
    "\n",
    "Make sure you add radiance to the system PATH so Python can interact with the radiance program\n",
    "\n",
    "If you are on a PC you should also copy the Jaloxa radwinexe-5.0.a.8-win64.zip executables into `program files/radiance/bin`: http://www.jaloxa.eu/resources/radiance/radwinexe.shtml\n",
    "\n",
    "#### STEP 1: Install and import bifacial_radiance\n",
    "\n",
    " - clone the bifacial_radiance repo to your local directory\n",
    " - navigate to the \\bifacial_radiance directory which contains setup\n",
    " - run `pip install -e .  `  ( the period . is required, the -e flag is optional and installs in development mode where changes to the bifacial_radiance.py files are immediately incorporated into the module if you re-start the python kernel)\n",
    "\n",
    "#### STEP 2: Move gencumulativesky.exe\n",
    "Copy gencumulativesky.exe from the repo's `/bifacial_radiance/data/` directory and copy into your Radiance install directory.\n",
    "This is typically found in `/program files/radiance/bin/`.  \n",
    "\n",
    "#### STEP 3: Create a local Radiance directory for storing the scene files created\n",
    "Keep scene geometry files separate from the bifacial_radiance directory.  Create a local directory somewhere that will be referenced in the next step.\n",
    "\n",
    "#### STEP 4: Reboot the computer\n",
    "This makes sure the PATH is updated\n",
    "\n",
    "\n"
   ]
  },
  {
   "cell_type": "code",
   "execution_count": 1,
   "metadata": {},
   "outputs": [],
   "source": [
    "#testfolder = r'E:\\Documents\\Python Scripts\\Test1axisFolder'  #point to an empty directory or existing Radiance directory\n",
    "# tracker geometry options:\n",
    "module_height = 1.7  # module portrait dimension in meters\n",
    "gcr = 0.33   # ground cover ratio,  = module_height / pitch\n",
    "albedo = 0.3     # ground albedo\n",
    "hub_height = 2   # tracker height at 0 tilt in meters (hub height)\n",
    "limit_angle = 45 # tracker rotation limit angle"
   ]
  },
  {
   "cell_type": "code",
   "execution_count": 2,
   "metadata": {},
   "outputs": [
    {
     "name": "stdout",
     "output_type": "stream",
     "text": [
      "path = C:\\Users\\cdeline\\Documents\\Python Scripts\\Test1axisFolder\n"
     ]
    }
   ],
   "source": [
    "try:\n",
    "    from bifacial_radiance import RadianceObj, AnalysisObj\n",
    "except ImportError:\n",
    "    raise RuntimeError('bifacial_radiance is required. download distribution')\n",
    "    # Simple example system using Radiance.\n",
    "import numpy as np\n",
    "import easygui  # this is only required if you want a graphical directory picker.  Note:  easygui sometimes opens in the background forcing you to hunt for the window!  \n",
    "testfolder = easygui.diropenbox(msg = 'Select or create an empty directory for the Radiance tree',title='Browse for empty Radiance directory')\n",
    "\n",
    "demo = RadianceObj(path = testfolder)  # Create a RadianceObj 'object'\n",
    "demo.setGround(albedo) # input albedo number or material name like 'concrete'.  To see options, run this without any input.\n",
    "\n"
   ]
  },
  {
   "cell_type": "code",
   "execution_count": 3,
   "metadata": {
    "scrolled": false
   },
   "outputs": [
    {
     "name": "stdout",
     "output_type": "stream",
     "text": [
      "Getting weather file: USA_VA_Richmond.Intl.AP.724010_TMY.epw  ... OK!\n"
     ]
    },
    {
     "name": "stderr",
     "output_type": "stream",
     "text": [
      "C:\\Users\\cdeline\\Anaconda2\\lib\\site-packages\\pvlib\\tracking.py:409: RuntimeWarning: invalid value encountered in minimum\n",
      "  temp = np.minimum(axes_distance*cosd(wid), 1)\n"
     ]
    },
    {
     "name": "stdout",
     "output_type": "stream",
     "text": [
      "Saving file EPWs\\1axis_0.0.csv, # points: 85\n",
      "Saving file EPWs\\1axis_-30.0.csv, # points: 157\n",
      "Saving file EPWs\\1axis_35.0.csv, # points: 167\n",
      "Saving file EPWs\\1axis_5.0.csv, # points: 308\n",
      "Saving file EPWs\\1axis_-25.0.csv, # points: 175\n",
      "Saving file EPWs\\1axis_40.0.csv, # points: 135\n",
      "Saving file EPWs\\1axis_10.0.csv, # points: 132\n",
      "Saving file EPWs\\1axis_-20.0.csv, # points: 110\n",
      "Saving file EPWs\\1axis_45.0.csv, # points: 842\n",
      "Saving file EPWs\\1axis_15.0.csv, # points: 123\n",
      "Saving file EPWs\\1axis_-15.0.csv, # points: 136\n",
      "Saving file EPWs\\1axis_-45.0.csv, # points: 815\n",
      "Saving file EPWs\\1axis_20.0.csv, # points: 225\n",
      "Saving file EPWs\\1axis_-10.0.csv, # points: 318\n",
      "Saving file EPWs\\1axis_-40.0.csv, # points: 173\n",
      "Saving file EPWs\\1axis_25.0.csv, # points: 154\n",
      "Saving file EPWs\\1axis_-5.0.csv, # points: 79\n",
      "Saving file EPWs\\1axis_-35.0.csv, # points: 146\n",
      "Saving file EPWs\\1axis_30.0.csv, # points: 116\n"
     ]
    }
   ],
   "source": [
    "# look at a couple of ways to get meteorological data\n",
    "EPWmode = True\n",
    "if EPWmode is True:\n",
    "    epwfile = demo.getEPW(37.5,-77.6) #Pull EPW data for any global lat/lon. In this case, Richmond, VA\n",
    "    metdata = demo.readEPW(epwfile) # read in the weather data\n",
    "else:\n",
    "    metdata = demo.readTMY() # load TMY3 data from another source, like solar prospector. A version is saved as \\EPWs\\tmy3_temp.csv\n",
    "# create metdata files for each condition\n",
    "trackerdict = demo.set1axis(metdata, limit_angle = limit_angle, backtrack = True, gcr = gcr)\n"
   ]
  },
  {
   "cell_type": "code",
   "execution_count": 4,
   "metadata": {
    "scrolled": true
   },
   "outputs": [
    {
     "name": "stdout",
     "output_type": "stream",
     "text": [
      "message: There were 46 sun up hours in this climate file\n",
      "Total Ibh/Lbh: 0.000000\n",
      "Created skyfile skies\\1axis_0.0.rad\n",
      "message: There were 157 sun up hours in this climate file\n",
      "Total Ibh/Lbh: 0.000000\n",
      "Created skyfile skies\\1axis_-30.0.rad\n",
      "message: There were 167 sun up hours in this climate file\n",
      "Total Ibh/Lbh: 0.000000\n",
      "Created skyfile skies\\1axis_35.0.rad\n",
      "message: There were 273 sun up hours in this climate file\n",
      "Total Ibh/Lbh: 0.000000\n",
      "Created skyfile skies\\1axis_5.0.rad\n",
      "message: There were 172 sun up hours in this climate file\n",
      "Total Ibh/Lbh: 0.000000\n",
      "Created skyfile skies\\1axis_-25.0.rad\n",
      "message: There were 135 sun up hours in this climate file\n",
      "Total Ibh/Lbh: 0.000000\n",
      "Created skyfile skies\\1axis_40.0.rad\n",
      "message: There were 111 sun up hours in this climate file\n",
      "Total Ibh/Lbh: 0.000000\n",
      "Created skyfile skies\\1axis_10.0.rad\n",
      "message: There were 108 sun up hours in this climate file\n",
      "Total Ibh/Lbh: 0.000000\n",
      "Created skyfile skies\\1axis_-20.0.rad\n",
      "message: There were 842 sun up hours in this climate file\n",
      "Total Ibh/Lbh: 0.000000\n",
      "Created skyfile skies\\1axis_45.0.rad\n",
      "message: There were 112 sun up hours in this climate file\n",
      "Total Ibh/Lbh: 0.000000\n",
      "Created skyfile skies\\1axis_15.0.rad\n",
      "message: There were 133 sun up hours in this climate file\n",
      "Total Ibh/Lbh: 0.000000\n",
      "Created skyfile skies\\1axis_-15.0.rad\n",
      "message: There were 812 sun up hours in this climate file\n",
      "Total Ibh/Lbh: 0.000000\n",
      "Created skyfile skies\\1axis_-45.0.rad\n",
      "message: There were 224 sun up hours in this climate file\n",
      "Total Ibh/Lbh: 0.000000\n",
      "Created skyfile skies\\1axis_20.0.rad\n",
      "message: There were 307 sun up hours in this climate file\n",
      "Total Ibh/Lbh: 0.000000\n",
      "Created skyfile skies\\1axis_-10.0.rad\n",
      "message: There were 172 sun up hours in this climate file\n",
      "Total Ibh/Lbh: 0.000000\n",
      "Created skyfile skies\\1axis_-40.0.rad\n",
      "message: There were 152 sun up hours in this climate file\n",
      "Total Ibh/Lbh: 0.000000\n",
      "Created skyfile skies\\1axis_25.0.rad\n",
      "message: There were 56 sun up hours in this climate file\n",
      "Total Ibh/Lbh: 0.000000\n",
      "Created skyfile skies\\1axis_-5.0.rad\n",
      "message: There were 145 sun up hours in this climate file\n",
      "Total Ibh/Lbh: 0.000000\n",
      "Created skyfile skies\\1axis_-35.0.rad\n",
      "message: There were 116 sun up hours in this climate file\n",
      "Total Ibh/Lbh: 0.000000\n",
      "Created skyfile skies\\1axis_30.0.rad\n",
      "('\\nModule Name:', 'Prism_Solar_Bi60')\n",
      "REWRITING pre-existing module file. \n",
      "Module Prism Solar Bi60 successfully created\n",
      "Warning: tubeZgap deprecated. Replace with zgap\n",
      "Warning: panelgap deprecated. Replace with ygap\n",
      "('\\nModule Name:', '2upTracker')\n",
      "Module file did not exist before, creating new module file\n",
      "Module 2upTracker successfully created\n",
      "Available module names: ['mini_panel', 'Prism Solar Bi60 landscape', '2upTracker', 'Prism Solar Bi60', 'monopanel', 'simple_panel']\n"
     ]
    }
   ],
   "source": [
    "# We have 2 workflows: cumulativesky and hourly.  Start with cumulativesky\n",
    "trackerdict = demo.genCumSky1axis(trackerdict)\n",
    "# Create a new moduletype: Prism Solar Bi60. width = .984m height = 1.695m. Bifaciality = 0.90\n",
    "demo.makeModule(name='Prism Solar Bi60',x=0.984,y=module_height)\n",
    "# note that beginning in v0.2.3 you can add torque tubes and multiple module arrays. e.g:\n",
    "demo.makeModule(name='2upTracker',x=0.984,y=module_height, torquetube = True, tubetype = 'round', \n",
    "    diameter = 0.1, tubeZgap = 0.05, panelgap = 0.05, numpanels = 2)\n",
    "\n",
    "demo.printModules()# print available module types"
   ]
  },
  {
   "cell_type": "code",
   "execution_count": 5,
   "metadata": {
    "scrolled": true
   },
   "outputs": [
    {
     "name": "stdout",
     "output_type": "stream",
     "text": [
      "\n",
      "Making .rad files for cumulativesky 1-axis workflow\n",
      "19 Radfiles created in \\objects\\\n",
      "\n",
      "Making 19 octfiles for 1-axis tracking in root directory.\n",
      "Created 1axis_0.0.oct\n",
      "Created 1axis_-30.0.oct\n",
      "Created 1axis_35.0.oct\n",
      "Created 1axis_5.0.oct\n",
      "Created 1axis_-25.0.oct\n",
      "Created 1axis_40.0.oct\n",
      "Created 1axis_10.0.oct\n",
      "Created 1axis_-20.0.oct\n",
      "Created 1axis_45.0.oct\n",
      "Created 1axis_15.0.oct\n",
      "Created 1axis_-15.0.oct\n",
      "Created 1axis_-45.0.oct\n",
      "Created 1axis_20.0.oct\n",
      "Created 1axis_-10.0.oct\n",
      "Created 1axis_-40.0.oct\n",
      "Created 1axis_25.0.oct\n",
      "Created 1axis_-5.0.oct\n",
      "Created 1axis_-35.0.oct\n",
      "Created 1axis_30.0.oct\n",
      "Linescan in process: 1axis_-45.0_Front\n",
      "Linescan in process: 1axis_-45.0_Back\n",
      "Saved: results\\irr_1axis_-45.0.csv\n",
      "Index: -45.0. Wm2Front: 322013.611111. Wm2Back: 46559.8222222\n",
      "Linescan in process: 1axis_-40.0_Front\n",
      "Linescan in process: 1axis_-40.0_Back\n",
      "Saved: results\\irr_1axis_-40.0.csv\n",
      "Index: -40.0. Wm2Front: 77784.8666667. Wm2Back: 12529.4711111\n",
      "Linescan in process: 1axis_-35.0_Front\n",
      "Linescan in process: 1axis_-35.0_Back\n",
      "Saved: results\\irr_1axis_-35.0.csv\n",
      "Index: -35.0. Wm2Front: 62871.1988889. Wm2Back: 10030.5172222\n",
      "Linescan in process: 1axis_-30.0_Front\n",
      "Linescan in process: 1axis_-30.0_Back\n",
      "Saved: results\\irr_1axis_-30.0.csv\n",
      "Index: -30.0. Wm2Front: 56247.4955556. Wm2Back: 9587.73166667\n",
      "Linescan in process: 1axis_-25.0_Front\n",
      "Linescan in process: 1axis_-25.0_Back\n",
      "Saved: results\\irr_1axis_-25.0.csv\n",
      "Index: -25.0. Wm2Front: 95426.28. Wm2Back: 16456.1111111\n",
      "Linescan in process: 1axis_-20.0_Front\n",
      "Linescan in process: 1axis_-20.0_Back\n",
      "Saved: results\\irr_1axis_-20.0.csv\n",
      "Index: -20.0. Wm2Front: 30991.7766667. Wm2Back: 5767.13911111\n",
      "Linescan in process: 1axis_-15.0_Front\n",
      "Linescan in process: 1axis_-15.0_Back\n",
      "Saved: results\\irr_1axis_-15.0.csv\n",
      "Index: -15.0. Wm2Front: 28472.2833333. Wm2Back: 5339.117\n",
      "Linescan in process: 1axis_-10.0_Front\n",
      "Linescan in process: 1axis_-10.0_Back\n",
      "Saved: results\\irr_1axis_-10.0.csv\n",
      "Index: -10.0. Wm2Front: 141340.066667. Wm2Back: 26472.05\n",
      "Linescan in process: 1axis_-5.0_Front\n",
      "Linescan in process: 1axis_-5.0_Back\n",
      "Saved: results\\irr_1axis_-5.0.csv\n",
      "Index: -5.0. Wm2Front: 1328.83822222. Wm2Back: 259.774077778\n",
      "Linescan in process: 1axis_0.0_Front\n",
      "Linescan in process: 1axis_0.0_Back\n",
      "Saved: results\\irr_1axis_0.0.csv\n",
      "Index: 0.0. Wm2Front: 6120.97166667. Wm2Back: 1082.58355556\n",
      "Linescan in process: 1axis_5.0_Front\n",
      "Linescan in process: 1axis_5.0_Back\n",
      "Saved: results\\irr_1axis_5.0.csv\n",
      "Index: 5.0. Wm2Front: 138085.977778. Wm2Back: 25422.8666667\n",
      "Linescan in process: 1axis_10.0_Front\n",
      "Linescan in process: 1axis_10.0_Back\n",
      "Saved: results\\irr_1axis_10.0.csv\n",
      "Index: 10.0. Wm2Front: 24482.97. Wm2Back: 4394.34611111\n",
      "Linescan in process: 1axis_15.0_Front\n",
      "Linescan in process: 1axis_15.0_Back\n",
      "Saved: results\\irr_1axis_15.0.csv\n",
      "Index: 15.0. Wm2Front: 27595.0377778. Wm2Back: 4892.85677778\n",
      "Linescan in process: 1axis_20.0_Front\n",
      "Linescan in process: 1axis_20.0_Back\n",
      "Saved: results\\irr_1axis_20.0.csv\n",
      "Index: 20.0. Wm2Front: 106058.077778. Wm2Back: 18014.1355556\n",
      "Linescan in process: 1axis_25.0_Front\n",
      "Linescan in process: 1axis_25.0_Back\n",
      "Saved: results\\irr_1axis_25.0.csv\n",
      "Index: 25.0. Wm2Front: 48990.9922222. Wm2Back: 7775.52911111\n",
      "Linescan in process: 1axis_30.0_Front\n",
      "Linescan in process: 1axis_30.0_Back\n",
      "Saved: results\\irr_1axis_30.0.csv\n",
      "Index: 30.0. Wm2Front: 53844.2011111. Wm2Back: 8329.073\n",
      "Linescan in process: 1axis_35.0_Front\n",
      "Linescan in process: 1axis_35.0_Back\n",
      "Saved: results\\irr_1axis_35.0.csv\n",
      "Index: 35.0. Wm2Front: 81528.3377778. Wm2Back: 12057.6088889\n",
      "Linescan in process: 1axis_40.0_Front\n",
      "Linescan in process: 1axis_40.0_Back\n",
      "Saved: results\\irr_1axis_40.0.csv\n",
      "Index: 40.0. Wm2Front: 59118.1155556. Wm2Back: 8151.154\n",
      "Linescan in process: 1axis_45.0_Front\n",
      "Linescan in process: 1axis_45.0_Back\n",
      "Saved: results\\irr_1axis_45.0.csv\n",
      "Index: 45.0. Wm2Front: 370276.055556. Wm2Back: 37940.9077778\n",
      "Annual RADIANCE bifacial ratio for 1-axis tracking: 0.151\n"
     ]
    }
   ],
   "source": [
    "# create a scene using panels in portrait, 2m hub height, 0.33 GCR. NOTE: clearance needs to be calculated at each step. hub height is constant\n",
    "sceneDict = {'pitch':module_height / gcr,'height':hub_height}  # 'orientation':'portrait' deprecated in v0.2.4\n",
    "module_type = 'Prism Solar Bi60'\n",
    "trackerdict = demo.makeScene1axis(trackerdict,module_type,sceneDict, nMods = 20, nRows = 7) #makeScene creates a .rad file with 20 modules per row, 7 rows.\n",
    "\n",
    "# Note: with v0.2.3 the makeScene1axis has additional parameters to allow custom scans.  parameters: \n",
    "#    sensorsy = int() (9 = default)\n",
    "#    modwanted = int() (middle module default)\n",
    "#    rowwanted   =  int() (middle row default)\n",
    "\n",
    "trackerdict = demo.makeOct1axis(trackerdict)\n",
    "# Now we need to run analysis and combine the results into an annual total.  This can be done by calling scene.frontscan and scene.backscan\n",
    "trackerdict = demo.analysis1axis(trackerdict)\n",
    "\n",
    "# the frontscan and backscan include a linescan along a chord of the module, both on the front and back.  \n",
    "# Return the minimum of the irradiance ratio, and the average of the irradiance ratio along a chord of the module.\n",
    "print('Annual RADIANCE bifacial ratio for 1-axis tracking: %0.3f' %(sum(demo.Wm2Back)/sum(demo.Wm2Front)) )\n"
   ]
  },
  {
   "cell_type": "code",
   "execution_count": 6,
   "metadata": {},
   "outputs": [
    {
     "name": "stdout",
     "output_type": "stream",
     "text": [
      "Annual RADIANCE bifacial ratio for 1-axis tracking: 0.151\n"
     ]
    }
   ],
   "source": [
    "# Return the minimum of the irradiance ratio, and the average of the irradiance ratio along a chord of the module.\n",
    "print('Annual RADIANCE bifacial ratio for 1-axis tracking: %0.3f' %(sum(demo.Wm2Back)/sum(demo.Wm2Front)) )\n"
   ]
  },
  {
   "cell_type": "code",
   "execution_count": null,
   "metadata": {
    "scrolled": true
   },
   "outputs": [],
   "source": [
    "# Note: same workflow can use stored self inputs rather than passing trackerdict\n",
    "try:\n",
    "    from bifacial_radiance import *\n",
    "except ImportError:\n",
    "    raise RuntimeError('bifacial_radiance is required. download distribution')\n",
    "    # Simple example system using Radiance.\n",
    "#import easygui  # this is only required if you want a graphical directory picker  \n",
    "#testfolder = easygui.diropenbox(msg = 'Select or create an empty directory for the Radiance tree',title='Browse for empty Radiance directory')\n",
    "\n",
    "demo = RadianceObj(path = testfolder)  # Create a RadianceObj 'object'\n",
    "\n",
    "demo.setGround(0.2) # input albedo number or material name like 'concrete'.  To see options, run this without any input.\n",
    "\n",
    "epwfile = demo.getEPW(37.5,-77.6) #pull TMY data for any global lat/lon\n",
    "    \n",
    "metdata = demo.readEPW(epwfile) # read in the weather data\n",
    "\n",
    "# create metdata files for each condition\n",
    "demo.set1axis()\n",
    "\n",
    "# new gencumulativesky function: demo.genCumSky1axis\n",
    "demo.genCumSky1axis()\n",
    "# Create a new moduletype: Prism Solar Bi60. x = .984 y = 1.695. Bifaciality = 0.90\n",
    "demo.makeModule(name='Prism Solar Bi60',x=0.984,y=1.695)\n",
    "# print available module types\n",
    "demo.printModules()\n",
    "# create a scene using panels in portrait, 2m hub height, 0.33 GCR. NOTE: clearance needs to be calculated at each step. hub height is constant\n",
    "sceneDict = {'pitch':module_height / gcr,'height':hub_height}  # 'orientation':'portrait' deprecated in v0.2.4 \n",
    "module_type = 'Prism Solar Bi60'\n",
    "demo.makeScene1axis(moduletype=module_type,sceneDict = sceneDict, nMods = 20, nRows = 7) #makeScene creates a .rad file with 20 modules per row, 7 rows.\n",
    "\n",
    "demo.makeOct1axis()\n",
    "# Now we need to run analysis and combine the results into an annual total.  This can be done by calling scene.frontscan and scene.backscan\n",
    "trackerdict = demo.analysis1axis()"
   ]
  },
  {
   "cell_type": "code",
   "execution_count": null,
   "metadata": {},
   "outputs": [],
   "source": [
    "# the frontscan and backscan include a linescan along a chord of the module, both on the front and back.  \n",
    "# Return the minimum of the irradiance values, and the average of the irradiance values along a chord of the module.\n",
    "print('Annual bifacial ratio for 1-axis tracking: %0.3f' %(np.mean(demo.Wm2Back)/np.mean(demo.Wm2Front)) )\n"
   ]
  },
  {
   "cell_type": "markdown",
   "metadata": {},
   "source": [
    "# New v0.2.3 hourly tracker workflow using gendaylit"
   ]
  },
  {
   "cell_type": "code",
   "execution_count": 8,
   "metadata": {},
   "outputs": [
    {
     "name": "stdout",
     "output_type": "stream",
     "text": [
      "path = C:\\Users\\cdeline\\Documents\\Python Scripts\\Test1axisFolder\n",
      "Getting weather file: USA_VA_Richmond.Intl.AP.724010_TMY.epw  ... OK!\n",
      "Creating ~4000 skyfiles.  Takes 1-2 minutes\n",
      "Created 4320 skyfiles in \\skies\\\n"
     ]
    }
   ],
   "source": [
    "## New v0.2.3 software includes the option for hourly tracked simulation workflow using gendaylit.\n",
    "demo2 = RadianceObj('v0_2_3',testfolder)  # Create a RadianceObj 'object'\n",
    "\n",
    "demo2.setGround(0.2) # input albedo number or material name like 'concrete'.  To see options, run this without any input.\n",
    "\n",
    "epwfile = demo2.getEPW(37.5,-77.6) #pull TMY data for any global lat/lon\n",
    "metdata = demo2.readEPW(epwfile) # read in the weather data   \n",
    "#metdata = demo2.readEPW('EPWs\\\\USA_VA_Richmond.Intl.AP.724010_TMY.epw') # read in the weather data directly\n",
    "\n",
    "# NEW hourly gendaylit workflow. Note that trackerdict is returned with hourly time points as keys instead of tracker angles.\n",
    "trackerdict = demo2.set1axis(cumulativesky = False)  # this cumulativesky = False key is crucial to set up the hourly workflow\n",
    "\n",
    "# create the skyfiles needed for 1-axis tracking\n",
    "trackerdict = demo2.gendaylit1axis()  # optional parameters 'startdate', 'enddate' inputs = string 'MM/DD' or 'MM_DD' \n"
   ]
  },
  {
   "cell_type": "code",
   "execution_count": 9,
   "metadata": {},
   "outputs": [
    {
     "name": "stdout",
     "output_type": "stream",
     "text": [
      "\n",
      "Making ~4000 .rad files for gendaylit 1-axis workflow (this takes a minute..)\n",
      "4320 Radfiles created in \\objects\\\n"
     ]
    }
   ],
   "source": [
    "# Create a new moduletype.  optional parameters with v0.2.3 include torque tube, module gap, etc.\n",
    "#demo.makeModule(name='Prism Solar Bi60',x=0.984,y=1.695,bifi = 0.90)\n",
    "# set module type to be used and passed into makeScene1axis\n",
    "module_type = 'Prism Solar Bi60'\n",
    "    \n",
    "# Create the scene for the 1-axis tracking\n",
    "sceneDict = {'pitch': module_height / gcr,'height':hub_height}  # 'orientation':'portrait' deprecated in v0.2.4\n",
    "\n",
    "trackerdict = demo2.makeScene1axis(trackerdict, module_type,sceneDict, cumulativesky = False, nMods = 20, nRows = 7) #makeScene creates a .rad file with 20 modules per row, 7 rows.\n"
   ]
  },
  {
   "cell_type": "code",
   "execution_count": 10,
   "metadata": {},
   "outputs": [
    {
     "name": "stdout",
     "output_type": "stream",
     "text": [
      "\n",
      "Making 1 octfiles for 1-axis tracking in root directory.\n",
      "Created 1axis_01_01_11.oct\n",
      "Linescan in process: 1axis_01_01_11_Front\n",
      "Linescan in process: 1axis_01_01_11_Back\n",
      "Saved: results\\irr_1axis_01_01_11.csv\n",
      "Index: 01_01_11. Wm2Front: 292.351922222. Wm2Back: 44.0086544444\n",
      "\n",
      "Making 1 octfiles for 1-axis tracking in root directory.\n",
      "Created 1axis_01_01_12.oct\n",
      "Linescan in process: 1axis_01_01_12_Front\n",
      "Linescan in process: 1axis_01_01_12_Back\n",
      "Saved: results\\irr_1axis_01_01_12.csv\n",
      "Index: 01_01_12. Wm2Front: 391.432444444. Wm2Back: 47.8907522222\n"
     ]
    }
   ],
   "source": [
    "# Now this is the part that takes a long time, and will probably require parallel computing. For this example we just run one hourly point\n",
    "\n",
    "\n",
    "#for time in sorted(trackerdict.keys()):  # the full year\n",
    "for time in ['01_01_11','01_01_12']:  # just two timepoints\n",
    "    demo2.makeOct1axis(trackerdict,time)\n",
    "    demo2.analysis1axis(trackerdict,time)"
   ]
  },
  {
   "cell_type": "code",
   "execution_count": 11,
   "metadata": {},
   "outputs": [
    {
     "name": "stdout",
     "output_type": "stream",
     "text": [
      "1-axis tracking hourly (just two timepoints) bifi gain: 0.134\n"
     ]
    }
   ],
   "source": [
    "print('1-axis tracking hourly (just two timepoints) bifi gain: {:0.3}'.format(sum(demo2.Wm2Back) / sum(demo2.Wm2Front)))"
   ]
  }
 ],
 "metadata": {
  "anaconda-cloud": {},
  "kernelspec": {
   "display_name": "Python 2",
   "language": "python",
   "name": "python2"
  },
  "language_info": {
   "codemirror_mode": {
    "name": "ipython",
    "version": 2
   },
   "file_extension": ".py",
   "mimetype": "text/x-python",
   "name": "python",
   "nbconvert_exporter": "python",
   "pygments_lexer": "ipython2",
   "version": "2.7.14"
  }
 },
 "nbformat": 4,
 "nbformat_minor": 1
}
