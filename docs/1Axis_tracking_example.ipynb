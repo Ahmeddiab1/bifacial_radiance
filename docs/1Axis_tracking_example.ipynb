{
 "cells": [
  {
   "cell_type": "markdown",
   "metadata": {},
   "source": [
    "## 1-Axis tracker example\n",
    "\n",
    "Example demonstrating Radiance gencumulativesky for 1-axis tracking.\n",
    "\n",
    "#### Prerequisites (Step 0):\n",
    "This software requires the previous installation of RADIANCE from https://github.com/NREL/Radiance/releases.\n",
    "\n",
    "Make sure you add radiance to the system PATH so Python can interact with the radiance program\n",
    "\n",
    "If you are on a PC you should also copy the Jaloxa radwinexe-5.0.a.8-win64.zip executables into `program files/radiance/bin`: http://www.jaloxa.eu/resources/radiance/radwinexe.shtml\n",
    "\n",
    "#### STEP 1: Install and import bifacial_radiance\n",
    "\n",
    " - clone the bifacial_radiance repo to your local directory\n",
    " - navigate to the \\bifacial_radiance directory which contains setup\n",
    " - run `pip install -e .  `  ( the period . is required, the -e flag is optional and installs in development mode where changes to the bifacial_radiance.py files are immediately incorporated into the module if you re-start the python kernel)\n",
    "\n",
    "#### STEP 2: Move gencumulativesky.exe\n",
    "Copy gencumulativesky.exe from the repo's `/bifacial_radiance/data/` directory and copy into your Radiance install directory.\n",
    "This is typically found in `/program files/radiance/bin/`.  \n",
    "\n",
    "#### STEP 3: Create a local Radiance directory for storing the scene files created\n",
    "Keep scene geometry files separate from the bifacial_radiance directory.  Create a local directory somewhere that will be referenced in the next step.\n",
    "\n",
    "#### STEP 4: Reboot the computer\n",
    "This makes sure the PATH is updated\n",
    "\n",
    "\n"
   ]
  },
  {
   "cell_type": "code",
   "execution_count": 1,
   "metadata": {},
   "outputs": [],
   "source": [
    "#testfolder = r'E:\\Documents\\Python Scripts\\Test1axisFolder'  #point to an empty directory or existing Radiance directory\n",
    "# tracker geometry options:\n",
    "module_height = 1.7  # module portrait dimension in meters\n",
    "gcr = 0.33   # ground cover ratio,  = module_height / pitch\n",
    "albedo = 0.3     # ground albedo\n",
    "hub_height = 2   # tracker height at 0 tilt in meters (hub height)\n",
    "limit_angle = 45 # tracker rotation limit angle"
   ]
  },
  {
   "cell_type": "code",
   "execution_count": 2,
   "metadata": {},
   "outputs": [
    {
     "name": "stdout",
     "output_type": "stream",
     "text": [
      "path = C:\\Users\\cdeline\\Documents\\Python Scripts\\Test1axisFolder\n"
     ]
    }
   ],
   "source": [
    "try:\n",
    "    from bifacial_radiance import RadianceObj, AnalysisObj\n",
    "except ImportError:\n",
    "    raise RuntimeError('bifacial_radiance is required. download distribution')\n",
    "    # Simple example system using Radiance.\n",
    "import numpy as np\n",
    "import easygui  # this is only required if you want a graphical directory picker.  Note:  easygui sometimes opens in the background forcing you to hunt for the window!  \n",
    "testfolder = easygui.diropenbox(msg = 'Select or create an empty directory for the Radiance tree',title='Browse for empty Radiance directory')\n",
    "\n",
    "demo = RadianceObj(path = testfolder)  # Create a RadianceObj 'object'\n",
    "demo.setGround(albedo) # input albedo number or material name like 'concrete'.  To see options, run this without any input.\n",
    "\n"
   ]
  },
  {
   "cell_type": "code",
   "execution_count": 3,
   "metadata": {},
   "outputs": [
    {
     "name": "stdout",
     "output_type": "stream",
     "text": [
      "Saving file EPWs\\tmy3_temp.csv, # points: 8760\n"
     ]
    },
    {
     "name": "stderr",
     "output_type": "stream",
     "text": [
      "C:\\Users\\cdeline\\Anaconda2\\lib\\site-packages\\pvlib\\tracking.py:423: RuntimeWarning: invalid value encountered in minimum\n",
      "  temp = np.minimum(axes_distance*cosd(wid), 1)\n"
     ]
    },
    {
     "name": "stdout",
     "output_type": "stream",
     "text": [
      "Saving file EPWs\\1axis_0.0.csv, # points: 340\n",
      "Saving file EPWs\\1axis_-30.0.csv, # points: 222\n",
      "Saving file EPWs\\1axis_35.0.csv, # points: 120\n",
      "Saving file EPWs\\1axis_5.0.csv, # points: 123\n",
      "Saving file EPWs\\1axis_-25.0.csv, # points: 163\n",
      "Saving file EPWs\\1axis_40.0.csv, # points: 129\n",
      "Saving file EPWs\\1axis_10.0.csv, # points: 78\n",
      "Saving file EPWs\\1axis_-20.0.csv, # points: 105\n",
      "Saving file EPWs\\1axis_45.0.csv, # points: 807\n",
      "Saving file EPWs\\1axis_15.0.csv, # points: 239\n",
      "Saving file EPWs\\1axis_-15.0.csv, # points: 263\n",
      "Saving file EPWs\\1axis_-45.0.csv, # points: 783\n",
      "Saving file EPWs\\1axis_20.0.csv, # points: 141\n",
      "Saving file EPWs\\1axis_-10.0.csv, # points: 89\n",
      "Saving file EPWs\\1axis_-40.0.csv, # points: 177\n",
      "Saving file EPWs\\1axis_25.0.csv, # points: 144\n",
      "Saving file EPWs\\1axis_-5.0.csv, # points: 113\n",
      "Saving file EPWs\\1axis_-35.0.csv, # points: 117\n",
      "Saving file EPWs\\1axis_30.0.csv, # points: 235\n"
     ]
    }
   ],
   "source": [
    "# look at a couple of ways to get meteorological data\n",
    "EPWmode = False\n",
    "if EPWmode is True:\n",
    "    epwfile = demo.getEPW(37.5,-77.6) #Pull EPW data for any global lat/lon. In this case, Richmond, VA\n",
    "    metdata = demo.readEPW(epwfile) # read in the weather data\n",
    "else:\n",
    "    metdata = demo.readTMY() # load TMY3 data from another source, like solar prospector. A version is saved as \\EPWs\\tmy3_temp.csv\n",
    "# create metdata files for each condition\n",
    "trackerdict = demo.set1axis(metdata, limit_angle = limit_angle, backtrack = True, gcr = gcr)\n"
   ]
  },
  {
   "cell_type": "code",
   "execution_count": 4,
   "metadata": {},
   "outputs": [
    {
     "name": "stdout",
     "output_type": "stream",
     "text": [
      "message: Error!  Solar altitude is -10 < -6 degrees and Idh = 41 > 10 W/m^2 on day 76 !Ibn is 0.  Attempting to continue!\n",
      "Error!  Solar altitude is -10 < -6 degrees and Idh = 12 > 10 W/m^2 on day 78 !Ibn is 0.  Attempting to continue!\n",
      "Error!  Solar altitude is -10 < -6 degrees and Idh = 28 > 10 W/m^2 on day 78 !Ibn is 0.  Attempting to continue!\n",
      "Error!  Solar altitude is -10 < -6 degrees and Idh = 39 > 10 W/m^2 on day 79 !Ibn is 0.  Attempting to continue!\n",
      "Error!  Solar altitude is -10 < -6 degrees and Idh = 22 > 10 W/m^2 on day 81 !Ibn is 0.  Attempting to continue!\n",
      "Error!  Solar altitude is -9 < -6 degrees and Idh = 30 > 10 W/m^2 on day 81 !Ibn is 0.  Attempting to continue!\n",
      "Error!  Solar altitude is -9 < -6 degrees and Idh = 36 > 10 W/m^2 on day 83 !Ibn is 0.  Attempting to continue!\n",
      "Error!  Solar altitude is -9 < -6 degrees and Idh = 33 > 10 W/m^2 on day 83 !Ibn is 0.  Attempting to continue!\n",
      "Error!  Solar altitude is -8 < -6 degrees and Idh = 15 > 10 W/m^2 on day 251 !Ibn is 0.  Attempting to continue!\n",
      "Error!  Solar altitude is -9 < -6 degrees and Idh = 28 > 10 W/m^2 on day 251 !Ibn is 0.  Attempting to continue!\n",
      "Error!  Solar altitude is -9 < -6 degrees and Idh = 28 > 10 W/m^2 on day 253 !Ibn is 0.  Attempting to continue!\n",
      "Error!  Solar altitude is -9 < -6 degrees and Idh = 28 > 10 W/m^2 on day 253 !Ibn is 0.  Attempting to continue!\n",
      "There were 317 sun up hours in this climate file\n",
      "Total Ibh/Lbh: 0.000000\n",
      "Created skyfile skies\\1axis_0.0.rad\n",
      "message: There were 222 sun up hours in this climate file\n",
      "Total Ibh/Lbh: 0.000000\n",
      "Created skyfile skies\\1axis_-30.0.rad\n",
      "message: There were 120 sun up hours in this climate file\n",
      "Total Ibh/Lbh: 0.000000\n",
      "Created skyfile skies\\1axis_35.0.rad\n",
      "message: Error!  Solar altitude is -8 < -6 degrees and Idh = 11 > 10 W/m^2 on day 16 !Ibn is 0.  Attempting to continue!\n",
      "Error!  Solar altitude is -8 < -6 degrees and Idh = 12 > 10 W/m^2 on day 16 !Ibn is 0.  Attempting to continue!\n",
      "Error!  Solar altitude is -8 < -6 degrees and Idh = 14 > 10 W/m^2 on day 18 !Ibn is 0.  Attempting to continue!\n",
      "Error!  Solar altitude is -7 < -6 degrees and Idh = 17 > 10 W/m^2 on day 19 !Ibn is 0.  Attempting to continue!\n",
      "Error!  Solar altitude is -7 < -6 degrees and Idh = 19 > 10 W/m^2 on day 21 !Ibn is 0.  Attempting to continue!\n",
      "Error!  Solar altitude is -7 < -6 degrees and Idh = 21 > 10 W/m^2 on day 22 !Ibn is 0.  Attempting to continue!\n",
      "Error!  Solar altitude is -7 < -6 degrees and Idh = 22 > 10 W/m^2 on day 22 !Ibn is 0.  Attempting to continue!\n",
      "Error!  Solar altitude is -7 < -6 degrees and Idh = 26 > 10 W/m^2 on day 24 !Ibn is 0.  Attempting to continue!\n",
      "Error!  Solar altitude is -6 < -6 degrees and Idh = 27 > 10 W/m^2 on day 24 !Ibn is 0.  Attempting to continue!\n",
      "Error!  Solar altitude is -9 < -6 degrees and Idh = 35 > 10 W/m^2 on day 86 !Ibn is 0.  Attempting to continue!\n",
      "Error!  Solar altitude is -9 < -6 degrees and Idh = 41 > 10 W/m^2 on day 86 !Ibn is 0.  Attempting to continue!\n",
      "Error!  Solar altitude is -9 < -6 degrees and Idh = 43 > 10 W/m^2 on day 88 !Ibn is 0.  Attempting to continue!\n",
      "Error!  Solar altitude is -8 < -6 degrees and Idh = 47 > 10 W/m^2 on day 88 !Ibn is 0.  Attempting to continue!\n",
      "Error!  Solar altitude is -8 < -6 degrees and Idh = 43 > 10 W/m^2 on day 90 !Ibn is 0.  Attempting to continue!\n",
      "Error!  Solar altitude is -8 < -6 degrees and Idh = 33 > 10 W/m^2 on day 91 !Ibn is 0.  Attempting to continue!\n",
      "Error!  Solar altitude is -8 < -6 degrees and Idh = 41 > 10 W/m^2 on day 91 !Ibn is 0.  Attempting to continue!\n",
      "Error!  Solar altitude is -8 < -6 degrees and Idh = 43 > 10 W/m^2 on day 93 !Ibn is 0.  Attempting to continue!\n",
      "Error!  Solar altitude is -8 < -6 degrees and Idh = 45 > 10 W/m^2 on day 93 !Ibn is 0.  Attempting to continue!\n",
      "Error!  Solar altitude is -8 < -6 degrees and Idh = 44 > 10 W/m^2 on day 95 !Ibn is 0.  Attempting to continue!\n",
      "Error!  Solar altitude is -7 < -6 degrees and Idh = 50 > 10 W/m^2 on day 95 !Ibn is 0.  Attempting to continue!\n",
      "Error!  Solar altitude is -7 < -6 degrees and Idh = 41 > 10 W/m^2 on day 96 !Ibn is 0.  Attempting to continue!\n",
      "Error!  Solar altitude is -7 < -6 degrees and Idh = 47 > 10 W/m^2 on day 98 !Ibn is 0.  Attempting to continue!\n",
      "Error!  Solar altitude is -7 < -6 degrees and Idh = 42 > 10 W/m^2 on day 98 !Ibn is 0.  Attempting to continue!\n",
      "Error!  Solar altitude is -7 < -6 degrees and Idh = 53 > 10 W/m^2 on day 100 !Ibn is 0.  Attempting to continue!\n",
      "Error!  Solar altitude is -7 < -6 degrees and Idh = 44 > 10 W/m^2 on day 100 !Ibn is 0.  Attempting to continue!\n",
      "Error!  Solar altitude is -7 < -6 degrees and Idh = 36 > 10 W/m^2 on day 102 !Ibn is 0.  Attempting to continue!\n",
      "Error!  Solar altitude is -6 < -6 degrees and Idh = 34 > 10 W/m^2 on day 243 !Ibn is 0.  Attempting to continue!\n",
      "Error!  Solar altitude is -7 < -6 degrees and Idh = 46 > 10 W/m^2 on day 243 !Ibn is 0.  Attempting to continue!\n",
      "Error!  Solar altitude is -7 < -6 degrees and Idh = 42 > 10 W/m^2 on day 244 !Ibn is 0.  Attempting to continue!\n",
      "Error!  Solar altitude is -7 < -6 degrees and Idh = 31 > 10 W/m^2 on day 246 !Ibn is 0.  Attempting to continue!\n",
      "Error!  Solar altitude is -7 < -6 degrees and Idh = 36 > 10 W/m^2 on day 246 !Ibn is 0.  Attempting to continue!\n",
      "Error!  Solar altitude is -8 < -6 degrees and Idh = 14 > 10 W/m^2 on day 248 !Ibn is 0.  Attempting to continue!\n",
      "Error!  Solar altitude is -8 < -6 degrees and Idh = 33 > 10 W/m^2 on day 248 !Ibn is 0.  Attempting to continue!\n",
      "Error!  Solar altitude is -8 < -6 degrees and Idh = 21 > 10 W/m^2 on day 249 !Ibn is 0.  Attempting to continue!\n",
      "Error!  Solar altitude is -6 < -6 degrees and Idh = 19 > 10 W/m^2 on day 289 !Ibn is 0.  Attempting to continue!\n",
      "Error!  Solar altitude is -7 < -6 degrees and Idh = 22 > 10 W/m^2 on day 289 !Ibn is 0.  Attempting to continue!\n",
      "Error!  Solar altitude is -7 < -6 degrees and Idh = 14 > 10 W/m^2 on day 291 !Ibn is 0.  Attempting to continue!\n",
      "Error!  Solar altitude is -7 < -6 degrees and Idh = 18 > 10 W/m^2 on day 291 !Ibn is 0.  Attempting to continue!\n",
      "Error!  Solar altitude is -8 < -6 degrees and Idh = 12 > 10 W/m^2 on day 294 !Ibn is 0.  Attempting to continue!\n",
      "There were 114 sun up hours in this climate file\n",
      "Total Ibh/Lbh: 0.000000\n",
      "Created skyfile skies\\1axis_5.0.rad\n",
      "message: There were 162 sun up hours in this climate file\n",
      "Total Ibh/Lbh: 0.000000\n",
      "Created skyfile skies\\1axis_-25.0.rad\n",
      "message: There were 126 sun up hours in this climate file\n",
      "Total Ibh/Lbh: 0.000000\n",
      "Created skyfile skies\\1axis_40.0.rad\n",
      "message: Error!  Solar altitude is -6 < -6 degrees and Idh = 30 > 10 W/m^2 on day 25 !Ibn is 0.  Attempting to continue!\n",
      "Error!  Solar altitude is -6 < -6 degrees and Idh = 35 > 10 W/m^2 on day 103 !Ibn is 0.  Attempting to continue!\n",
      "Error!  Solar altitude is -6 < -6 degrees and Idh = 31 > 10 W/m^2 on day 103 !Ibn is 0.  Attempting to continue!\n",
      "There were 75 sun up hours in this climate file\n",
      "Total Ibh/Lbh: 0.000000\n",
      "Created skyfile skies\\1axis_10.0.rad\n",
      "message: There were 105 sun up hours in this climate file\n",
      "Total Ibh/Lbh: 0.000000\n",
      "Created skyfile skies\\1axis_-20.0.rad\n",
      "message: There were 804 sun up hours in this climate file\n",
      "Total Ibh/Lbh: 0.000000\n",
      "Created skyfile skies\\1axis_45.0.rad\n",
      "message: There were 233 sun up hours in this climate file\n",
      "Total Ibh/Lbh: 0.000000\n",
      "Created skyfile skies\\1axis_15.0.rad\n",
      "message: There were 263 sun up hours in this climate file\n",
      "Total Ibh/Lbh: 0.000000\n",
      "Created skyfile skies\\1axis_-15.0.rad\n",
      "message: There were 780 sun up hours in this climate file\n",
      "Total Ibh/Lbh: 0.000000\n",
      "Created skyfile skies\\1axis_-45.0.rad\n",
      "message: There were 127 sun up hours in this climate file\n",
      "Total Ibh/Lbh: 0.000000\n",
      "Created skyfile skies\\1axis_20.0.rad\n",
      "message: There were 89 sun up hours in this climate file\n",
      "Total Ibh/Lbh: 0.000000\n",
      "Created skyfile skies\\1axis_-10.0.rad\n",
      "message: There were 177 sun up hours in this climate file\n",
      "Total Ibh/Lbh: 0.000000\n",
      "Created skyfile skies\\1axis_-40.0.rad\n",
      "message: There were 142 sun up hours in this climate file\n",
      "Total Ibh/Lbh: 0.000000\n",
      "Created skyfile skies\\1axis_25.0.rad\n",
      "message: There were 111 sun up hours in this climate file\n",
      "Total Ibh/Lbh: 0.000000\n",
      "Created skyfile skies\\1axis_-5.0.rad\n",
      "message: There were 117 sun up hours in this climate file\n",
      "Total Ibh/Lbh: 0.000000\n",
      "Created skyfile skies\\1axis_-35.0.rad\n",
      "message: There were 233 sun up hours in this climate file\n",
      "Total Ibh/Lbh: 0.000000\n",
      "Created skyfile skies\\1axis_30.0.rad\n",
      "Module Prism Solar Bi60 successfully created\n",
      "Available module names: ['mini_panel', 'simple_panel', 'monopanel', 'Prism Solar Bi60']\n"
     ]
    }
   ],
   "source": [
    "# We have 2 workflows: cumulativesky and hourly.  Start with cumulativesky\n",
    "trackerdict = demo.genCumSky1axis(trackerdict)\n",
    "# Create a new moduletype: Prism Solar Bi60. width = .984m height = 1.695m. Bifaciality = 0.90\n",
    "demo.makeModule(name='Prism Solar Bi60',x=0.984,y=module_height)\n",
    "# note that beginning in v0.2.3 you can add torque tubes and multiple module arrays. e.g:\n",
    "demo.makeModule(name='2upTracker',x=0.984,y=module_height, torquetube = True, tubetype = 'round', \n",
    "    diameter = 0.1, tubeZgap = 0.05, panelgap = 0.05, numpanels = 2)\n",
    "\n",
    "demo.printModules()# print available module types"
   ]
  },
  {
   "cell_type": "code",
   "execution_count": 5,
   "metadata": {
    "scrolled": true
   },
   "outputs": [
    {
     "name": "stdout",
     "output_type": "stream",
     "text": [
      "Making .rad files for cumulativesky 1-axis workflow\n",
      "19 Radfiles created in \\objects\\\n",
      "Making 19 octfiles for 1-axis tracking in root directory.\n",
      "created 1axis_0.0.oct created 1axis_-30.0.oct created 1axis_35.0.oct created 1axis_5.0.oct created 1axis_-25.0.oct created 1axis_40.0.oct created 1axis_10.0.oct created 1axis_-20.0.oct created 1axis_45.0.oct created 1axis_15.0.oct created 1axis_-15.0.oct created 1axis_-45.0.oct created 1axis_20.0.oct created 1axis_-10.0.oct created 1axis_-40.0.oct created 1axis_25.0.oct created 1axis_-5.0.oct created 1axis_-35.0.oct created 1axis_30.0.oct linescan in process: 1axis_-45.0_Front\n",
      "linescan in process: 1axis_-45.0_Back\n",
      "saved: results\\irr_1axis_-45.0.csv\n",
      "Index: -45.0. Wm2Front: 423760.466667. Wm2Back: 50686.9255556\n",
      "linescan in process: 1axis_-40.0_Front\n",
      "linescan in process: 1axis_-40.0_Back\n",
      "saved: results\\irr_1axis_-40.0.csv\n",
      "Index: -40.0. Wm2Front: 113037.622222. Wm2Back: 15611.9988889\n",
      "linescan in process: 1axis_-35.0_Front\n",
      "linescan in process: 1axis_-35.0_Back\n",
      "saved: results\\irr_1axis_-35.0.csv\n",
      "Index: -35.0. Wm2Front: 49415.77. Wm2Back: 6491.41411111\n",
      "linescan in process: 1axis_-30.0_Front\n",
      "linescan in process: 1axis_-30.0_Back\n",
      "saved: results\\irr_1axis_-30.0.csv\n",
      "Index: -30.0. Wm2Front: 127412.633333. Wm2Back: 19751.4188889\n",
      "linescan in process: 1axis_-25.0_Front\n",
      "linescan in process: 1axis_-25.0_Back\n",
      "saved: results\\irr_1axis_-25.0.csv\n",
      "Index: -25.0. Wm2Front: 91013.4666667. Wm2Back: 15379.0955556\n",
      "linescan in process: 1axis_-20.0_Front\n",
      "linescan in process: 1axis_-20.0_Back\n",
      "saved: results\\irr_1axis_-20.0.csv\n",
      "Index: -20.0. Wm2Front: 37964.9988889. Wm2Back: 6915.23277778\n",
      "linescan in process: 1axis_-15.0_Front\n",
      "linescan in process: 1axis_-15.0_Back\n",
      "saved: results\\irr_1axis_-15.0.csv\n",
      "Index: -15.0. Wm2Front: 171519.133333. Wm2Back: 32325.7655556\n",
      "linescan in process: 1axis_-10.0_Front\n",
      "linescan in process: 1axis_-10.0_Back\n",
      "saved: results\\irr_1axis_-10.0.csv\n",
      "Index: -10.0. Wm2Front: 41186.2244444. Wm2Back: 7500.435\n",
      "linescan in process: 1axis_-5.0_Front\n",
      "linescan in process: 1axis_-5.0_Back\n",
      "saved: results\\irr_1axis_-5.0.csv\n",
      "Index: -5.0. Wm2Front: 14887.7777778. Wm2Back: 2771.61022222\n",
      "linescan in process: 1axis_0.0_Front\n",
      "linescan in process: 1axis_0.0_Back\n",
      "saved: results\\irr_1axis_0.0.csv\n",
      "Index: 0.0. Wm2Front: 193442.788889. Wm2Back: 36009.5711111\n",
      "linescan in process: 1axis_5.0_Front\n",
      "linescan in process: 1axis_5.0_Back\n",
      "saved: results\\irr_1axis_5.0.csv\n",
      "Index: 5.0. Wm2Front: 50601.3233333. Wm2Back: 9433.55811111\n",
      "linescan in process: 1axis_10.0_Front\n",
      "linescan in process: 1axis_10.0_Back\n",
      "saved: results\\irr_1axis_10.0.csv\n",
      "Index: 10.0. Wm2Front: 23043.0144444. Wm2Back: 3986.00577778\n",
      "linescan in process: 1axis_15.0_Front\n",
      "linescan in process: 1axis_15.0_Back\n",
      "saved: results\\irr_1axis_15.0.csv\n",
      "Index: 15.0. Wm2Front: 184476.877778. Wm2Back: 30496.0244444\n",
      "linescan in process: 1axis_20.0_Front\n",
      "linescan in process: 1axis_20.0_Back\n",
      "saved: results\\irr_1axis_20.0.csv\n",
      "Index: 20.0. Wm2Front: 57188.2555556. Wm2Back: 8580.454\n",
      "linescan in process: 1axis_25.0_Front\n",
      "linescan in process: 1axis_25.0_Back\n",
      "saved: results\\irr_1axis_25.0.csv\n",
      "Index: 25.0. Wm2Front: 62848.5977778. Wm2Back: 8267.81955556\n",
      "linescan in process: 1axis_30.0_Front\n",
      "linescan in process: 1axis_30.0_Back\n",
      "saved: results\\irr_1axis_30.0.csv\n",
      "Index: 30.0. Wm2Front: 179454.811111. Wm2Back: 24745.5155556\n",
      "linescan in process: 1axis_35.0_Front\n",
      "linescan in process: 1axis_35.0_Back\n",
      "saved: results\\irr_1axis_35.0.csv\n",
      "Index: 35.0. Wm2Front: 89623.48. Wm2Back: 11586.0066667\n",
      "linescan in process: 1axis_40.0_Front\n",
      "linescan in process: 1axis_40.0_Back\n",
      "saved: results\\irr_1axis_40.0.csv\n",
      "Index: 40.0. Wm2Front: 98396.1066667. Wm2Back: 11637.3422222\n",
      "linescan in process: 1axis_45.0_Front\n",
      "linescan in process: 1axis_45.0_Back\n",
      "saved: results\\irr_1axis_45.0.csv\n",
      "Index: 45.0. Wm2Front: 582098.877778. Wm2Back: 44755.8966667\n"
     ]
    },
    {
     "ename": "NameError",
     "evalue": "name 'np' is not defined",
     "output_type": "error",
     "traceback": [
      "\u001b[1;31m---------------------------------------------------------------------------\u001b[0m",
      "\u001b[1;31mNameError\u001b[0m                                 Traceback (most recent call last)",
      "\u001b[1;32m<ipython-input-5-fbbd89ea2f7f>\u001b[0m in \u001b[0;36m<module>\u001b[1;34m()\u001b[0m\n\u001b[0;32m     10\u001b[0m \u001b[1;31m# the frontscan and backscan include a linescan along a chord of the module, both on the front and back.\u001b[0m\u001b[1;33m\u001b[0m\u001b[1;33m\u001b[0m\u001b[0m\n\u001b[0;32m     11\u001b[0m \u001b[1;31m# Return the minimum of the irradiance ratio, and the average of the irradiance ratio along a chord of the module.\u001b[0m\u001b[1;33m\u001b[0m\u001b[1;33m\u001b[0m\u001b[0m\n\u001b[1;32m---> 12\u001b[1;33m \u001b[1;32mprint\u001b[0m\u001b[1;33m(\u001b[0m\u001b[1;34m'Annual RADIANCE bifacial ratio for 1-axis tracking: %0.3f - %0.3f'\u001b[0m \u001b[1;33m%\u001b[0m\u001b[1;33m(\u001b[0m\u001b[0mmin\u001b[0m\u001b[1;33m(\u001b[0m\u001b[0mdemo\u001b[0m\u001b[1;33m.\u001b[0m\u001b[0mbackRatio\u001b[0m\u001b[1;33m)\u001b[0m\u001b[1;33m,\u001b[0m \u001b[0mnp\u001b[0m\u001b[1;33m.\u001b[0m\u001b[0mmean\u001b[0m\u001b[1;33m(\u001b[0m\u001b[0mdemo\u001b[0m\u001b[1;33m.\u001b[0m\u001b[0mbackRatio\u001b[0m\u001b[1;33m)\u001b[0m\u001b[1;33m)\u001b[0m \u001b[1;33m)\u001b[0m\u001b[1;33m\u001b[0m\u001b[0m\n\u001b[0m\u001b[0;32m     13\u001b[0m \u001b[1;33m\u001b[0m\u001b[0m\n",
      "\u001b[1;31mNameError\u001b[0m: name 'np' is not defined"
     ]
    }
   ],
   "source": [
    "# create a scene using panels in portrait, 2m hub height, 0.33 GCR. NOTE: clearance needs to be calculated at each step. hub height is constant\n",
    "sceneDict = {'pitch':module_height / gcr,'height':hub_height,'orientation':'portrait'}  \n",
    "module_type = 'Prism Solar Bi60'\n",
    "trackerdict = demo.makeScene1axis(trackerdict,module_type,sceneDict, nMods = 20, nRows = 7) #makeScene creates a .rad file with 20 modules per row, 7 rows.\n",
    "\n",
    "# Note: with v0.2.3 the makeScene1axis has additional parameters to allow custom scans.  parameters: \n",
    "#    sensorsy = int() (9 = default)\n",
    "#    modwanted = int() (middle module default)\n",
    "#    rowwanted   =  int() (middle row default)\n",
    "\n",
    "trackerdict = demo.makeOct1axis(trackerdict)\n",
    "# Now we need to run analysis and combine the results into an annual total.  This can be done by calling scene.frontscan and scene.backscan\n",
    "trackerdict = demo.analysis1axis(trackerdict)\n",
    "\n",
    "# the frontscan and backscan include a linescan along a chord of the module, both on the front and back.  \n",
    "# Return the minimum of the irradiance ratio, and the average of the irradiance ratio along a chord of the module.\n",
    "print('Annual RADIANCE bifacial ratio for 1-axis tracking: %0.3f' %(sum(demo.Wm2Back)/sum(demo.Wm2Front)) )\n"
   ]
  },
  {
   "cell_type": "code",
   "execution_count": null,
   "metadata": {},
   "outputs": [],
   "source": [
    "# Return the minimum of the irradiance ratio, and the average of the irradiance ratio along a chord of the module.\n",
    "print('Annual RADIANCE bifacial ratio for 1-axis tracking: %0.3f' %(sum(demo.Wm2Back)/sum(demo.Wm2Front)) )\n"
   ]
  },
  {
   "cell_type": "code",
   "execution_count": null,
   "metadata": {
    "scrolled": true
   },
   "outputs": [],
   "source": [
    "# Note: same workflow can use stored self inputs rather than passing trackerdict\n",
    "try:\n",
    "    from bifacial_radiance import *\n",
    "except ImportError:\n",
    "    raise RuntimeError('bifacial_radiance is required. download distribution')\n",
    "    # Simple example system using Radiance.\n",
    "#import easygui  # this is only required if you want a graphical directory picker  \n",
    "#testfolder = easygui.diropenbox(msg = 'Select or create an empty directory for the Radiance tree',title='Browse for empty Radiance directory')\n",
    "\n",
    "demo = RadianceObj(path = testfolder)  # Create a RadianceObj 'object'\n",
    "\n",
    "demo.setGround(0.2) # input albedo number or material name like 'concrete'.  To see options, run this without any input.\n",
    "\n",
    "epwfile = demo.getEPW(37.5,-77.6) #pull TMY data for any global lat/lon\n",
    "    \n",
    "metdata = demo.readEPW(epwfile) # read in the weather data\n",
    "\n",
    "# create metdata files for each condition\n",
    "demo.set1axis()\n",
    "\n",
    "# new gencumulativesky function: demo.genCumSky1axis\n",
    "demo.genCumSky1axis()\n",
    "# Create a new moduletype: Prism Solar Bi60. x = .984 y = 1.695. Bifaciality = 0.90\n",
    "demo.makeModule(name='Prism Solar Bi60',x=0.984,y=1.695)\n",
    "# print available module types\n",
    "demo.printModules()\n",
    "# create a scene using panels in portrait, 2m hub height, 0.33 GCR. NOTE: clearance needs to be calculated at each step. hub height is constant\n",
    "sceneDict = {'pitch':module_height / gcr,'height':hub_height,'orientation':'portrait'}  \n",
    "module_type = 'Prism Solar Bi60'\n",
    "demo.makeScene1axis(moduletype=module_type,sceneDict = sceneDict, nMods = 20, nRows = 7) #makeScene creates a .rad file with 20 modules per row, 7 rows.\n",
    "\n",
    "demo.makeOct1axis()\n",
    "# Now we need to run analysis and combine the results into an annual total.  This can be done by calling scene.frontscan and scene.backscan\n",
    "trackerdict = demo.analysis1axis()"
   ]
  },
  {
   "cell_type": "code",
   "execution_count": null,
   "metadata": {},
   "outputs": [],
   "source": [
    "# the frontscan and backscan include a linescan along a chord of the module, both on the front and back.  \n",
    "# Return the minimum of the irradiance values, and the average of the irradiance values along a chord of the module.\n",
    "print('Annual bifacial ratio for 1-axis tracking: %0.3f' %(np.mean(demo.Wm2Back)/np.mean(demo.Wm2Front)) )\n"
   ]
  },
  {
   "cell_type": "markdown",
   "metadata": {},
   "source": [
    "# New v0.2.3 hourly tracker workflow using gendaylit"
   ]
  },
  {
   "cell_type": "code",
   "execution_count": 14,
   "metadata": {},
   "outputs": [
    {
     "name": "stdout",
     "output_type": "stream",
     "text": [
      "path = C:\\Users\\cdeline\\Documents\\Python Scripts\\Test1axisFolder\n",
      "Getting weather file: USA_VA_Richmond.Intl.AP.724010_TMY.epw  ... OK!\n",
      "Created 4320 skyfiles in \\skies\\\n"
     ]
    }
   ],
   "source": [
    "## New v0.2.3 software includes the option for hourly tracked simulation workflow using gendaylit.\n",
    "demo2 = RadianceObj('v0_2_3',testfolder)  # Create a RadianceObj 'object'\n",
    "\n",
    "demo2.setGround(0.2) # input albedo number or material name like 'concrete'.  To see options, run this without any input.\n",
    "\n",
    "epwfile = demo2.getEPW(37.5,-77.6) #pull TMY data for any global lat/lon\n",
    "metdata = demo2.readEPW(epwfile) # read in the weather data   \n",
    "#metdata = demo2.readEPW('EPWs\\\\USA_VA_Richmond.Intl.AP.724010_TMY.epw') # read in the weather data directly\n",
    "\n",
    "# NEW hourly gendaylit workflow. Note that trackerdict is returned with hourly time points as keys instead of tracker angles.\n",
    "trackerdict = demo2.set1axis(cumulativesky = False)  # this cumulativesky = False key is crucial to set up the hourly workflow\n",
    "\n",
    "# create the skyfiles needed for 1-axis tracking\n",
    "trackerdict = demo2.gendaylit1axis()  # optional parameters 'startdate', 'enddate' inputs = string 'MM/DD' or 'MM_DD' \n"
   ]
  },
  {
   "cell_type": "code",
   "execution_count": 15,
   "metadata": {},
   "outputs": [
    {
     "name": "stdout",
     "output_type": "stream",
     "text": [
      "Making ~4000 .rad files for gendaylit 1-axis workflow (this takes a minute..)\n",
      "4320 Radfiles created in \\objects\\\n"
     ]
    }
   ],
   "source": [
    "# Create a new moduletype.  optional parameters with v0.2.3 include torque tube, module gap, etc.\n",
    "#demo.makeModule(name='Prism Solar Bi60',x=0.984,y=1.695,bifi = 0.90)\n",
    "# set module type to be used and passed into makeScene1axis\n",
    "module_type = 'Prism Solar Bi60'\n",
    "    \n",
    "# Create the scene for the 1-axis tracking\n",
    "sceneDict = {'pitch': module_height / gcr,'height':hub_height,'orientation':'portrait'}  \n",
    "\n",
    "trackerdict = demo2.makeScene1axis(trackerdict, module_type,sceneDict, cumulativesky = False, nMods = 20, nRows = 7) #makeScene creates a .rad file with 20 modules per row, 7 rows.\n"
   ]
  },
  {
   "cell_type": "code",
   "execution_count": 16,
   "metadata": {},
   "outputs": [
    {
     "name": "stdout",
     "output_type": "stream",
     "text": [
      "Making 1 octfiles for 1-axis tracking in root directory.\n",
      "created 1axis_01_01_11.oct linescan in process: 1axis_01_01_11_Front\n",
      "linescan in process: 1axis_01_01_11_Back\n",
      "saved: results\\irr_1axis_01_01_11.csv\n",
      "Index: 01_01_11. Wm2Front: 301.9323. Wm2Back: 43.1377522222\n",
      "Making 1 octfiles for 1-axis tracking in root directory.\n",
      "created 1axis_01_01_12.oct linescan in process: 1axis_01_01_12_Front\n",
      "linescan in process: 1axis_01_01_12_Back\n",
      "saved: results\\irr_1axis_01_01_12.csv\n",
      "Index: 01_01_12. Wm2Front: 400.139688889. Wm2Back: 47.6115155556\n"
     ]
    }
   ],
   "source": [
    "# Now this is the part that takes a long time, and will probably require parallel computing. For this example we just run one hourly point\n",
    "\n",
    "\n",
    "#for time in sorted(trackerdict.keys()):  # the full year\n",
    "for time in ['01_01_11','01_01_12']:  # just two timepoints\n",
    "    demo2.makeOct1axis(trackerdict,time)\n",
    "    demo2.analysis1axis(trackerdict,time)"
   ]
  },
  {
   "cell_type": "code",
   "execution_count": 19,
   "metadata": {},
   "outputs": [
    {
     "name": "stdout",
     "output_type": "stream",
     "text": [
      "1-axis tracking hourly (just two timepoints) bifi gain: 0.129\n"
     ]
    }
   ],
   "source": [
    "print('1-axis tracking hourly (just two timepoints) bifi gain: {:0.3}'.format(sum(demo2.Wm2Back) / sum(demo2.Wm2Front)))"
   ]
  }
 ],
 "metadata": {
  "anaconda-cloud": {},
  "kernelspec": {
   "display_name": "Python 2",
   "language": "python",
   "name": "python2"
  },
  "language_info": {
   "codemirror_mode": {
    "name": "ipython",
    "version": 2
   },
   "file_extension": ".py",
   "mimetype": "text/x-python",
   "name": "python",
   "nbconvert_exporter": "python",
   "pygments_lexer": "ipython2",
   "version": "2.7.14"
  }
 },
 "nbformat": 4,
 "nbformat_minor": 1
}
