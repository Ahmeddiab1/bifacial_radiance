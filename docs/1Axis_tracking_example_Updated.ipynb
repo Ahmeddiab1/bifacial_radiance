{
 "cells": [
  {
   "cell_type": "markdown",
   "metadata": {},
   "source": [
    "## 1-Axis tracker example\n",
    "\n",
    "Example demonstrating Radiance gencumulativesky for 1-axis tracking.\n",
    "\n",
    "#### This assumes bifacial_radiance has been installed properly. \n",
    "\n",
    "See bifacial_radiance wiki, bifacial_radiance main page, or the jupyter journal with bifacial_radiance examples on proper installation.\n",
    "\n",
    "#### Types of 1-axis tracking simulations:\n",
    "\n",
    "<b> CumulativeSky: True</b> gencumsky has been modified to divide the yearly-cumulative sky into various skies, each one representing the cumulative irradiance for the hours at which the tracker is at a certain angle. For faster running, for a tracker that moves between 60 and -60 degrees limit angle, if only positions every 5 degrees are considered (60, 55, 50 ... -55, -60), then only 25 skies (and 25 simulations) will be run for the whole year.\n",
    "\n",
    "This procedure was presented in. Reffer to this journal for more information:\n",
    "\n",
    "    S. Ayala Pelaez, C. Deline, P. Greenberg, J. S. Stein, and R. K. Kostuk, “Model and Validation of Single-Axis Tracking with Bifacial PV - Preprint,” Golden Co Natl. Renew. Energy Lab. NREL/CP-5K00-72039., no. October, 2018. https://www.nrel.gov/docs/fy19osti/72039.pdf\n",
    "\n",
    "<b>CumulativeSky: False </b>. This uses Gendaylit function, which performs the simulation hour by hour. A good computer and a ton of patience are needed for doing the ~4000 daylight-hours of the year, or else a high-performance-computing for handling full year simulations. The procedure can be broken into shorter steps for one day or a single timestamp simulation which is exemplified below.\n",
    "\n",
    "The first part is common to both procedures. We show a couple tricks of loading files / or weather files here too.\n",
    "\n",
    "\n"
   ]
  },
  {
   "cell_type": "code",
   "execution_count": 1,
   "metadata": {},
   "outputs": [],
   "source": [
    "#testfolder = r'E:\\Documents\\Python Scripts\\Test1axisFolder'  #point to an empty directory or existing Radiance directory\n",
    "#tracker geometry options:\n",
    "module_height = 1.7  # module portrait dimension in meters\n",
    "gcr = 0.33   # ground cover ratio,  = module_height / pitch\n",
    "albedo = 0.3     # ground albedo\n",
    "hub_height = 2   # tracker height at 0 tilt in meters (hub height)\n",
    "limit_angle = 45 # tracker rotation limit angle"
   ]
  },
  {
   "cell_type": "code",
   "execution_count": 2,
   "metadata": {},
   "outputs": [
    {
     "name": "stdout",
     "output_type": "stream",
     "text": [
      "path = C:\\Users\\sayala\\Documents\\RadianceScenes\\Demo2\n"
     ]
    }
   ],
   "source": [
    "try:\n",
    "    from bifacial_radiance import RadianceObj, AnalysisObj\n",
    "except ImportError:\n",
    "    raise RuntimeError('bifacial_radiance is required. download distribution')\n",
    "    # Simple example system using Radiance.\n",
    "import numpy as np\n",
    "\n",
    "# Easy graphical director picker:  \n",
    "# this is only required if you want a graphical directory picker.  \n",
    "# Note:  easygui sometimes opens in the background forcing you to hunt for the window!  \n",
    "#import easygui \n",
    "#testfolder = easygui.diropenbox(msg = 'Select or create an empty directory for the Radiance tree',title='Browse for empty Radiance directory')\n",
    "\n",
    "testfolder = r'C:\\Users\\sayala\\Documents\\RadianceScenes\\Demo2'\n",
    "demo = RadianceObj(path = testfolder)  # Create a RadianceObj 'object'\n",
    "demo.setGround(albedo) # input albedo number or material name like 'concrete'.  To see options, run this without any input.\n",
    "\n"
   ]
  },
  {
   "cell_type": "markdown",
   "metadata": {},
   "source": [
    "#### Look at a couple of ways to get meteorological data"
   ]
  },
  {
   "cell_type": "code",
   "execution_count": 3,
   "metadata": {
    "scrolled": false
   },
   "outputs": [
    {
     "name": "stdout",
     "output_type": "stream",
     "text": [
      "Getting weather file: USA_VA_Richmond.Intl.AP.724010_TMY.epw  ... OK!\n"
     ]
    }
   ],
   "source": [
    "\n",
    "EPWmode = True\n",
    "if EPWmode is True:\n",
    "    epwfile = demo.getEPW(37.5,-77.6) #Pull EPW data for any global lat/lon. In this case, Richmond, VA\n",
    "    metdata = demo.readEPW(epwfile) # read in the weather data\n",
    "    #metdata = demo.readEPW('EPWs\\\\USA_VA_Richmond.Intl.AP.724010_TMY.epw') # read in the weather data directly\n",
    "else:\n",
    "    metdata = demo.readTMY() # load TMY3 data from another source, like solar prospector. A version is saved as \\EPWs\\tmy3_temp.csv\n"
   ]
  },
  {
   "cell_type": "markdown",
   "metadata": {},
   "source": [
    "## CumulativeSky Workflow"
   ]
  },
  {
   "cell_type": "code",
   "execution_count": 4,
   "metadata": {
    "scrolled": true
   },
   "outputs": [
    {
     "name": "stdout",
     "output_type": "stream",
     "text": [
      "Saving file EPWs\\1axis_0.0.csv, # points: 2498\n",
      "Saving file EPWs\\1axis_-30.0.csv, # points: 198\n",
      "Saving file EPWs\\1axis_35.0.csv, # points: 167\n",
      "Saving file EPWs\\1axis_5.0.csv, # points: 954\n",
      "Saving file EPWs\\1axis_-25.0.csv, # points: 218\n",
      "Saving file EPWs\\1axis_40.0.csv, # points: 135\n",
      "Saving file EPWs\\1axis_10.0.csv, # points: 304\n",
      "Saving file EPWs\\1axis_-20.0.csv, # points: 182\n",
      "Saving file EPWs\\1axis_45.0.csv, # points: 842\n",
      "Saving file EPWs\\1axis_15.0.csv, # points: 123\n",
      "Saving file EPWs\\1axis_-15.0.csv, # points: 186\n",
      "Saving file EPWs\\1axis_-45.0.csv, # points: 815\n",
      "Saving file EPWs\\1axis_20.0.csv, # points: 225\n",
      "Saving file EPWs\\1axis_-10.0.csv, # points: 401\n",
      "Saving file EPWs\\1axis_-40.0.csv, # points: 173\n",
      "Saving file EPWs\\1axis_25.0.csv, # points: 154\n",
      "Saving file EPWs\\1axis_-5.0.csv, # points: 886\n",
      "Saving file EPWs\\1axis_-35.0.csv, # points: 183\n",
      "Saving file EPWs\\1axis_30.0.csv, # points: 116\n",
      "message: There were 78 sun up hours in this climate file\n",
      "Total Ibh/Lbh: 0.000000\n",
      "Created skyfile skies\\1axis_0.0.rad\n",
      "message: There were 157 sun up hours in this climate file\n",
      "Total Ibh/Lbh: 0.000000\n",
      "Created skyfile skies\\1axis_-30.0.rad\n",
      "message: There were 167 sun up hours in this climate file\n",
      "Total Ibh/Lbh: 0.000000\n",
      "Created skyfile skies\\1axis_35.0.rad\n",
      "message: There were 243 sun up hours in this climate file\n",
      "Total Ibh/Lbh: 0.000000\n",
      "Created skyfile skies\\1axis_5.0.rad\n",
      "message: There were 172 sun up hours in this climate file\n",
      "Total Ibh/Lbh: 0.000000\n",
      "Created skyfile skies\\1axis_-25.0.rad\n",
      "message: There were 135 sun up hours in this climate file\n",
      "Total Ibh/Lbh: 0.000000\n",
      "Created skyfile skies\\1axis_40.0.rad\n",
      "message: There were 76 sun up hours in this climate file\n",
      "Total Ibh/Lbh: 0.000000\n",
      "Created skyfile skies\\1axis_10.0.rad\n",
      "message: There were 108 sun up hours in this climate file\n",
      "Total Ibh/Lbh: 0.000000\n",
      "Created skyfile skies\\1axis_-20.0.rad\n",
      "message: There were 842 sun up hours in this climate file\n",
      "Total Ibh/Lbh: 0.000000\n",
      "Created skyfile skies\\1axis_45.0.rad\n",
      "message: There were 112 sun up hours in this climate file\n",
      "Total Ibh/Lbh: 0.000000\n",
      "Created skyfile skies\\1axis_15.0.rad\n",
      "message: There were 133 sun up hours in this climate file\n",
      "Total Ibh/Lbh: 0.000000\n",
      "Created skyfile skies\\1axis_-15.0.rad\n",
      "message: There were 812 sun up hours in this climate file\n",
      "Total Ibh/Lbh: 0.000000\n",
      "Created skyfile skies\\1axis_-45.0.rad\n",
      "message: There were 224 sun up hours in this climate file\n",
      "Total Ibh/Lbh: 0.000000\n",
      "Created skyfile skies\\1axis_20.0.rad\n",
      "message: There were 341 sun up hours in this climate file\n",
      "Total Ibh/Lbh: 0.000000\n",
      "Created skyfile skies\\1axis_-10.0.rad\n",
      "message: There were 172 sun up hours in this climate file\n",
      "Total Ibh/Lbh: 0.000000\n",
      "Created skyfile skies\\1axis_-40.0.rad\n",
      "message: There were 152 sun up hours in this climate file\n",
      "Total Ibh/Lbh: 0.000000\n",
      "Created skyfile skies\\1axis_25.0.rad\n",
      "message: There were 70 sun up hours in this climate file\n",
      "Total Ibh/Lbh: 0.000000\n",
      "Created skyfile skies\\1axis_-5.0.rad\n",
      "message: There were 145 sun up hours in this climate file\n",
      "Total Ibh/Lbh: 0.000000\n",
      "Created skyfile skies\\1axis_-35.0.rad\n",
      "message: There were 116 sun up hours in this climate file\n",
      "Total Ibh/Lbh: 0.000000\n",
      "Created skyfile skies\\1axis_30.0.rad\n"
     ]
    }
   ],
   "source": [
    "# We have 2 workflows: cumulativesky and hourly.  Start with cumulativesky\n",
    "\n",
    "# create metdata files for each condition. It will create a met-data file for each angle the tracker will find itself in.\n",
    "# set1axis has as input variable cumulativesky, which is set to True as default.\n",
    "trackerdict = demo.set1axis(metdata, limit_angle = limit_angle, backtrack = True, gcr = gcr)\n",
    "\n",
    "# Create the skies for each sub-metdata file created by set1axis.\n",
    "trackerdict = demo.genCumSky1axis(trackerdict)"
   ]
  },
  {
   "cell_type": "code",
   "execution_count": 5,
   "metadata": {},
   "outputs": [
    {
     "name": "stdout",
     "output_type": "stream",
     "text": [
      "('\\nModule Name:', 'Prism_Solar_Bi60')\n",
      "REWRITING pre-existing module file. \n",
      "Module Prism Solar Bi60 successfully created\n",
      "('\\nModule Name:', '2upTracker')\n",
      "REWRITING pre-existing module file. \n",
      "Module 2upTracker successfully created\n",
      "('\\nModule Name:', 'cellLevelModule')\n",
      "Module file did not exist before, creating new module file\n",
      "Module cellLevelModule successfully created\n",
      "\n",
      "Available module names: ['mini_panel', 'Prism Solar Bi60', '2upTracker', 'No_torquetube', 'With_torquetube', 'monopanel', 'simple_panel', 'cellLevelModule', 'Silvana', 'test', 'Prism Solar Bi60 landscape']\n"
     ]
    }
   ],
   "source": [
    "# Create a new moduletype: Prism Solar Bi60. width = .984m height = 1.695m. Bifaciality = 0.90\n",
    "demo.makeModule(name='Prism Solar Bi60',x=0.984,y=module_height)\n",
    "# note that beginning in v0.2.3 you can add torque tubes and multiple module arrays. e.g:\n",
    "demo.makeModule(name='2upTracker',x=0.984,y=module_height, torquetube = True, tubetype = 'round', \n",
    "    diameter = 0.1, xgap=0.02, ygap = 0.05, zgap = 0.05, numpanels = 2, axisofrotationTorqueTube=True)\n",
    "# and now in v0.2.4 you can even add cell-level options if you want non-opaque, cell-defined modules.\n",
    "demo.makeModule(name='cellLevelModule', bifi=1, torquetube=True, diameter=0.1, tubetype='Oct', material='Metal_Grey', \n",
    "                xgap=0.02, ygap=0.05, zgap=0.05, numpanels=2, \n",
    "                cellLevelModule=False, numcellsx=6, numcellsy=10, xcell=0.156, ycell=0.156, xcellgap=0.02, ycellgap=0.02, \n",
    "                axisofrotationTorqueTube=False)\n",
    "# For more options on makemodule, see the help description of the function.  \n",
    "\n",
    "print(\"\")\n",
    "demo.printModules()# print available module types"
   ]
  },
  {
   "cell_type": "code",
   "execution_count": null,
   "metadata": {
    "scrolled": true
   },
   "outputs": [
    {
     "name": "stdout",
     "output_type": "stream",
     "text": [
      "\n",
      "Making .rad files for cumulativesky 1-axis workflow\n",
      "19 Radfiles created in /objects/\n",
      "\n",
      "Making 19 octfiles for 1-axis tracking in root directory.\n"
     ]
    }
   ],
   "source": [
    "# Now let's create a scene using panels in portrait, 2m hub height, 0.33 GCR. \n",
    "# NOTE: clearance needs to be calculated at each step. hub height is constant.\n",
    "# 'orientation':'portrait' deprecated in v0.2.4 Also, sceneDict now defines nMods and nRows for the scene.\n",
    "sceneDict = {'pitch':module_height / gcr,'height':hub_height, 'nMods': 20, 'nRows': 7}  \n",
    "module_type = 'Prism Solar Bi60' # We are using the first simple module we defined.\n",
    "# makeScene creates a .rad file with 20 modules per row, 7 rows repeating the module_type Prism Solar Bi60.\n",
    "trackerdict = demo.makeScene1axis(trackerdict,module_type,sceneDict) \n",
    "\n",
    "# makeOct1axis joins the sky.rad file, ground.rad file, and the geometry.rad files created in makeScene.\n",
    "trackerdict = demo.makeOct1axis(trackerdict)\n",
    "\n",
    "# Note: with v0.2.4 the analysis1axis has additional parameters to allow custom scans.  parameters: \n",
    "#    sensorsy = int() (9 = default)\n",
    "#    modwanted = int() (middle module default)\n",
    "#    rowwanted   =  int() (middle row default)\n",
    "# Now we need to run analysis and combine the results into an annual total.  \n",
    "# This can be done by doing a frontscan and backscan for the modwanted and rowwanted specified.\n",
    "# the frontscan and backscan include a linescan along a chord of the module, both on the front and back.  \n",
    "trackerdict = demo.analysis1axis(trackerdict, modwanted=9, rowwanted = 2)\n",
    "\n",
    "# Return the minimum of the irradiance ratio, and the average of the irradiance ratio along a chord of the module.\n",
    "print('Annual RADIANCE bifacial ratio for 1-axis tracking: %0.3f' %(sum(demo.Wm2Back)/sum(demo.Wm2Front)) )\n"
   ]
  },
  {
   "cell_type": "markdown",
   "metadata": {},
   "source": [
    "### Note: same workflow can use stored self inputs rather than repeatedly keep passing trackerdict. \n",
    "In super short version:"
   ]
  },
  {
   "cell_type": "code",
   "execution_count": null,
   "metadata": {
    "scrolled": true
   },
   "outputs": [],
   "source": [
    "try:\n",
    "    from bifacial_radiance import *\n",
    "except ImportError:\n",
    "    raise RuntimeError('bifacial_radiance is required. download distribution')\n",
    "\n",
    "demo = RadianceObj(path = testfolder) \n",
    "demo.setGround(0.2)\n",
    "epwfile = demo.getEPW(37.5,-77.6) \n",
    "metdata = demo.readEPW(epwfile)\n",
    "demo.set1axis()\n",
    "demo.genCumSky1axis()\n",
    "module_type = '2upTracker' # Since we already created this module type, we don't need to makeModule, we just ned to call it when we make the Scene.\n",
    "sceneDict = {'pitch':module_height / gcr,'height':hub_height, 'nMods': 20, 'nRows': 7}  # orientation deprecated on v.0.2.4.\n",
    "demo.makeScene1axis(moduletype=module_type,sceneDict = sceneDict)\n",
    "demo.makeOct1axis()\n",
    "trackerdict = demo.analysis1axis()\n",
    "print('Annual bifacial ratio for 1-axis tracking: %0.3f' %(np.mean(demo.Wm2Back)/np.mean(demo.Wm2Front)) )\n"
   ]
  },
  {
   "cell_type": "markdown",
   "metadata": {},
   "source": [
    "# GENDAYLIT Workflow.  -- hourly tracker option"
   ]
  },
  {
   "cell_type": "code",
   "execution_count": null,
   "metadata": {},
   "outputs": [],
   "source": [
    "## New v0.2.3 software includes the option for hourly tracked simulation workflow using gendaylit. \n",
    "\n",
    "# The first part is the same:\n",
    "demo2 = RadianceObj('Gendaylit_TrackingHourly',testfolder)  \n",
    "demo2.setGround(0.2) \n",
    "epwfile = demo2.getEPW(37.5,-77.6) #pull TMY data for any global lat/lon\n",
    "metdata = demo2.readEPW(epwfile) # read in the weather data   \n",
    "\n",
    "# This is the same for gencumsky and gendaylit: create a new moduletype, and specify a sceneDict. \n",
    "module_type = 'Prism Solar Bi60'\n",
    "demo2.makeModule(name=module_type,x=0.984,y=1.695,bifi = 0.90)  # set module type to be used and passed into makeScene1axis\n",
    "# Create the scenedictionary for the 1-axis tracking\n",
    "sceneDict = {'pitch':1.695 / 0.33,'height':2.35, 'nMods': 20, 'nRows': 7}  \n",
    "\n"
   ]
  },
  {
   "cell_type": "code",
   "execution_count": null,
   "metadata": {},
   "outputs": [],
   "source": [
    "# NEW hourly gendaylit workflow. Note that trackerdict is returned with hourly time points as keys instead of tracker angles.\n",
    "trackerdict2 = demo2.set1axis(cumulativesky = False)  # this cumulativesky = False key is crucial to set up the hourly workflow\n",
    "\n",
    "# This is for exemplifying the changes undergone in the trackerdict by each step. Just printing information.\n",
    "print (\"Full trackerdict for all the year created by set1axis: %s \" % (len(trackerdict2))) # trackerdict contains all hours in the year as keys. For example: trackerdict2['12_16_08']\n",
    "print (\"Contents of trackerdict for sample hour after creating on set1axis, \\n trackerdict2['12_16_08']: \\n %s \\n\" % ( trackerdict2['12_16_08']))\n",
    "\n",
    "# Create the skyfiles needed for 1-axis tracking. \n",
    "# If you don't specify a startdate and enddate, all the year will be created, which will take more time. \n",
    "# For this example we are doing the first half of January.\n",
    "# Specifying the startdate and enddate also trims down the trackerdict from the whole year to just the entries between that start adn enddate.\n",
    "trackerdict2 = demo2.gendaylit1axis(startdate='01/01', enddate='01/15')  # optional parameters 'startdate', 'enddate' inputs = string 'MM/DD' or 'MM_DD' \n",
    "\n",
    "# This is for exemplifying the changes undergone in the trackerdict by each step. Just printing information.\n",
    "print (\"\\nTrimmed trackerdict by gendaylit1axis to start and enddate: %s \" % (len(trackerdict2)))\n",
    "print (\"Contents of trackerdict for sample hour after runing gendaylit1axis \\n trackerdict2['01_01_11']: %s \" % ( trackerdict2['01_01_11']))\n"
   ]
  },
  {
   "cell_type": "code",
   "execution_count": null,
   "metadata": {},
   "outputs": [],
   "source": [
    "# making the different scenes for the 1-axis tracking for the dates in trackerdict2.\n",
    "trackerdict2 = demo2.makeScene1axis(trackerdict2, module_type,sceneDict, cumulativesky = False) #makeScene creates a .rad file with 20 modules per row, 7 rows.\n",
    "\n",
    "# This is for exemplifying the changes undergone in the trackerdict by each step. Just printing information.\n",
    "print (\"\\n Contents of trackerdict for sample hour after makeScene1axis: \\n trackerdict2['01_01_11']: \\n %s \" % ( trackerdict2['01_01_11']))"
   ]
  },
  {
   "cell_type": "markdown",
   "metadata": {},
   "source": [
    "#### Run one single index (super fast example):"
   ]
  },
  {
   "cell_type": "code",
   "execution_count": null,
   "metadata": {},
   "outputs": [],
   "source": [
    "# Now this is the part that takes a long time, and will probably require parallel computing for doing more time points or the full year. \n",
    "# For this example we just run one hourly point:\n",
    "\n",
    "demo2.makeOct1axis(trackerdict2,singleindex='01_01_11')\n",
    "\n",
    "# This is for exemplifying the changes undergone in the trackerdict by each step. Just printing information.\n",
    "print (\"\\n Contents of trackerdict for sample hour after makeOct1axis: \\n trackerdict2['01_01_11']: \\n %s \\n\" % ( trackerdict2['01_01_11']))\n",
    "\n",
    "demo2.analysis1axis(trackerdict2,singleindex='01_01_11')\n",
    "\n",
    "# This is for exemplifying the changes undergone in the trackerdict by each step. Just printing information.\n",
    "print (\"\\n Contents of trackerdict for sample hour after makeOct1axis: \\n trackerdict2['01_01_11']: \\n %s \\n\" % ( trackerdict2['01_01_11']))\n",
    "\n",
    "# Printing the results.\n",
    "print('\\n\\n1-axis tracking hourly bifi gain: {:0.3}'.format(sum(demo2.Wm2Back) / sum(demo2.Wm2Front)))\n",
    "\n"
   ]
  },
  {
   "cell_type": "markdown",
   "metadata": {},
   "source": [
    "#### Run a range of indexes: (not as fast as 1, not as slow as all!)\n"
   ]
  },
  {
   "cell_type": "code",
   "execution_count": null,
   "metadata": {},
   "outputs": [],
   "source": [
    "for time in ['01_01_11','01_01_12']:  # just two timepoints\n",
    "    demo2.makeOct1axis(trackerdict2,singleindex=time)\n",
    "    demo2.analysis1axis(trackerdict2,singleindex=time)\n",
    "\n",
    "print('1-axis tracking hourly bifi gain: {:0.3}'.format(sum(demo2.Wm2Back) / sum(demo2.Wm2Front)))"
   ]
  },
  {
   "cell_type": "markdown",
   "metadata": {},
   "source": [
    "#### Run the full trackingdictionary...\n",
    "(this might considerably more time, depending on the number of entries on the trackerdictionary! You've been warned) \n"
   ]
  },
  {
   "cell_type": "code",
   "execution_count": null,
   "metadata": {},
   "outputs": [],
   "source": [
    "demo2.makeOct1axis(trackerdict2,singleindex=time)\n",
    "demo2.analysis1axis(trackerdict2,singleindex=time)\n",
    "print('1-axis tracking hourly bifi gain: {:0.3}'.format(sum(demo2.Wm2Back) / sum(demo2.Wm2Front)))\n"
   ]
  },
  {
   "cell_type": "markdown",
   "metadata": {},
   "source": [
    "### Gendaylit for the WHOLE Year\n",
    "And because you asked: this is the summarized version to run with gendaylit the WHOLE year. \n",
    "#### This will take ~4 days on a good computer. IF you're sure this is what you want, uncomment and run below :)"
   ]
  },
  {
   "cell_type": "code",
   "execution_count": null,
   "metadata": {},
   "outputs": [],
   "source": [
    "'''\n",
    "demo2 = RadianceObj('Gendaylit_AllYear_Tracking',testfolder)  \n",
    "demo2.setGround(0.2) \n",
    "epwfile = demo2.getEPW(37.5,-77.6) #pull TMY data for any global lat/lon\n",
    "metdata = demo2.readEPW(epwfile) # read in the weather data   \n",
    "module_type = 'Prism Solar Bi60'\n",
    "sceneDict = {'pitch':1.695 / 0.33,'height':2.35, 'nMods': 20, 'nRows': 7}  \n",
    "trackerdict2 = demo2.set1axis(cumulativesky = False)  # this cumulativesky = False key is crucial to set up the hourly workflow\n",
    "trackerdict2 = demo2.gendaylit1axis()  # optional parameters 'startdate', 'enddate' inputs = string 'MM/DD' or 'MM_DD' \n",
    "trackerdict2 = demo2.makeScene1axis(trackerdict2, module_type,sceneDict, cumulativesky = False) #makeScene creates a .rad file with 20 modules per row, 7 rows.\n",
    "demo2.makeOct1axis(trackerdict2)\n",
    "demo2.analysis1axis(trackerdict2)\n",
    "'''"
   ]
  }
 ],
 "metadata": {
  "anaconda-cloud": {},
  "kernelspec": {
   "display_name": "Python 2",
   "language": "python",
   "name": "python2"
  },
  "language_info": {
   "codemirror_mode": {
    "name": "ipython",
    "version": 2
   },
   "file_extension": ".py",
   "mimetype": "text/x-python",
   "name": "python",
   "nbconvert_exporter": "python",
   "pygments_lexer": "ipython2",
   "version": "2.7.15"
  }
 },
 "nbformat": 4,
 "nbformat_minor": 1
}
