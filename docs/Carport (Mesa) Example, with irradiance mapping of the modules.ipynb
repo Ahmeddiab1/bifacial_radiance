{
 "cells": [
  {
   "cell_type": "markdown",
   "metadata": {},
   "source": [
    "# Carport (Mesa) Example\n",
    "\n",
    "Creates a carport of 3x3 (facing south), and shows how to sample along x-axis to get an irradiance map of all the modules. Showing the results for one point in time, for all 3 collectors (each collector consist of the 3 panels in that slope)."
   ]
  },
  {
   "cell_type": "code",
   "execution_count": 1,
   "metadata": {},
   "outputs": [],
   "source": [
    "try:\n",
    "    from bifacial_radiance import *\n",
    "except ImportError:\n",
    "    raise RuntimeError('bifacial_radiance is required. download distribution')\n",
    "    # Simple example system using Radiance.\n",
    "    \n",
    "import numpy as np"
   ]
  },
  {
   "cell_type": "code",
   "execution_count": 2,
   "metadata": {},
   "outputs": [
    {
     "name": "stdout",
     "output_type": "stream",
     "text": [
      "path = C:\\Users\\sayala\\Documents\\RadianceScenes\\Demo3\n",
      "Getting weather file: USA_VA_Richmond.Intl.AP.724010_TMY.epw  ... OK!\n",
      "('\\nModule Name:', 'modified_makeModule')\n",
      "REWRITING pre-existing module file. \n",
      "Module modified_makeModule successfully created\n",
      "Created OptionB.oct\n"
     ]
    }
   ],
   "source": [
    "testfolder = r'C:\\Users\\sayala\\Documents\\RadianceScenes\\Demo3'\n",
    "\n",
    "timestamp = 4020 # Noon, June 17th. \n",
    "simulationname = 'OptionB'\n",
    "\n",
    "# MakeModule Parameters\n",
    "moduletype='modified_makeModule'\n",
    "numpanels = 3\n",
    "x = 1.4  \n",
    "y = 0.95 # individual size module\n",
    "xgap = 0.2 # 10 centimeters.\n",
    "ygap = 0.1 # you can give ygap now\n",
    "zgap = 0\n",
    "sensorsy = 210  # this will give 70 sensors per module.\n",
    "\n",
    "# TorqueTube Parameters\n",
    "axisofrotationTorqueTube=False\n",
    "torqueTube = False\n",
    "cellLevelModule = False\n",
    "\n",
    "# SceneDict Parameters\n",
    "gcr = 0.33   # We are only doing 1 row so this doesn't matter\n",
    "albedo = 0.28  #'concrete'     # ground albedo\n",
    "clearance_height = 3 # m  \n",
    "nMods = 3  # replicating the unit 3 times\n",
    "nRows = 1  # only 1 row\n",
    "\n",
    "azimuth_ang=180 # Facing south\n",
    "tilt =20 # tilt. \n",
    "\n",
    "# Now let's run the example\n",
    "\n",
    "demo = RadianceObj(simulationname,path = testfolder)  # Create a RadianceObj 'object'\n",
    "demo.setGround(albedo) # input albedo number or material name like 'concrete'.  To see options, run this without any input.\n",
    "epwfile = demo.getEPW(37.5,-77.6) # pull TMY data for any global lat/lon\n",
    "metdata = demo.readEPW(epwfile) # read in the EPW weather data from above\n",
    "demo.gendaylit(metdata,4020)  # Use this to simulate only one hour at a time. \n",
    "# This allows you to \"view\" the scene on RVU (see instructions below)\n",
    "# timestam 4020 : Noon, June 17th.\n",
    "#demo.genCumSky(demo.epwfile) # Use this for simulate the whole year\n",
    "\n",
    "\n",
    "# Making module with all the variables\n",
    "moduleDict=demo.makeModule(name=moduletype,x=x,y=y, numpanels = numpanels, xgap=xgap, ygap=ygap)\n",
    "# create a scene with all the variables\n",
    "sceneDict = {'tilt':tilt,'pitch': round(gcr/moduleDict['sceney'],3),'height':clearance_height,'azimuth':azimuth_ang, 'module_type':moduletype, 'nMods': nMods, 'nRows': nRows}  \n",
    "scene = demo.makeScene(moduletype=moduletype, sceneDict=sceneDict) #makeScene creates a .rad file with 20 modules per row, 7 rows.\n",
    "octfile = demo.makeOct(demo.getfilelist())  # makeOct combines all of the ground, sky and object fil|es into a .oct file.\n"
   ]
  },
  {
   "cell_type": "code",
   "execution_count": null,
   "metadata": {},
   "outputs": [],
   "source": [
    "# This adds a marker at the coordinate 0,0\n",
    "name='Mycube'\n",
    "text='! genbox black cuteBox 0.05 0.05 5.5 | xform -t -0.025 -0.025 0'\n",
    "customObject = demo.makeCustomObject(name,text)\n",
    "demo.appendtoScene(scene.radfiles, customObject, '!xform -rz 0')\n",
    "\n",
    "octfile = demo.makeOct(demo.getfilelist())  "
   ]
  },
  {
   "cell_type": "markdown",
   "metadata": {},
   "source": [
    "### At this point you should be able to go into a command window (cmd.exe) and check the geometry. (only if you used gendaylit ! gencumsky oversaturates teh sky). Example:\n",
    "\n",
    "rvu -vf views\\front.vp -e .01 OptionB.oct\n",
    "\n",
    "Notice that some sensors might fall into the gap betwheen the modules (ygap) so you might have to do some cleaning of the results    \n",
    "\n",
    "# Now run the analysis"
   ]
  },
  {
   "cell_type": "code",
   "execution_count": null,
   "metadata": {},
   "outputs": [],
   "source": [
    "analysis = AnalysisObj(octfile, demo.name)  # return an analysis object including the scan dimensions for back irradiance\n",
    "modWanted = 1\n",
    "rowWanted = 1\n",
    "frontscan, backscan = analysis.moduleAnalysis(clearanceheight=sceneDict['height'], azimuth=sceneDict['azimuth'], \n",
    "                                              tilt=sceneDict['tilt'], \n",
    "                                              pitch=sceneDict['pitch'], nMods=sceneDict['nMods'], nRows= sceneDict['nRows'], \n",
    "                                              sceney=moduleDict['sceney'], scenex=moduleDict['scenex'], offset=moduleDict['moduleoffset'],\n",
    "                                              modWanted=modWanted, rowWanted=rowWanted, sensorsy=sensorsy)\n",
    "\n",
    "analysis.analysis(octfile, simulationname+\"Mod1\", frontscan, backscan)  # compare the back vs front irradiance  \n",
    "print('Annual bifacial ratio average:  %0.3f' %( sum(analysis.Wm2Back) / sum(analysis.Wm2Front) ) )\n",
    "\n",
    "\n",
    "modWanted = 2\n",
    "rowWanted = 1\n",
    "frontscan, backscan = analysis.moduleAnalysis(clearanceheight=sceneDict['height'], azimuth=sceneDict['azimuth'], \n",
    "                                              tilt=sceneDict['tilt'], \n",
    "                                              pitch=sceneDict['pitch'], nMods=sceneDict['nMods'], nRows= sceneDict['nRows'], \n",
    "                                              sceney=moduleDict['sceney'], scenex=moduleDict['scenex'], offset=moduleDict['moduleoffset'],\n",
    "                                              modWanted=modWanted, rowWanted=rowWanted, sensorsy=sensorsy)\n",
    "\n",
    "analysis.analysis(octfile, simulationname+\"Mod2\", frontscan, backscan)  # compare the back vs front irradiance  \n",
    "print('Annual bifacial ratio average:  %0.3f' %( sum(analysis.Wm2Back) / sum(analysis.Wm2Front) ) )\n",
    "\n",
    "\n",
    "modWanted = 3\n",
    "rowWanted = 1\n",
    "frontscan, backscan = analysis.moduleAnalysis(clearanceheight=sceneDict['height'], azimuth=sceneDict['azimuth'], \n",
    "                                              tilt=sceneDict['tilt'], \n",
    "                                              pitch=sceneDict['pitch'], nMods=sceneDict['nMods'], nRows= sceneDict['nRows'], \n",
    "                                              sceney=moduleDict['sceney'], scenex=moduleDict['scenex'], offset=moduleDict['moduleoffset'],\n",
    "                                              modWanted=modWanted, rowWanted=rowWanted, sensorsy=sensorsy)\n",
    "\n",
    "        \n",
    "analysis.analysis(octfile, simulationname+\"Mod3\", frontscan, backscan)  # compare the back vs front irradiance  \n",
    "print('Annual bifacial ratio average:  %0.3f' %( sum(analysis.Wm2Back) / sum(analysis.Wm2Front) ) )"
   ]
  },
  {
   "cell_type": "markdown",
   "metadata": {},
   "source": [
    "### Note that you have to clean the results\n",
    "As some sensors might fall in the 'gap' between the modules (ygap), and also the sensors are giving results for the 3 modules in the slope at the same time.\n",
    "\n",
    "# Hacking the analysis example\n",
    "Just choose another cooridnate for the xstart (since this is facing south it's that simple, you sample along the x-axis, y doesn't change.)"
   ]
  },
  {
   "cell_type": "code",
   "execution_count": null,
   "metadata": {},
   "outputs": [],
   "source": [
    "# HACK Frontscan and Backscan\n",
    "frontscan['xstart']=-1.2\n",
    "\n",
    "analysis.analysis(octfile, simulationname+\"Mod3_point2\", frontscan, backscan)  # compare the back vs front irradiance  \n",
    "print('Annual bifacial ratio average:  %0.3f' %( sum(analysis.Wm2Back) / sum(analysis.Wm2Front) ) )\n"
   ]
  }
 ],
 "metadata": {
  "kernelspec": {
   "display_name": "Python 2",
   "language": "python",
   "name": "python2"
  },
  "language_info": {
   "codemirror_mode": {
    "name": "ipython",
    "version": 2
   },
   "file_extension": ".py",
   "mimetype": "text/x-python",
   "name": "python",
   "nbconvert_exporter": "python",
   "pygments_lexer": "ipython2",
   "version": "2.7.15"
  }
 },
 "nbformat": 4,
 "nbformat_minor": 2
}
