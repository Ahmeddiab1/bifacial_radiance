{
 "cells": [
  {
   "cell_type": "markdown",
   "metadata": {},
   "source": [
    "Generates one Panel with Offset, and one panel without offset from tracking of rotation.\n",
    "Tested for timestamp 4020 and 4025.\n",
    "Results follow closely the panel and the height is adjusted accordingly.\n"
   ]
  },
  {
   "cell_type": "code",
   "execution_count": 1,
   "metadata": {},
   "outputs": [
    {
     "name": "stdout",
     "output_type": "stream",
     "text": [
      " Successful import of bifacial_radiance version . \n"
     ]
    }
   ],
   "source": [
    "import sys\n",
    "\n",
    "sys.path.insert(0, '../bifacial_radiance')\n",
    "\n",
    "try:\n",
    "    from bifacial_radiance import *\n",
    "    print \" Successful import of bifacial_radiance version . \"\n",
    "except ImportError:\n",
    "    raise RuntimeError('bifacial_radiance is required. download distribution')\n",
    "    # Simple example system using Radiance."
   ]
  },
  {
   "cell_type": "code",
   "execution_count": 4,
   "metadata": {},
   "outputs": [
    {
     "name": "stdout",
     "output_type": "stream",
     "text": [
      "path = C:\\Users\\sayala\\Documents\\RadianceScenes\\Octtest\n",
      "Getting weather file: USA_VA_Richmond.Intl.AP.724010_TMY.epw  ... OK!\n",
      "('\\nModule Name:', 'my_little_pony_panel')\n",
      "REWRITING pre-existing module file. \n",
      "Module my_little_pony_panel successfully created\n",
      "For this timestamp, panels are facing West\n",
      "Tracker theta has been calculated to 4.722, no rounding performed.\n",
      "Module clearance height has been calculated to 2.179, for this tracker theta.\n",
      "Created simple_panel.oct\n",
      "Linescan in process: Regular_Front\n",
      "Linescan in process: Regular_Back\n",
      "Saved: results\\irr_Regular.csv\n",
      "Annual bifacial ratio average:  0.536\n",
      "('\\nModule Name:', 'my_little_pony_panel_OFFSET')\n",
      "REWRITING pre-existing module file. \n",
      "Module my_little_pony_panel_OFFSET successfully created\n",
      "For this timestamp, panels are facing West\n",
      "Tracker theta has been calculated to 4.722, no rounding performed.\n",
      "Considering offset from axis of rotation of torque tube. Height without shift: 2.179\n",
      "Module clearance height has been calculated to 2.379, for this tracker theta.\n",
      "Created simple_panel.oct\n",
      "Linescan in process: Offset_Front\n",
      "Linescan in process: Offset_Back\n",
      "Saved: results\\irr_Offset.csv\n",
      "Annual bifacial ratio average:  0.553\n"
     ]
    }
   ],
   "source": [
    "testfolder = r'C:\\Users\\sayala\\Documents\\RadianceScenes\\Octtest'\n",
    "\n",
    "demo = RadianceObj('simple_panel',path = testfolder)  # Create a RadianceObj 'object'\n",
    "demo.setGround(0.62) # input albedo number or material name like 'concrete'.  To see options, run this without any input.\n",
    "try:\n",
    "    epwfile = demo.getEPW(37.5,-77.6) # pull TMY data for any global lat/lon\n",
    "except:\n",
    "    pass\n",
    "\n",
    "metdata = demo.readEPW(epwfile) # read in the EPW weather data from above\n",
    "#metdata = demo.readTMY() # select a TMY file using graphical picker\n",
    "# Now we either choose a single time point, or use cumulativesky for the entire year. \n",
    "demo.gendaylit(metdata,4025)  # Noon, June 17th\n",
    "\n",
    "\n",
    "timeindex = 4020 # Noon, June 17th. \n",
    "simulationname = 'NEW_tracker'+str(timeindex)\n",
    "\n",
    "# MakeModule Parameters\n",
    "module_type='my_little_pony_panel'\n",
    "module_length = 1.996  # 2-up portrait Longi with 15cm additional gap\n",
    "module_width = 0.991\n",
    "orientation='portrait' \n",
    "tilt = 10\n",
    "\n",
    "# TorqueTube Parameters\n",
    "torqueTube = True\n",
    "numpanels = 2\n",
    "gap = 0.15\n",
    "tubetype = 'Hex'\n",
    "tubeZgap = 0.05\n",
    "diameter = 0.15\n",
    "torqueTubeMaterial = 'Metal_Grey'       # IT's NOT GRAY, IT's GREY\n",
    "axisofrotationTorqueTube = False\n",
    "\n",
    "# Tracking Angle Calculation Parameters\n",
    "hub_height = 2.35   \n",
    "axis_azimuth = 180.0\n",
    "roundTrackerAngleBool = False \n",
    "angledelta = 5\n",
    "limit_angle = 60\n",
    "backtrack = True\n",
    "# axisofrotationTorqueTube=False, diameter=0.1, tubeZgap=0.1\n",
    "# axisofrotationTorqueTube=axisofrotationTorqueTube, diameter=diameter, tubeZgap=tubeZgap\n",
    "\n",
    "# SceneDict Parameters\n",
    "gcr = 0.33   # ground cover ratio,  = module_he\n",
    "nMods = 1\n",
    "nRows=1\n",
    "sensorsy=200\n",
    "psx = 0.05\n",
    "\n",
    "#We have a 2-up configuration in portrait. This section helps sort what is the COLLECTOR WIDTH to use.\n",
    "if orientation == 'portrait':\n",
    "                slope=module_length\n",
    "elif orientation == 'landscape':  \n",
    "                slope=module_width\n",
    "collectorwidth = slope*numpanels+gap*(numpanels-1) # If it's 1UP, the gap value will not matter. This is a safety.\n",
    "\n",
    "\n",
    "demo.makeModule(name=module_type,x=module_width,y=module_length,bifi=1,orientation='portrait', \n",
    "       torquetube=torqueTube, diameter = diameter, tubetype = tubetype, material = torqueTubeMaterial, tubeZgap=tubeZgap, numpanels=numpanels, psx=psx, axisofrotationTorqueTube=axisofrotationTorqueTube)\n",
    "\n",
    "\n",
    "tracker_theta, tracker_height, azimuth_ang = demo._getTrackingGeometryTimeIndex(metdata, timeindex=timeindex, angledelta = angledelta, \n",
    "        roundTrackerAngleBool = roundTrackerAngleBool, axis_azimuth = axis_azimuth, \n",
    "        limit_angle = limit_angle, backtrack = backtrack, gcr = gcr, hubheight = hub_height, module_height = collectorwidth, axisofrotationTorqueTube=axisofrotationTorqueTube, diameter=diameter, tubeZgap=tubeZgap)\n",
    "\n",
    "\n",
    "sceneDict = {'tilt':tracker_theta,'pitch': np.round(collectorwidth / gcr,3),'height':tracker_height,'orientation':orientation,'azimuth':azimuth_ang, 'module_type':module_type}  \n",
    "\n",
    "scene = demo.makeScene(moduletype=module_type,sceneDict=sceneDict, nMods = nMods, nRows = nRows, sensorsy=sensorsy, psx=psx, axisofrotationTorqueTube=axisofrotationTorqueTube, diameter=diameter, tubeZgap=tubeZgap) #makeScene creates a .rad file with 20 modules per row, 7 rows.\n",
    "octfile = demo.makeOct(demo.getfilelist())  # makeOct combines all of the ground, sky and object files into a .oct file.\n",
    "analysis = AnalysisObj(octfile, demo.name)  # return an analysis object including the scan dimensions for back irradiance\n",
    "analysis.analysis(octfile, \"Regular\", scene.frontscan, scene.backscan)  # compare the back vs front irradiance  \n",
    "print('Annual bifacial ratio average:  %0.3f' %( sum(analysis.Wm2Back) / sum(analysis.Wm2Front) ) )\n",
    "\n",
    "# PPART 2\n",
    "axisofrotationTorqueTube = True\n",
    "module_type='my_little_pony_panel_OFFSET'\n",
    "\n",
    "demo.makeModule(name=module_type,x=module_width,y=module_length,bifi=1,orientation='portrait', \n",
    "       torquetube=torqueTube, diameter = diameter, tubetype = tubetype, material = torqueTubeMaterial, tubeZgap=tubeZgap, numpanels=numpanels, psx=psx, axisofrotationTorqueTube=axisofrotationTorqueTube)\n",
    "\n",
    "tracker_theta, tracker_height, azimuth_ang = demo._getTrackingGeometryTimeIndex(metdata, timeindex=timeindex, angledelta = angledelta, \n",
    "        roundTrackerAngleBool = roundTrackerAngleBool, axis_azimuth = axis_azimuth, \n",
    "        limit_angle = limit_angle, backtrack = backtrack, gcr = gcr, hubheight = hub_height, module_height = collectorwidth, axisofrotationTorqueTube=axisofrotationTorqueTube, diameter=diameter, tubeZgap=tubeZgap)\n",
    "\n",
    "#We have a 2-up configuration in portrait. This section helps sort what is the COLLECTOR WIDTH to use.\n",
    "if orientation == 'portrait':\n",
    "                slope=module_length\n",
    "elif orientation == 'landscape':  \n",
    "                slope=module_width\n",
    "collectorwidth = slope*numpanels+gap*(numpanels-1) # If it's 1UP, the gap value will not matter. This is a safety.\n",
    "\n",
    "sceneDict = {'tilt':tracker_theta,'pitch': np.round(collectorwidth / gcr,3),'height':tracker_height,'orientation':orientation,'azimuth':azimuth_ang, 'module_type':module_type}  \n",
    "\n",
    "scene = demo.makeScene(moduletype=module_type,sceneDict=sceneDict, nMods = nMods, nRows = nRows,  sensorsy=sensorsy, psx=psx, axisofrotationTorqueTube=axisofrotationTorqueTube, diameter=diameter, tubeZgap=tubeZgap) #makeScene creates a .rad file with 20 modules per row, 7 rows.\n",
    "octfile = demo.makeOct(demo.getfilelist())  # makeOct combines all of the ground, sky and object files into a .oct file.\n",
    "analysis = AnalysisObj(octfile, demo.name)  # return an analysis object including the scan dimensions for back irradiance\n",
    "analysis.analysis(octfile, \"Offset\", scene.frontscan, scene.backscan)  # compare the back vs front irradiance  \n",
    "print('Annual bifacial ratio average:  %0.3f' %( sum(analysis.Wm2Back) / sum(analysis.Wm2Front) ) )\n"
   ]
  },
  {
   "cell_type": "code",
   "execution_count": 5,
   "metadata": {},
   "outputs": [
    {
     "name": "stdout",
     "output_type": "stream",
     "text": [
      "Created simple_panel.oct\n"
     ]
    }
   ],
   "source": [
    "octfile = demo.makeOct(demo.getfilelist())  # makeOct combines all of the ground, sky and object files into a .oct file.\n"
   ]
  },
  {
   "cell_type": "code",
   "execution_count": null,
   "metadata": {},
   "outputs": [],
   "source": []
  }
 ],
 "metadata": {
  "kernelspec": {
   "display_name": "Python 2",
   "language": "python",
   "name": "python2"
  },
  "language_info": {
   "codemirror_mode": {
    "name": "ipython",
    "version": 2
   },
   "file_extension": ".py",
   "mimetype": "text/x-python",
   "name": "python",
   "nbconvert_exporter": "python",
   "pygments_lexer": "ipython2",
   "version": "2.7.15"
  }
 },
 "nbformat": 4,
 "nbformat_minor": 2
}
