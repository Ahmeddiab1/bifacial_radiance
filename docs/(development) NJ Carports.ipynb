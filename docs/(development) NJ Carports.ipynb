{
 "cells": [
  {
   "cell_type": "code",
   "execution_count": 2,
   "metadata": {},
   "outputs": [],
   "source": [
    "try:\n",
    "    from bifacial_radiance import *\n",
    "except ImportError:\n",
    "    raise RuntimeError('bifacial_radiance is required. download distribution')\n",
    "    # Simple example system using Radiance.\n",
    "    \n",
    "import numpy as np"
   ]
  },
  {
   "cell_type": "code",
   "execution_count": 3,
   "metadata": {},
   "outputs": [
    {
     "name": "stdout",
     "output_type": "stream",
     "text": [
      "path = C:\\Users\\sayala\\Documents\\RadianceScenes\\Demo3\n",
      "Getting weather file: USA_NJ_McGuire.AFB.724096_TMY3.epw  ... OK!\n",
      "('\\nModule Name:', 'module_NJ')\n",
      "Module file did not exist before, creating new module file\n",
      "Module module_NJ successfully created\n",
      "Created HotelCarport.oct\n"
     ]
    }
   ],
   "source": [
    "testfolder = r'C:\\Users\\sayala\\Documents\\RadianceScenes\\Demo3'\n",
    "\n",
    "timestamp = 4020 # Noon, June 17th. \n",
    "simulationname = 'HotelCarport'\n",
    "\n",
    "# MakeModule Parameters\n",
    "moduletype='module_NJ'\n",
    "numpanels = 7\n",
    "x = 0.95  \n",
    "y = 1.9 \n",
    "xgap = 0.15 # 10 centimeters.\n",
    "ygap = 0.10 # you can give ygap now\n",
    "zgap = 0\n",
    "sensorsy = 12*numpanels  # this will give 70 sensors per module.\n",
    "\n",
    "# TorqueTube Parameters\n",
    "axisofrotationTorqueTube=False\n",
    "torqueTube = False\n",
    "cellLevelModule = False\n",
    "\n",
    "# SceneDict Parameters\n",
    "gcr = 0.33   # We are only doing 1 row so this doesn't matter\n",
    "albedo = 0.28  #'concrete'     # ground albedo\n",
    "clearance_height = 4.3 # m  \n",
    "nMods = 15\n",
    "nRows = 1  # only 1 row\n",
    "\n",
    "azimuth_ang=180 # Facing south\n",
    "tilt =20 # tilt. \n",
    "\n",
    "# Now let's run the example\n",
    "\n",
    "demo = RadianceObj(simulationname,path = testfolder)  # Create a RadianceObj 'object'\n",
    "demo.setGround(albedo) # input albedo number or material name like 'concrete'.  To see options, run this without any input.\n",
    "epwfile = demo.getEPW(40.0583,-74.4057) # NJ lat/lon 40.0583° N, 74.4057\n",
    "metdata = demo.readEPW(epwfile) # read in the EPW weather data from above\n",
    "demo.gendaylit(metdata,4020)  # Use this to simulate only one hour at a time. \n",
    "# This allows you to \"view\" the scene on RVU (see instructions below)\n",
    "# timestam 4020 : Noon, June 17th.\n",
    "#demo.genCumSky(demo.epwfile) # Use this for simulate the whole year\n",
    "\n",
    "\n",
    "# Making module with all the variables\n",
    "moduleDict=demo.makeModule(name=moduletype,x=x,y=y, numpanels = numpanels, xgap=xgap, ygap=ygap)\n",
    "# create a scene with all the variables\n",
    "sceneDict = {'tilt':tilt,'pitch': round(gcr/moduleDict['sceney'],3),'height':clearance_height,'azimuth':azimuth_ang, 'module_type':moduletype, 'nMods': nMods, 'nRows': nRows}  \n",
    "scene = demo.makeScene(moduletype=moduletype, sceneDict=sceneDict) #makeScene creates a .rad file with 20 modules per row, 7 rows.\n",
    "octfile = demo.makeOct(demo.getfilelist())  # makeOct combines all of the ground, sky and object fil|es into a .oct file.\n"
   ]
  },
  {
   "cell_type": "code",
   "execution_count": 12,
   "metadata": {},
   "outputs": [
    {
     "name": "stdout",
     "output_type": "stream",
     "text": [
      "('\\nCustom Object Name', 'objects\\\\Post1.rad')\n",
      "('\\nCustom Object Name', 'objects\\\\Post2.rad')\n",
      "('\\nCustom Object Name', 'objects\\\\Post3.rad')\n",
      "('\\nCustom Object Name', 'objects\\\\Post4.rad')\n",
      "Created HotelCarport.oct\n"
     ]
    }
   ],
   "source": [
    "import numpy as np\n",
    "\n",
    "xright= x*8\n",
    "xleft=  -xrigt\n",
    "\n",
    "#centerhubheight = (1.9*3+1.9/2)*np.sin(tilt*np.pi/180)\n",
    "z6th =  (y*6)*np.sin(tilt*np.pi/180)+clearance_height\n",
    "y6th=  -(y*numpanels/2)*np.cos(tilt*np.pi/180) + (y*6)*np.cos(tilt*np.pi/180)\n",
    "z2nd = (y*np.sin(tilt*np.pi/180))+clearance_height\n",
    "y2nd = -(y*numpanels/2)*np.cos(tilt*np.pi/180) + (y)*np.cos(tilt*np.pi/180)\n",
    "             \n",
    "name='Post1'\n",
    "text='! genbox black cuteBox 0.5 0.5 {} | xform -t {} {} 0'.format(z2nd, xleft, y2nd)\n",
    "customObject = demo.makeCustomObject(name,text)\n",
    "demo.appendtoScene(scene.radfiles, customObject, '!xform -rz 0')\n",
    "\n",
    "name='Post2'\n",
    "text='! genbox black cuteBox 0.5 0.5 {} | xform -t {} {} 0'.format(z2nd, xright, y2nd)\n",
    "customObject = demo.makeCustomObject(name,text)\n",
    "demo.appendtoScene(scene.radfiles, customObject, '!xform -rz 0')\n",
    "\n",
    "name='Post3'\n",
    "text='! genbox black cuteBox 0.5 0.5 {} | xform -t {} {} 0'.format(z6th, xright, y6th)\n",
    "customObject = demo.makeCustomObject(name,text)\n",
    "demo.appendtoScene(scene.radfiles, customObject, '!xform -rz 0')\n",
    "\n",
    "name='Post4'\n",
    "text='! genbox black cuteBox 0.5 0.5 {} | xform -t {} {} 0'.format(z6th, xleft, y6th)\n",
    "customObject = demo.makeCustomObject(name,text)\n",
    "demo.appendtoScene(scene.radfiles, customObject, '!xform -rz 0')\n",
    "\n",
    "        \n",
    "'''\n",
    "name='Mycube2'\n",
    "text='! genbox black cuteBox 0.1 0.1 5.5 | xform -t 3 -1.491 0'\n",
    "customObject = demo.makeCustomObject(name,text)\n",
    "demo.appendtoScene(scene.radfiles, customObject, '!xform -rz 0')\n",
    "'''\n",
    "octfile = demo.makeOct(demo.getfilelist())  # makeOct combines all of the ground, sky and object files into a .oct file.\n"
   ]
  },
  {
   "cell_type": "code",
   "execution_count": 15,
   "metadata": {},
   "outputs": [
    {
     "name": "stdout",
     "output_type": "stream",
     "text": [
      "path = C:\\Users\\sayala\\Documents\\RadianceScenes\\Demo3\n",
      "Getting weather file: USA_NJ_McGuire.AFB.724096_TMY3.epw  ... OK!\n",
      "('\\nModule Name:', 'module_NJ')\n",
      "REWRITING pre-existing module file. \n",
      "Module was shifted by 0.078 in X to avoid sensors on air\n",
      "This is a Cell-Level detailed module with Packaging Factor of 0.81 %\n",
      "Module module_NJ successfully created\n",
      "Created ParkingCarport.oct\n"
     ]
    }
   ],
   "source": [
    "testfolder = r'C:\\Users\\sayala\\Documents\\RadianceScenes\\Demo3'\n",
    "\n",
    "timestamp = 4020 # Noon, June 17th. \n",
    "simulationname = 'ParkingCarport'\n",
    "\n",
    "# MakeModule Parameters\n",
    "moduletype='module_NJ'\n",
    "numpanels = 8\n",
    "x = 0.95  \n",
    "y = 1.9 \n",
    "xgap = 0.15 # 10 centimeters.\n",
    "ygap = 0.10 # you can give ygap now\n",
    "zgap = 0\n",
    "sensorsy = 12*numpanels  # this will give 70 sensors per module.\n",
    "\n",
    "# TorqueTube Parameters\n",
    "axisofrotationTorqueTube=False\n",
    "torqueTube = False\n",
    "cellLevelModule = False\n",
    "\n",
    "# SceneDict Parameters\n",
    "gcr = 0.33   # We are only doing 1 row so this doesn't matter\n",
    "albedo = 0.28  #'concrete'     # ground albedo\n",
    "clearance_height = 4.3 # m  \n",
    "nMods = 45\n",
    "nRows = 1  # only 1 row\n",
    "\n",
    "azimuth_ang=90 # Facing south\n",
    "tilt =20 # tilt. \n",
    "\n",
    "# Now let's run the example\n",
    "\n",
    "demo = RadianceObj(simulationname,path = testfolder)  # Create a RadianceObj 'object'\n",
    "demo.setGround(albedo) # input albedo number or material name like 'concrete'.  To see options, run this without any input.\n",
    "epwfile = demo.getEPW(40.0583,-74.4057) # NJ lat/lon 40.0583° N, 74.4057\n",
    "metdata = demo.readEPW(epwfile) # read in the EPW weather data from above\n",
    "demo.gendaylit(metdata,4020)  # Use this to simulate only one hour at a time. \n",
    "# This allows you to \"view\" the scene on RVU (see instructions below)\n",
    "# timestam 4020 : Noon, June 17th.\n",
    "#demo.genCumSky(demo.epwfile) # Use this for simulate the whole year\n",
    "\n",
    "\n",
    "# Making module with all the variables\n",
    "moduleDict=demo.makeModule(name=moduletype,x=x,y=y, numpanels = numpanels, xgap=xgap, ygap=ygap, cellLevelModule=True)\n",
    "# create a scene with all the variables\n",
    "sceneDict = {'tilt':tilt,'pitch': round(gcr/moduleDict['sceney'],3),'height':clearance_height,'azimuth':azimuth_ang, 'module_type':moduletype, 'nMods': nMods, 'nRows': nRows}  \n",
    "scene = demo.makeScene(moduletype=moduletype, sceneDict=sceneDict) #makeScene creates a .rad file with 20 modules per row, 7 rows.\n",
    "octfile = demo.makeOct(demo.getfilelist())  # makeOct combines all of the ground, sky and object fil|es into a .oct file.\n"
   ]
  },
  {
   "cell_type": "code",
   "execution_count": 16,
   "metadata": {},
   "outputs": [
    {
     "name": "stdout",
     "output_type": "stream",
     "text": [
      "('\\nCustom Object Name', 'objects\\\\Post3.rad')\n",
      "('\\nCustom Object Name', 'objects\\\\Post4.rad')\n",
      "Created ParkingCarport.oct\n"
     ]
    }
   ],
   "source": [
    "import numpy as np\n",
    "\n",
    "xright= x*nMods/2\n",
    "xleft=  -xrigt\n",
    "\n",
    "#centerhubheight = (1.9*3+1.9/2)*np.sin(tilt*np.pi/180)\n",
    "z6th =  (y*6)*np.sin(tilt*np.pi/180)+clearance_height\n",
    "y6th=  -(y*numpanels/2)*np.cos(tilt*np.pi/180) + (y*6)*np.cos(tilt*np.pi/180)\n",
    "             \n",
    "name='Post3'\n",
    "text='! genbox black cuteBox 0.5 0.5 {} | xform -t {} {} 0'.format(z6th, y6th, xright)\n",
    "customObject = demo.makeCustomObject(name,text)\n",
    "demo.appendtoScene(scene.radfiles, customObject, '!xform -rz 0')\n",
    "\n",
    "name='Post4'\n",
    "text='! genbox black cuteBox 0.5 0.5 {} | xform -t {} {} 0'.format(z6th, y6th, xleft)\n",
    "customObject = demo.makeCustomObject(name,text)\n",
    "demo.appendtoScene(scene.radfiles, customObject, '!xform -rz 0')\n",
    "\n",
    "        \n",
    "'''\n",
    "name='Mycube2'\n",
    "text='! genbox black cuteBox 0.1 0.1 5.5 | xform -t 3 -1.491 0'\n",
    "customObject = demo.makeCustomObject(name,text)\n",
    "demo.appendtoScene(scene.radfiles, customObject, '!xform -rz 0')\n",
    "'''\n",
    "octfile = demo.makeOct(demo.getfilelist())  # makeOct combines all of the ground, sky and object files into a .oct file.\n"
   ]
  },
  {
   "cell_type": "code",
   "execution_count": null,
   "metadata": {},
   "outputs": [],
   "source": [
    "analysis = AnalysisObj(octfile, demo.name)  # return an analysis object including the scan dimensions for back irradiance\n",
    "modWanted = 1\n",
    "rowWanted = 1\n",
    "frontscan, backscan = analysis.moduleAnalysis(clearanceheight=sceneDict['height'], azimuth=sceneDict['azimuth'], \n",
    "                                              tilt=sceneDict['tilt'], \n",
    "                                              pitch=sceneDict['pitch'], nMods=sceneDict['nMods'], nRows= sceneDict['nRows'], \n",
    "                                              sceney=moduleDict['sceney'], scenex=moduleDict['scenex'], offset=moduleDict['moduleoffset'],\n",
    "                                              modWanted=modWanted, rowWanted=rowWanted, sensorsy=sensorsy)\n",
    "\n",
    "analysis.analysis(octfile, simulationname+\"Mod1\", frontscan, backscan)  # compare the back vs front irradiance  \n",
    "print('Annual bifacial ratio average:  %0.3f' %( sum(analysis.Wm2Back) / sum(analysis.Wm2Front) ) )\n",
    "\n",
    "\n",
    "modWanted = 2\n",
    "rowWanted = 1\n",
    "frontscan, backscan = analysis.moduleAnalysis(clearanceheight=sceneDict['height'], azimuth=sceneDict['azimuth'], \n",
    "                                              tilt=sceneDict['tilt'], \n",
    "                                              pitch=sceneDict['pitch'], nMods=sceneDict['nMods'], nRows= sceneDict['nRows'], \n",
    "                                              sceney=moduleDict['sceney'], scenex=moduleDict['scenex'], offset=moduleDict['moduleoffset'],\n",
    "                                              modWanted=modWanted, rowWanted=rowWanted, sensorsy=sensorsy)\n",
    "\n",
    "analysis.analysis(octfile, simulationname+\"Mod2\", frontscan, backscan)  # compare the back vs front irradiance  \n",
    "print('Annual bifacial ratio average:  %0.3f' %( sum(analysis.Wm2Back) / sum(analysis.Wm2Front) ) )\n",
    "\n",
    "\n",
    "modWanted = 3\n",
    "rowWanted = 1\n",
    "frontscan, backscan = analysis.moduleAnalysis(clearanceheight=sceneDict['height'], azimuth=sceneDict['azimuth'], \n",
    "                                              tilt=sceneDict['tilt'], \n",
    "                                              pitch=sceneDict['pitch'], nMods=sceneDict['nMods'], nRows= sceneDict['nRows'], \n",
    "                                              sceney=moduleDict['sceney'], scenex=moduleDict['scenex'], offset=moduleDict['moduleoffset'],\n",
    "                                              modWanted=modWanted, rowWanted=rowWanted, sensorsy=sensorsy)\n",
    "\n",
    "        \n",
    "analysis.analysis(octfile, simulationname+\"Mod3\", frontscan, backscan)  # compare the back vs front irradiance  \n",
    "print('Annual bifacial ratio average:  %0.3f' %( sum(analysis.Wm2Back) / sum(analysis.Wm2Front) ) )"
   ]
  },
  {
   "cell_type": "code",
   "execution_count": null,
   "metadata": {},
   "outputs": [],
   "source": [
    "# HACK Frontscan and Backscan\n",
    "frontscan['xstart']=-1.2\n",
    "\n",
    "        \n",
    "analysis.analysis(octfile, simulationname+\"Mod3_point2\", frontscan, backscan)  # compare the back vs front irradiance  \n",
    "print('Annual bifacial ratio average:  %0.3f' %( sum(analysis.Wm2Back) / sum(analysis.Wm2Front) ) )\n"
   ]
  },
  {
   "cell_type": "markdown",
   "metadata": {},
   "source": []
  },
  {
   "cell_type": "code",
   "execution_count": null,
   "metadata": {},
   "outputs": [],
   "source": []
  },
  {
   "cell_type": "code",
   "execution_count": null,
   "metadata": {},
   "outputs": [],
   "source": []
  },
  {
   "cell_type": "markdown",
   "metadata": {},
   "source": []
  },
  {
   "cell_type": "code",
   "execution_count": null,
   "metadata": {},
   "outputs": [],
   "source": []
  },
  {
   "cell_type": "code",
   "execution_count": 2,
   "metadata": {},
   "outputs": [
    {
     "name": "stdout",
     "output_type": "stream",
     "text": [
      "path = C:\\Users\\sayala\\Documents\\RadianceScenes\\Demo3\n",
      "Getting weather file: USA_VA_Richmond.Intl.AP.724010_TMY.epw  ... OK!\n",
      "('\\nModule Name:', 'modified_makeModule')\n",
      "REWRITING pre-existing module file. \n",
      "Module modified_makeModule successfully created\n",
      "Created OptionB.oct\n"
     ]
    }
   ],
   "source": []
  },
  {
   "cell_type": "code",
   "execution_count": null,
   "metadata": {},
   "outputs": [],
   "source": []
  }
 ],
 "metadata": {
  "kernelspec": {
   "display_name": "Python 2",
   "language": "python",
   "name": "python2"
  },
  "language_info": {
   "codemirror_mode": {
    "name": "ipython",
    "version": 2
   },
   "file_extension": ".py",
   "mimetype": "text/x-python",
   "name": "python",
   "nbconvert_exporter": "python",
   "pygments_lexer": "ipython2",
   "version": "2.7.15"
  }
 },
 "nbformat": 4,
 "nbformat_minor": 2
}
