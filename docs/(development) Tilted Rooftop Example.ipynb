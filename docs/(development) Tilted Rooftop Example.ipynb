{
 "cells": [
  {
   "cell_type": "markdown",
   "metadata": {},
   "source": [
    "## Multiple SceneObjects\n",
    "\n",
    "Test fixed and tracking sceneObjects multiple on teh same scene.\n",
    "\n",
    "Try appendtoScene too.\n",
    "\n",
    "\n"
   ]
  },
  {
   "cell_type": "code",
   "execution_count": 2,
   "metadata": {},
   "outputs": [],
   "source": [
    "try:\n",
    "    from bifacial_radiance import RadianceObj, AnalysisObj\n",
    "except ImportError:\n",
    "    raise RuntimeError('bifacial_radiance is required. download distribution')\n",
    "    # Simple example system using Radiance.\n",
    "import numpy as np\n",
    "\n",
    "testfolder = r'C:\\Users\\sayala\\Documents\\RadianceScenes\\Demo2'\n",
    "\n"
   ]
  },
  {
   "cell_type": "code",
   "execution_count": 7,
   "metadata": {},
   "outputs": [
    {
     "name": "stdout",
     "output_type": "stream",
     "text": [
      "path = C:\\Users\\sayala\\Documents\\RadianceScenes\\Demo2\n",
      "Getting weather file: SWE_Stockholm.Arlanda.024600_IWEC.epw\n",
      " ... OK!\n"
     ]
    },
    {
     "name": "stderr",
     "output_type": "stream",
     "text": [
      "c:\\users\\sayala\\documents\\github\\bifacial_radiance\\bifacial_radiance\\main.py:2410: pvlibDeprecationWarning: The get_sun_rise_set_transit function was deprecated in pvlib 0.6.1 and will be removed in 0.7. Use sun_rise_set_transit_spa instead.\n",
      "  sunup= pvlib.irradiance.solarposition.get_sun_rise_set_transit(datetimetz, lat, lon) #only for pvlib <0.6.1\n"
     ]
    },
    {
     "name": "stdout",
     "output_type": "stream",
     "text": [
      "\n",
      "Module Name: Prism_Solar_Bi60_landscape\n",
      "REWRITING pre-existing module file. \n",
      "Module Prism Solar Bi60 landscape successfully created\n"
     ]
    }
   ],
   "source": [
    "# GEnerating Standard FIXED SETUP\n",
    "demo = RadianceObj(\"MultipleObj\", path = testfolder)  # Create a RadianceObj 'object'\n",
    "demo.setGround(0.62)\n",
    "epwfile = demo.getEPW(lat = 59.85, lon = 17.63)    # Coordinates for UPPSALA University\n",
    "metdata = demo.readEPW(epwfile) \n",
    "fullYear = True \n",
    "#demo.genCumSky(demo.epwfile) # entire year.\n",
    "demo.gendaylit(metdata,4020)  # Noon, June 17th , for visualization only!\n",
    "module_type = 'Prism Solar Bi60 landscape' \n",
    "demo.makeModule(name=module_type,y=1,x=1.7,bifi = 0.90, xgap = 0.2) # this module is placed in \"landscape\"\n",
    "\n",
    "# Notice that the tilt, although it's 0 relative to the roof, it is 15 relative to the ground, so we must\n",
    "# use that 15 degree as tilt.\n",
    "# We need to add some clearance so that it ends up at the right distance from the \"roof\" surface we are going to append\n",
    "# afterwards. For a roof of 50.1 x 6.8m at 15 degrees, the center clearance is going to be (6.8/2) *sin( radians(15 )) = ~-.87m\n",
    "# We are going to be placing the origin of this row a little bit below the actual center of the roof, so you'll have to \n",
    "# calculate exactly what clearance to use yourself. I'm ust eyeballing the value now:\n",
    "\n",
    "\n",
    "# So... I just realized we have an issue with the pitch when there is only 1 row being simulated. Setting the pitch to almost 0.\n",
    "sceneDict = {'tilt':15,'pitch':0.01,'clearance_height':2,'azimuth':131, 'nMods': 8, 'nRows': 1, 'originx': 0, 'originy': 0, 'appendRadfile':True} \n",
    "sceneObj1 = demo.makeScene(module_type,sceneDict)  \n"
   ]
  },
  {
   "cell_type": "code",
   "execution_count": null,
   "metadata": {},
   "outputs": [],
   "source": [
    "# Adding the modules on portrait. This are going to be coincident with the origin (0,0)\n",
    "module_type2 = 'Prism Solar Bi60 portrait' \n",
    "demo.makeModule(name=module_type2,y=1.7,x=1,bifi = 0.90) # this module is placed in \"landscape\"\n",
    "sceneDict2 = {'tilt':45,'pitch':0.01,'clearance_height':3,'azimuth':131, 'nMods': 16, 'nRows': 1, 'originx': 0, 'originy': 0, 'appendRadfile':True} \n",
    "sceneObj2 = demo.makeScene(module_type2,sceneDict2)  \n",
    "octfile = demo.makeOct(demo.getfilelist()) \n"
   ]
  },
  {
   "cell_type": "code",
   "execution_count": 8,
   "metadata": {},
   "outputs": [
    {
     "name": "stdout",
     "output_type": "stream",
     "text": [
      "Created MultipleObj.oct\n"
     ]
    }
   ],
   "source": [
    "octfile = demo.makeOct(demo.getfilelist()) \n",
    "\n"
   ]
  },
  {
   "cell_type": "markdown",
   "metadata": {},
   "source": [
    "### At this point you should be able to go into a command window (cmd.exe) and check the geometry (first navigate to the foldre where the OCT file is saved). You should see the two rows of panels only.\n",
    "\n",
    "Example:\n",
    "\n",
    "### rvu -vf views\\front.vp -e .01 MultipleObj.oct\n",
    "\n",
    "# Adding the \"Roof\" "
   ]
  },
  {
   "cell_type": "code",
   "execution_count": null,
   "metadata": {},
   "outputs": [],
   "source": [
    "# This geometry is created very simply and rotated CW from S = 180. \n",
    "name='inclinedRoofGround'\n",
    "size_roof_x = 20 # 50.1 # m\n",
    "size_roof_y=6.8 # m\n",
    "roof_azimuth = 49 #  this is the 41 deg... yeah I need to fix this at some point. But do the math.\n",
    "roof_tilt = 15\n",
    "text='! genbox black inclinedRoof {} {} 0 | xform -t {} 0 0 -rx {} -t 0 {} 0 -rz {}'.format(size_roof_x, size_roof_y, -size_roof_x/2.0, roof_tilt, -size_roof_y/2.0, roof_azimuth)\n",
    "customObject = demo.makeCustomObject(name,text)\n",
    "demo.appendtoScene(radfile=sceneObj2.radfiles, customObject=customObject, text = '!xform -rz 0')\n",
    "\n",
    "octfile = demo.makeOct(demo.getfilelist()) "
   ]
  },
  {
   "cell_type": "markdown",
   "metadata": {},
   "source": [
    "## Adding a marker at 0,0 just for sanity check ~ I would recommend not running this cell when you are getting actual results"
   ]
  },
  {
   "cell_type": "code",
   "execution_count": 9,
   "metadata": {},
   "outputs": [
    {
     "name": "stdout",
     "output_type": "stream",
     "text": [
      "\n",
      "Custom Object Name objects\\Marker.rad\n",
      "\n",
      "!xform -rz 0 objects\\Marker.rad\n",
      "Created MultipleObj.oct\n"
     ]
    }
   ],
   "source": [
    "# Add marker for 0,0 -- This is for S\n",
    "name='Marker'\n",
    "text='! genbox black marker 0.05 0.05 5 | xform -t 0 0 0'\n",
    "customObject = demo.makeCustomObject(name,text)\n",
    "demo.appendtoScene(radfile=sceneObj2.radfiles, customObject=customObject, text = '!xform -rz 0')\n",
    "\n",
    "octfile = demo.makeOct(demo.getfilelist()) "
   ]
  },
  {
   "cell_type": "markdown",
   "metadata": {},
   "source": [
    "### If you check your geometry again here, you sohuld see the  2 rows of modules, one in landscape one in portrait, the roof, and the marker (if you added it) \n",
    "\n",
    "rvu -vf views\\front.vp -e .01 MultipleObj.oct\n",
    "\n",
    "# ANALYSIS\n",
    "\n",
    "You can query modules either on SceneObj1 (the landscape ones) or SceneObj2 (the portrait ones) :) \n",
    "\n",
    "Also, so far we are doing only 1 hour (gendaylit), but you can use genCumSky. \n",
    "*(When you use gencumsky the viewer rvu gets saturated and you can't see, so I recommend running gendaylit first, testing, and then doing the same procedure but with gencumsky for yearly results)"
   ]
  },
  {
   "cell_type": "code",
   "execution_count": null,
   "metadata": {},
   "outputs": [],
   "source": [
    "# sceneObj saves the information of the scene, so analysis cna calculate the sensor locatoin.\n",
    "sceneObj2.sceneDict"
   ]
  },
  {
   "cell_type": "code",
   "execution_count": null,
   "metadata": {},
   "outputs": [],
   "source": [
    "# Just printing values :)\n",
    "sceneObj1.sceneDict"
   ]
  },
  {
   "cell_type": "code",
   "execution_count": null,
   "metadata": {},
   "outputs": [],
   "source": [
    "# You can continue with the 1 hour analysis as befor,e or you can do a yearly one instead:\n",
    "#demo.genCumSky(demo.epwfile) # entire year.\n",
    "\n",
    "analysis = AnalysisObj(octfile, demo.basename)  \n",
    "frontscan, backscan = analysis.moduleAnalysis(sceneObj1)\n",
    "frontdict, backdict = analysis.analysis(octfile, \"FirstObj\", frontscan, backscan)  # compare the back vs front irradiance  \n",
    "print('Annual bifacial ratio: %0.3f ' %( np.mean(analysis.Wm2Back) / np.mean(analysis.Wm2Front)) )"
   ]
  },
  {
   "cell_type": "code",
   "execution_count": null,
   "metadata": {},
   "outputs": [],
   "source": [
    "# Sanity check for first obect. Since we didn't pass any desired module, it should grab the center module of the center row (rounding down)\n",
    "# somethibgn like row 0, module 4 indexed at 0, a3.0.a0.PVmodule.....\"\"\n",
    "print (frontdict['x'])\n",
    "print (\"\")\n",
    "print (frontdict['y'])\n",
    "print (\"\")\n",
    "print (frontdict['mattype'])"
   ]
  },
  {
   "cell_type": "code",
   "execution_count": null,
   "metadata": {},
   "outputs": [],
   "source": [
    "#You can also analyse the other SceneObject. And remember you cna specify which module/row you want (although you only have 1 row atm)\n",
    "\n",
    "analysis = AnalysisObj(octfile, demo.basename)  \n",
    "frontscan, backscan = analysis.moduleAnalysis(sceneObj2, rowWanted = 1, modWanted = 10)\n",
    "frontdict2, backdict2 = analysis.analysis(octfile, \"SecondObj\", frontscan, backscan)  # compare the back vs front irradiance  \n",
    "print('Annual bifacial ratio: %0.3f ' %( np.mean(analysis.Wm2Back) / np.mean(analysis.Wm2Front)) )"
   ]
  },
  {
   "cell_type": "code",
   "execution_count": null,
   "metadata": {},
   "outputs": [],
   "source": [
    "# Sanity check for second object. \n",
    "\n",
    "print (frontdict2['x'])\n",
    "print (\"\")\n",
    "print (frontdict2['y'])\n",
    "print (\"\")\n",
    "print (frontdict2['mattype'])\n"
   ]
  },
  {
   "cell_type": "code",
   "execution_count": null,
   "metadata": {},
   "outputs": [],
   "source": [
    "# turns out this is wrong... there is a bug in the code since I last ran this type of simulation.\n",
    "# I'll try to fish it out but it might take me a couple days."
   ]
  }
 ],
 "metadata": {
  "anaconda-cloud": {},
  "kernelspec": {
   "display_name": "Python 3",
   "language": "python",
   "name": "python3"
  },
  "language_info": {
   "codemirror_mode": {
    "name": "ipython",
    "version": 3
   },
   "file_extension": ".py",
   "mimetype": "text/x-python",
   "name": "python",
   "nbconvert_exporter": "python",
   "pygments_lexer": "ipython3",
   "version": "3.7.3"
  }
 },
 "nbformat": 4,
 "nbformat_minor": 1
}
