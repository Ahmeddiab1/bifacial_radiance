{
 "cells": [
  {
   "cell_type": "markdown",
   "metadata": {},
   "source": [
    "This Notebook will model the rear irradiance for 200 sensors across a 1 panel system, with torquetube, "
   ]
  },
  {
   "cell_type": "code",
   "execution_count": 2,
   "metadata": {},
   "outputs": [],
   "source": [
    "try:\n",
    "    from bifacial_radiance import *\n",
    "except ImportError:\n",
    "    raise RuntimeError('bifacial_radiance is required. download distribution')\n",
    "    # Simple example system using Radiance.\n",
    "    \n",
    "import numpy as np"
   ]
  },
  {
   "cell_type": "code",
   "execution_count": 9,
   "metadata": {
    "scrolled": true
   },
   "outputs": [
    {
     "name": "stdout",
     "output_type": "stream",
     "text": [
      "path = C:\\Users\\sayala\\Documents\\RadianceScenes\\Demo4\n",
      "Getting weather file: USA_VA_Richmond.Intl.AP.724010_TMY.epw  ... OK!\n",
      "('\\nModule Name:', 'New_Panel')\n",
      "REWRITING pre-existing module file. \n",
      "Module New_Panel successfully created\n",
      "Adjusting solarposition for sunrise hour, 1422 timeindex\n",
      "Original datetime 1972-03-01 07:00:00-05:00\n",
      "Localized and adjusted datetime 1972-03-01 06:50:00-05:00 \n",
      "\n",
      "Created New_Panel.oct\n",
      "Linescan in process: Shading_1422_Front\n",
      "Linescan in process: Shading_1422_Back\n",
      "Saved: results\\irr_Shading_1422.csv\n",
      "Annual bifacial ratio average:  0.237 \n",
      "\n"
     ]
    },
    {
     "ename": "TypeError",
     "evalue": "'float' object is not iterable",
     "output_type": "error",
     "traceback": [
      "\u001b[1;31m\u001b[0m",
      "\u001b[1;31mTypeError\u001b[0mTraceback (most recent call last)",
      "\u001b[1;32m<ipython-input-9-409839973acc>\u001b[0m in \u001b[0;36m<module>\u001b[1;34m()\u001b[0m\n\u001b[0;32m    124\u001b[0m             \u001b[0moutputvalues\u001b[0m\u001b[1;33m.\u001b[0m\u001b[0mappend\u001b[0m\u001b[1;33m(\u001b[0m\u001b[0msum\u001b[0m\u001b[1;33m(\u001b[0m\u001b[0manalysis\u001b[0m\u001b[1;33m.\u001b[0m\u001b[0mWm2Front\u001b[0m\u001b[1;33m)\u001b[0m\u001b[1;33m)\u001b[0m\u001b[1;33m\u001b[0m\u001b[0m\n\u001b[0;32m    125\u001b[0m             \u001b[0moutputvalues\u001b[0m\u001b[1;33m.\u001b[0m\u001b[0mappend\u001b[0m\u001b[1;33m(\u001b[0m \u001b[0msum\u001b[0m\u001b[1;33m(\u001b[0m\u001b[0manalysis\u001b[0m\u001b[1;33m.\u001b[0m\u001b[0mWm2Back\u001b[0m\u001b[1;33m)\u001b[0m \u001b[1;33m/\u001b[0m \u001b[0msum\u001b[0m\u001b[1;33m(\u001b[0m\u001b[0manalysis\u001b[0m\u001b[1;33m.\u001b[0m\u001b[0mWm2Front\u001b[0m\u001b[1;33m)\u001b[0m \u001b[1;33m)\u001b[0m\u001b[1;33m\u001b[0m\u001b[0m\n\u001b[1;32m--> 126\u001b[1;33m             \u001b[0mflattened\u001b[0m \u001b[1;33m=\u001b[0m \u001b[1;33m[\u001b[0m\u001b[0mval\u001b[0m \u001b[1;32mfor\u001b[0m \u001b[0msublist\u001b[0m \u001b[1;32min\u001b[0m \u001b[0mfrontDict\u001b[0m\u001b[1;33m[\u001b[0m\u001b[1;34m'x'\u001b[0m\u001b[1;33m]\u001b[0m \u001b[1;32mfor\u001b[0m \u001b[0mval\u001b[0m \u001b[1;32min\u001b[0m \u001b[0msublist\u001b[0m\u001b[1;33m]\u001b[0m\u001b[1;33m\u001b[0m\u001b[0m\n\u001b[0m\u001b[0;32m    127\u001b[0m             \u001b[0moutputvalues\u001b[0m\u001b[1;33m.\u001b[0m\u001b[0mappend\u001b[0m\u001b[1;33m(\u001b[0m\u001b[0mflatenned\u001b[0m\u001b[1;33m)\u001b[0m\u001b[1;33m\u001b[0m\u001b[0m\n\u001b[0;32m    128\u001b[0m \u001b[1;31m#            outputvalues.append(frontDict['x'])\u001b[0m\u001b[1;33m\u001b[0m\u001b[1;33m\u001b[0m\u001b[0m\n",
      "\u001b[1;31mTypeError\u001b[0m: 'float' object is not iterable"
     ]
    }
   ],
   "source": [
    "# The below routine creates a HEXAGONAL torque tube, for a 2-UP configuration of a specific module size. Parameters for the module, the torque tube, and the scene are below.\n",
    "# This is being run with gendaylit, for one specific timestamp\n",
    "# MODIFY THE TEST FOLDER TO YOUR LIKING. I utmostly dislike the interactive directory.\n",
    "testfolder = r'C:\\Users\\sayala\\Documents\\RadianceScenes\\Demo4'\n",
    "writefiletitle = r'C:\\Users\\sayala\\Documents\\RadianceScenes\\Demo4\\results\\Fixed_Shading_Compiled_19Mar.csv'\n",
    "timeindex = 4020 # Noon, June 17th. \n",
    "simulationname = 'New_Panel'\n",
    "\n",
    "import csv\n",
    "\n",
    "# MakeModule Parameters\n",
    "moduletype=simulationname\n",
    "numpanels = 1\n",
    "x = 1  \n",
    "y = 2\n",
    "xgap = 0.01\n",
    "ygap = 0.0\n",
    "zgap = 0.02\n",
    "sensorsy = 200 \n",
    "\n",
    "# TorqueTube Parameters\n",
    "axisofrotationTorqueTube=False\n",
    "torqueTube = True\n",
    "tubetype = 'square'\n",
    "diameter = 0.20\n",
    "torqueTubeMaterial = 'black'       # IT's NOT GRAY, IT's GREY\n",
    "cellLevelModule = False\n",
    "numcellsx=0\n",
    "numcellsy=0\n",
    "\n",
    "# SceneDict Parameters\n",
    "pitch = 4\n",
    "albedo = 0.62 \n",
    "clearance_height = 0.5  \n",
    "nMods = 20\n",
    "nRows = 7\n",
    "azimuth_ang=180\n",
    "tilt =30\n",
    "\n",
    "# Now let's run the example\n",
    "\n",
    "demo = RadianceObj(simulationname,path = testfolder)  # Create a RadianceObj 'object'\n",
    "demo.setGround(albedo) # input albedo number or material name like 'concrete'.  To see options, run this without any input.\n",
    "epwfile = demo.getEPW(37.5,-77.6) # pull TMY data for any global lat/lon\n",
    "metdata = demo.readEPW(epwfile) # read in the EPW weather data from above\n",
    "\n",
    "# Making module with all the variables\n",
    "moduleDict=demo.makeModule(name=moduletype,x=x,y=y,bifi=1, \n",
    "           torquetube=torqueTube, diameter = diameter, tubetype = tubetype, \n",
    "                           material = torqueTubeMaterial, zgap = zgap, numpanels = numpanels, ygap = ygap, \n",
    "                           rewriteModulefile = True, xgap=xgap, \n",
    "                           axisofrotationTorqueTube=axisofrotationTorqueTube, cellLevelModule=cellLevelModule, \n",
    "                           numcellsx=numcellsx, numcellsy = numcellsy)\n",
    "# create a scene with all the variables\n",
    "sceneDict = {'tilt':tilt,'pitch': pitch,'height':clearance_height,'azimuth':azimuth_ang, 'module_type':simulationname, 'nMods': nMods, 'nRows': nRows}  \n",
    "scene = demo.makeScene(moduletype=moduletype, sceneDict=sceneDict) #makeScene creates a .rad file with 20 modules per row, 7 rows.\n",
    "\n",
    "with open (writefiletitle,'w') as csvfile:\n",
    "\n",
    "    sw = csv.writer(csvfile, delimiter=',', quotechar='|', quoting=csv.QUOTE_MINIMAL, lineterminator='\\n')\n",
    "\n",
    "    outputheader=['Latitude(deg)','Longitude(deg)', 'Tilt(deg)']\n",
    "    outputheadervars=[metdata.latitude, metdata.longitude, sceneDict['tilt']]\n",
    "\n",
    "    if axisofrotationTorqueTube==False:\n",
    "        outputheader+=['axisofrotationTorqueTube']\n",
    "        outputheadervars.append(axisofrotationTorqueTube)\n",
    "\n",
    "    sw.writerow(outputheader)\n",
    "    sw.writerow(outputheadervars)\n",
    "    \n",
    "    outputheadertitles=['Timestamp','Back Avg', 'FrontAvg', 'Ratio']\n",
    "    \n",
    "    xheader=[]\n",
    "    yheader=[]\n",
    "    zheader=[]\n",
    "    zrearheader=[]\n",
    "    mattypeheader=[]\n",
    "    rearmattypeheader=[]\n",
    "    frontIrradheader=[]\n",
    "    backIrradheader=[]\n",
    "    import string\n",
    "    \n",
    "    for i in range (0, sensorsy):\n",
    "        xheader.append('x_'+str(i))\n",
    "        yheader.append('y_'+str(i))\n",
    "        zheader.append('z_'+str(i))\n",
    "        zrearheader.append('rearZ_'+str(i))\n",
    "        mattypeheader.append('mattype_'+str(i))\n",
    "        rearmattypeheader.append('rearMat_'+str(i))\n",
    "        frontIrradheader.append('Wm2Front_'+str(i))\n",
    "        backIrradheader.append('Wm2Back_'+str(i))\n",
    "    \n",
    "    outputheadertitles.append(xheader)\n",
    "    outputheadertitles.append(yheader)\n",
    "    outputheadertitles.append(zheader)\n",
    "    outputheadertitles.append(zrearheader)\n",
    "    outputheadertitles.append(mattypeheader)\n",
    "    outputheadertitles.append(rearmattypeheader)\n",
    "    outputheadertitles.append(frontIrradheader)\n",
    "    outputheadertitles.append(backIrradheader)\n",
    "\n",
    "\n",
    "    sw.writerow(outputheadertitles)\n",
    "\n",
    "    for timeindex in range (1422,1423):  #2160\n",
    "        demo.gendaylit(metdata,timeindex)  # Noon, June 17th\n",
    "        octfile = demo.makeOct(demo.getfilelist())  # makeOct combines all of the ground, sky and object files into a .oct file.\n",
    "        analysis = AnalysisObj(octfile, demo.name)  # return an analysis object including the scan dimensions for back irradiance\n",
    "\n",
    "        hubheight= (sceneDict['height']+moduleDict['sceney']/2.0*np.sin(sceneDict['tilt']*np.pi/180))\n",
    "\n",
    "        frontscan, backscan = analysis.moduleAnalysis(hubheight, sceneDict['azimuth'], sceneDict['tilt'], \n",
    "                                                  sceneDict['pitch'], sceneDict['nMods'], sceneDict['nRows'], \n",
    "                                                  moduleDict['sceney'], moduleDict['scenex'], moduleDict['moduleoffset'],\n",
    "                                                  sensorsy=sensorsy)\n",
    "\n",
    "        frontDict, backDict=analysis.analysis(octfile, \"Shading_\"+str(timeindex), frontscan, backscan)  # compare the back vs front irradiance\n",
    "        if frontDict is not None:\n",
    "            print('Annual bifacial ratio average:  %0.3f \\n' %( sum(analysis.Wm2Back) / sum(analysis.Wm2Front) ) )\n",
    "            outputvalues=[]\n",
    "            outputvalues.append(timeindex)\n",
    "            outputvalues.append(sum(analysis.Wm2Back))\n",
    "            outputvalues.append(sum(analysis.Wm2Front))\n",
    "            outputvalues.append( sum(analysis.Wm2Back) / sum(analysis.Wm2Front) )\n",
    "            flattened = [val for sublist in frontDict['x'] for val in sublist]\n",
    "            outputvalues.append(flatenned)\n",
    "#            outputvalues.append(frontDict['x'])\n",
    "            outputvalues.append(frontDict['y'])\n",
    "            outputvalues.append(frontDict['z'])\n",
    "            outputvalues.append(backDict['z'])\n",
    "            outputvalues.append(frontDict['mattype'])\n",
    "            outputvalues.append(backDict['mattype'])\n",
    "            outputvalues.append(frontDict['Wm2'])\n",
    "            outputvalues.append(backDict['Wm2'])\n",
    "            outputclean = str(outputvalues).translate(string.maketrans('', ''), '[]\\'')\n",
    "            sw.writerow(outputvalues)\n",
    "\n",
    "print(\"Finished\")\n"
   ]
  },
  {
   "cell_type": "code",
   "execution_count": 4,
   "metadata": {},
   "outputs": [
    {
     "data": {
      "text/plain": [
       "'1423, 7364.837372270822, 47034.0213, 0.15658532204370162, 1.050022e-16, 1.039469e-16, 1.028916e-16, 1.018363e-16, 1.00781e-16, 9.972573e-17, 9.867043e-17, 9.761513e-17, 9.655984e-17, 9.550454e-17, 9.444924e-17, 9.339394e-17, 9.233864e-17, 9.128334e-17, 9.022804e-17, 8.917274e-17, 8.811745e-17, 8.706215e-17, 8.600685e-17, 8.495155e-17, 8.389625e-17, 8.284095e-17, 8.178565e-17, 8.073035e-17, 7.967506e-17, 7.861976e-17, 7.756446e-17, 7.650916e-17, 7.545386e-17, 7.439856e-17, 7.334326e-17, 7.228796e-17, 7.123267e-17, 7.017737e-17, 6.912207e-17, 6.806677e-17, 6.701147e-17, 6.595617e-17, 6.490087e-17, 6.384557e-17, 6.279028e-17, 6.173498e-17, 6.067968e-17, 5.962438e-17, 5.856908e-17, 5.751378e-17, 5.645848e-17, 5.540318e-17, 5.434789e-17, 5.329259e-17, 5.223729e-17, 5.118199e-17, 5.012669e-17, 4.907139e-17, 4.801609e-17, 4.696079e-17, 4.59055e-17, 4.48502e-17, 4.37949e-17, 4.27396e-17, 4.16843e-17, 4.0629e-17, 3.95737e-17, 3.85184e-17, 3.746311e-17, 3.640781e-17, 3.535251e-17, 3.429721e-17, 3.324191e-17, 3.218661e-17, 3.113131e-17, 3.007601e-17, 2.902072e-17, 2.796542e-17, 2.691012e-17, 2.585482e-17, 2.479952e-17, 2.374422e-17, 2.268892e-17, 2.163362e-17, 2.057833e-17, 1.952303e-17, 1.846773e-17, 1.741243e-17, 1.635713e-17, 1.530183e-17, 1.424653e-17, 1.319123e-17, 1.213594e-17, 1.108064e-17, 1.002534e-17, 8.970039e-18, 7.914741e-18, 6.859442e-18, 5.804143e-18, 4.748844e-18, 3.693546e-18, 2.638247e-18, 1.582948e-18, 5.276494e-19, -5.276494e-19, -1.582948e-18, -2.638247e-18, -3.693546e-18, -4.748844e-18, -5.804143e-18, -6.859442e-18, -7.914741e-18, -8.970039e-18, -1.002534e-17, -1.108064e-17, -1.213594e-17, -1.319123e-17, -1.424653e-17, -1.530183e-17, -1.635713e-17, -1.741243e-17, -1.846773e-17, -1.952303e-17, -2.057833e-17, -2.163362e-17, -2.268892e-17, -2.374422e-17, -2.479952e-17, -2.585482e-17, -2.691012e-17, -2.796542e-17, -2.902072e-17, -3.007601e-17, -3.113131e-17, -3.218661e-17, -3.324191e-17, -3.429721e-17, -3.535251e-17, -3.640781e-17, -3.746311e-17, -3.85184e-17, -3.95737e-17, -4.0629e-17, -4.16843e-17, -4.27396e-17, -4.37949e-17, -4.48502e-17, -4.59055e-17, -4.696079e-17, -4.801609e-17, -4.907139e-17, -5.012669e-17, -5.118199e-17, -5.223729e-17, -5.329259e-17, -5.434789e-17, -5.540318e-17, -5.645848e-17, -5.751378e-17, -5.856908e-17, -5.962438e-17, -6.067968e-17, -6.173498e-17, -6.279028e-17, -6.384557e-17, -6.490087e-17, -6.595617e-17, -6.701147e-17, -6.806677e-17, -6.912207e-17, -7.017737e-17, -7.123267e-17, -7.228796e-17, -7.334326e-17, -7.439856e-17, -7.545386e-17, -7.650916e-17, -7.756446e-17, -7.861976e-17, -7.967506e-17, -8.073035e-17, -8.178565e-17, -8.284095e-17, -8.389625e-17, -8.495155e-17, -8.600685e-17, -8.706215e-17, -8.811745e-17, -8.917274e-17, -9.022804e-17, -9.128334e-17, -9.233864e-17, -9.339394e-17, -9.444924e-17, -9.550454e-17, -9.655984e-17, -9.761513e-17, -9.867043e-17, -9.972573e-17, -1.00781e-16, -1.018363e-16, -1.028916e-16, -1.039469e-16, -1.050022e-16, -0.8574082, -0.8487911, -0.8401739, -0.8315567, -0.8229396, -0.8143224, -0.8057052, -0.7970881, -0.7884709, -0.7798537, -0.7712366, -0.7626194, -0.7540022, -0.745385, -0.7367679, -0.7281507, -0.7195335, -0.7109164, -0.7022992, -0.693682, -0.6850649, -0.6764477, -0.6678305, -0.6592134, -0.6505962, -0.641979, -0.6333619, -0.6247447, -0.6161275, -0.6075104, -0.5988932, -0.590276, -0.5816589, -0.5730417, -0.5644245, -0.5558073, -0.5471902, -0.538573, -0.5299558, -0.5213387, -0.5127215, -0.5041043, -0.4954872, -0.48687, -0.4782528, -0.4696357, -0.4610185, -0.4524013, -0.4437842, -0.435167, -0.4265498, -0.4179327, -0.4093155, -0.4006983, -0.3920812, -0.383464, -0.3748468, -0.3662296, -0.3576125, -0.3489953, -0.3403781, -0.331761, -0.3231438, -0.3145266, -0.3059095, -0.2972923, -0.2886751, -0.280058, -0.2714408, -0.2628236, -0.2542065, -0.2455893, -0.2369721, -0.228355, -0.2197378, -0.2111206, -0.2025035, -0.1938863, -0.1852691, -0.1766519, -0.1680348, -0.1594176, -0.1508004, -0.1421833, -0.1335661, -0.1249489, -0.1163318, -0.1077146, -0.09909743, -0.09048027, -0.0818631, -0.07324593, -0.06462876, -0.05601159, -0.04739443, -0.03877726, -0.03016009, -0.02154292, -0.01292575, -0.004308584, 0.004308584, 0.01292575, 0.02154292, 0.03016009, 0.03877726, 0.04739443, 0.05601159, 0.06462876, 0.07324593, 0.0818631, 0.09048027, 0.09909743, 0.1077146, 0.1163318, 0.1249489, 0.1335661, 0.1421833, 0.1508004, 0.1594176, 0.1680348, 0.1766519, 0.1852691, 0.1938863, 0.2025035, 0.2111206, 0.2197378, 0.228355, 0.2369721, 0.2455893, 0.2542065, 0.2628236, 0.2714408, 0.280058, 0.2886751, 0.2972923, 0.3059095, 0.3145266, 0.3231438, 0.331761, 0.3403781, 0.3489953, 0.3576125, 0.3662296, 0.3748468, 0.383464, 0.3920812, 0.4006983, 0.4093155, 0.4179327, 0.4265498, 0.435167, 0.4437842, 0.4524013, 0.4610185, 0.4696357, 0.4782528, 0.48687, 0.4954872, 0.5041043, 0.5127215, 0.5213387, 0.5299558, 0.538573, 0.5471902, 0.5558073, 0.5644245, 0.5730417, 0.5816589, 0.590276, 0.5988932, 0.6075104, 0.6161275, 0.6247447, 0.6333619, 0.641979, 0.6505962, 0.6592134, 0.6678305, 0.6764477, 0.6850649, 0.693682, 0.7022992, 0.7109164, 0.7195335, 0.7281507, 0.7367679, 0.745385, 0.7540022, 0.7626194, 0.7712366, 0.7798537, 0.7884709, 0.7970881, 0.8057052, 0.8143224, 0.8229396, 0.8315567, 0.8401739, 0.8487911, 0.8574082, 0.5649751, 0.5699502, 0.5749254, 0.5799005, 0.5848756, 0.5898507, 0.5948259, 0.599801, 0.6047761, 0.6097512, 0.6147264, 0.6197015, 0.6246766, 0.6296517, 0.6346269, 0.639602, 0.6445771, 0.6495522, 0.6545274, 0.6595025, 0.6644776, 0.6694527, 0.6744279, 0.679403, 0.6843781, 0.6893532, 0.6943284, 0.6993035, 0.7042786, 0.7092537, 0.7142289, 0.719204, 0.7241791, 0.7291542, 0.7341294, 0.7391045, 0.7440796, 0.7490547, 0.7540299, 0.759005, 0.7639801, 0.7689552, 0.7739303, 0.7789055, 0.7838806, 0.7888557, 0.7938308, 0.798806, 0.8037811, 0.8087562, 0.8137313, 0.8187065, 0.8236816, 0.8286567, 0.8336318, 0.838607, 0.8435821, 0.8485572, 0.8535323, 0.8585075, 0.8634826, 0.8684577, 0.8734328, 0.878408, 0.8833831, 0.8883582, 0.8933333, 0.8983085, 0.9032836, 0.9082587, 0.9132338, 0.918209, 0.9231841, 0.9281592, 0.9331343, 0.9381095, 0.9430846, 0.9480597, 0.9530348, 0.95801, 0.9629851, 0.9679602, 0.9729353, 0.9779104, 0.9828856, 0.9878607, 0.9928358, 0.9978109, 1.002786, 1.007761, 1.012736, 1.017711, 1.022687, 1.027662, 1.032637, 1.037612, 1.042587, 1.047562, 1.052537, 1.057512, 1.062488, 1.067463, 1.072438, 1.077413, 1.082388, 1.087363, 1.092338, 1.097313, 1.102289, 1.107264, 1.112239, 1.117214, 1.122189, 1.127164, 1.132139, 1.137114, 1.14209, 1.147065, 1.15204, 1.157015, 1.16199, 1.166965, 1.17194, 1.176915, 1.181891, 1.186866, 1.191841, 1.196816, 1.201791, 1.206766, 1.211741, 1.216716, 1.221692, 1.226667, 1.231642, 1.236617, 1.241592, 1.246567, 1.251542, 1.256517, 1.261493, 1.266468, 1.271443, 1.276418, 1.281393, 1.286368, 1.291343, 1.296318, 1.301294, 1.306269, 1.311244, 1.316219, 1.321194, 1.326169, 1.331144, 1.336119, 1.341095, 1.34607, 1.351045, 1.35602, 1.360995, 1.36597, 1.370945, 1.37592, 1.380896, 1.385871, 1.390846, 1.395821, 1.400796, 1.405771, 1.410746, 1.415721, 1.420697, 1.425672, 1.430647, 1.435622, 1.440597, 1.445572, 1.450547, 1.455522, 1.460498, 1.465473, 1.470448, 1.475423, 1.480398, 1.485373, 1.490348, 1.495323, 1.500299, 1.505274, 1.510249, 1.515224, 1.520199, 1.525174, 1.530149, 1.535124, 1.5401, 1.545075, 1.55005, 1.555025, 0.4749751, 0.4799502, 0.4849254, 0.4899005, 0.4948756, 0.4998507, 0.5048259, 0.509801, 0.5147761, 0.5197512, 0.5247264, 0.5297015, 0.5346766, 0.5396517, 0.5446269, 0.549602, 0.5545771, 0.5595522, 0.5645274, 0.5695025, 0.5744776, 0.5794527, 0.5844279, 0.589403, 0.5943781, 0.5993532, 0.6043284, 0.6093035, 0.6142786, 0.6192537, 0.6242289, 0.629204, 0.6341791, 0.6391542, 0.6441294, 0.6491045, 0.6540796, 0.6590547, 0.6640299, 0.669005, 0.6739801, 0.6789552, 0.6839303, 0.6889055, 0.6938806, 0.6988557, 0.7038308, 0.708806, 0.7137811, 0.7187562, 0.7237313, 0.7287065, 0.7336816, 0.7386567, 0.7436318, 0.748607, 0.7535821, 0.7585572, 0.7635323, 0.7685075, 0.7734826, 0.7784577, 0.7834328, 0.788408, 0.7933831, 0.7983582, 0.8033333, 0.8083085, 0.8132836, 0.8182587, 0.8232338, 0.828209, 0.8331841, 0.8381592, 0.8431343, 0.8481095, 0.8530846, 0.8580597, 0.8630348, 0.86801, 0.8729851, 0.8779602, 0.8829353, 0.8879104, 0.8928856, 0.8978607, 0.9028358, 0.9078109, 0.9127861, 0.9177612, 0.9227363, 0.9277114, 0.9326866, 0.9376617, 0.9426368, 0.9476119, 0.9525871, 0.9575622, 0.9625373, 0.9675124, 0.9724876, 0.9774627, 0.9824378, 0.9874129, 0.9923881, 0.9973632, 1.002338, 1.007313, 1.012289, 1.017264, 1.022239, 1.027214, 1.032189, 1.037164, 1.042139, 1.047114, 1.05209, 1.057065, 1.06204, 1.067015, 1.07199, 1.076965, 1.08194, 1.086915, 1.091891, 1.096866, 1.101841, 1.106816, 1.111791, 1.116766, 1.121741, 1.126716, 1.131692, 1.136667, 1.141642, 1.146617, 1.151592, 1.156567, 1.161542, 1.166517, 1.171493, 1.176468, 1.181443, 1.186418, 1.191393, 1.196368, 1.201343, 1.206318, 1.211294, 1.216269, 1.221244, 1.226219, 1.231194, 1.236169, 1.241144, 1.246119, 1.251095, 1.25607, 1.261045, 1.26602, 1.270995, 1.27597, 1.280945, 1.28592, 1.290896, 1.295871, 1.300846, 1.305821, 1.310796, 1.315771, 1.320746, 1.325721, 1.330697, 1.335672, 1.340647, 1.345622, 1.350597, 1.355572, 1.360547, 1.365522, 1.370498, 1.375473, 1.380448, 1.385423, 1.390398, 1.395373, 1.400348, 1.405323, 1.410299, 1.415274, 1.420249, 1.425224, 1.430199, 1.435174, 1.440149, 1.445124, 1.4501, 1.455075, 1.46005, 1.465025, ua9.3.a0.PVmodule.6457, ua9.3.a0.PVmodule.6457, ua9.3.a0.PVmodule.6457, ua9.3.a0.PVmodule.6457, ua9.3.a0.PVmodule.6457, ua9.3.a0.PVmodule.6457, ua9.3.a0.PVmodule.6457, ua9.3.a0.PVmodule.6457, ua9.3.a0.PVmodule.6457, ua9.3.a0.PVmodule.6457, ua9.3.a0.PVmodule.6457, ua9.3.a0.PVmodule.6457, ua9.3.a0.PVmodule.6457, ua9.3.a0.PVmodule.6457, ua9.3.a0.PVmodule.6457, ua9.3.a0.PVmodule.6457, ua9.3.a0.PVmodule.6457, ua9.3.a0.PVmodule.6457, ua9.3.a0.PVmodule.6457, ua9.3.a0.PVmodule.6457, ua9.3.a0.PVmodule.6457, ua9.3.a0.PVmodule.6457, ua9.3.a0.PVmodule.6457, ua9.3.a0.PVmodule.6457, ua9.3.a0.PVmodule.6457, ua9.3.a0.PVmodule.6457, ua9.3.a0.PVmodule.6457, ua9.3.a0.PVmodule.6457, ua9.3.a0.PVmodule.6457, ua9.3.a0.PVmodule.6457, ua9.3.a0.PVmodule.6457, ua9.3.a0.PVmodule.6457, ua9.3.a0.PVmodule.6457, ua9.3.a0.PVmodule.6457, ua9.3.a0.PVmodule.6457, ua9.3.a0.PVmodule.6457, ua9.3.a0.PVmodule.6457, ua9.3.a0.PVmodule.6457, ua9.3.a0.PVmodule.6457, ua9.3.a0.PVmodule.6457, ua9.3.a0.PVmodule.6457, ua9.3.a0.PVmodule.6457, ua9.3.a0.PVmodule.6457, ua9.3.a0.PVmodule.6457, ua9.3.a0.PVmodule.6457, ua9.3.a0.PVmodule.6457, ua9.3.a0.PVmodule.6457, ua9.3.a0.PVmodule.6457, ua9.3.a0.PVmodule.6457, ua9.3.a0.PVmodule.6457, ua9.3.a0.PVmodule.6457, ua9.3.a0.PVmodule.6457, ua9.3.a0.PVmodule.6457, ua9.3.a0.PVmodule.6457, ua9.3.a0.PVmodule.6457, ua9.3.a0.PVmodule.6457, ua9.3.a0.PVmodule.6457, ua9.3.a0.PVmodule.6457, ua9.3.a0.PVmodule.6457, ua9.3.a0.PVmodule.6457, ua9.3.a0.PVmodule.6457, ua9.3.a0.PVmodule.6457, ua9.3.a0.PVmodule.6457, ua9.3.a0.PVmodule.6457, ua9.3.a0.PVmodule.6457, ua9.3.a0.PVmodule.6457, ua9.3.a0.PVmodule.6457, ua9.3.a0.PVmodule.6457, ua9.3.a0.PVmodule.6457, ua9.3.a0.PVmodule.6457, ua9.3.a0.PVmodule.6457, ua9.3.a0.PVmodule.6457, ua9.3.a0.PVmodule.6457, ua9.3.a0.PVmodule.6457, ua9.3.a0.PVmodule.6457, ua9.3.a0.PVmodule.6457, ua9.3.a0.PVmodule.6457, ua9.3.a0.PVmodule.6457, ua9.3.a0.PVmodule.6457, ua9.3.a0.PVmodule.6457, ua9.3.a0.PVmodule.6457, ua9.3.a0.PVmodule.6457, ua9.3.a0.PVmodule.6457, ua9.3.a0.PVmodule.6457, ua9.3.a0.PVmodule.6457, ua9.3.a0.PVmodule.6457, ua9.3.a0.PVmodule.6457, ua9.3.a0.PVmodule.6457, ua9.3.a0.PVmodule.6457, ua9.3.a0.PVmodule.6457, ua9.3.a0.PVmodule.6457, ua9.3.a0.PVmodule.6457, ua9.3.a0.PVmodule.6457, ua9.3.a0.PVmodule.6457, ua9.3.a0.PVmodule.6457, ua9.3.a0.PVmodule.6457, ua9.3.a0.PVmodule.6457, ua9.3.a0.PVmodule.6457, ua9.3.a0.PVmodule.6457, ua9.3.a0.PVmodule.6457, ua9.3.a0.PVmodule.6457, ua9.3.a0.PVmodule.6457, ua9.3.a0.PVmodule.6457, ua9.3.a0.PVmodule.6457, ua9.3.a0.PVmodule.6457, ua9.3.a0.PVmodule.6457, ua9.3.a0.PVmodule.6457, ua9.3.a0.PVmodule.6457, ua9.3.a0.PVmodule.6457, ua9.3.a0.PVmodule.6457, ua9.3.a0.PVmodule.6457, ua9.3.a0.PVmodule.6457, ua9.3.a0.PVmodule.6457, ua9.3.a0.PVmodule.6457, ua9.3.a0.PVmodule.6457, ua9.3.a0.PVmodule.6457, ua9.3.a0.PVmodule.6457, ua9.3.a0.PVmodule.6457, ua9.3.a0.PVmodule.6457, ua9.3.a0.PVmodule.6457, ua9.3.a0.PVmodule.6457, ua9.3.a0.PVmodule.6457, ua9.3.a0.PVmodule.6457, ua9.3.a0.PVmodule.6457, ua9.3.a0.PVmodule.6457, ua9.3.a0.PVmodule.6457, ua9.3.a0.PVmodule.6457, ua9.3.a0.PVmodule.6457, ua9.3.a0.PVmodule.6457, ua9.3.a0.PVmodule.6457, ua9.3.a0.PVmodule.6457, ua9.3.a0.PVmodule.6457, ua9.3.a0.PVmodule.6457, ua9.3.a0.PVmodule.6457, ua9.3.a0.PVmodule.6457, ua9.3.a0.PVmodule.6457, ua9.3.a0.PVmodule.6457, ua9.3.a0.PVmodule.6457, ua9.3.a0.PVmodule.6457, ua9.3.a0.PVmodule.6457, ua9.3.a0.PVmodule.6457, ua9.3.a0.PVmodule.6457, ua9.3.a0.PVmodule.6457, ua9.3.a0.PVmodule.6457, ua9.3.a0.PVmodule.6457, ua9.3.a0.PVmodule.6457, ua9.3.a0.PVmodule.6457, ua9.3.a0.PVmodule.6457, ua9.3.a0.PVmodule.6457, ua9.3.a0.PVmodule.6457, ua9.3.a0.PVmodule.6457, ua9.3.a0.PVmodule.6457, ua9.3.a0.PVmodule.6457, ua9.3.a0.PVmodule.6457, ua9.3.a0.PVmodule.6457, ua9.3.a0.PVmodule.6457, ua9.3.a0.PVmodule.6457, ua9.3.a0.PVmodule.6457, ua9.3.a0.PVmodule.6457, ua9.3.a0.PVmodule.6457, ua9.3.a0.PVmodule.6457, ua9.3.a0.PVmodule.6457, ua9.3.a0.PVmodule.6457, ua9.3.a0.PVmodule.6457, ua9.3.a0.PVmodule.6457, ua9.3.a0.PVmodule.6457, ua9.3.a0.PVmodule.6457, ua9.3.a0.PVmodule.6457, ua9.3.a0.PVmodule.6457, ua9.3.a0.PVmodule.6457, ua9.3.a0.PVmodule.6457, ua9.3.a0.PVmodule.6457, ua9.3.a0.PVmodule.6457, ua9.3.a0.PVmodule.6457, ua9.3.a0.PVmodule.6457, ua9.3.a0.PVmodule.6457, ua9.3.a0.PVmodule.6457, ua9.3.a0.PVmodule.6457, ua9.3.a0.PVmodule.6457, ua9.3.a0.PVmodule.6457, ua9.3.a0.PVmodule.6457, ua9.3.a0.PVmodule.6457, ua9.3.a0.PVmodule.6457, ua9.3.a0.PVmodule.6457, ua9.3.a0.PVmodule.6457, ua9.3.a0.PVmodule.6457, ua9.3.a0.PVmodule.6457, ua9.3.a0.PVmodule.6457, ua9.3.a0.PVmodule.6457, ua9.3.a0.PVmodule.6457, ua9.3.a0.PVmodule.6457, ua9.3.a0.PVmodule.6457, ua9.3.a0.PVmodule.6457, ua9.3.a0.PVmodule.6457, ua9.3.a0.PVmodule.6457, ua9.3.a0.PVmodule.6457, ua9.3.a0.PVmodule.6457, ua9.3.a0.PVmodule.6457, ua9.3.a0.PVmodule.6457, ua9.3.a0.PVmodule.1540, ua9.3.a0.PVmodule.2310, ua9.3.a0.PVmodule.2310, ua9.3.a0.PVmodule.2310, ua9.3.a0.PVmodule.2310, ua9.3.a0.PVmodule.2310, ua9.3.a0.PVmodule.2310, ua9.3.a0.PVmodule.2310, ua9.3.a0.PVmodule.2310, ua9.3.a0.PVmodule.2310, ua9.3.a0.PVmodule.2310, ua9.3.a0.PVmodule.2310, ua9.3.a0.PVmodule.2310, ua9.3.a0.PVmodule.2310, ua9.3.a0.PVmodule.2310, ua9.3.a0.PVmodule.2310, ua9.3.a0.PVmodule.2310, ua9.3.a0.PVmodule.2310, ua9.3.a0.PVmodule.2310, ua9.3.a0.PVmodule.2310, ua9.3.a0.PVmodule.2310, ua9.3.a0.PVmodule.2310, ua9.3.a0.PVmodule.2310, ua9.3.a0.PVmodule.2310, ua9.3.a0.PVmodule.2310, ua9.3.a0.PVmodule.2310, ua9.3.a0.PVmodule.2310, ua9.3.a0.PVmodule.2310, ua9.3.a0.PVmodule.2310, ua9.3.a0.PVmodule.2310, ua9.3.a0.PVmodule.2310, ua9.3.a0.PVmodule.2310, ua9.3.a0.PVmodule.2310, ua9.3.a0.PVmodule.2310, ua9.3.a0.PVmodule.2310, ua9.3.a0.PVmodule.2310, ua9.3.a0.PVmodule.2310, ua9.3.a0.PVmodule.2310, ua9.3.a0.PVmodule.2310, ua9.3.a0.PVmodule.2310, ua9.3.a0.PVmodule.2310, ua9.3.a0.PVmodule.2310, ua9.3.a0.PVmodule.2310, ua9.3.a0.PVmodule.2310, ua9.3.a0.PVmodule.2310, ua9.3.a0.PVmodule.2310, ua9.3.a0.PVmodule.2310, ua9.3.a0.PVmodule.2310, ua9.3.a0.PVmodule.2310, ua9.3.a0.PVmodule.2310, ua9.3.a0.PVmodule.2310, ua9.3.a0.PVmodule.2310, ua9.3.a0.PVmodule.2310, ua9.3.a0.PVmodule.2310, ua9.3.a0.PVmodule.2310, ua9.3.a0.PVmodule.2310, ua9.3.a0.PVmodule.2310, ua9.3.a0.PVmodule.2310, ua9.3.a0.PVmodule.2310, ua9.3.a0.PVmodule.2310, ua9.3.a0.PVmodule.2310, ua9.3.a0.PVmodule.2310, ua9.3.a0.PVmodule.2310, ua9.3.a0.PVmodule.2310, ua9.3.a0.PVmodule.2310, ua9.3.a0.PVmodule.2310, ua9.3.a0.PVmodule.2310, ua9.3.a0.PVmodule.2310, ua9.3.a0.PVmodule.2310, ua9.3.a0.PVmodule.2310, ua9.3.a0.PVmodule.2310, ua9.3.a0.PVmodule.2310, ua9.3.a0.PVmodule.2310, ua9.3.a0.PVmodule.2310, ua9.3.a0.PVmodule.2310, ua9.3.a0.PVmodule.2310, ua9.3.a0.PVmodule.2310, ua9.3.a0.PVmodule.2310, ua9.3.a0.PVmodule.2310, ua9.3.a0.PVmodule.2310, ua9.3.a0.PVmodule.2310, ua9.3.a0.PVmodule.2310, ua9.3.a0.PVmodule.2310, ua9.3.a0.PVmodule.2310, ua9.3.a0.PVmodule.2310, ua9.3.a0.PVmodule.2310, ua9.3.a0.PVmodule.2310, ua9.3.a0.PVmodule.2310, ua9.3.a0.PVmodule.2310, ua9.3.a0.PVmodule.2310, ua9.3.a0.PVmodule.2310, ua9.3.a0.PVmodule.2310, ua9.3.tube1.6457, ua9.3.tube1.6457, ua9.3.tube1.6457, ua9.3.tube1.6457, ua9.3.tube1.6457, ua9.3.tube1.6457, ua9.3.tube1.6457, ua9.3.tube1.6457, ua9.3.tube1.6457, ua9.3.tube1.6457, ua9.3.tube1.6457, ua9.3.tube1.6457, ua9.3.tube1.6457, ua9.3.tube1.6457, ua9.3.tube1.6457, ua9.3.tube1.6457, ua9.3.tube1.6457, ua9.3.tube1.6457, ua9.3.tube1.6457, ua9.3.tube1.6457, ua9.3.tube1.1540, ua9.3.a0.PVmodule.2310, ua9.3.a0.PVmodule.2310, ua9.3.a0.PVmodule.2310, ua9.3.a0.PVmodule.2310, ua9.3.a0.PVmodule.2310, ua9.3.a0.PVmodule.2310, ua9.3.a0.PVmodule.2310, ua9.3.a0.PVmodule.2310, ua9.3.a0.PVmodule.2310, ua9.3.a0.PVmodule.2310, ua9.3.a0.PVmodule.2310, ua9.3.a0.PVmodule.2310, ua9.3.a0.PVmodule.2310, ua9.3.a0.PVmodule.2310, ua9.3.a0.PVmodule.2310, ua9.3.a0.PVmodule.2310, ua9.3.a0.PVmodule.2310, ua9.3.a0.PVmodule.2310, ua9.3.a0.PVmodule.2310, ua9.3.a0.PVmodule.2310, ua9.3.a0.PVmodule.2310, ua9.3.a0.PVmodule.2310, ua9.3.a0.PVmodule.2310, ua9.3.a0.PVmodule.2310, ua9.3.a0.PVmodule.2310, ua9.3.a0.PVmodule.2310, ua9.3.a0.PVmodule.2310, ua9.3.a0.PVmodule.2310, ua9.3.a0.PVmodule.2310, ua9.3.a0.PVmodule.2310, ua9.3.a0.PVmodule.2310, ua9.3.a0.PVmodule.2310, ua9.3.a0.PVmodule.2310, ua9.3.a0.PVmodule.2310, ua9.3.a0.PVmodule.2310, ua9.3.a0.PVmodule.2310, ua9.3.a0.PVmodule.2310, ua9.3.a0.PVmodule.2310, ua9.3.a0.PVmodule.2310, ua9.3.a0.PVmodule.2310, ua9.3.a0.PVmodule.2310, ua9.3.a0.PVmodule.2310, ua9.3.a0.PVmodule.2310, ua9.3.a0.PVmodule.2310, ua9.3.a0.PVmodule.2310, ua9.3.a0.PVmodule.2310, ua9.3.a0.PVmodule.2310, ua9.3.a0.PVmodule.2310, ua9.3.a0.PVmodule.2310, ua9.3.a0.PVmodule.2310, ua9.3.a0.PVmodule.2310, ua9.3.a0.PVmodule.2310, ua9.3.a0.PVmodule.2310, ua9.3.a0.PVmodule.2310, ua9.3.a0.PVmodule.2310, ua9.3.a0.PVmodule.2310, ua9.3.a0.PVmodule.2310, ua9.3.a0.PVmodule.2310, ua9.3.a0.PVmodule.2310, ua9.3.a0.PVmodule.2310, ua9.3.a0.PVmodule.2310, ua9.3.a0.PVmodule.2310, ua9.3.a0.PVmodule.2310, ua9.3.a0.PVmodule.2310, ua9.3.a0.PVmodule.2310, ua9.3.a0.PVmodule.2310, ua9.3.a0.PVmodule.2310, ua9.3.a0.PVmodule.2310, ua9.3.a0.PVmodule.2310, ua9.3.a0.PVmodule.2310, ua9.3.a0.PVmodule.2310, ua9.3.a0.PVmodule.2310, ua9.3.a0.PVmodule.2310, ua9.3.a0.PVmodule.2310, ua9.3.a0.PVmodule.2310, ua9.3.a0.PVmodule.2310, ua9.3.a0.PVmodule.2310, ua9.3.a0.PVmodule.2310, ua9.3.a0.PVmodule.2310, ua9.3.a0.PVmodule.2310, ua9.3.a0.PVmodule.2310, ua9.3.a0.PVmodule.2310, ua9.3.a0.PVmodule.2310, ua9.3.a0.PVmodule.2310, ua9.3.a0.PVmodule.2310, ua9.3.a0.PVmodule.2310, ua9.3.a0.PVmodule.2310, ua9.3.a0.PVmodule.2310, 221.134, 221.3104, 221.4911, 221.6718, 221.8525, 222.0332, 222.2139, 222.39469999999997, 222.57540000000003, 222.75609999999998, 222.93680000000003, 223.11749999999998, 223.29820000000004, 223.47889999999998, 223.65960000000004, 223.84029999999998, 224.021, 224.20179999999996, 224.3824, 224.5631, 224.74390000000002, 224.92459999999997, 225.10530000000003, 225.28599999999997, 225.46670000000003, 225.64739999999998, 225.82810000000003, 226.00879999999998, 227.5222, 227.6771, 227.8369, 227.9967, 228.15649999999997, 228.31630000000004, 228.4761, 228.636, 228.7957, 228.9556, 229.1154, 229.2752, 229.43500000000003, 229.5948, 229.7546, 229.9145, 230.0743, 230.2341, 230.3939, 230.55370000000002, 230.71349999999998, 230.8733, 231.0331, 231.193, 231.3528, 231.5126, 231.6724, 231.83219999999997, 231.992, 232.1344, 232.24699999999999, 232.3642, 232.4814, 232.5986, 232.71580000000003, 232.8329, 232.9501, 233.06730000000002, 233.18449999999999, 233.3017, 233.4188, 233.53599999999997, 233.6532, 233.7704, 233.88749999999996, 234.00470000000004, 234.1219, 234.239, 234.3563, 234.4734, 234.5906, 234.7078, 234.82499999999996, 234.9421, 235.0593, 235.1765, 235.29370000000003, 235.4109, 235.528, 235.64520000000002, 235.76239999999999, 235.8796, 235.9967, 236.11389999999997, 236.2311, 236.3483, 236.4655, 236.58260000000004, 236.6998, 236.817, 236.9342, 237.05139999999997, 237.1685, 237.2857, 237.40289999999996, 237.52010000000004, 237.6372, 237.7544, 237.87160000000003, 237.9888, 238.106, 238.22310000000002, 238.34029999999998, 239.1385, 239.1915, 239.2494, 239.3072, 239.3651, 239.423, 239.48079999999996, 239.53869999999998, 239.5966, 239.6544, 239.7123, 239.77010000000004, 239.828, 239.8859, 239.9438, 240.00159999999997, 240.05949999999999, 240.1173, 240.1752, 240.2331, 240.2909, 240.3488, 240.4066, 240.46449999999996, 240.52239999999998, 240.5803, 240.6381, 240.696, 240.75380000000004, 240.8117, 240.8696, 240.9274, 240.98529999999997, 241.04319999999998, 241.101, 241.1589, 241.21670000000003, 241.2746, 242.34440000000004, 242.3804, 242.4215, 242.4627, 242.50380000000004, 242.5449, 242.5861, 242.6272, 242.66829999999996, 242.7094, 242.7505, 242.7917, 242.8328, 242.87389999999996, 242.915, 242.9561, 242.9973, 243.0384, 243.07949999999997, 243.1206, 243.1617, 243.2029, 243.244, 243.28509999999997, 243.3262, 243.3673, 243.4085, 243.4496, 243.49069999999998, 243.53190000000004, 243.573, 243.6141, 243.6552, 243.6964, 243.73750000000004, 243.7786, 243.8197, 243.8608, 243.90189999999998, 243.9431, 243.9842, 245.21169999999998, 245.2399, 245.2734, 245.307, 245.3406, 245.3742, 245.4077, 245.44130000000004, 245.47490000000002, 103.01960000000001, 46.18321, 46.05379, 45.92451, 45.79524, 45.665969999999994, 45.5367, 45.40743, 45.27815999999999, 45.14888, 45.01962, 44.89034, 44.76107, 44.6318, 44.50253, 44.373259999999995, 44.24398, 44.11471, 43.985440000000004, 43.85617, 43.7269, 43.59763, 43.83545999999999, 43.77461, 43.7142, 43.6538, 43.59339, 43.532990000000005, 43.47258, 43.41217, 43.35177000000001, 43.29136, 43.23096, 43.17055, 43.11015, 43.04974000000001, 42.98934, 42.92893, 42.86852, 41.3831, 41.32529, 41.26781, 41.21034, 41.15287, 41.0954, 41.03793, 40.98045, 40.92298, 40.86551, 40.80803, 40.75056, 40.69308, 40.63561, 40.57814, 40.52067, 40.46319, 40.40572, 40.34825, 40.29077, 40.21666, 40.00595, 39.79551, 39.58507, 39.37463, 39.16419, 38.95375, 38.74331, 38.53288, 38.32243, 38.11199, 35.73148, 35.33055, 34.9299, 34.52925, 34.12861, 33.72796, 33.32732, 32.92667, 32.52602, 29.06703, 28.697680000000002, 28.32854, 27.9594, 27.59026, 27.22112, 26.85198, 26.48284, 22.85453, 22.56586, 22.277689999999996, 21.98952, 21.70135, 21.747599999999995, 21.45943, 21.17126, 20.88309, 0.0, 0.0, 0.0, 0.0, 0.0, 0.0, 0.0, 0.0, 0.0, 0.0, 0.0, 0.0, 0.0, 0.0, 0.0, 0.0, 2.227082e-05, 28.0829, 28.42617, 28.76925, 29.11232, 29.4554, 29.79847, 30.14155, 30.484619999999996, 33.18894, 33.60198, 34.01506, 34.42813, 34.84121, 35.25429, 35.66737, 36.08044, 36.67619, 37.03378, 37.39156, 37.74933, 38.10711, 38.46488, 38.82266, 39.18043, 39.53821, 39.89598, 40.37001, 40.63921, 40.90809, 41.17698, 41.44585, 41.71474, 41.98362, 42.25251, 42.52139, 42.79027, 43.05915000000001, 43.24319, 43.39824000000001, 43.55322, 43.70821, 43.86319, 44.01818, 44.17316, 44.32815, 44.48314, 44.638119999999994, 44.79310999999999, 44.94809, 45.10308, 45.25806, 45.67195999999999, 45.77617999999999, 45.88046, 45.98474000000001, 46.08902, 46.1933, 46.29758, 46.40186, 46.506139999999995, 46.61042, 46.71471, 46.81898, 46.92327, 47.02755, 47.13183, 47.23611, 47.34038999999999, 47.44467, 47.54895, 46.78034, 46.854459999999996, 46.92892, 47.00339, 47.07784999999999, 47.15232, 47.22678, 47.30124, 47.3757, 47.450160000000004, 47.52463, 47.59909, 47.67356, 47.74802, 47.822480000000006, 47.89695, 47.97141, 48.04587'"
      ]
     },
     "execution_count": 4,
     "metadata": {},
     "output_type": "execute_result"
    }
   ],
   "source": [
    "outputclean\n"
   ]
  },
  {
   "cell_type": "code",
   "execution_count": null,
   "metadata": {},
   "outputs": [],
   "source": []
  }
 ],
 "metadata": {
  "kernelspec": {
   "display_name": "Python 2",
   "language": "python",
   "name": "python2"
  },
  "language_info": {
   "codemirror_mode": {
    "name": "ipython",
    "version": 2
   },
   "file_extension": ".py",
   "mimetype": "text/x-python",
   "name": "python",
   "nbconvert_exporter": "python",
   "pygments_lexer": "ipython2",
   "version": "2.7.15"
  }
 },
 "nbformat": 4,
 "nbformat_minor": 2
}
