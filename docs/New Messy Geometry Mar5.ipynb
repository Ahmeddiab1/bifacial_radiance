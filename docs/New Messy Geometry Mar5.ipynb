{
 "cells": [
  {
   "cell_type": "code",
   "execution_count": 1,
   "metadata": {},
   "outputs": [],
   "source": [
    "try:\n",
    "    from bifacial_radiance import *\n",
    "except ImportError:\n",
    "    raise RuntimeError('bifacial_radiance is required. download distribution')\n",
    "    # Simple example system using Radiance.\n",
    "    \n",
    "import numpy as np"
   ]
  },
  {
   "cell_type": "code",
   "execution_count": 8,
   "metadata": {},
   "outputs": [
    {
     "name": "stdout",
     "output_type": "stream",
     "text": [
      "path = C:\\Users\\sayala\\Documents\\RadianceScenes\\Demo3\n",
      "Getting weather file: USA_VA_Richmond.Intl.AP.724010_TMY.epw  ... OK!\n",
      "('\\nModule Name:', 'Regular_Array')\n",
      "REWRITING pre-existing module file. \n",
      "Module Regular_Array successfully created\n",
      "Created Regular_Array.oct\n"
     ]
    }
   ],
   "source": [
    "# The below routine creates a HEXAGONAL torque tube, for a 2-UP configuration of a specific module size. Parameters for the module, the torque tube, and the scene are below.\n",
    "# This is being run with gendaylit, for one specific timestamp\n",
    "# MODIFY THE TEST FOLDER TO YOUR LIKING. I utmostly dislike the interactive directory.\n",
    "testfolder = r'C:\\Users\\sayala\\Documents\\RadianceScenes\\Demo3'\n",
    "\n",
    "timestamp = 4020 # Noon, June 17th. \n",
    "simulationname = 'Regular_Array'\n",
    "\n",
    "# MakeModule Parameters\n",
    "moduletype=simulationname\n",
    "numpanels = 2\n",
    "x = 2  # 2-up landscape\n",
    "y = 1\n",
    "xgap = 0.5\n",
    "ygap = 0.5\n",
    "zgap = 0.1\n",
    "sensorsy = 9 \n",
    "\n",
    "\n",
    "# TorqueTube Parameters\n",
    "axisofrotationTorqueTube=True\n",
    "torqueTube = True\n",
    "tubetype = 'square'\n",
    "diameter = 0.1\n",
    "torqueTubeMaterial = 'Metal_Grey'       # IT's NOT GRAY, IT's GREY\n",
    "cellLevelModule = False\n",
    "numcellsx=10\n",
    "numcellsy=6\n",
    "\n",
    "# SceneDict Parameters\n",
    "gcr = 0.33   # ground cover ratio,  = module_height / pitch\n",
    "albedo = 0.28  #'concrete'     # ground albedo\n",
    "clearance_height = 1  \n",
    "nMods = 5\n",
    "nRows = 3\n",
    "\n",
    "azimuth_ang=210\n",
    "tilt =30\n",
    "\n",
    "# Now let's run the example\n",
    "\n",
    "demo = RadianceObj(simulationname,path = testfolder)  # Create a RadianceObj 'object'\n",
    "demo.setGround(0.62) # input albedo number or material name like 'concrete'.  To see options, run this without any input.\n",
    "epwfile = demo.getEPW(37.5,-77.6) # pull TMY data for any global lat/lon\n",
    "metdata = demo.readEPW(epwfile) # read in the EPW weather data from above\n",
    "demo.gendaylit(metdata,4020)  # Noon, June 17th\n",
    "\n",
    "# Making module with all the variables\n",
    "moduleDict=demo.makeModule(name=moduletype,x=x,y=y,bifi=1, \n",
    "           torquetube=torqueTube, diameter = diameter, tubetype = tubetype, \n",
    "                           material = torqueTubeMaterial, zgap = zgap, numpanels = numpanels, ygap = ygap, \n",
    "                           rewriteModulefile = True, xgap=xgap, \n",
    "                           axisofrotationTorqueTube=axisofrotationTorqueTube, cellLevelModule=cellLevelModule, \n",
    "                           numcellsx=numcellsx, numcellsy = numcellsy)\n",
    "# create a scene with all the variables\n",
    "sceneDict = {'tilt':tilt,'pitch': 3,'height':clearance_height,'azimuth':azimuth_ang, 'module_type':simulationname, 'nMods': nMods, 'nRows': nRows}  \n",
    "scene = demo.makeScene(moduletype=moduletype, sceneDict=sceneDict) #makeScene creates a .rad file with 20 modules per row, 7 rows.\n",
    "octfile = demo.makeOct(demo.getfilelist())  # makeOct combines all of the ground, sky and object files into a .oct file.\n"
   ]
  },
  {
   "cell_type": "code",
   "execution_count": 3,
   "metadata": {},
   "outputs": [
    {
     "name": "stdout",
     "output_type": "stream",
     "text": [
      "('\\nCustom Object Name', 'objects\\\\Mycube.rad')\n",
      "('\\nCustom Object Name', 'objects\\\\Mycube2.rad')\n",
      "Created Regular_Array.oct\n"
     ]
    }
   ],
   "source": [
    "name='Mycube'\n",
    "text='! genbox black cuteBox 0.05 0.05 2.5 | xform -t -0.025 -0.025 0'\n",
    "customObject = demo.makeCustomObject(name,text)\n",
    "demo.appendtoScene(scene.radfiles, customObject, '!xform -rz 0')\n",
    "\n",
    "name='Mycube2'\n",
    "text='! genbox black cuteBox 0.1 0.1 2.5 | xform -t -3.05 -0.05 0'\n",
    "customObject = demo.makeCustomObject(name,text)\n",
    "demo.appendtoScene(scene.radfiles, customObject, '!xform -rz 0')\n",
    "octfile = demo.makeOct(demo.getfilelist())  # makeOct combines all of the ground, sky and object files into a .oct file."
   ]
  },
  {
   "cell_type": "markdown",
   "metadata": {},
   "source": [
    "# At this point you should be able to go into a command window (cmd.exe) and check the geometry. Example:\n",
    "\n",
    "rvu -vf views\\front.vp -e .01 Regular_Array.oct\n",
    "\n",
    "And then proceed happily with your analysis:"
   ]
  },
  {
   "cell_type": "code",
   "execution_count": 9,
   "metadata": {},
   "outputs": [
    {
     "name": "stdout",
     "output_type": "stream",
     "text": [
      "ModWanted, RowWanted  0 0  out of  5 3\n",
      "Azimuth 210\n",
      "Coordinate Center Point of Desired Panel before azm rotation -5.0 -3.0\n",
      "Coordinate Center Point of Desired Panel after azm rotation 5.830127018922193 0.09807621135331557\n",
      "Edge of Panel -0.5412658773652743 -0.9375 -0.6249999999999999\n",
      "Offset Shift -0.037500000000000006 -0.06495190528383289 0.1299038105676658\n",
      "Final Start Coordinate 5.251361141556918 -0.9043756939305173 0.504903810567666\n",
      "Increase Coordinates 0.10825317547305487 0.1875 0.12499999999999999\n",
      "Linescan in process: test3_Front\n",
      "Linescan in process: test3_Back\n",
      "Saved: results\\irr_test3.csv\n",
      "Annual bifacial ratio average:  0.473\n"
     ]
    }
   ],
   "source": [
    "analysis = AnalysisObj(octfile, demo.name)  # return an analysis object including the scan dimensions for back irradiance\n",
    "modWanted = 1\n",
    "rowWanted = 1\n",
    "frontscan, backscan = analysis.moduleAnalysis(sceneDict['height'], sceneDict['azimuth'], sceneDict['tilt'], \n",
    "                                              sceneDict['pitch'], sceneDict['nMods'], sceneDict['nRows'], \n",
    "                                              moduleDict['sceney'], moduleDict['scenex'], moduleDict['moduleoffset'],\n",
    "                                              modWanted=modWanted, rowWanted=rowWanted, sensorsy=None)\n",
    "analysis.analysis(octfile, \"test3\", frontscan, backscan)  # compare the back vs front irradiance  \n",
    "print('Annual bifacial ratio average:  %0.3f' %( sum(analysis.Wm2Back) / sum(analysis.Wm2Front) ) )"
   ]
  },
  {
   "cell_type": "markdown",
   "metadata": {},
   "source": [
    "EQUATIONS\n",
    "\n"
   ]
  },
  {
   "cell_type": "code",
   "execution_count": null,
   "metadata": {},
   "outputs": [],
   "source": [
    "scenex = 2\n",
    "sceney = 2.5\n",
    "pitch = 4\n",
    "nMods = 5\n",
    "nRows = 3\n",
    "tilt = 0\n",
    "azimuth = 90\n",
    "modWanted = 0#round (nMods/2.0)-1\n",
    "rowWanted = 0#round (nRows/2.0)-1\n",
    "offset = 0\n",
    "height = 1\n",
    "sensorsy = 9\n",
    "\n",
    "import numpy as np\n",
    "print nMods, nRows, modWanted, rowWanted\n",
    "\n",
    "dtor = np.pi/180\n",
    "x0 = (modWanted)*scenex - ((nMods-1)*scenex/2.0)\n",
    "y0 = (rowWanted)*pitch - ((nRows-1)*pitch/2.0)\n",
    "\n",
    "print \"Coordinate Center Point of Desired Panel after azm rotation\", x0,y0\n",
    "\n",
    "x1 = x0 * np.cos (-azimuth*dtor) - y0 * np.sin(-azimuth*dtor)\n",
    "y1 = x0 * np.sin (-azimuth*dtor) + y0 * np.cos(-azimuth*dtor)\n",
    "\n",
    "print \"Coordinate Center Point of Desired Panel after azm rotation\", x1,y1\n",
    "\n",
    "# Edge of Panel \n",
    "x2 = (sceney/2.0) * np.cos((tilt)*dtor) * np.sin((azimuth)*dtor)\n",
    "y2 = (sceney/2.0) * np.cos((tilt)*dtor) * np.cos((azimuth)*dtor)\n",
    "z2 = -(sceney/2.0) * np.sin(tilt*dtor)\n",
    "\n",
    "print \"Edge of Panel\", x2, y2, z2\n",
    "\n",
    "# Axis of rotation Offset (if offset is not 0)\n",
    "x3 = offset * np.sin(tilt*dtor) * np.sin((azimuth)*dtor)\n",
    "y3 = offset * np.sin(tilt*dtor) * np.cos((azimuth)*dtor)\n",
    "z3 = offset * np.cos(tilt*dtor)\n",
    "\n",
    "print \"Offset Shift\", x3, y3, z3\n",
    "\n",
    "xstart = x1 + x2 + x3\n",
    "ystart = y1 + y2 + y3\n",
    "zstart = height + z2 + z3\n",
    "\n",
    "print \"Final Start Coordinate\", xstart, ystart, zstart\n",
    "\n",
    "xinc = -(sceney/(sensorsy + 1.0)) * np.cos((tilt)*dtor) * np.sin((azimuth)*dtor)\n",
    "yinc = -(sceney/(sensorsy + 1.0)) * np.cos((tilt)*dtor) * np.cos((azimuth)*dtor) \n",
    "zinc = (sceney/(sensorsy + 1.0)) * np.sin(tilt*dtor) \n",
    "\n",
    "print \"Increase Coordinates\", xinc, yinc, zinc\n"
   ]
  },
  {
   "cell_type": "code",
   "execution_count": null,
   "metadata": {},
   "outputs": [],
   "source": [
    " moduleDict['moduleoffset']"
   ]
  },
  {
   "cell_type": "code",
   "execution_count": null,
   "metadata": {},
   "outputs": [],
   "source": []
  }
 ],
 "metadata": {
  "kernelspec": {
   "display_name": "Python 2",
   "language": "python",
   "name": "python2"
  },
  "language_info": {
   "codemirror_mode": {
    "name": "ipython",
    "version": 2
   },
   "file_extension": ".py",
   "mimetype": "text/x-python",
   "name": "python",
   "nbconvert_exporter": "python",
   "pygments_lexer": "ipython2",
   "version": "2.7.15"
  }
 },
 "nbformat": 4,
 "nbformat_minor": 2
}
