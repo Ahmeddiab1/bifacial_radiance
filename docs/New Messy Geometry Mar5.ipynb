{
 "cells": [
  {
   "cell_type": "code",
   "execution_count": 1,
   "metadata": {},
   "outputs": [],
   "source": [
    "try:\n",
    "    from bifacial_radiance import *\n",
    "except ImportError:\n",
    "    raise RuntimeError('bifacial_radiance is required. download distribution')\n",
    "    # Simple example system using Radiance.\n",
    "    \n",
    "import numpy as np"
   ]
  },
  {
   "cell_type": "code",
   "execution_count": 9,
   "metadata": {},
   "outputs": [
    {
     "name": "stdout",
     "output_type": "stream",
     "text": [
      "path = C:\\Users\\sayala\\Documents\\RadianceScenes\\Demo3\n",
      "Getting weather file: USA_VA_Richmond.Intl.AP.724010_TMY.epw  ... OK!\n",
      "('\\nModule Name:', 'Regular_Array')\n",
      "REWRITING pre-existing module file. \n",
      "Module Regular_Array successfully created\n",
      "('Axis Azimuth', None)\n",
      "('Tilt', 30)\n",
      "Working with offset\n",
      "\n",
      "0.2\n",
      "-0.08660254037844385 0.05000000000000001 0.17320508075688776\n",
      "-1.0241025403784438 0.591265877365274 0.5482050807568879\n",
      "0.1875 -0.10825317547305485 0.12499999999999999\n",
      "120 30\n",
      "Created Regular_Array.oct\n"
     ]
    }
   ],
   "source": [
    "# The below routine creates a HEXAGONAL torque tube, for a 2-UP configuration of a specific module size. Parameters for the module, the torque tube, and the scene are below.\n",
    "# This is being run with gendaylit, for one specific timestamp\n",
    "# MODIFY THE TEST FOLDER TO YOUR LIKING. I utmostly dislike the interactive directory.\n",
    "testfolder = r'C:\\Users\\sayala\\Documents\\RadianceScenes\\Demo3'\n",
    "\n",
    "timestamp = 4020 # Noon, June 17th. \n",
    "simulationname = 'Regular_Array'\n",
    "\n",
    "# MakeModule Parameters\n",
    "module_type=simulationname\n",
    "numpanels = 2\n",
    "x = 2  # 2-up landscape\n",
    "y = 1\n",
    "xgap = 0.5\n",
    "ygap = 0.5\n",
    "zgap = 0.1\n",
    "sensorsy = 9 \n",
    "\n",
    "\n",
    "# TorqueTube Parameters\n",
    "axisofrotationTorqueTube=True\n",
    "torqueTube = True\n",
    "tubetype = 'square'\n",
    "diameter = 0.1\n",
    "torqueTubeMaterial = 'Metal_Grey'       # IT's NOT GRAY, IT's GREY\n",
    "cellLevelModule = False\n",
    "numcellsx=10\n",
    "numcellsy=6\n",
    "\n",
    "# SceneDict Parameters\n",
    "gcr = 0.33   # ground cover ratio,  = module_height / pitch\n",
    "albedo = 0.28  #'concrete'     # ground albedo\n",
    "clearance_height = 1  \n",
    "\n",
    "azimuth_ang=120\n",
    "tilt =30\n",
    "\n",
    "# Now let's run the example\n",
    "\n",
    "demo = RadianceObj(simulationname,path = testfolder)  # Create a RadianceObj 'object'\n",
    "demo.setGround(0.62) # input albedo number or material name like 'concrete'.  To see options, run this without any input.\n",
    "epwfile = demo.getEPW(37.5,-77.6) # pull TMY data for any global lat/lon\n",
    "metdata = demo.readEPW(epwfile) # read in the EPW weather data from above\n",
    "demo.gendaylit(metdata,4020)  # Noon, June 17th\n",
    "\n",
    "# Making module with all the variables\n",
    "moduledict=demo.makeModule(name=simulationname,x=x,y=y,bifi=1, \n",
    "           torquetube=torqueTube, diameter = diameter, tubetype = tubetype, \n",
    "                           material = torqueTubeMaterial, zgap = zgap, numpanels = numpanels, ygap = ygap, \n",
    "                           rewriteModulefile = True, xgap=xgap, \n",
    "                           axisofrotationTorqueTube=axisofrotationTorqueTube, cellLevelModule=cellLevelModule, \n",
    "                           numcellsx=numcellsx, numcellsy = numcellsy)\n",
    "# create a scene with all the variables\n",
    "sceneDict = {'tilt':tilt,'pitch': 3,'height':clearance_height,'azimuth':azimuth_ang, 'module_type':simulationname}  \n",
    "\n",
    "\n",
    "scene = demo.makeScene(moduletype=module_type, sceneDict=sceneDict, nMods = 3, nRows = 2, sensorsy = sensorsy, axisofrotationTorqueTube=axisofrotationTorqueTube, diameter=diameter, zgap = zgap) #makeScene creates a .rad file with 20 modules per row, 7 rows.\n",
    "octfile = demo.makeOct(demo.getfilelist())  # makeOct combines all of the ground, sky and object files into a .oct file.\n"
   ]
  },
  {
   "cell_type": "code",
   "execution_count": null,
   "metadata": {},
   "outputs": [],
   "source": [
    "import numpy as np\n",
    "dtor = np.pi/180\n",
    "tilt=-45\n",
    "offz = abs(0.2*np.sin(tilt*dtor))\n",
    "pz = 1.25*np.sin(tilt*dtor)\n",
    "print offz, \"offz\", pz,\" panel z\"\n",
    "zinc = 2.5/(sensorsy + 1) * np.sin(tilt*dtor)\n",
    "print zinc\n",
    "print 1 - pz + offz + zinc"
   ]
  },
  {
   "cell_type": "code",
   "execution_count": null,
   "metadata": {},
   "outputs": [],
   "source": [
    "name='Mycube'\n",
    "text='! genbox black cuteBox 0.05 0.05 2.5 | xform -t -0.025 -0.025 0'\n",
    "customObject = demo.makeCustomObject(name,text)\n",
    "demo.appendtoScene(scene.radfile, customObject, '!xform -rz 0')\n",
    "\n",
    "name='Mycube2'\n",
    "text='! genbox black cuteBox 0.1 0.1 2.5 | xform -t -3.05 -0.05 0'\n",
    "customObject = demo.makeCustomObject(name,text)\n",
    "demo.appendtoScene(scene.radfile, customObject, '!xform -rz 0')\n",
    "octfile = demo.makeOct(demo.getfilelist())  # makeOct combines all of the ground, sky and object files into a .oct file."
   ]
  },
  {
   "cell_type": "markdown",
   "metadata": {},
   "source": [
    "# At this point you should be able to go into a command window (cmd.exe) and check the geometry. Example:\n",
    "\n",
    "rvu -vf views\\front.vp -e .01 Regular_Array.oct\n",
    "\n",
    "And then proceed happily with your analysis:"
   ]
  },
  {
   "cell_type": "code",
   "execution_count": null,
   "metadata": {},
   "outputs": [],
   "source": [
    "analysis = AnalysisObj(octfile, demo.name)  # return an analysis object including the scan dimensions for back irradiance\n",
    "analysis.analysis(octfile, \"test3\", scene.frontscan, scene.backscan)  # compare the back vs front irradiance  \n",
    "print('Annual bifacial ratio average:  %0.3f' %( sum(analysis.Wm2Back) / sum(analysis.Wm2Front) ) )"
   ]
  },
  {
   "cell_type": "code",
   "execution_count": null,
   "metadata": {},
   "outputs": [],
   "source": [
    "pitch=2.5\n",
    "pitch*round(4 / 2.0)*1.0\n",
    "round(4/2.0)\n",
    "\n",
    "height = 0\n",
    "sceney = 2\n",
    "import numpy as np\n",
    "tilt=45\n",
    "dtor=np.pi/180\n",
    "height + sceney *np.sin(tilt*dtor)\n",
    "sceney * np.sin(tilt*dtor) / (sensorsy + 1)\n",
    "\n",
    "azimuth = 90\n",
    "sceney * np.sin((azimuth-180)*dtor) / (sensorsy + 1) * np.cos(tilt*dtor)"
   ]
  },
  {
   "cell_type": "code",
   "execution_count": null,
   "metadata": {},
   "outputs": [],
   "source": [
    "offset = diameter + zgap\n",
    "\n",
    "offsetx = -offset*np.sin(tilt*dtor)\n",
    "\n",
    "offsety = -offset*np.sin(tilt*dtor)*np.cos(tilt*dtor)\n",
    "azimuth = 90\n",
    "tilt = 45\n",
    "\n",
    "print abs(tilt)/tilt * offset * np.sin((azimuth-180)*dtor) / np.cos(tilt*dtor)\n",
    "print offset * np.cos((azimuth-180)*dtor) / np.cos(tilt*dtor)\n",
    "offsetz = offset * np.sin((azimuth-180)*dtor) / np.sin(tilt*dtor)\n",
    "print offsetz, \" OffsetZ\"\n",
    "print offsetz + zstart +zinc "
   ]
  },
  {
   "cell_type": "code",
   "execution_count": null,
   "metadata": {},
   "outputs": [],
   "source": [
    "scene.frontscan"
   ]
  },
  {
   "cell_type": "code",
   "execution_count": null,
   "metadata": {},
   "outputs": [],
   "source": [
    "scene.backscan\n"
   ]
  },
  {
   "cell_type": "code",
   "execution_count": null,
   "metadata": {},
   "outputs": [],
   "source": [
    "import numpy as np\n",
    "y=2.5\n",
    "dtor=np.pi/180\n",
    "height=1\n",
    "xstart = (y/2.0) * np.sin((90-tilt)*dtor) * np.cos((azimuth+90)*dtor)\n",
    "ystart = (y/2.0) * np.sin((90-tilt)*dtor) * np.sin((azimuth-90)*dtor)\n",
    "zstart = height + (y/2.0) * np.cos((90+tilt)*dtor) - 0.03 # + offset*np.cos(tilt*dtor)\n",
    "\n",
    "xinc = (y/(sensorsy + 1)) * np.sin((90-tilt)*dtor) * np.cos((azimuth-90)*dtor)\n",
    "yinc = (y/(sensorsy + 1)) * np.sin((90-tilt)*dtor) * np.sin((azimuth+90)*dtor)\n",
    "zinc = (y/(sensorsy + 1)) * np.cos((90-tilt)*dtor)\n",
    "print tilt, azimuth\n",
    "print xstart+xinc, ystart+yinc, zstart+zinc\n",
    "print xinc, yinc, zinc\n"
   ]
  },
  {
   "cell_type": "code",
   "execution_count": null,
   "metadata": {},
   "outputs": [],
   "source": [
    "y / (9 + 1.0)"
   ]
  },
  {
   "cell_type": "markdown",
   "metadata": {},
   "source": [
    "tilt\n"
   ]
  },
  {
   "cell_type": "code",
   "execution_count": null,
   "metadata": {},
   "outputs": [],
   "source": [
    "tilt=-45\n",
    "abs(tilt)/tilt"
   ]
  },
  {
   "cell_type": "code",
   "execution_count": null,
   "metadata": {},
   "outputs": [],
   "source": [
    "np.sin(-45*dtor)"
   ]
  },
  {
   "cell_type": "code",
   "execution_count": null,
   "metadata": {},
   "outputs": [],
   "source": [
    "abs(tilt)/tilt * offset * np.sin((azimuth-180)*dtor) / np.cos(tilt*dtor)\n",
    "azimuth=180\n",
    "np.cos((azimuth-180)*dtor)"
   ]
  },
  {
   "cell_type": "code",
   "execution_count": null,
   "metadata": {},
   "outputs": [],
   "source": []
  }
 ],
 "metadata": {
  "kernelspec": {
   "display_name": "Python 2",
   "language": "python",
   "name": "python2"
  },
  "language_info": {
   "codemirror_mode": {
    "name": "ipython",
    "version": 2
   },
   "file_extension": ".py",
   "mimetype": "text/x-python",
   "name": "python",
   "nbconvert_exporter": "python",
   "pygments_lexer": "ipython2",
   "version": "2.7.15"
  }
 },
 "nbformat": 4,
 "nbformat_minor": 2
}
