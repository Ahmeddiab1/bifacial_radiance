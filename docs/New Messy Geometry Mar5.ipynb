{
 "cells": [
  {
   "cell_type": "code",
   "execution_count": 1,
   "metadata": {},
   "outputs": [],
   "source": [
    "try:\n",
    "    from bifacial_radiance import *\n",
    "except ImportError:\n",
    "    raise RuntimeError('bifacial_radiance is required. download distribution')\n",
    "    # Simple example system using Radiance.\n",
    "    \n",
    "import numpy as np"
   ]
  },
  {
   "cell_type": "code",
   "execution_count": 4,
   "metadata": {},
   "outputs": [
    {
     "name": "stdout",
     "output_type": "stream",
     "text": [
      "path = C:\\Users\\sayala\\Documents\\RadianceScenes\\Demo3\n",
      "Getting weather file: USA_VA_Richmond.Intl.AP.724010_TMY.epw  ... OK!\n",
      "('\\nModule Name:', 'Regular_Array')\n",
      "REWRITING pre-existing module file. \n",
      "Module Regular_Array successfully created\n",
      "Case 0 \n",
      "Created Regular_Array.oct\n"
     ]
    }
   ],
   "source": [
    "# The below routine creates a HEXAGONAL torque tube, for a 2-UP configuration of a specific module size. Parameters for the module, the torque tube, and the scene are below.\n",
    "# This is being run with gendaylit, for one specific timestamp\n",
    "# MODIFY THE TEST FOLDER TO YOUR LIKING. I utmostly dislike the interactive directory.\n",
    "testfolder = r'C:\\Users\\sayala\\Documents\\RadianceScenes\\Demo3'\n",
    "\n",
    "timestamp = 4020 # Noon, June 17th. \n",
    "simulationname = 'Regular_Array'\n",
    "\n",
    "# MakeModule Parameters\n",
    "module_type=simulationname\n",
    "x = 1.996  # 2-up portrait Longi with 15cm additional gap\n",
    "y = 0.991\n",
    "orientation='portrait' \n",
    "tilt = 30\n",
    "\n",
    "# TorqueTube Parameters\n",
    "torqueTube = True\n",
    "numpanels = 2\n",
    "ygap = 0.5\n",
    "tubetype = 'round'\n",
    "zgap = 0.30\n",
    "diameter = 0.2\n",
    "torqueTubeMaterial = 'Metal_Grey'       # IT's NOT GRAY, IT's GREY\n",
    "axisofrotationTorqueTube=True\n",
    "cellLevelModule = True\n",
    "\n",
    "# SceneDict Parameters\n",
    "gcr = 0.33   # ground cover ratio,  = module_height / pitch\n",
    "albedo = 0.28  #'concrete'     # ground albedo\n",
    "clearance_height = diameter/2.0   \n",
    "azimuth_ang=90\n",
    "sensorsy = 200 # Notice we will be doing 200 sensors! It takes more time but gives better resolution.\n",
    "xgap = 0.5\n",
    "\n",
    "# Now let's run the example\n",
    "\n",
    "demo = RadianceObj(simulationname,path = testfolder)  # Create a RadianceObj 'object'\n",
    "demo.setGround(0.62) # input albedo number or material name like 'concrete'.  To see options, run this without any input.\n",
    "epwfile = demo.getEPW(37.5,-77.6) # pull TMY data for any global lat/lon\n",
    "metdata = demo.readEPW(epwfile) # read in the EPW weather data from above\n",
    "demo.gendaylit(metdata,4020)  # Noon, June 17th\n",
    "\n",
    "# Making module with all the variables\n",
    "moduledict=demo.makeModule(name=simulationname,x=x,y=y,bifi=1, \n",
    "           torquetube=torqueTube, diameter = diameter, tubetype = tubetype, material = torqueTubeMaterial, zgap = zgap, numpanels = numpanels, ygap = ygap, rewriteModulefile = True, xgap=xgap, axisofrotationTorqueTube=axisofrotationTorqueTube, cellLevelModule=cellLevelModule)\n",
    "# create a scene with all the variables\n",
    "sceneDict = {'tilt':tilt,'pitch': np.round(moduledict['sceney'] / gcr,3),'height':clearance_height,'azimuth':azimuth_ang, 'module_type':simulationname}  \n",
    "\n",
    "\n",
    "scene = demo.makeScene(moduletype=module_type, sceneDict=sceneDict, nMods = 1, nRows = 1, sensorsy = sensorsy) #makeScene creates a .rad file with 20 modules per row, 7 rows.\n",
    "octfile = demo.makeOct(demo.getfilelist())  # makeOct combines all of the ground, sky and object files into a .oct file.\n"
   ]
  },
  {
   "cell_type": "code",
   "execution_count": 5,
   "metadata": {},
   "outputs": [
    {
     "name": "stdout",
     "output_type": "stream",
     "text": [
      "('\\nCustom Object Name', 'objects\\\\Mycube.rad')\n",
      "Created Regular_Array.oct\n"
     ]
    }
   ],
   "source": [
    "name='Mycube'\n",
    "text='! genbox black cuteBox 0.05 0.05 2.5 | xform -t -0.025 -0.025 0'\n",
    "customObject = demo.makeCustomObject(name,text)\n",
    "demo.appendtoScene(scene.radfile, customObject, '!xform -rz 0')\n",
    "octfile = demo.makeOct(demo.getfilelist())  # makeOct combines all of the ground, sky and object files into a .oct file."
   ]
  },
  {
   "cell_type": "markdown",
   "metadata": {},
   "source": [
    "# At this point you should be able to go into a command window (cmd.exe) and check the geometry. Example:\n",
    "\n",
    "rvu -vf views\\front.vp -e .01 Regular_Array.oct\n",
    "\n",
    "And then proceed happily with your analysis:"
   ]
  }
 ],
 "metadata": {
  "kernelspec": {
   "display_name": "Python 2",
   "language": "python",
   "name": "python2"
  },
  "language_info": {
   "codemirror_mode": {
    "name": "ipython",
    "version": 2
   },
   "file_extension": ".py",
   "mimetype": "text/x-python",
   "name": "python",
   "nbconvert_exporter": "python",
   "pygments_lexer": "ipython2",
   "version": "2.7.15"
  }
 },
 "nbformat": 4,
 "nbformat_minor": 2
}
