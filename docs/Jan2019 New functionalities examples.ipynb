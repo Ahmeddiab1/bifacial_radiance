{
 "cells": [
  {
   "cell_type": "markdown",
   "metadata": {},
   "source": [
    "# Jan 2019 New functionalities examples\n",
    "\n",
    "Example demonstrating how to use the torque_tube functionality.\n",
    "\n",
    "#### Prerequisites (Step 0):\n",
    "We assume all instalation is working at this point, reffer to the other journals for this! \n",
    "\n",
    "# Torque Tube Example (Hex!)"
   ]
  },
  {
   "cell_type": "code",
   "execution_count": 1,
   "metadata": {},
   "outputs": [],
   "source": [
    "try:\n",
    "    from bifacial_radiance import *\n",
    "except ImportError:\n",
    "    raise RuntimeError('bifacial_radiance is required. download distribution')\n",
    "    # Simple example system using Radiance."
   ]
  },
  {
   "cell_type": "code",
   "execution_count": null,
   "metadata": {},
   "outputs": [],
   "source": [
    "# The below routine creates a HEXAGONAL torque tube, for a 2-UP configuration of a specific module size. Parameters for the module, the torque tube, and the scene are below.\n",
    "# This is being run with gendaylit, for one specific timestamp\n",
    "\n",
    "timestamp = 4020 # Noon, June 17th. \n",
    "simulationname = 'Torque_tube_hex_test'\n",
    "\n",
    "# MakeModule Parameters\n",
    "module_type='my_custom_panel'\n",
    "x = 1.996  # 2-up portrait Longi with 15cm additional gap\n",
    "y = 0.991\n",
    "orientation='portrait' \n",
    "tilt = 10\n",
    "\n",
    "# TorqueTube Parameters\n",
    "torqueTube = True\n",
    "numpanels = 2\n",
    "gap = 0.15\n",
    "tubetype = 'Hex'\n",
    "disttopanel = 0.175\n",
    "diameter = 0.15\n",
    "torqueTubeMaterial = 'Metal_Grey'       # IT's NOT GRAY, IT's GREY\n",
    "\n",
    "# SceneDict Parameters\n",
    "gcr = 0.33   # ground cover ratio,  = module_height / pitch\n",
    "albedo = 0.28  #'concrete'     # ground albedo\n",
    "clearance_height = 2.35   \n",
    "azimuth_ang=90\n",
    "sensorsy = 200 # Notice we will be doing 200 sensors! It takes more time but gives better resolution.\n",
    "psx = 0.05"
   ]
  },
  {
   "cell_type": "code",
   "execution_count": null,
   "metadata": {},
   "outputs": [],
   "source": [
    "# MODIFY THE TEST FOLDER TO YOUR LIKING. I utmostly dislike the interactive directory.\n",
    "testfolder = r'C:\\Users\\sayala\\Documents\\RadianceScenes\\Demo2'"
   ]
  },
  {
   "cell_type": "code",
   "execution_count": null,
   "metadata": {},
   "outputs": [],
   "source": [
    "# Now let's run the example\n",
    "\n",
    "demo = RadianceObj('Torque_tube_hex_test',path = testfolder)  # Create a RadianceObj 'object'\n",
    "demo.setGround(0.62) # input albedo number or material name like 'concrete'.  To see options, run this without any input.\n",
    "epwfile = demo.getEPW(37.5,-77.6) # pull TMY data for any global lat/lon\n",
    "metdata = demo.readEPW(epwfile) # read in the EPW weather data from above\n",
    "demo.gendaylit(metdata,4020)  # Noon, June 17th\n",
    "\n",
    "# Making module with all the variables\n",
    "moduledict=demo.makeModule(name=module_type,x=x,y=y,bifi=1, \n",
    "           torquetube=torqueTube, diameter = diameter, tubetype = tubetype, material = torqueTubeMaterial, tubeZgap = disttopanel, numpanels = numpanels, panelgap = gap, rewriteModulefile = True, psx=psx)\n",
    "# create a scene with all the variables\n",
    "sceneDict = {'tilt':tilt,'pitch': np.round(moduledict['collector_width'] / gcr,3),'height':clearance_height,'azimuth':azimuth_ang, 'module_type':module_type}  \n",
    "\n",
    "scene = demo.makeScene(moduletype=module_type, sceneDict=sceneDict, nMods = 20, nRows = 7, sensorsy = sensorsy, psx = psx) #makeScene creates a .rad file with 20 modules per row, 7 rows.\n",
    "octfile = demo.makeOct(demo.getfilelist())  # makeOct combines all of the ground, sky and object files into a .oct file.\n"
   ]
  },
  {
   "cell_type": "markdown",
   "metadata": {},
   "source": [
    "At this point you should be able to go into a command window (cmd.exe) and check the geometry. Example:\n",
    "    \n",
    "   ## rvu -vf views\\front.vp -e .01 Torque_tube_hex_test.oct\n",
    "   \n",
    "   And then proceed happily with your analysis:"
   ]
  },
  {
   "cell_type": "code",
   "execution_count": null,
   "metadata": {},
   "outputs": [],
   "source": [
    "analysis = AnalysisObj(octfile, demo.name)  # return an analysis object including the scan dimensions for back irradiance\n",
    "analysis.analysis(octfile, demo.name, scene.frontscan, scene.backscan)  # compare the back vs front irradiance  \n",
    "print('Annual bifacial ratio average:  %0.3f' %( sum(analysis.Wm2Back) / sum(analysis.Wm2Front) ) )\n"
   ]
  },
  {
   "cell_type": "markdown",
   "metadata": {},
   "source": [
    "And then you dance-dance-dance. Except that, at the current stage of the software, if you open the results you will notice that now some of the sensors are measuring the irradinace at the torque tube and must die... in a future version.\n",
    "\n",
    "(or increase the number of sensors by a lot and take them down in a separate routine in matlab all pretily and interpolate to have a consistent number of sensors with data while single axis tracking)."
   ]
  },
  {
   "cell_type": "markdown",
   "metadata": {},
   "source": [
    "# Single-axis-tracking by HOUR example\n",
    "\n",
    "Think of this as a fixed-tilt where the clearance height and the tracker tilt is changing. So the angles have to be re-calculated for every timestamp."
   ]
  },
  {
   "cell_type": "code",
   "execution_count": null,
   "metadata": {},
   "outputs": [],
   "source": [
    "#Some variables again. Assuming bifacial_radiance was imported.\n",
    "\n",
    "timeindex = 4020 # Noon, June 17th. \n",
    "simulationname = '1axisTrack'+str(timeindex)\n",
    "\n",
    "# MakeModule Parameters\n",
    "module_type='my_little_pony_panel'\n",
    "x = 1.996  # 2-up portrait Longi with 15cm additional gap\n",
    "y = 0.991\n",
    "tilt = 10\n",
    "\n",
    "# Tracking Angle Calculation Parameters\n",
    "hub_height = 2.35   \n",
    "axis_azimuth = 180.0\n",
    "roundTrackerAngleBool = True \n",
    "angledelta = 5\n",
    "limit_angle = 45\n",
    "backtrack = True\n",
    "    \n",
    "# SceneDict Parameters\n",
    "gcr = 0.33   # ground cover ratio,  = module_height / pitch\n",
    "albedo = 0.28  #'concrete'     # ground albedo"
   ]
  },
  {
   "cell_type": "code",
   "execution_count": null,
   "metadata": {},
   "outputs": [],
   "source": [
    "#separate folder for this example\n",
    "testfolder = r'C:\\Users\\sayala\\Documents\\RadianceScenes\\Demo2'"
   ]
  },
  {
   "cell_type": "code",
   "execution_count": null,
   "metadata": {},
   "outputs": [],
   "source": [
    "# Running the simulation\n",
    "demo2 = RadianceObj(simulationname, path = testfolder)  # Create a RadianceObj 'object' named 'demo'\n",
    "demo2.setGround(albedo) # input albedo number or material name like 'concrete'.  To see options, run this without any input.\n",
    "epwfile = demo2.getEPW(37.5,-77.6) # pull TMY data for any global lat/lon\n",
    "metdata = demo2.readEPW(epwfile) # read in the weather data\n",
    "demo2.gendaylit(metdata, 4020)  # Noon, June 17th\n",
    "\n",
    "moduledict=demo2.makeModule(name=module_type,x=x,y=y)    \n",
    "tracker_theta, tracker_height, azimuth_ang = demo2._getTrackingGeometryTimeIndex(metdata, timeindex=timeindex, angledelta = angledelta, roundTrackerAngleBool = roundTrackerAngleBool, axis_azimuth = axis_azimuth, limit_angle = limit_angle, backtrack = backtrack, gcr = gcr, hubheight = hub_height, module_height =  moduledict['collector_width'] )\n",
    "sceneDict = {'tilt':tracker_theta,'pitch': moduledict['collector_width'] / gcr,'height':tracker_height,'azimuth':azimuth_ang, 'module_type':module_type}  \n",
    "scene = demo2.makeScene(module_type, sceneDict) #makeScene creates a .rad file with 20 modules per row, 7 rows.\n",
    "octfile = demo2.makeOct(demo2.getfilelist())  # makeOct combines all of the ground, sky and object files into a .oct file."
   ]
  },
  {
   "cell_type": "markdown",
   "metadata": {},
   "source": [
    "At this point you should be able to go into a command window (cmd.exe) and check the geometry. Example:\n",
    "    \n",
    "   ## rvu -vf views\\front.vp -e .01 Torque_tube_hex_test.oct\n",
    "   \n",
    "   And then proceed happily with your analysis:"
   ]
  },
  {
   "cell_type": "code",
   "execution_count": null,
   "metadata": {},
   "outputs": [],
   "source": [
    "analysis = AnalysisObj(octfile, demo2.basename)  # return an analysis object including the scan dimensions for back irradiance\n",
    "frontDict, backDict = analysis.analysis(octfile, demo2.basename, scene.frontscan, scene.backscan)  # compare the back vs front irradiance  \n",
    "print('Annual bifacial ratio: %0.3f - %0.3f' %(min(analysis.backRatio), np.mean(analysis.backRatio)) )"
   ]
  },
  {
   "cell_type": "markdown",
   "metadata": {},
   "source": [
    "After you set up your system parameters, you can just change the timestamp and evaluate any day. You could also use gendaylit2manual to pass specific DNI/DHI if you so wanted.\n",
    "\n",
    "Enjoy!"
   ]
  },
  {
   "cell_type": "markdown",
   "metadata": {},
   "source": [
    "# Add Custom Elements to your Scene\n",
    "This shows how to add a custom element, in this case a Cube, that will be placed in the center of your scene to mark the 0,0 location. A tracking-example with torque tube is used."
   ]
  },
  {
   "cell_type": "code",
   "execution_count": null,
   "metadata": {},
   "outputs": [],
   "source": [
    "#First all the Variables:\n",
    "testfolder = r'C:\\Users\\sayala\\Documents\\RadianceScenes\\demo'\n",
    "\n",
    "#Some variables again. Assuming bifacial_radiance was imported.\n",
    "\n",
    "timeindex = 4020 # Noon, June 17th. \n",
    "simulationname = '1axisTrack'+str(timeindex)\n",
    "\n",
    "# MakeModule Parameters\n",
    "module_type='my_little_pony_panel'\n",
    "x = 1.996  # 2-up portrait Longi with 15cm additional gap\n",
    "y = 0.991\n",
    "tilt = 10\n",
    "\n",
    "# Tracking Angle Calculation Parameters\n",
    "hub_height = 0.5   \n",
    "axis_azimuth = 180.0\n",
    "roundTrackerAngleBool = True \n",
    "angledelta = 5\n",
    "limit_angle = 45\n",
    "backtrack = True\n",
    "    \n",
    "# SceneDict Parameters\n",
    "gcr = 0.33   # ground cover ratio,  = module_height / pitch\n",
    "albedo = 0.28  #'concrete'     # ground albedo\n",
    "\n",
    "# Running the simulation\n",
    "demo2 = RadianceObj(simulationname, path = testfolder)  # Create a RadianceObj 'object' named 'demo'\n",
    "demo2.setGround(albedo) # input albedo number or material name like 'concrete'.  To see options, run this without any input.\n",
    "epwfile = demo2.getEPW(37.5,-77.6) # pull TMY data for any global lat/lon\n",
    "metdata = demo2.readEPW(epwfile) # read in the weather data\n",
    "demo2.gendaylit(metdata, 4020)  # Noon, June 17th"
   ]
  },
  {
   "cell_type": "markdown",
   "metadata": {},
   "source": [
    "We are going to create a \"Mycube.rad\" file in the objects folder, right after we make the Module. \n",
    "This is a prism (so we use 'genbox'), that is black from the ground.rad list of materials ('black')\n",
    "We are naming it 'cuteBox'\n",
    "Its sides are going to be 0.5x0.5x0.5 m \n",
    "and We are going to leave its bottom surface coincident with the plane z=0, but going to center on X and Y.\n",
    "The command for this description is :\n",
    ">'! genbox black PVmodule 0.5 0.5 0.5 | xform -t -0.25 -0.25 0'\n"
   ]
  },
  {
   "cell_type": "code",
   "execution_count": null,
   "metadata": {},
   "outputs": [],
   "source": [
    "moduledict=demo2.makeModule(name=module_type,x=x,y=y)   \n",
    "name='Mycube'\n",
    "text='! genbox black cuteBox 0.5 0.5 0.5 | xform -t -0.25 -0.25 0'\n",
    "customObject = demo2.makeCustomObject(name,text)\n"
   ]
  },
  {
   "cell_type": "markdown",
   "metadata": {},
   "source": [
    "We are saving the filename and address into customObject so we can call it when making the Scene and add it to it.\n",
    "\n",
    "At this point, you can go to the objects folder and check that the object was created properly.\n",
    "### objects\\\\Mycube.rad\n",
    "\n",
    "Let's create teh SCene now:"
   ]
  },
  {
   "cell_type": "code",
   "execution_count": null,
   "metadata": {},
   "outputs": [],
   "source": [
    "tracker_theta, tracker_height, azimuth_ang = demo2._getTrackingGeometryTimeIndex(metdata, timeindex=timeindex, angledelta = angledelta, roundTrackerAngleBool = roundTrackerAngleBool, axis_azimuth = axis_azimuth, limit_angle = limit_angle, backtrack = backtrack, gcr = gcr, hubheight = hub_height, module_height = moduledict['collector_width'] )\n",
    "sceneDict = {'tilt':tracker_theta,'pitch': moduledict['collector_width'] / gcr,'height':tracker_height,'azimuth':azimuth_ang, 'module_type':module_type}  \n",
    "scene = demo2.makeScene(module_type, sceneDict) #makeScene creates a .rad file with 20 modules per row, 7 rows."
   ]
  },
  {
   "cell_type": "markdown",
   "metadata": {},
   "source": [
    "Now let's add the customObject to the Scene. We are not going to translate it or anything because we want it at the center, but you can pass translation, rotation, and any other XFORM command from Radiance.\n",
    "\n",
    "I am passing a rotation 0 because xform has to have something (I think) otherwise it gets confused."
   ]
  },
  {
   "cell_type": "code",
   "execution_count": null,
   "metadata": {},
   "outputs": [],
   "source": [
    "demo2.appendtoScene(scene.radfile, customObject, '!xform -rz 0')\n",
    "\n",
    "octfile = demo2.makeOct(demo2.getfilelist())  # makeOct combines all of the ground, sky and object files into a .oct file."
   ]
  },
  {
   "cell_type": "markdown",
   "metadata": {},
   "source": [
    "At this point you should be able to go into a command window (cmd.exe) and check the geometry. Example:\n",
    "    \n",
    "   #### rvu -vf views\\front.vp -e .01 Torque_tube_hex_test.oct\n",
    "   \n",
    "And then proceed happily with your analysis. If any of the sensors hits the Box object we just created, the list of materials should say something with \"cuteBox\" on it. (That's why I set the clearance so low for this example, so the module and the cuteBox intercept)."
   ]
  },
  {
   "cell_type": "code",
   "execution_count": null,
   "metadata": {},
   "outputs": [],
   "source": [
    "analysis = AnalysisObj(octfile, demo2.basename)  # return an analysis object including the scan dimensions for back irradiance\n",
    "frontDict, backDict = analysis.analysis(octfile, demo2.basename, scene.frontscan, scene.backscan)  # compare the back vs front irradiance  \n",
    "print('Annual bifacial ratio: %0.3f - %0.3f' %(min(analysis.backRatio), np.mean(analysis.backRatio)) )"
   ]
  },
  {
   "cell_type": "markdown",
   "metadata": {},
   "source": [
    "# Read and clean RESULTS!\n",
    "When using a gap between modules (or a torque tube for 1-up), some of the materials might end up being \"sky\", \"ground\", torquetube, or even inner sides of the modules themselves if the resolution is very high.\n",
    "\n",
    "The following is an example on how to use the read1Result and cleanResult functions of this last update."
   ]
  },
  {
   "cell_type": "code",
   "execution_count": null,
   "metadata": {},
   "outputs": [],
   "source": [
    "resultFile='C:\\Users\\sayala\\Documents\\RadianceScenes\\Demo2\\\\results\\irr_Torque_tube_hex_test.csv'\n",
    "test = read1Result(resultFile)\n",
    "nmodules = 2 # 2-up configuration. \n",
    "sensorsy = 200 # this was the original resolution. Since we are removing some sensors \n",
    "               # that end up in the gap, the routine will interpolate to get this same number of sensors.\n",
    "               # it will interpolate to 100 sensors per panel for the 2-up configuration for this example.\n",
    "sazm = 270 # for the timestamp analyzed, the panels were facing West. This is important because the sensors and modules must be switched so it matches when the geometry is rotated...\n",
    "Front4240, Back4240 = deepcleanResult(test, sensorsy, nmodules, sazm, automatic=True)"
   ]
  },
  {
   "cell_type": "code",
   "execution_count": null,
   "metadata": {},
   "outputs": [],
   "source": [
    "print(\"Read Results has {} material at position 100, with Front irradiance {}  W/m^2\".format(test['mattype'][100],test['Wm2Front'][100]))\n",
    "print(\"Cleaning the results removes this material, and leaves only modules.\")\n",
    "print(\"Now the Front Irradiance value is {} W/m^2\".format(Front4240[100]))\n",
    "\n",
    "import matplotlib.pyplot as plt\n",
    "plt.plot(test['Wm2Front'], label='Results')\n",
    "plt.plot(Front4240, label='Clean Results')\n",
    "plt.legend()"
   ]
  },
  {
   "cell_type": "code",
   "execution_count": null,
   "metadata": {},
   "outputs": [],
   "source": []
  },
  {
   "cell_type": "code",
   "execution_count": null,
   "metadata": {},
   "outputs": [],
   "source": [
    "\n"
   ]
  },
  {
   "cell_type": "markdown",
   "metadata": {},
   "source": [
    "## Reading Results and Cleaning \n",
    "\n",
    "When there is a torque tube, or a gap between panels, the irradiance result files in the result folders somethimes have values from the sky, the ground, the torque tube, or even the inner side of the panels.\n",
    "The values you want are usually something like \"...a0.PVModule.6457\" and \"...a0.PVModule.2310\" for the front and back. If it is two panels, you might also want a1.\n",
    "\n",
    "The following function can load one result file, and either ask the user to identify the material of interest (useful for debuging), or automatically find the correct surfaces and delete datapoints from the other surfaces.\n",
    "\n",
    "Also, it then resamples to the original number of sensors (or a new one if desired) so that the results can be compared with other sets of results (particularly whenn tracking, the number of clean datapoints might vary slightly).\n",
    "\n",
    "### IMPORTANT: \n",
    "AND!!!!!!!!!!!!!!!!!!!! It rotates the values of the sensors based on the panel facing East or West, so that the same \"sensor\" will get the right value. "
   ]
  },
  {
   "cell_type": "code",
   "execution_count": null,
   "metadata": {},
   "outputs": [],
   "source": [
    "ResultFile='C:\\Users\\sayala\\Documents\\RadianceScenes\\\\asdf2\\\\results\\irr_PRISM_2UP_4234_WITHTorqueTube_Round_black_Diam_0.1_tubeZgap_0.15_GAP_0.05.csv'\n",
    "\n",
    "#This reads the file\n",
    "test = read1Result(ResultFile)\n",
    "numberofsensors=200\n",
    "numberofpanels = 2\n",
    "azimuth_angle = 270\n",
    "automatic = True\n",
    "\n",
    "#This cleans it.\n",
    "Front4243, Back4243 = deepcleanResult(test, numberofsensors, numberofpanels, azimuth_angle, automatic)\n",
    "\n",
    "import matplotlib.pyplot as plt\n",
    "plt.plot(Back4243)\n",
    "plt.ylabel('Back Irradiance W/m2')\n",
    "plt.xlabel('Position on the two panels (gap not plotted), panel 1 0 to 100, panel 2 101 to 200')\n",
    "plt.show()\n"
   ]
  },
  {
   "cell_type": "code",
   "execution_count": null,
   "metadata": {},
   "outputs": [],
   "source": [
    "cleanResult(test, 200, 2, 270)"
   ]
  },
  {
   "cell_type": "code",
   "execution_count": null,
   "metadata": {},
   "outputs": [],
   "source": []
  }
 ],
 "metadata": {
  "kernelspec": {
   "display_name": "Python 2",
   "language": "python",
   "name": "python2"
  },
  "language_info": {
   "codemirror_mode": {
    "name": "ipython",
    "version": 2
   },
   "file_extension": ".py",
   "mimetype": "text/x-python",
   "name": "python",
   "nbconvert_exporter": "python",
   "pygments_lexer": "ipython2",
   "version": "2.7.15"
  }
 },
 "nbformat": 4,
 "nbformat_minor": 2
}
