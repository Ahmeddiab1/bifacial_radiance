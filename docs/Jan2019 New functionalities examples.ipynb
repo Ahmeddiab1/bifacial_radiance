{
 "cells": [
  {
   "cell_type": "markdown",
   "metadata": {},
   "source": [
    "# Jan 2019 New functionalities examples\n",
    "\n",
    "Example demonstrating how to use the torque_tube functionality.\n",
    "\n",
    "#### Prerequisites (Step 0):\n",
    "We assume all instalation is working at this point, reffer to the other journals for this! \n",
    "\n",
    "# Torque Tube Example (Hex!)"
   ]
  },
  {
   "cell_type": "code",
   "execution_count": 1,
   "metadata": {},
   "outputs": [
    {
     "name": "stdout",
     "output_type": "stream",
     "text": [
      " Successful import of bifacial_radiance version . \n"
     ]
    }
   ],
   "source": [
    "import sys\n",
    "\n",
    "sys.path.insert(0, '../bifacial_radiance')\n",
    "\n",
    "try:\n",
    "    from bifacial_radiance import *\n",
    "    print \" Successful import of bifacial_radiance version . \"\n",
    "except ImportError:\n",
    "    raise RuntimeError('bifacial_radiance is required. download distribution')\n",
    "    # Simple example system using Radiance."
   ]
  },
  {
   "cell_type": "code",
   "execution_count": 2,
   "metadata": {},
   "outputs": [],
   "source": [
    "# The below routine creates a HEXAGONAL torque tube, for a 2-UP configuration of a specific module size. Parameters for the module, the torque tube, and the scene are below.\n",
    "# This is being run with gendaylit, for one specific timestamp\n",
    "\n",
    "timestamp = 4020 # Noon, June 17th. \n",
    "simulationname = 'Torque_tube_hex_test'\n",
    "\n",
    "# MakeModule Parameters\n",
    "module_type='my_custom_panel'\n",
    "module_height = 1.996  # 2-up portrait Longi with 15cm additional gap\n",
    "module_width = 0.991\n",
    "orientation='portrait' \n",
    "tilt = 10\n",
    "\n",
    "# TorqueTube Parameters\n",
    "torqueTube = True\n",
    "numpanels = 2\n",
    "gap = 0.15\n",
    "tubetype = 'Hex'\n",
    "disttopanel = 0.175\n",
    "diameter = 0.15\n",
    "torqueTubeMaterial = 'Metal_Grey'       # IT's NOT GRAY, IT's GREY\n",
    "\n",
    "# SceneDict Parameters\n",
    "gcr = 0.33   # ground cover ratio,  = module_height / pitch\n",
    "albedo = 0.28  #'concrete'     # ground albedo\n",
    "clearance_height = 2.35   \n",
    "azimuth_ang=90\n",
    "sensorsy = 200 # Notice we will be doing 200 sensors! It takes more time but gives better resolution.\n",
    "    "
   ]
  },
  {
   "cell_type": "code",
   "execution_count": 3,
   "metadata": {},
   "outputs": [],
   "source": [
    "# MODIFY THE TEST FOLDER TO YOUR LIKING. I utmostly dislike the interactive directory.\n",
    "testfolder = r'C:\\Users\\sayala\\Documents\\RadianceScenes\\asdf2'"
   ]
  },
  {
   "cell_type": "code",
   "execution_count": 4,
   "metadata": {},
   "outputs": [
    {
     "name": "stdout",
     "output_type": "stream",
     "text": [
      "path = C:\\Users\\sayala\\Documents\\RadianceScenes\\asdf2\n",
      "Making path: images/\n",
      "Making path: objects/\n",
      "Making path: results/\n",
      "Making path: skies/\n",
      "Making path: EPWs/\n",
      "Making path: materials/\n",
      "Getting weather file: USA_VA_Richmond.Intl.AP.724010_TMY.epw  ... OK!\n",
      "Sky generated with Gendaylit 2, with DNI: 242.0, DHI: 377.0\n",
      "Datetime TimeIndex 1963-06-17 13:00:00-05:00\n",
      "\n",
      "Module Name: my_custom_panel\n",
      "Module file did not exist before, creating new module file\n",
      "Module my_custom_panel successfully created\n",
      "Created Torque_tube_hex_test.oct\n"
     ]
    }
   ],
   "source": [
    "# Now let's run the example\n",
    "\n",
    "demo = RadianceObj('Torque_tube_hex_test',path = testfolder)  # Create a RadianceObj 'object'\n",
    "demo.setGround(0.62) # input albedo number or material name like 'concrete'.  To see options, run this without any input.\n",
    "epwfile = demo.getEPW(37.5,-77.6) # pull TMY data for any global lat/lon\n",
    "metdata = demo.readEPW(epwfile) # read in the EPW weather data from above\n",
    "demo.gendaylit2(metdata,4020)  # Noon, June 17th\n",
    "\n",
    "#We have a 2-up configuration in portrait. This section helps sort what is the COLLECTOR WIDTH to use.\n",
    "if orientation == 'portrait':\n",
    "                slope=module_height\n",
    "elif orientation == 'landscape':  \n",
    "                slope=module_width\n",
    "collectorwidth = slope*numpanels+gap*(numpanels-1) # If it's 1UP, the gap value will not matter. This is a safety.\n",
    "\n",
    "# Making module with all the variables\n",
    "demo.makeModule(name=module_type,x=module_height,y=module_width,bifi=1,orientation='portrait', \n",
    "           torquetube=torqueTube, diameter = diameter, tubetype = tubetype, material = torqueTubeMaterial, tubeZgap = disttopanel, numpanels = numpanels, panelgap = gap, rewriteModulefile = True)\n",
    "# create a scene with all the variables\n",
    "sceneDict = {'tilt':tilt,'pitch': np.round(collectorwidth / gcr,3),'height':clearance_height,'orientation':orientation,'azimuth':azimuth_ang, 'module_type':module_type}  \n",
    "\n",
    "scene = demo.makeScene(moduletype=module_type, sceneDict=sceneDict, nMods = 20, nRows = 7, sensorsy = sensorsy) #makeScene creates a .rad file with 20 modules per row, 7 rows.\n",
    "octfile = demo.makeOct(demo.getfilelist())  # makeOct combines all of the ground, sky and object files into a .oct file.\n"
   ]
  },
  {
   "cell_type": "markdown",
   "metadata": {},
   "source": [
    "At this point you should be able to go into a command window (cmd.exe) and check the geometry. Example:\n",
    "    \n",
    "   ## rvu -vf views\\front.vp -e .01 Torque_tube_hex_test.oct\n",
    "   \n",
    "   And then proceed happily with your analysis:"
   ]
  },
  {
   "cell_type": "code",
   "execution_count": null,
   "metadata": {},
   "outputs": [],
   "source": [
    "analysis = AnalysisObj(octfile, demo.name)  # return an analysis object including the scan dimensions for back irradiance\n",
    "analysis.analysis(octfile, demo.name, scene.frontscan, scene.backscan)  # compare the back vs front irradiance  \n",
    "print('Annual bifacial ratio average:  %0.3f' %( sum(analysis.Wm2Back) / sum(analysis.Wm2Front) ) )\n"
   ]
  },
  {
   "cell_type": "markdown",
   "metadata": {},
   "source": [
    "And then you dance-dance-dance. Except that, at the current stage of the software, if you open the results you will notice that now some of the sensors are measuring the irradinace at the torque tube and must die... in a future version.\n",
    "\n",
    "(or increase the number of sensors by a lot and take them down in a separate routine in matlab all pretily and interpolate to have a consistent number of sensors with data while single axis tracking)."
   ]
  },
  {
   "cell_type": "markdown",
   "metadata": {},
   "source": [
    "# Single-axis-tracking by HOUR example\n",
    "\n",
    "Think of this as a fixed-tilt where the clearance height and the tracker tilt is changing. So the angles have to be re-calculated for every timestamp."
   ]
  },
  {
   "cell_type": "code",
   "execution_count": 2,
   "metadata": {},
   "outputs": [],
   "source": [
    "#Some variables again. Assuming bifacial_radiance was imported.\n",
    "\n",
    "timeindex = 4020 # Noon, June 17th. \n",
    "simulationname = '1axisTrack'+str(timeindex)\n",
    "\n",
    "# MakeModule Parameters\n",
    "module_type='my_little_pony_panel'\n",
    "module_height = 1.996  # 2-up portrait Longi with 15cm additional gap\n",
    "module_width = 0.991\n",
    "orientation='portrait' \n",
    "tilt = 10\n",
    "\n",
    "# Tracking Angle Calculation Parameters\n",
    "hub_height = 2.35   \n",
    "axis_azimuth = 180.0\n",
    "roundTrackerAngleBool = True \n",
    "angledelta = 5\n",
    "limit_angle = 45\n",
    "backtrack = True\n",
    "    \n",
    "# SceneDict Parameters\n",
    "gcr = 0.33   # ground cover ratio,  = module_height / pitch\n",
    "albedo = 0.28  #'concrete'     # ground albedo"
   ]
  },
  {
   "cell_type": "code",
   "execution_count": 3,
   "metadata": {},
   "outputs": [],
   "source": [
    "#separate folder for this example\n",
    "testfolder = r'C:\\Users\\sayala\\Documents\\RadianceScenes\\asdf2'"
   ]
  },
  {
   "cell_type": "code",
   "execution_count": 5,
   "metadata": {},
   "outputs": [
    {
     "name": "stdout",
     "output_type": "stream",
     "text": [
      "path = C:\\Users\\sayala\\Documents\\RadianceScenes\\asdf2\n",
      "Getting weather file: USA_VA_Richmond.Intl.AP.724010_TMY.epw  ... OK!\n",
      "Sky generated with Gendaylit 2, with DNI: 242.0, DHI: 377.0\n",
      "Datetime TimeIndex 1963-06-17 13:00:00-05:00\n",
      "\n",
      "Module Name: my_little_pony_panel\n",
      "Module file did not exist before, creating new module file\n",
      "Module my_little_pony_panel successfully created\n",
      "For this timestamp, panels are facing West\n",
      "Tracker theta has been calculated to 4.722 and rounded to nearest tracking angle 5.0\n",
      "Module clearance height has been calculated to 2.263, for this tracker theta.\n",
      "The Oconv filelist is:\n",
      "['materials\\\\ground.rad', 'skies\\\\sky2_1axisTrack4020.rad', 'objects\\\\my_little_pony_panel_2.263_6.048_20x7.rad']\n",
      "Created 1axisTrack4020.oct\n"
     ]
    }
   ],
   "source": [
    "# Running the simulation\n",
    "demo2 = RadianceObj(simulationname, path = testfolder)  # Create a RadianceObj 'object' named 'demo'\n",
    "demo2.setGround(albedo) # input albedo number or material name like 'concrete'.  To see options, run this without any input.\n",
    "epwfile = demo2.getEPW(37.5,-77.6) # pull TMY data for any global lat/lon\n",
    "metdata = demo2.readEPW(epwfile) # read in the weather data\n",
    "demo2.gendaylit2(metdata, 4020)  # Noon, June 17th\n",
    "\n",
    "demo2.makeModule(name=module_type,x=module_width,y=module_height)    \n",
    "tracker_theta, tracker_height, azimuth_ang = demo2._getTrackingGeometryTimeIndex(metdata, timeindex=timeindex, angledelta = angledelta, roundTrackerAngleBool = roundTrackerAngleBool, axis_azimuth = axis_azimuth, limit_angle = limit_angle, backtrack = backtrack, gcr = gcr, hubheight = hub_height, module_height = module_height )\n",
    "sceneDict = {'tilt':tracker_theta,'pitch': module_height / gcr,'height':tracker_height,'orientation':orientation,'azimuth':azimuth_ang, 'module_type':module_type}  \n",
    "scene = demo2.makeScene(module_type, sceneDict) #makeScene creates a .rad file with 20 modules per row, 7 rows.\n",
    "octfile = demo2.makeOct(demo2.getfilelist())  # makeOct combines all of the ground, sky and object files into a .oct file."
   ]
  },
  {
   "cell_type": "markdown",
   "metadata": {},
   "source": [
    "At this point you should be able to go into a command window (cmd.exe) and check the geometry. Example:\n",
    "    \n",
    "   ## rvu -vf views\\front.vp -e .01 Torque_tube_hex_test.oct\n",
    "   \n",
    "   And then proceed happily with your analysis:"
   ]
  },
  {
   "cell_type": "code",
   "execution_count": 6,
   "metadata": {},
   "outputs": [
    {
     "name": "stdout",
     "output_type": "stream",
     "text": [
      "Linescan in process: 1axisTrack4020_Front\n",
      "Linescan in process: 1axisTrack4020_Back\n",
      "Saved: results\\irr_1axisTrack4020.csv\n",
      "Annual bifacial ratio: 0.172 - 0.175\n"
     ]
    }
   ],
   "source": [
    "analysis = AnalysisObj(octfile, demo2.basename)  # return an analysis object including the scan dimensions for back irradiance\n",
    "frontDict, backDict = analysis.analysis(octfile, demo2.basename, scene.frontscan, scene.backscan)  # compare the back vs front irradiance  \n",
    "print('Annual bifacial ratio: %0.3f - %0.3f' %(min(analysis.backRatio), np.mean(analysis.backRatio)) )"
   ]
  },
  {
   "cell_type": "markdown",
   "metadata": {},
   "source": [
    "After you set up your system parameters, you can just change the timestamp and evaluate any day. You could also use gendaylit2manual to pass specific DNI/DHI if you so wanted.\n",
    "\n",
    "Enjoy!"
   ]
  },
  {
   "cell_type": "code",
   "execution_count": null,
   "metadata": {},
   "outputs": [],
   "source": []
  }
 ],
 "metadata": {
  "kernelspec": {
   "display_name": "Python 2",
   "language": "python",
   "name": "python2"
  },
  "language_info": {
   "codemirror_mode": {
    "name": "ipython",
    "version": 2
   },
   "file_extension": ".py",
   "mimetype": "text/x-python",
   "name": "python",
   "nbconvert_exporter": "python",
   "pygments_lexer": "ipython2",
   "version": "2.7.15"
  }
 },
 "nbformat": 4,
 "nbformat_minor": 2
}
