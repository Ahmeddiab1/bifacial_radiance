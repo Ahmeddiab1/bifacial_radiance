{
 "cells": [
  {
   "cell_type": "markdown",
   "metadata": {},
   "source": [
    "## test_1AxisBranch\n",
    "test configuring gencumulativesky for 1-axis tracking.\n",
    "\n"
   ]
  },
  {
   "cell_type": "code",
   "execution_count": null,
   "metadata": {
    "collapsed": false
   },
   "outputs": [],
   "source": []
  },
  {
   "cell_type": "code",
   "execution_count": null,
   "metadata": {
    "collapsed": false
   },
   "outputs": [
    {
     "name": "stdout",
     "output_type": "stream",
     "text": [
      "path = E:\\Documents\\Python Scripts\\TestFolder1axis\n",
      "Getting weather file: USA_VA_Richmond.Intl.AP.724010_TMY.epw  ... OK!\n",
      "Saving file EPWs\\1axis_0.0.csv, # points: 146\n",
      "Saving file EPWs\\1axis_-30.0.csv, # points: 142\n",
      "Saving file EPWs\\1axis_35.0.csv, # points: 52\n",
      "Saving file EPWs\\1axis_5.0.csv, # points: 22\n",
      "Saving file EPWs\\1axis_-25.0.csv, # points: 47\n",
      "Saving file EPWs\\1axis_40.0.csv, # points: 146\n",
      "Saving file EPWs\\1axis_10.0.csv, # points: 76\n",
      "Saving file EPWs\\1axis_-20.0.csv, # points: 165\n",
      "Saving file EPWs\\1axis_45.0.csv, # points: 1317\n",
      "Saving file EPWs\\1axis_15.0.csv, # points: 169\n",
      "Saving file EPWs\\1axis_-15.0.csv, # points: 69\n",
      "Saving file EPWs\\1axis_-45.0.csv, # points: 1351\n",
      "Saving file EPWs\\1axis_20.0.csv, # points: 46\n",
      "Saving file EPWs\\1axis_-10.0.csv, # points: 52\n",
      "Saving file EPWs\\1axis_-40.0.csv, # points: 55\n",
      "Saving file EPWs\\1axis_25.0.csv, # points: 162\n",
      "Saving file EPWs\\1axis_-5.0.csv, # points: 145\n",
      "Saving file EPWs\\1axis_-35.0.csv, # points: 128\n",
      "Saving file EPWs\\1axis_30.0.csv, # points: 101\n",
      "message: There were 112 sun up hours in this climate file\n",
      "Total Ibh/Lbh: 0.000000\n",
      "Created skyfile skies\\1axis_0.0.rad\n",
      "message: There were 112 sun up hours in this climate file\n",
      "Total Ibh/Lbh: 0.000000\n",
      "Created skyfile skies\\1axis_-30.0.rad\n",
      "message: There were 49 sun up hours in this climate file\n",
      "Total Ibh/Lbh: 0.000000\n",
      "Created skyfile skies\\1axis_35.0.rad\n",
      "message: There were 21 sun up hours in this climate file\n",
      "Total Ibh/Lbh: 0.000000\n",
      "Created skyfile skies\\1axis_5.0.rad\n",
      "message: There were 34 sun up hours in this climate file\n",
      "Total Ibh/Lbh: 0.000000\n",
      "Created skyfile skies\\1axis_-25.0.rad\n",
      "message: There were 125 sun up hours in this climate file\n",
      "Total Ibh/Lbh: 0.000000\n",
      "Created skyfile skies\\1axis_40.0.rad\n",
      "message: There were 58 sun up hours in this climate file\n",
      "Total Ibh/Lbh: 0.000000\n",
      "Created skyfile skies\\1axis_10.0.rad\n",
      "message: There were 133 sun up hours in this climate file\n",
      "Total Ibh/Lbh: 0.000000\n",
      "Created skyfile skies\\1axis_-20.0.rad\n",
      "message: There were 889 sun up hours in this climate file\n",
      "Total Ibh/Lbh: 0.000000\n",
      "Created skyfile skies\\1axis_45.0.rad\n",
      "message: There were 140 sun up hours in this climate file\n",
      "Total Ibh/Lbh: 0.000000\n",
      "Created skyfile skies\\1axis_15.0.rad\n",
      "message: There were 55 sun up hours in this climate file\n",
      "Total Ibh/Lbh: 0.000000\n",
      "Created skyfile skies\\1axis_-15.0.rad\n",
      "message: There were 1156 sun up hours in this climate file\n",
      "Total Ibh/Lbh: 0.000000\n",
      "Created skyfile skies\\1axis_-45.0.rad\n",
      "message: There were 41 sun up hours in this climate file\n",
      "Total Ibh/Lbh: 0.000000\n",
      "Created skyfile skies\\1axis_20.0.rad\n",
      "message: There were 44 sun up hours in this climate file\n",
      "Total Ibh/Lbh: 0.000000\n",
      "Created skyfile skies\\1axis_-10.0.rad\n",
      "message: There were 50 sun up hours in this climate file\n",
      "Total Ibh/Lbh: 0.000000\n",
      "Created skyfile skies\\1axis_-40.0.rad\n",
      "message: There were 130 sun up hours in this climate file\n",
      "Total Ibh/Lbh: 0.000000\n",
      "Created skyfile skies\\1axis_25.0.rad\n",
      "message: There were 118 sun up hours in this climate file\n",
      "Total Ibh/Lbh: 0.000000\n",
      "Created skyfile skies\\1axis_-5.0.rad\n",
      "message: There were 106 sun up hours in this climate file\n",
      "Total Ibh/Lbh: 0.000000\n",
      "Created skyfile skies\\1axis_-35.0.rad\n",
      "message: There were 90 sun up hours in this climate file\n",
      "Total Ibh/Lbh: 0.000000\n",
      "Created skyfile skies\\1axis_30.0.rad\n",
      "Module Prism Solar Bi60 successfully created\n",
      "Available module names: ['mini_panel', 'simple_panel', 'monopanel', 'Prism Solar Bi60']\n",
      "created 1axis_0.0.oct created 1axis_-30.0.oct created 1axis_35.0.oct created 1axis_5.0.oct created 1axis_-25.0.oct created 1axis_40.0.oct created 1axis_10.0.oct created 1axis_-20.0.oct created 1axis_45.0.oct created 1axis_15.0.oct created 1axis_-15.0.oct created 1axis_-45.0.oct created 1axis_20.0.oct created 1axis_-10.0.oct created 1axis_-40.0.oct created 1axis_25.0.oct created 1axis_-5.0.oct"
     ]
    }
   ],
   "source": [
    "try:\n",
    "    from bifacial_radiance import *\n",
    "except ImportError:\n",
    "    raise RuntimeError('bifacial_radiance is required. download distribution')\n",
    "    # Simple example system using Radiance.\n",
    "#import easygui  # this is only required if you want a graphical directory picker  \n",
    "testfolder = r'E:\\Documents\\Python Scripts\\TestFolder1axis'  #point to an empty directory or existing Radiance directory\n",
    "#testfolder = easygui.diropenbox(msg = 'Select or create an empty directory for the Radiance tree',title='Browse for empty Radiance directory')\n",
    "demo = RadianceObj(path = testfolder)  # Create a RadianceObj 'object'\n",
    "\n",
    "demo.setGround(0.2) # input albedo number or material name like 'concrete'.  To see options, run this without any input.\n",
    "\n",
    "epwfile = demo.getEPW(37.5,-77.6) #can't run this within NREL firewall. Otherwise, pull TMY data for any global lat/lon\n",
    "    \n",
    "metdata = demo.readEPW(epwfile) # read in the weather data\n",
    "\n",
    "# create metdata files for each condition\n",
    "trackerdict = demo.set1axis(metdata)\n",
    "\n",
    "# new gencumulativesky function: demo.genCumSky1axis\n",
    "trackerdict = demo.genCumSky1axis(trackerdict)\n",
    "# Create a new moduletype: Prism Solar Bi60. x = .984 y = 1.695. Bifaciality = 0.90\n",
    "demo.makeModule(name='Prism Solar Bi60',x=0.984,y=1.695,bifi = 0.90)\n",
    "# print available module types\n",
    "demo.printModules()\n",
    "# create a scene using panels in portrait, 2m height, 0.33 GCR. NOTE: clearance needs to be calculated at each step. hub height is constant\n",
    "sceneDict = {'pitch':1.7*3,'height':2,'orientation':'portrait'}  \n",
    "module_type = 'Prism Solar Bi60'\n",
    "trackerdict = demo.makeScene1axis(trackerdict,module_type,sceneDict, nMods = 20, nRows = 7) #makeScene creates a .rad file with 20 modules per row, 7 rows.\n",
    "\n",
    "trackerdict = demo.makeOct1axis(trackerdict)\n",
    "# Now we need to run analysis and combine the results into an annual total.  This can be done by calling scene.frontscan and scene.backscan\n",
    "trackerdict = demo.analysis1axis(trackerdict)\n"
   ]
  },
  {
   "cell_type": "code",
   "execution_count": null,
   "metadata": {
    "collapsed": false
   },
   "outputs": [],
   "source": [
    "print('Annual bifacial ratio: %0.3f - %0.3f' %(min(demo.backRatio), np.mean(demo.backRatio)) )\n",
    "\n"
   ]
  },
  {
   "cell_type": "code",
   "execution_count": null,
   "metadata": {
    "collapsed": false,
    "scrolled": true
   },
   "outputs": [],
   "source": [
    "# Now compare workflow using stored self inputs\n",
    "try:\n",
    "    from bifacial_radiance import *\n",
    "except ImportError:\n",
    "    raise RuntimeError('bifacial_radiance is required. download distribution')\n",
    "    # Simple example system using Radiance.\n",
    "#import easygui  # this is only required if you want a graphical directory picker  \n",
    "testfolder = r'E:\\Documents\\Python Scripts\\TestFolder1axis'  #point to an empty directory or existing Radiance directory\n",
    "#testfolder = easygui.diropenbox(msg = 'Select or create an empty directory for the Radiance tree',title='Browse for empty Radiance directory')\n",
    "demo = RadianceObj(path = testfolder)  # Create a RadianceObj 'object'\n",
    "\n",
    "demo.setGround(0.2) # input albedo number or material name like 'concrete'.  To see options, run this without any input.\n",
    "\n",
    "epwfile = demo.getEPW(37.5,-77.6) #can't run this within NREL firewall. Otherwise, pull TMY data for any global lat/lon\n",
    "    \n",
    "metdata = demo.readEPW(epwfile) # read in the weather data\n",
    "\n",
    "# create metdata files for each condition\n",
    "demo.set1axis()\n",
    "\n",
    "# new gencumulativesky function: demo.genCumSky1axis\n",
    "demo.genCumSky1axis()\n",
    "# Create a new moduletype: Prism Solar Bi60. x = .984 y = 1.695. Bifaciality = 0.90\n",
    "demo.makeModule(name='Prism Solar Bi60',x=0.984,y=1.695,bifi = 0.90)\n",
    "# print available module types\n",
    "demo.printModules()\n",
    "# create a scene using panels in portrait, 2m height, 0.33 GCR. NOTE: clearance needs to be calculated at each step. hub height is constant\n",
    "sceneDict = {'pitch':1.7*3,'height':2,'orientation':'portrait'}  \n",
    "module_type = 'Prism Solar Bi60'\n",
    "demo.makeScene1axis(moduletype=module_type,sceneDict = sceneDict, nMods = 20, nRows = 7) #makeScene creates a .rad file with 20 modules per row, 7 rows.\n",
    "\n",
    "demo.makeOct1axis()\n",
    "# Now we need to run analysis and combine the results into an annual total.  This can be done by calling scene.frontscan and scene.backscan\n",
    "demo.analysis1axis()"
   ]
  },
  {
   "cell_type": "code",
   "execution_count": null,
   "metadata": {
    "collapsed": false
   },
   "outputs": [],
   "source": [
    "print('Annual bifacial ratio: %0.3f - %0.3f' %(min(demo.backRatio), np.mean(demo.backRatio)) )\n",
    "\n"
   ]
  },
  {
   "cell_type": "code",
   "execution_count": null,
   "metadata": {
    "collapsed": false
   },
   "outputs": [],
   "source": []
  },
  {
   "cell_type": "code",
   "execution_count": null,
   "metadata": {
    "collapsed": false
   },
   "outputs": [],
   "source": [
    "\n"
   ]
  },
  {
   "cell_type": "code",
   "execution_count": null,
   "metadata": {
    "collapsed": true
   },
   "outputs": [],
   "source": [
    "# next steps:  \n",
    "# 1. create gencumulativesky file for each angle step (CHECK)\n",
    "# 2. create radfile geometry for each angle step (CHECK)\n",
    "# 3. generate octree file for each angle step (CHECK)\n",
    "# 4. determine analysis linescan for each angle step (CHECK)\n",
    "# 5. totalize results"
   ]
  },
  {
   "cell_type": "code",
   "execution_count": null,
   "metadata": {
    "collapsed": false
   },
   "outputs": [],
   "source": [
    "\n",
    "# the frontscan and backscan include a linescan along a chord of the module, both on the front and back.  \n",
    "# Return the minimum of the irradiance values, and the average of the irradiance values along a chord of the module.\n",
    "print('Annual bifacial ratio: %0.3f - %0.3f' %(min(analysis.backRatio), np.mean(analysis.backRatio)) )\n"
   ]
  },
  {
   "cell_type": "code",
   "execution_count": null,
   "metadata": {
    "collapsed": false
   },
   "outputs": [],
   "source": [
    "# Make a color render and falsecolor image of the scene\n",
    "analysis.makeImage('side.vp')\n",
    "analysis.makeFalseColor('side.vp')"
   ]
  },
  {
   "cell_type": "code",
   "execution_count": null,
   "metadata": {
    "collapsed": true
   },
   "outputs": [],
   "source": [
    "# some other older examples.  Backward compatibility not guaranteed!\n",
    "'''\n",
    "    demo = RadianceObj('G173gencumsky_3.0m')  \n",
    "    demo.setGround('litesoil')\n",
    "    metdata = demo.readEPW(r'USA_CO_Boulder.724699_TMY2.epw')\n",
    "    # sky data for index 4010 - 4028 (June 17)  \n",
    "    #demo.gendaylit(metdata,4020)\n",
    "    demo.genCumSky(r'USA_CO_Boulder.724699_TMY2.epw')\n",
    "    octfile = demo.makeOct(demo.filelist + ['objects\\\\monopanel_G173_ht_3.0.rad'])\n",
    "    analysis = AnalysisObj(octfile, demo.basename)\n",
    "    analysis.G173analysis(octfile, demo.basename)\n",
    "    \n",
    "    demo2 = RadianceObj('G173gendaylit_3.0m')  \n",
    "    demo2.setGround('litesoil')\n",
    "    metdata = demo2.readEPW(r'USA_CO_Boulder.724699_TMY2.epw')\n",
    "    # sky data for index 4010 - 4028 (June 17)  \n",
    "    demo2.gendaylit(metdata,4020)\n",
    "    #demo.genCumSky(r'USA_CO_Boulder.724699_TMY2.epw')\n",
    "    octfile = demo2.makeOct(demo.filelist + ['objects\\\\monopanel_G173_ht_3.0.rad'])\n",
    "    analysis2 = AnalysisObj(octfile, demo2.basename)\n",
    "    analysis2.G173analysis(octfile, demo2.basename)\n",
    "\n",
    "    pvscdemo = RadianceObj('PVSC_gencumsky')  \n",
    "    pvscdemo.setGround('litesoil')\n",
    "    epwfile = pvscdemo.getEPW(40,-105)\n",
    "    metdata = pvscdemo.readEPW(epwfile)\n",
    "    # sky data for index 4010 - 4028 (June 17)  \n",
    "    #demo.gendaylit(metdata,4020)\n",
    "    start = datetime.datetime(2000,6,17,12)\n",
    "    end = datetime.datetime(2000,6,17,13)\n",
    "    pvscdemo.genCumSky(r'USA_CO_Boulder.724699_TMY2.epw', start, end)\n",
    "    octfile = pvscdemo.makeOct(pvscdemo.filelist + ['objects\\\\PVSC_4array.rad'])\n",
    "    pvscdemo.analysis(octfile, pvscdemo.basename)\n",
    "\n",
    "    pvscdemo = RadianceObj('PVSC_gendaylit')  \n",
    "    pvscdemo.setGround('litesoil')\n",
    "    metdata = pvscdemo.readEPW(r'USA_CO_Boulder.724699_TMY2.epw')\n",
    "    # sky data for index 4010 - 4028 (June 17)  \n",
    "    pvscdemo.gendaylit(metdata,4020)\n",
    "    #pvscdemo.genCumSky(r'USA_CO_Boulder.724699_TMY2.epw',datetime.datetime(2000,6,17,0), datetime.datetime(2000,6,17,23))\n",
    "    octfile = pvscdemo.makeOct(pvscdemo.filelist + ['objects\\\\PVSC_4array.rad'])\n",
    "    analysis = pvscdemo.analysis(octfile, pvscdemo.basename)\n",
    "    analysis.makeImage('PVSCfront.vp')\n",
    "    '''"
   ]
  }
 ],
 "metadata": {
  "anaconda-cloud": {},
  "kernelspec": {
   "display_name": "Python [conda root]",
   "language": "python",
   "name": "conda-root-py"
  },
  "language_info": {
   "codemirror_mode": {
    "name": "ipython",
    "version": 2
   },
   "file_extension": ".py",
   "mimetype": "text/x-python",
   "name": "python",
   "nbconvert_exporter": "python",
   "pygments_lexer": "ipython2",
   "version": "2.7.12"
  }
 },
 "nbformat": 4,
 "nbformat_minor": 1
}
