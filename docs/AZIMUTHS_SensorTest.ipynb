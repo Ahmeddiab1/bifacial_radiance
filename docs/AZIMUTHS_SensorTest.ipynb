{
 "cells": [
  {
   "cell_type": "code",
   "execution_count": 1,
   "metadata": {},
   "outputs": [
    {
     "name": "stdout",
     "output_type": "stream",
     "text": [
      " Successful import of bifacial_radiance version . \n"
     ]
    }
   ],
   "source": [
    "import sys\n",
    "\n",
    "sys.path.insert(0, '../bifacial_radiance')\n",
    "\n",
    "try:\n",
    "    from bifacial_radiance import *\n",
    "    print \" Successful import of bifacial_radiance version . \"\n",
    "except ImportError:\n",
    "    raise RuntimeError('bifacial_radiance is required. download distribution')\n",
    "    # Simple example system using Radiance."
   ]
  },
  {
   "cell_type": "markdown",
   "metadata": {},
   "source": [
    "# 30"
   ]
  },
  {
   "cell_type": "code",
   "execution_count": 7,
   "metadata": {},
   "outputs": [
    {
     "name": "stdout",
     "output_type": "stream",
     "text": [
      "path = C:\\Users\\sayala\\Documents\\RadianceScenes\\Octtest\n",
      "Saving file EPWs\\tmy3_temp.csv, # points: 8760\n",
      "('\\nModule Name:', 'high_azimuth_angle_end_to_end')\n",
      "REWRITING pre-existing module file. \n",
      "Module high_azimuth_angle_end_to_end successfully created\n",
      "ZINC\n",
      "\n",
      "Case 0 \n",
      "Created high_azimuth_angle_end_to_end.oct\n",
      "Linescan in process: high_azimuth_angle_end_to_end_Front\n",
      "Linescan in process: high_azimuth_angle_end_to_end_Back\n",
      "Saved: results\\irr_high_azimuth_angle_end_to_end.csv\n",
      "Annual bifacial ratio average:  0.243\n"
     ]
    }
   ],
   "source": [
    "testfolder = r'C:\\Users\\sayala\\Documents\\RadianceScenes\\Octtest'\n",
    "module_type='high_azimuth_angle_end_to_end'\n",
    "\n",
    "demo = RadianceObj(module_type,path = testfolder)  # Create a RadianceObj 'object'\n",
    "demo.setGround('white_EPDM') # input albedo number or material name like 'concrete'.  To see options, run this without any input.\n",
    "\n",
    "tmy=r\"C:\\Users\\sayala\\Documents\\GitHub\\bifacial_radiance\\tests\\724666TYA.CSV\"\n",
    "metdata = demo.readTMY(tmy) # read in the EPW weather data from above\n",
    "#metdata = demo.readTMY() # select a TMY file using graphical picker\n",
    "# Now we either choose a single time point, or use cumulativesky for the entire year. \n",
    "demo.gendaylit(metdata,4020)  # Noon, June 17th\n",
    "\n",
    "#We have a 2-up configuration in portrait. This section helps sort what is the COLLECTOR WIDTH to use.\n",
    "\n",
    "moduledict = demo.makeModule(name=module_type, y=0.95,x=1.59, xgap=0.5)\n",
    "\n",
    "sceneDict = {'tilt':10,'pitch':1.5,'height':0.2,'azimuth':30}  \n",
    "\n",
    "scene = demo.makeScene(moduletype=module_type, sceneDict=sceneDict, nMods = 3, nRows = 3, modwanted=1, rowwanted=1) #makeScene creates a .rad file with 20 modules per row, 7 rows.\n",
    "\n",
    "octfile = demo.makeOct(demo.getfilelist())  # makeOct combines all of the ground, sky and object files into a .oct file.\n",
    "\n",
    "analysis = AnalysisObj(octfile, demo.name)  # return an analysis object including the scan dimensions for back irradiance\n",
    "analysis.analysis(octfile, demo.name, scene.frontscan, scene.backscan)  # compare the back vs front irradiance  \n",
    "print('Annual bifacial ratio average:  %0.3f' %( sum(analysis.Wm2Back) / sum(analysis.Wm2Front) ) )\n"
   ]
  },
  {
   "cell_type": "markdown",
   "metadata": {},
   "source": [
    "At this point you should be able to go into a command window (cmd.exe) and check the geometry. Example:\n",
    "\n",
    "rvu -vf views\\front.vp -e .01 high_azimuth_angle_end_to_end.oct \n",
    "\n",
    "Looks good. Next:"
   ]
  },
  {
   "cell_type": "code",
   "execution_count": 8,
   "metadata": {},
   "outputs": [
    {
     "name": "stdout",
     "output_type": "stream",
     "text": [
      "('\\nCustom Object Name', 'objects\\\\Mycube.rad')\n",
      "('\\nCustom Object Name', 'objects\\\\Seee1.rad')\n",
      "('\\nCustom Object Name', 'objects\\\\Seee2.rad')\n",
      "Created high_azimuth_angle_end_to_end.oct\n"
     ]
    }
   ],
   "source": [
    "\n",
    "# Addinga a totem pole to check Center point of the Scene (0,0)\n",
    "name='Mycube'\n",
    "text='! genbox black cuteBox 0.05 0.05 0.25 | xform -t -0.025 -0.025 0'\n",
    "customObject = demo.makeCustomObject(name,text)\n",
    "demo.appendtoScene(scene.radfile, customObject, '!xform -rz 0')\n",
    "\n",
    "# Addinga a totem pole to check Center point of the Scene (0,0)\n",
    "name='Seee1'\n",
    "text='! genbox black S1 0.05 0.05 0.75 | xform -t 1.763215 -1.126023 0'\n",
    "customObject = demo.makeCustomObject(name,text)\n",
    "demo.appendtoScene(scene.radfile, customObject, '!xform -rz 0')\n",
    "\n",
    "# Addinga a totem pole to check Center point of the Scene (0,0)\n",
    "name='Seee2'\n",
    "text='! genbox black S2 0.05 0.05 1.0 | xform -t 1.388988 -1.774203 0'\n",
    "customObject = demo.makeCustomObject(name,text)\n",
    "demo.appendtoScene(scene.radfile, customObject, '!xform -rz 0')\n",
    "octfile = demo.makeOct(demo.getfilelist())  # makeOct combines all of the ground, sky and object files into a .oct file.\n",
    "\n"
   ]
  },
  {
   "cell_type": "code",
   "execution_count": null,
   "metadata": {},
   "outputs": [],
   "source": []
  },
  {
   "cell_type": "code",
   "execution_count": null,
   "metadata": {},
   "outputs": [],
   "source": []
  },
  {
   "cell_type": "code",
   "execution_count": null,
   "metadata": {},
   "outputs": [],
   "source": []
  },
  {
   "cell_type": "markdown",
   "metadata": {},
   "source": [
    "# 210 now\n"
   ]
  },
  {
   "cell_type": "code",
   "execution_count": 2,
   "metadata": {
    "scrolled": true
   },
   "outputs": [
    {
     "name": "stdout",
     "output_type": "stream",
     "text": [
      "path = C:\\Users\\sayala\\Documents\\RadianceScenes\\Octtest\n",
      "Saving file EPWs\\tmy3_temp.csv, # points: 8760\n",
      "('\\nModule Name:', 'high_azimuth_angle_end_to_end')\n",
      "REWRITING pre-existing module file. \n",
      "Module high_azimuth_angle_end_to_end successfully created\n",
      " \n",
      "\n",
      " Inverted \n",
      "\n",
      "\n",
      "ZINC\n",
      "\n",
      "Case 0 \n",
      "Created high_azimuth_angle_end_to_end.oct\n",
      "Linescan in process: high_azimuth_angle_end_to_end_Front\n",
      "Linescan in process: high_azimuth_angle_end_to_end_Back\n",
      "Saved: results\\irr_high_azimuth_angle_end_to_end.csv\n",
      "Annual bifacial ratio average:  0.193\n"
     ]
    }
   ],
   "source": [
    "testfolder = r'C:\\Users\\sayala\\Documents\\RadianceScenes\\Octtest'\n",
    "module_type='high_azimuth_angle_end_to_end'\n",
    "\n",
    "demo = RadianceObj(module_type,path = testfolder)  # Create a RadianceObj 'object'\n",
    "demo.setGround('white_EPDM') # input albedo number or material name like 'concrete'.  To see options, run this without any input.\n",
    "\n",
    "tmy=r\"C:\\Users\\sayala\\Documents\\GitHub\\bifacial_radiance\\tests\\724666TYA.CSV\"\n",
    "metdata = demo.readTMY(tmy) # read in the EPW weather data from above\n",
    "#metdata = demo.readTMY() # select a TMY file using graphical picker\n",
    "# Now we either choose a single time point, or use cumulativesky for the entire year. \n",
    "demo.gendaylit(metdata,4020)  # Noon, June 17th\n",
    "\n",
    "#We have a 2-up configuration in portrait. This section helps sort what is the COLLECTOR WIDTH to use.\n",
    "\n",
    "moduledict = demo.makeModule(name=module_type, y=0.95,x=1.59, xgap=0.5)\n",
    "\n",
    "sceneDict = {'tilt':10,'pitch':1.5,'height':0.2,'azimuth':210}  \n",
    "\n",
    "scene = demo.makeScene(moduletype=module_type, sceneDict=sceneDict, nMods = 3, nRows = 3, modwanted=1, rowwanted=1) #makeScene creates a .rad file with 20 modules per row, 7 rows.\n",
    "\n",
    "octfile = demo.makeOct(demo.getfilelist())  # makeOct combines all of the ground, sky and object files into a .oct file.\n",
    "\n",
    "analysis = AnalysisObj(octfile, demo.name)  # return an analysis object including the scan dimensions for back irradiance\n",
    "analysis.analysis(octfile, demo.name, scene.frontscan, scene.backscan)  # compare the back vs front irradiance  \n",
    "print('Annual bifacial ratio average:  %0.3f' %( sum(analysis.Wm2Back) / sum(analysis.Wm2Front) ) )\n"
   ]
  },
  {
   "cell_type": "code",
   "execution_count": 3,
   "metadata": {},
   "outputs": [
    {
     "name": "stdout",
     "output_type": "stream",
     "text": [
      "('\\nCustom Object Name', 'objects\\\\Mycube.rad')\n",
      "('\\nCustom Object Name', 'objects\\\\Seee1.rad')\n",
      "('\\nCustom Object Name', 'objects\\\\Seee2.rad')\n",
      "Created high_azimuth_angle_end_to_end.oct\n"
     ]
    }
   ],
   "source": [
    "\n",
    "# Addinga a totem pole to check Center point of the Scene (0,0)\n",
    "name='Mycube'\n",
    "text='! genbox black cuteBox 0.05 0.05 0.5 | xform -t -0.025 -0.025 0'\n",
    "customObject = demo.makeCustomObject(name,text)\n",
    "demo.appendtoScene(scene.radfile, customObject, '!xform -rz 0')\n",
    "\n",
    "# Addinga a totem pole to check Center point of the Scene (0,0)\n",
    "name='Seee1'\n",
    "text='! genbox black S1 0.05 0.05 0.75 | xform -t -1.388988 1.774203 0'\n",
    "customObject = demo.makeCustomObject(name,text)\n",
    "demo.appendtoScene(scene.radfile, customObject, '!xform -rz 0')\n",
    "\n",
    "# Addinga a totem pole to check Center point of the Scene (0,0)\n",
    "name='Seee2'\n",
    "text='! genbox black S2 0.05 0.05 1.0 | xform -t -1.763215 1.126023 0'\n",
    "customObject = demo.makeCustomObject(name,text)\n",
    "demo.appendtoScene(scene.radfile, customObject, '!xform -rz 0')\n",
    "octfile = demo.makeOct(demo.getfilelist())  # makeOct combines all of the ground, sky and object files into a .oct file."
   ]
  },
  {
   "cell_type": "markdown",
   "metadata": {},
   "source": [
    "# 50 "
   ]
  },
  {
   "cell_type": "code",
   "execution_count": 10,
   "metadata": {},
   "outputs": [
    {
     "name": "stdout",
     "output_type": "stream",
     "text": [
      "path = C:\\Users\\sayala\\Documents\\RadianceScenes\\Octtest\n",
      "Saving file EPWs\\tmy3_temp.csv, # points: 8760\n",
      "('\\nModule Name:', 'high_azimuth_angle_end_to_end')\n",
      "REWRITING pre-existing module file. \n",
      "Module high_azimuth_angle_end_to_end successfully created\n",
      "ZINC\n",
      "\n",
      "Case 0 \n",
      "Created high_azimuth_angle_end_to_end.oct\n",
      "Linescan in process: high_azimuth_angle_end_to_end_Front\n",
      "Linescan in process: high_azimuth_angle_end_to_end_Back\n",
      "Saved: results\\irr_high_azimuth_angle_end_to_end.csv\n",
      "Annual bifacial ratio average:  0.240\n"
     ]
    }
   ],
   "source": [
    "testfolder = r'C:\\Users\\sayala\\Documents\\RadianceScenes\\Octtest'\n",
    "module_type='high_azimuth_angle_end_to_end'\n",
    "\n",
    "demo = RadianceObj(module_type,path = testfolder)  # Create a RadianceObj 'object'\n",
    "demo.setGround('white_EPDM') # input albedo number or material name like 'concrete'.  To see options, run this without any input.\n",
    "\n",
    "tmy=r\"C:\\Users\\sayala\\Documents\\GitHub\\bifacial_radiance\\tests\\724666TYA.CSV\"\n",
    "metdata = demo.readTMY(tmy) # read in the EPW weather data from above\n",
    "#metdata = demo.readTMY() # select a TMY file using graphical picker\n",
    "# Now we either choose a single time point, or use cumulativesky for the entire year. \n",
    "demo.gendaylit(metdata,4020)  # Noon, June 17th\n",
    "\n",
    "#We have a 2-up configuration in portrait. This section helps sort what is the COLLECTOR WIDTH to use.\n",
    "\n",
    "moduledict = demo.makeModule(name=module_type, y=0.95,x=1.59, xgap=0.5)\n",
    "\n",
    "sceneDict = {'tilt':10,'pitch':1.5,'height':0.2,'azimuth':50}  \n",
    "\n",
    "scene = demo.makeScene(moduletype=module_type, sceneDict=sceneDict, nMods = 3, nRows = 3, modwanted=1, rowwanted=1) #makeScene creates a .rad file with 20 modules per row, 7 rows.\n",
    "\n",
    "octfile = demo.makeOct(demo.getfilelist())  # makeOct combines all of the ground, sky and object files into a .oct file.\n",
    "\n",
    "analysis = AnalysisObj(octfile, demo.name)  # return an analysis object including the scan dimensions for back irradiance\n",
    "analysis.analysis(octfile, demo.name, scene.frontscan, scene.backscan)  # compare the back vs front irradiance  \n",
    "print('Annual bifacial ratio average:  %0.3f' %( sum(analysis.Wm2Back) / sum(analysis.Wm2Front) ) )\n"
   ]
  },
  {
   "cell_type": "code",
   "execution_count": 11,
   "metadata": {},
   "outputs": [
    {
     "name": "stdout",
     "output_type": "stream",
     "text": [
      "('\\nCustom Object Name', 'objects\\\\Mycube.rad')\n",
      "('\\nCustom Object Name', 'objects\\\\Seee1.rad')\n",
      "('\\nCustom Object Name', 'objects\\\\Seee2.rad')\n",
      "Created high_azimuth_angle_end_to_end.oct\n"
     ]
    }
   ],
   "source": [
    "\n",
    "# Addinga a totem pole to check Center point of the Scene (0,0)\n",
    "name='Mycube'\n",
    "text='! genbox black cuteBox 0.05 0.05 0.5 | xform -t -0.025 -0.025 0'\n",
    "customObject = demo.makeCustomObject(name,text)\n",
    "demo.appendtoScene(scene.radfile, customObject, '!xform -rz 0')\n",
    "\n",
    "# Addinga a totem pole to check Center point of the Scene (0,0)\n",
    "name='Seee1'\n",
    "text='! genbox black S1 0.05 0.05 0.75 | xform -t 1.271757 -1.66117 0'\n",
    "customObject = demo.makeCustomObject(name,text)\n",
    "demo.appendtoScene(scene.radfile, customObject, '!xform -rz 0')\n",
    "\n",
    "# Addinga a totem pole to check Center point of the Scene (0,0)\n",
    "name='Seee2'\n",
    "text='! genbox black S2 0.05 0.05 1.0 | xform -t 0.6984085 -2.142267 0'\n",
    "customObject = demo.makeCustomObject(name,text)\n",
    "demo.appendtoScene(scene.radfile, customObject, '!xform -rz 0')\n",
    "octfile = demo.makeOct(demo.getfilelist())  # makeOct combines all of the ground, sky and object files into a .oct file."
   ]
  },
  {
   "cell_type": "markdown",
   "metadata": {},
   "source": [
    "# 230"
   ]
  },
  {
   "cell_type": "code",
   "execution_count": 13,
   "metadata": {},
   "outputs": [
    {
     "name": "stdout",
     "output_type": "stream",
     "text": [
      "path = C:\\Users\\sayala\\Documents\\RadianceScenes\\Octtest\n",
      "Saving file EPWs\\tmy3_temp.csv, # points: 8760\n",
      "('\\nModule Name:', 'high_azimuth_angle_end_to_end')\n",
      "REWRITING pre-existing module file. \n",
      "Module high_azimuth_angle_end_to_end successfully created\n",
      " \n",
      "\n",
      " Inverted \n",
      "\n",
      "\n",
      "ZINC\n",
      "\n",
      "Case 0 \n",
      "Created high_azimuth_angle_end_to_end.oct\n",
      "Linescan in process: high_azimuth_angle_end_to_end_Front\n",
      "Linescan in process: high_azimuth_angle_end_to_end_Back\n",
      "Saved: results\\irr_high_azimuth_angle_end_to_end.csv\n",
      "Annual bifacial ratio average:  0.187\n"
     ]
    }
   ],
   "source": [
    "testfolder = r'C:\\Users\\sayala\\Documents\\RadianceScenes\\Octtest'\n",
    "module_type='high_azimuth_angle_end_to_end'\n",
    "\n",
    "demo = RadianceObj(module_type,path = testfolder)  # Create a RadianceObj 'object'\n",
    "demo.setGround('white_EPDM') # input albedo number or material name like 'concrete'.  To see options, run this without any input.\n",
    "\n",
    "tmy=r\"C:\\Users\\sayala\\Documents\\GitHub\\bifacial_radiance\\tests\\724666TYA.CSV\"\n",
    "metdata = demo.readTMY(tmy) # read in the EPW weather data from above\n",
    "#metdata = demo.readTMY() # select a TMY file using graphical picker\n",
    "# Now we either choose a single time point, or use cumulativesky for the entire year. \n",
    "demo.gendaylit(metdata,4020)  # Noon, June 17th\n",
    "\n",
    "#We have a 2-up configuration in portrait. This section helps sort what is the COLLECTOR WIDTH to use.\n",
    "\n",
    "moduledict = demo.makeModule(name=module_type, y=0.95,x=1.59, xgap=0.5)\n",
    "\n",
    "sceneDict = {'tilt':10,'pitch':1.5,'height':0.2,'azimuth':230}  \n",
    "\n",
    "scene = demo.makeScene(moduletype=module_type, sceneDict=sceneDict, nMods = 3, nRows = 3, modwanted=1, rowwanted=1) #makeScene creates a .rad file with 20 modules per row, 7 rows.\n",
    "\n",
    "octfile = demo.makeOct(demo.getfilelist())  # makeOct combines all of the ground, sky and object files into a .oct file.\n",
    "\n",
    "analysis = AnalysisObj(octfile, demo.name)  # return an analysis object including the scan dimensions for back irradiance\n",
    "analysis.analysis(octfile, demo.name, scene.frontscan, scene.backscan)  # compare the back vs front irradiance  \n",
    "print('Annual bifacial ratio average:  %0.3f' %( sum(analysis.Wm2Back) / sum(analysis.Wm2Front) ) )\n"
   ]
  },
  {
   "cell_type": "code",
   "execution_count": 14,
   "metadata": {},
   "outputs": [
    {
     "name": "stdout",
     "output_type": "stream",
     "text": [
      "('\\nCustom Object Name', 'objects\\\\Mycube.rad')\n",
      "('\\nCustom Object Name', 'objects\\\\Seee1.rad')\n",
      "('\\nCustom Object Name', 'objects\\\\Seee2.rad')\n",
      "Created high_azimuth_angle_end_to_end.oct\n"
     ]
    }
   ],
   "source": [
    "\n",
    "# Addinga a totem pole to check Center point of the Scene (0,0)\n",
    "name='Mycube'\n",
    "text='! genbox black cuteBox 0.05 0.05 0.5 | xform -t -0.025 -0.025 0'\n",
    "customObject = demo.makeCustomObject(name,text)\n",
    "demo.appendtoScene(scene.radfile, customObject, '!xform -rz 0')\n",
    "\n",
    "# Addinga a totem pole to check Center point of the Scene (0,0)\n",
    "name='Seee1'\n",
    "text='! genbox black S1 0.05 0.05 0.75 | xform -t -0.6984085 2.142267 0'\n",
    "customObject = demo.makeCustomObject(name,text)\n",
    "demo.appendtoScene(scene.radfile, customObject, '!xform -rz 0')\n",
    "\n",
    "# Addinga a totem pole to check Center point of the Scene (0,0)\n",
    "name='Seee2'\n",
    "text='! genbox black S2 0.05 0.05 1.0 | xform -t -1.271757 1.66117 0'\n",
    "customObject = demo.makeCustomObject(name,text)\n",
    "demo.appendtoScene(scene.radfile, customObject, '!xform -rz 0')\n",
    "octfile = demo.makeOct(demo.getfilelist())  # makeOct combines all of the ground, sky and object files into a .oct file."
   ]
  },
  {
   "cell_type": "markdown",
   "metadata": {},
   "source": [
    "# 90"
   ]
  },
  {
   "cell_type": "code",
   "execution_count": 15,
   "metadata": {},
   "outputs": [
    {
     "name": "stdout",
     "output_type": "stream",
     "text": [
      "path = C:\\Users\\sayala\\Documents\\RadianceScenes\\Octtest\n",
      "Saving file EPWs\\tmy3_temp.csv, # points: 8760\n",
      "('\\nModule Name:', 'high_azimuth_angle_end_to_end')\n",
      "REWRITING pre-existing module file. \n",
      "Module high_azimuth_angle_end_to_end successfully created\n",
      "ZINC\n",
      "\n",
      "Case 0 \n",
      "Created high_azimuth_angle_end_to_end.oct\n",
      "Linescan in process: high_azimuth_angle_end_to_end_Front\n",
      "Linescan in process: high_azimuth_angle_end_to_end_Back\n",
      "Saved: results\\irr_high_azimuth_angle_end_to_end.csv\n",
      "Annual bifacial ratio average:  0.217\n"
     ]
    }
   ],
   "source": [
    "testfolder = r'C:\\Users\\sayala\\Documents\\RadianceScenes\\Octtest'\n",
    "module_type='high_azimuth_angle_end_to_end'\n",
    "\n",
    "demo = RadianceObj(module_type,path = testfolder)  # Create a RadianceObj 'object'\n",
    "demo.setGround('white_EPDM') # input albedo number or material name like 'concrete'.  To see options, run this without any input.\n",
    "\n",
    "tmy=r\"C:\\Users\\sayala\\Documents\\GitHub\\bifacial_radiance\\tests\\724666TYA.CSV\"\n",
    "metdata = demo.readTMY(tmy) # read in the EPW weather data from above\n",
    "#metdata = demo.readTMY() # select a TMY file using graphical picker\n",
    "# Now we either choose a single time point, or use cumulativesky for the entire year. \n",
    "demo.gendaylit(metdata,4020)  # Noon, June 17th\n",
    "\n",
    "#We have a 2-up configuration in portrait. This section helps sort what is the COLLECTOR WIDTH to use.\n",
    "\n",
    "moduledict = demo.makeModule(name=module_type, y=0.95,x=1.59, xgap=0.5)\n",
    "\n",
    "sceneDict = {'tilt':10,'pitch':1.5,'height':0.2,'azimuth':90}  \n",
    "\n",
    "scene = demo.makeScene(moduletype=module_type, sceneDict=sceneDict, nMods = 3, nRows = 3, modwanted=1, rowwanted=1) #makeScene creates a .rad file with 20 modules per row, 7 rows.\n",
    "\n",
    "octfile = demo.makeOct(demo.getfilelist())  # makeOct combines all of the ground, sky and object files into a .oct file.\n",
    "\n",
    "analysis = AnalysisObj(octfile, demo.name)  # return an analysis object including the scan dimensions for back irradiance\n",
    "analysis.analysis(octfile, demo.name, scene.frontscan, scene.backscan)  # compare the back vs front irradiance  \n",
    "print('Annual bifacial ratio average:  %0.3f' %( sum(analysis.Wm2Back) / sum(analysis.Wm2Front) ) )\n"
   ]
  },
  {
   "cell_type": "code",
   "execution_count": 16,
   "metadata": {},
   "outputs": [
    {
     "name": "stdout",
     "output_type": "stream",
     "text": [
      "('\\nCustom Object Name', 'objects\\\\Mycube.rad')\n",
      "('\\nCustom Object Name', 'objects\\\\Seee1.rad')\n",
      "('\\nCustom Object Name', 'objects\\\\Seee2.rad')\n",
      "Created high_azimuth_angle_end_to_end.oct\n"
     ]
    }
   ],
   "source": [
    "# Addinga a totem pole to check Center point of the Scene (0,0)\n",
    "name='Mycube'\n",
    "text='! genbox black cuteBox 0.05 0.05 0.5 | xform -t -0.025 -0.025 0'\n",
    "customObject = demo.makeCustomObject(name,text)\n",
    "demo.appendtoScene(scene.radfile, customObject, '!xform -rz 0')\n",
    "\n",
    "# Addinga a totem pole to check Center point of the Scene (0,0)\n",
    "name='Seee1'\n",
    "text='! genbox black S1 0.05 0.05 0.75 | xform -t -0.09355674 -2.09 0'\n",
    "customObject = demo.makeCustomObject(name,text)\n",
    "demo.appendtoScene(scene.radfile, customObject, '!xform -rz 0')\n",
    "\n",
    "# Addinga a totem pole to check Center point of the Scene (0,0)\n",
    "name='Seee2'\n",
    "text='! genbox black S2 0.05 0.05 1.0 | xform -t -0.8420106 -2.09 0'\n",
    "customObject = demo.makeCustomObject(name,text)\n",
    "demo.appendtoScene(scene.radfile, customObject, '!xform -rz 0')\n",
    "octfile = demo.makeOct(demo.getfilelist())  # makeOct combines all of the ground, sky and object files into a .oct file."
   ]
  },
  {
   "cell_type": "markdown",
   "metadata": {},
   "source": [
    "# 270"
   ]
  },
  {
   "cell_type": "code",
   "execution_count": 17,
   "metadata": {},
   "outputs": [
    {
     "name": "stdout",
     "output_type": "stream",
     "text": [
      "path = C:\\Users\\sayala\\Documents\\RadianceScenes\\Octtest\n",
      "Saving file EPWs\\tmy3_temp.csv, # points: 8760\n",
      "('\\nModule Name:', 'high_azimuth_angle_end_to_end')\n",
      "REWRITING pre-existing module file. \n",
      "Module high_azimuth_angle_end_to_end successfully created\n",
      " \n",
      "\n",
      " Inverted \n",
      "\n",
      "\n",
      "ZINC\n",
      "\n",
      "Case 0 \n",
      "Created high_azimuth_angle_end_to_end.oct\n",
      "Linescan in process: high_azimuth_angle_end_to_end_Front\n",
      "Linescan in process: high_azimuth_angle_end_to_end_Back\n",
      "Saved: results\\irr_high_azimuth_angle_end_to_end.csv\n",
      "Annual bifacial ratio average:  0.196\n"
     ]
    }
   ],
   "source": [
    "testfolder = r'C:\\Users\\sayala\\Documents\\RadianceScenes\\Octtest'\n",
    "module_type='high_azimuth_angle_end_to_end'\n",
    "\n",
    "demo = RadianceObj(module_type,path = testfolder)  # Create a RadianceObj 'object'\n",
    "demo.setGround('white_EPDM') # input albedo number or material name like 'concrete'.  To see options, run this without any input.\n",
    "\n",
    "tmy=r\"C:\\Users\\sayala\\Documents\\GitHub\\bifacial_radiance\\tests\\724666TYA.CSV\"\n",
    "metdata = demo.readTMY(tmy) # read in the EPW weather data from above\n",
    "#metdata = demo.readTMY() # select a TMY file using graphical picker\n",
    "# Now we either choose a single time point, or use cumulativesky for the entire year. \n",
    "demo.gendaylit(metdata,4020)  # Noon, June 17th\n",
    "\n",
    "#We have a 2-up configuration in portrait. This section helps sort what is the COLLECTOR WIDTH to use.\n",
    "\n",
    "moduledict = demo.makeModule(name=module_type, y=0.95,x=1.59, xgap=0.5)\n",
    "\n",
    "sceneDict = {'tilt':10,'pitch':1.5,'height':0.2,'azimuth':270}  \n",
    "\n",
    "scene = demo.makeScene(moduletype=module_type, sceneDict=sceneDict, nMods = 3, nRows = 3, modwanted=1, rowwanted=1) #makeScene creates a .rad file with 20 modules per row, 7 rows.\n",
    "\n",
    "octfile = demo.makeOct(demo.getfilelist())  # makeOct combines all of the ground, sky and object files into a .oct file.\n",
    "\n",
    "analysis = AnalysisObj(octfile, demo.name)  # return an analysis object including the scan dimensions for back irradiance\n",
    "analysis.analysis(octfile, demo.name, scene.frontscan, scene.backscan)  # compare the back vs front irradiance  \n",
    "print('Annual bifacial ratio average:  %0.3f' %( sum(analysis.Wm2Back) / sum(analysis.Wm2Front) ) )\n"
   ]
  },
  {
   "cell_type": "code",
   "execution_count": 18,
   "metadata": {},
   "outputs": [
    {
     "name": "stdout",
     "output_type": "stream",
     "text": [
      "('\\nCustom Object Name', 'objects\\\\Mycube.rad')\n",
      "('\\nCustom Object Name', 'objects\\\\Seee1.rad')\n",
      "('\\nCustom Object Name', 'objects\\\\Seee2.rad')\n",
      "Created high_azimuth_angle_end_to_end.oct\n"
     ]
    }
   ],
   "source": [
    "\n",
    "# Addinga a totem pole to check Center point of the Scene (0,0)\n",
    "name='Mycube'\n",
    "text='! genbox black cuteBox 0.05 0.05 0.5 | xform -t -0.025 -0.025 0'\n",
    "customObject = demo.makeCustomObject(name,text)\n",
    "demo.appendtoScene(scene.radfile, customObject, '!xform -rz 0')\n",
    "\n",
    "# Addinga a totem pole to check Center point of the Scene (0,0)\n",
    "name='Seee1'\n",
    "text='! genbox black S1 0.05 0.05 0.75 | xform -t 0.8420106 2.09 0'\n",
    "customObject = demo.makeCustomObject(name,text)\n",
    "demo.appendtoScene(scene.radfile, customObject, '!xform -rz 0')\n",
    "\n",
    "# Addinga a totem pole to check Center point of the Scene (0,0)\n",
    "name='Seee2'\n",
    "text='! genbox black S2 0.05 0.05 1.0 | xform -t 0.09355674 2.09 0'\n",
    "customObject = demo.makeCustomObject(name,text)\n",
    "demo.appendtoScene(scene.radfile, customObject, '!xform -rz 0')\n",
    "octfile = demo.makeOct(demo.getfilelist())  # makeOct combines all of the ground, sky and object files into a .oct file."
   ]
  },
  {
   "cell_type": "code",
   "execution_count": null,
   "metadata": {},
   "outputs": [],
   "source": []
  }
 ],
 "metadata": {
  "kernelspec": {
   "display_name": "Python 2",
   "language": "python",
   "name": "python2"
  },
  "language_info": {
   "codemirror_mode": {
    "name": "ipython",
    "version": 2
   },
   "file_extension": ".py",
   "mimetype": "text/x-python",
   "name": "python",
   "nbconvert_exporter": "python",
   "pygments_lexer": "ipython2",
   "version": "2.7.15"
  }
 },
 "nbformat": 4,
 "nbformat_minor": 2
}
