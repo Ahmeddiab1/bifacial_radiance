{
 "cells": [
  {
   "cell_type": "markdown",
   "metadata": {},
   "source": [
    "## bifacial_radiance examples\n",
    "what to do with the new bifacial_radiance python module\n",
    "\n",
    "\n",
    "#### Prerequisites (Step 0):\n",
    "This software requires the previous installation of RADIANCE from https://github.com/NREL/Radiance/releases.\n",
    "\n",
    "Make sure you add radiance to the system PATH so Python can interact with the radiance program\n",
    "\n",
    "If you are on a PC you should also copy the Jaloxa radwinexe-5.0.a.8-win64.zip executables into `program files/radiance/bin`: http://www.jaloxa.eu/resources/radiance/radwinexe.shtml\n",
    "\n",
    "#### STEP 1: Install and import bifacial_radiance\n",
    "\n",
    " - clone the bifacial_radiance repo to your local directory\n",
    " - navigate to the \\bifacial_radiance directory which contains setup\n",
    " - run `pip install -e .  `  ( the period . is required, the -e flag is optional and installs in development mode where changes to the bifacial_radiance.py files are immediately incorporated into the module if you re-start the python kernel)\n",
    "\n",
    "#### STEP 2: Move gencumulativesky.exe\n",
    "Copy gencumulativesky.exe from the repo's `/bifacial_radiance/data/` directory and copy into your Radiance install directory.\n",
    "This is typically found in `/program files/radiance/bin/`.  \n",
    "\n",
    "#### STEP 3: Create a local Radiance directory for storing the scene files created\n",
    "Keep scene geometry files separate from the bifacial_radiance directory.  Create a local directory somewhere that will be referenced in the next step.\n",
    "\n",
    "#### STEP 4: Reboot the computer\n",
    "This makes sure the PATH is updated"
   ]
  },
  {
   "cell_type": "markdown",
   "metadata": {},
   "source": [
    "# Simple Fixed-Tilt Example\n",
    "\n",
    "### Set a Folder \n",
    "\n",
    "First let's set the folder where the simulation will be saved. By default, this is the TEMP folder in the bifacial_radiance distribution.\n",
    "\n",
    "The lines below find the location of the folder relative to this Jupyter Journal.\n"
   ]
  },
  {
   "cell_type": "code",
   "execution_count": 1,
   "metadata": {},
   "outputs": [
    {
     "name": "stdout",
     "output_type": "stream",
     "text": [
      "Your simulation will be stored in C:\\Users\\sayala\\Documents\\GitHub\\bifacial_radiance\\bifacial_radiance\\TEMP\n"
     ]
    }
   ],
   "source": [
    "import os\n",
    "testfolder = os.path.abspath(r'..\\bifacial_radiance\\TEMP')  \n",
    "\n",
    "# You can alternatively point to an empty directory (it will open a load GUI Visual Interface)\n",
    "# or specify any other directory in your computer. I.E.:\n",
    "# testfolder = r'C:\\Users\\sayala\\Documents\\RadianceScenes\\Demo'\n",
    "\n",
    "print (\"Your simulation will be stored in %s\" % testfolder)\n"
   ]
  },
  {
   "cell_type": "code",
   "execution_count": 2,
   "metadata": {},
   "outputs": [],
   "source": [
    "try:\n",
    "    from bifacial_radiance import *\n",
    "except ImportError:\n",
    "    raise RuntimeError('bifacial_radiance is required. download distribution')\n",
    "\n",
    "import numpy as np"
   ]
  },
  {
   "cell_type": "markdown",
   "metadata": {},
   "source": [
    "### Create a Radiance Object, Set the Albedo and Generate the Sky"
   ]
  },
  {
   "cell_type": "code",
   "execution_count": 3,
   "metadata": {},
   "outputs": [
    {
     "name": "stdout",
     "output_type": "stream",
     "text": [
      "path = C:\\Users\\sayala\\Documents\\GitHub\\bifacial_radiance\\bifacial_radiance\\TEMP\n",
      "Getting weather file: USA_VA_Richmond.Intl.AP.724010_TMY.epw\n",
      " ... OK!\n"
     ]
    },
    {
     "name": "stderr",
     "output_type": "stream",
     "text": [
      "c:\\users\\sayala\\documents\\github\\bifacial_radiance\\bifacial_radiance\\main.py:2414: pvlibDeprecationWarning: The get_sun_rise_set_transit function was deprecated in pvlib 0.6.1 and will be removed in 0.7. Use sun_rise_set_transit_spa instead.\n",
      "  sunup= pvlib.irradiance.solarposition.get_sun_rise_set_transit(datetimetz, lat, lon) #only for pvlib <0.6.1\n"
     ]
    },
    {
     "name": "stdout",
     "output_type": "stream",
     "text": [
      "message: There were 4255 sun up hours in this climate file\r\n",
      "Total Ibh/Lbh: 0.000000\n"
     ]
    }
   ],
   "source": [
    "# Simple example system using Radiance.  We'll simulate a 1-up landscape system over a white rooftop\n",
    "demo = RadianceObj('bifacial_example',testfolder)  # Create a RadianceObj 'object' named bifacial_example. no whitespace allowed\n",
    "\n",
    "demo.setGround(0.62) # input albedo number or material name like 'concrete'.  \n",
    "# To see options, run this without any input.\n",
    "\n",
    "# Pull in meteorological data using pyEPW for any global lat/lon\n",
    "epwfile = demo.getEPW(lat = 37.5, lon = -77.6) \n",
    "\n",
    "# Read in the weather data pulled in above. \n",
    "# If you want a different location, replace this filename with the new EPW file name in `epwfile`.    \n",
    "metdata = demo.readEPW('EPWs\\\\USA_VA_Richmond.Intl.AP.724010_TMY.epw') \n",
    "\n",
    "# Solar resource definition.  Either choose a single time point with gendaylit, or use cumulativesky \n",
    "# for the entire year. \n",
    "fullYear = True\n",
    "if fullYear:\n",
    "    demo.genCumSky(demo.epwfile) # entire year.\n",
    "else:\n",
    "    demo.gendaylit(metdata,4020)  # Noon, June 17th (timepoint # 4020)\n"
   ]
  },
  {
   "cell_type": "markdown",
   "metadata": {},
   "source": [
    "### DEFINE a Module type\n",
    "\n",
    "You can create a custom PV module type. In this case we are defining a module named \"Prism Solar Bi60\", in landscape. The x value defines the size of the module along the row, so for landscape modules x > y. y = 0.984 x = 1.695. Bifaciality = 0.90\n",
    "\n",
    "###### Note:\n",
    "Modules are currently 100% opaque. For drawing each cell, makeModule needs more inputs with cellLevelModule = True. You can also specify a lot more variables in makeModule like multiple modules, torque tubes, spacing between modules, etc, so read the function definition."
   ]
  },
  {
   "cell_type": "code",
   "execution_count": 4,
   "metadata": {},
   "outputs": [
    {
     "name": "stdout",
     "output_type": "stream",
     "text": [
      "\n",
      "Module Name: Prism_Solar_Bi60_landscape\n",
      "Module file did not exist before, creating new module file\n",
      "Module Prism Solar Bi60 landscape successfully created\n",
      "\n",
      "\n",
      " AVAILABLE MODULES:\n",
      "Usage: SceneObj(moduletype)\n",
      "No module type selected. Available module types: dict_keys(['Prism Solar Bi60', '2upTracker', 'test', 'Prism Solar Bi60 landscape', 'cellModule', 'PrismSolar'])\n",
      "Available module names: ['Prism Solar Bi60', '2upTracker', 'test', 'Prism Solar Bi60 landscape', 'cellModule', 'PrismSolar']\n"
     ]
    }
   ],
   "source": [
    "\n",
    "module_type = 'Prism Solar Bi60 landscape' \n",
    "demo.makeModule(name=module_type,x=1.695, y=0.984, bifi = 0.90)\n",
    "\n",
    "# print available module types in data/module.json\n",
    "print(\"\\n\\n AVAILABLE MODULES:\")\n",
    "availableModules = demo.printModules()\n"
   ]
  },
  {
   "cell_type": "markdown",
   "metadata": {},
   "source": [
    "### MAKE the Scene:\n",
    "Create a scene uses the module created above and replicates it by the number of modules and number of rows specified in the scene Dictionary. The sceneDicitonary also specifies the azimuth, tilt, clearance_height (distance between the ground and lowest point of the module) and any other parameter. Azimuth gets measured from N = 0, so for South facing modules azimuth should equal 180.\n",
    "\n",
    "makeScene creates a .rad file with the parameters specified in sceneDict. \n"
   ]
  },
  {
   "cell_type": "code",
   "execution_count": 5,
   "metadata": {},
   "outputs": [],
   "source": [
    "sceneDict = {'tilt':10,'pitch':3,'clearance_height':0.2,'azimuth':180, 'nMods': 20, 'nRows': 7} \n",
    "\n",
    "scene = demo.makeScene(module_type,sceneDict)"
   ]
  },
  {
   "cell_type": "markdown",
   "metadata": {},
   "source": [
    "### COMBINE the Ground, Sky, and the Scene Objects\n",
    "makeOct combines all of the ground, sky and object files into a .oct file.\n"
   ]
  },
  {
   "cell_type": "code",
   "execution_count": 6,
   "metadata": {},
   "outputs": [
    {
     "name": "stdout",
     "output_type": "stream",
     "text": [
      "Created bifacial_example.oct\n"
     ]
    }
   ],
   "source": [
    "octfile = demo.makeOct(demo.getfilelist())  "
   ]
  },
  {
   "cell_type": "markdown",
   "metadata": {},
   "source": [
    "### ANALYZE and get Results\n",
    "Once the octfile tying the scene, ground and sky has been created, we create an analysis object. We have to specify where the sensors will be located with moduleAnalysis. If no parameters are passed to moduleAnalysis, it will scan the center module of the center row.\n",
    "\n",
    "The frontscan and backscan include a linescan along a chord of the module, both on the front and back. \n",
    "\n",
    "![Simple example for south facing module](images_wiki/frontscan_backscan.png)\n",
    "Analysis saves the measured irradiances in the front and in the back on the results folder.  Prints out the ratio of the average of the rear and front irradiance values along a chord of the module."
   ]
  },
  {
   "cell_type": "code",
   "execution_count": 7,
   "metadata": {},
   "outputs": [
    {
     "name": "stdout",
     "output_type": "stream",
     "text": [
      "Linescan in process: bifacial_example_Front\n",
      "Linescan in process: bifacial_example_Back\n",
      "Saved: results\\irr_bifacial_example.csv\n",
      "Annual bifacial ratio: 0.169 \n"
     ]
    }
   ],
   "source": [
    "analysis = AnalysisObj(octfile, demo.basename)\n",
    "frontscan, backscan = analysis.moduleAnalysis(scene)\n",
    "analysis.analysis(octfile, demo.basename, frontscan, backscan)  \n",
    "print('Annual bifacial ratio: %0.3f ' %( np.mean(analysis.Wm2Back) / np.mean(analysis.Wm2Front)) )\n"
   ]
  },
  {
   "cell_type": "markdown",
   "metadata": {},
   "source": [
    "### View / Render the Scene\n",
    "\n",
    "If you used gencumsky or gendaylit, you can view the scene by navigating on a command line to the folder and typing:\n",
    "\n",
    "##### objview materials\\ground.rad objects\\Prism_Solar_Bi60_landscape_0.2_3_10_20x7.rad     \n",
    "\n",
    "This objview has 3 different light sources of its own, so the shading is not representative.\n",
    "\n",
    "If you used gendaylit (only), you can view the scene correctly illuminated with the sky you generated after generating the oct file, with \n",
    "\n",
    "##### rvu -vf views\\front.vp -e .01 bifacial_example.oct\n",
    "\n",
    "Or you can also use the code below from bifacial_radiance to generate an HDR rendered image of the scene:"
   ]
  },
  {
   "cell_type": "code",
   "execution_count": 8,
   "metadata": {},
   "outputs": [
    {
     "name": "stdout",
     "output_type": "stream",
     "text": [
      "Generating visible render of scene\n",
      "Generating scene in WM-2. This may take some time.\n",
      "Saving scene in false color\n"
     ]
    }
   ],
   "source": [
    "# Make a color render and falsecolor image of the scene.  \n",
    "# Files are saved as .hdr (high definition render) files.  Try LuminanceHDR viewer (free) to view them\n",
    "analysis.makeImage('side.vp')\n",
    "analysis.makeFalseColor('side.vp')\n",
    "# Note - if you want to have an interactive image viewer, use the `rvu` viewer - manual page here: http://radsite.lbl.gov/radiance/rvu.1.html"
   ]
  }
 ],
 "metadata": {
  "anaconda-cloud": {},
  "kernelspec": {
   "display_name": "Python 3",
   "language": "python",
   "name": "python3"
  },
  "language_info": {
   "codemirror_mode": {
    "name": "ipython",
    "version": 3
   },
   "file_extension": ".py",
   "mimetype": "text/x-python",
   "name": "python",
   "nbconvert_exporter": "python",
   "pygments_lexer": "ipython3",
   "version": "3.7.3"
  }
 },
 "nbformat": 4,
 "nbformat_minor": 1
}
