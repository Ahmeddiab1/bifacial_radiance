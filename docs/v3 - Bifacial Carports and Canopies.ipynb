{
 "cells": [
  {
   "cell_type": "markdown",
   "metadata": {},
   "source": [
    "# Modeling Carports and Canopies\n",
    "\n",
    "This journal shows how to model a carport or canopy ~ a fixed structure, usually at a high clearance from the ground, with more than one bifacial solar module in the same inclined-plane to create a \"shade\" for the cars/people below.\n",
    "\n",
    "We assume that bifacia_radiacne is already installed in yoru computer. This works for bifacial_radiance v.3 release.\n",
    "\n",
    "These journal outlines 4 useful uses of bifacial_radiance and some tricks: \n",
    "\n",
    "1) Creating the modules in the canopy/carport\n",
    "\n",
    "2) Adding extra geometry for the pillars/posts supporting the carport/canopy\n",
    "\n",
    "3) Sampling the rear irradiance and hacking the sensor position to obtain an irradiance map of rear-irradiance. And,\n",
    "\n",
    "4) Adding a flat surface to simulate a car with a specific reflectivity."
   ]
  },
  {
   "cell_type": "code",
   "execution_count": 1,
   "metadata": {},
   "outputs": [],
   "source": [
    "try:\n",
    "    from bifacial_radiance import *\n",
    "except ImportError:\n",
    "    raise RuntimeError('bifacial_radiance is required. download distribution')\n",
    "    # Simple example system using Radiance.\n",
    "    \n",
    "import numpy as np"
   ]
  },
  {
   "cell_type": "code",
   "execution_count": 2,
   "metadata": {},
   "outputs": [
    {
     "name": "stdout",
     "output_type": "stream",
     "text": [
      "path = C:\\Users\\sayala\\Documents\\RadianceScenes\\Demo3\n",
      "Getting weather file: USA_NJ_McGuire.AFB.724096_TMY3.epw\n",
      " ... OK!\n"
     ]
    },
    {
     "name": "stderr",
     "output_type": "stream",
     "text": [
      "c:\\users\\sayala\\documents\\github\\bifacial_radiance\\bifacial_radiance\\main.py:2409: pvlibDeprecationWarning: The get_sun_rise_set_transit function was deprecated in pvlib 0.6.1 and will be removed in 0.7. Use sun_rise_set_transit_spa instead.\n",
      "  sunup= pvlib.irradiance.solarposition.get_sun_rise_set_transit(datetimetz, lat, lon) #only for pvlib <0.6.1\n"
     ]
    },
    {
     "name": "stdout",
     "output_type": "stream",
     "text": [
      "\n",
      "Module Name: PrismSolar\n",
      "REWRITING pre-existing module file. \n",
      "Module PrismSolar successfully created\n",
      "Created HotelCarport.oct\n"
     ]
    }
   ],
   "source": [
    "testfolder = r'C:\\Users\\sayala\\Documents\\RadianceScenes\\Demo3'\n",
    "\n",
    "timestamp = 4020 # Noon, June 17th. \n",
    "simulationname = 'HotelCarport'\n",
    "\n",
    "# MakeModule Parameters\n",
    "moduletype='PrismSolar'\n",
    "numpanels = 7  # Carport will have 7 modules along the y direction (N-S since we are facing it to the south) .\n",
    "x = 0.95  \n",
    "y = 1.95\n",
    "xgap = 0.15 # Leaving 15 centimeters between modules on x direction\n",
    "ygap = 0.10 # Leaving 10 centimeters between modules on y direction\n",
    "zgap = 0 # no gap to torquetube.\n",
    "sensorsy = 10*numpanels  # this will give 70 sensors per module.\n",
    "\n",
    "# Other default values:\n",
    "\n",
    "# TorqueTube Parameters\n",
    "axisofrotationTorqueTube=False\n",
    "torqueTube = False\n",
    "cellLevelModule = False\n",
    "\n",
    "# SceneDict Parameters\n",
    "gcr = 0.33   # We are only doing 1 row so this doesn't matter\n",
    "albedo = 0.28  #'concrete'     # ground albedo\n",
    "clearance_height = 4.3 # m  \n",
    "nMods = 15\n",
    "nRows = 1  # only 1 row\n",
    "\n",
    "azimuth_ang=180 # Facing south\n",
    "tilt =20 # tilt. \n",
    "\n",
    "# Now let's run the example\n",
    "\n",
    "demo = RadianceObj(simulationname,path = testfolder)  # Create a RadianceObj 'object'\n",
    "demo.setGround(albedo) # input albedo number or material name like 'concrete'.  To see options, run this without any input.\n",
    "epwfile = demo.getEPW(40.0583,-74.4057) # NJ lat/lon 40.0583° N, 74.4057\n",
    "metdata = demo.readEPW(epwfile) # read in the EPW weather data from above\n",
    "demo.gendaylit(metdata,4020)  # Use this to simulate only one hour at a time. \n",
    "# This allows you to \"view\" the scene on RVU (see instructions below)\n",
    "# timestam 4020 : Noon, June 17th.\n",
    "#demo.genCumSky(demo.epwfile) # Use this for simulate the whole year\n",
    "\n",
    "\n",
    "# Making module with all the variables\n",
    "moduleDict=demo.makeModule(name=moduletype,x=x,y=y,numpanels = numpanels, xgap=xgap, ygap=ygap)\n",
    "# create a scene with all the variables\n",
    "sceneDict = {'tilt':tilt,'pitch': round(gcr/moduleDict['sceney'],3),'clearance_height':clearance_height,'azimuth':azimuth_ang, 'module_type':moduletype, 'nMods': nMods, 'nRows': nRows}  \n",
    "scene = demo.makeScene(moduletype=moduletype, sceneDict=sceneDict) #makeScene creates a .rad file with 20 modules per row, 7 rows.\n",
    "octfile = demo.makeOct(demo.getfilelist())  # makeOct combines all of the ground, sky and object fil|es into a .oct file.\n"
   ]
  },
  {
   "cell_type": "code",
   "execution_count": null,
   "metadata": {},
   "outputs": [],
   "source": [
    "import numpy as np\n",
    "\n",
    "xright= x*8\n",
    "xleft=  -xright\n",
    "\n",
    "#centerhubheight = (1.9*3+1.9/2)*np.sin(tilt*np.pi/180)\n",
    "z6th =  (y*6)*np.sin(tilt*np.pi/180)+clearance_height\n",
    "y6th=  -(y*numpanels/2)*np.cos(tilt*np.pi/180) + (y*6)*np.cos(tilt*np.pi/180)\n",
    "z2nd = (y*np.sin(tilt*np.pi/180))+clearance_height\n",
    "y2nd = -(y*numpanels/2)*np.cos(tilt*np.pi/180) + (y)*np.cos(tilt*np.pi/180)\n",
    "             \n",
    "name='Post1'\n",
    "text='! genbox black cuteBox 0.5 0.5 {} | xform -t {} {} 0'.format(z2nd, xleft, y2nd)\n",
    "print (text)\n",
    "customObject = demo.makeCustomObject(name,text)\n",
    "demo.appendtoScene(radfile=scene.radfiles, customObject=customObject, text=\"!xform -rz 0\")\n",
    "\n",
    "print (\"Here\")\n",
    "name='Post2'\n",
    "text='! genbox black cuteBox 0.5 0.5 {} | xform -t {} {} 0'.format(z2nd, xright, y2nd)\n",
    "customObject = demo.makeCustomObject(name,text)\n",
    "demo.appendtoScene(scene.radfiles, customObject, '!xform -rz 0')\n",
    "\n",
    "name='Post3'\n",
    "text='! genbox black cuteBox 0.5 0.5 {} | xform -t {} {} 0'.format(z6th, xright, y6th)\n",
    "customObject = demo.makeCustomObject(name,text)\n",
    "demo.appendtoScene(scene.radfiles, customObject, '!xform -rz 0')\n",
    "\n",
    "name='Post4'\n",
    "text='! genbox black cuteBox 0.5 0.5 {} | xform -t {} {} 0'.format(z6th, xleft, y6th)\n",
    "customObject = demo.makeCustomObject(name,text)\n",
    "demo.appendtoScene(scene.radfiles, customObject, '!xform -rz 0')\n",
    "\n",
    "\n",
    "octfile = demo.makeOct(demo.getfilelist())  # makeOct combines all of the ground, sky and object files into a .oct file.\n"
   ]
  },
  {
   "cell_type": "code",
   "execution_count": null,
   "metadata": {},
   "outputs": [],
   "source": [
    "testfolder = r'C:\\Users\\sayala\\Documents\\RadianceScenes\\Demo3'\n",
    "\n",
    "timestamp = 4020 # Noon, June 17th. \n",
    "simulationname = 'ParkingCarport'\n",
    "\n",
    "# MakeModule Parameters\n",
    "moduletype='module_NJ'\n",
    "numpanels = 8\n",
    "x = 0.95  \n",
    "y = 1.9 \n",
    "xgap = 0.15 # 10 centimeters.\n",
    "ygap = 0.10 # you can give ygap now\n",
    "zgap = 0\n",
    "sensorsy = 12*numpanels  # this will give 70 sensors per module.\n",
    "\n",
    "# TorqueTube Parameters\n",
    "axisofrotationTorqueTube=False\n",
    "torqueTube = False\n",
    "cellLevelModule = False\n",
    "\n",
    "# SceneDict Parameters\n",
    "gcr = 0.33   # We are only doing 1 row so this doesn't matter\n",
    "albedo = 0.28  #'concrete'     # ground albedo\n",
    "clearance_height = 4.3 # m  \n",
    "nMods = 45\n",
    "nRows = 1  # only 1 row\n",
    "\n",
    "azimuth_ang=90 # Facing south\n",
    "tilt =20 # tilt. \n",
    "\n",
    "# Now let's run the example\n",
    "\n",
    "demo = RadianceObj(simulationname,path = testfolder)  # Create a RadianceObj 'object'\n",
    "demo.setGround(albedo) # input albedo number or material name like 'concrete'.  To see options, run this without any input.\n",
    "epwfile = demo.getEPW(40.0583,-74.4057) # NJ lat/lon 40.0583° N, 74.4057\n",
    "metdata = demo.readEPW(epwfile) # read in the EPW weather data from above\n",
    "demo.gendaylit(metdata,4020)  # Use this to simulate only one hour at a time. \n",
    "# This allows you to \"view\" the scene on RVU (see instructions below)\n",
    "# timestam 4020 : Noon, June 17th.\n",
    "#demo.genCumSky(demo.epwfile) # Use this for simulate the whole year\n",
    "\n",
    "\n",
    "# Making module with all the variables\n",
    "moduleDict=demo.makeModule(name=moduletype,x=x,y=y, numpanels = numpanels, xgap=xgap, ygap=ygap, cellLevelModule=True)\n",
    "# create a scene with all the variables\n",
    "sceneDict = {'tilt':tilt,'pitch': round(gcr/moduleDict['sceney'],3),'height':clearance_height,'azimuth':azimuth_ang, 'module_type':moduletype, 'nMods': nMods, 'nRows': nRows}  \n",
    "scene = demo.makeScene(moduletype=moduletype, sceneDict=sceneDict) #makeScene creates a .rad file with 20 modules per row, 7 rows.\n",
    "octfile = demo.makeOct(demo.getfilelist())  # makeOct combines all of the ground, sky and object fil|es into a .oct file.\n"
   ]
  },
  {
   "cell_type": "markdown",
   "metadata": {},
   "source": [
    "### Adding the pillars/posts\n",
    "\n",
    "We will add 2 posts at roughly the back corners of the structure. "
   ]
  },
  {
   "cell_type": "code",
   "execution_count": null,
   "metadata": {},
   "outputs": [],
   "source": [
    "import numpy as np\n",
    "\n",
    "xright= x*nMods/2\n",
    "xleft=  -xrigt\n",
    "\n",
    "# Calculating the height and location of the posts\n",
    "#centerhubheight = (1.9*3+1.9/2)*np.sin(tilt*np.pi/180)\n",
    "z6th =  (y*6)*np.sin(tilt*np.pi/180)+clearance_height\n",
    "y6th=  -(y*numpanels/2)*np.cos(tilt*np.pi/180) + (y*6)*np.cos(tilt*np.pi/180)\n",
    "             \n",
    "name='Post3'\n",
    "text='! genbox black cuteBox 0.5 0.5 {} | xform -t {} {} 0'.format(z6th, y6th, xright)\n",
    "customObject = demo.makeCustomObject(name,text)\n",
    "demo.appendtoScene(scene.radfiles, customObject, '!xform -rz 0')\n",
    "\n",
    "name='Post4'\n",
    "text='! genbox black cuteBox 0.5 0.5 {} | xform -t {} {} 0'.format(z6th, y6th, xleft)\n",
    "customObject = demo.makeCustomObject(name,text)\n",
    "demo.appendtoScene(scene.radfiles, customObject, '!xform -rz 0')\n",
    "\n",
    "octfile = demo.makeOct(demo.getfilelist())  # makeOct combines all of the ground, sky and object files into a .oct file.\n"
   ]
  },
  {
   "cell_type": "code",
   "execution_count": null,
   "metadata": {},
   "outputs": [],
   "source": [
    "analysis = AnalysisObj(octfile, demo.name)  # return an analysis object including the scan dimensions for back irradiance\n",
    "modWanted = 1\n",
    "rowWanted = 1\n",
    "frontscan, backscan = analysis.moduleAnalysis(clearanceheight=sceneDict['height'], azimuth=sceneDict['azimuth'], \n",
    "                                              tilt=sceneDict['tilt'], \n",
    "                                              pitch=sceneDict['pitch'], nMods=sceneDict['nMods'], nRows= sceneDict['nRows'], \n",
    "                                              sceney=moduleDict['sceney'], scenex=moduleDict['scenex'], offset=moduleDict['moduleoffset'],\n",
    "                                              modWanted=modWanted, rowWanted=rowWanted, sensorsy=sensorsy)\n",
    "\n",
    "analysis.analysis(octfile, simulationname+\"Mod1\", frontscan, backscan)  # compare the back vs front irradiance  \n",
    "print('Annual bifacial ratio average:  %0.3f' %( sum(analysis.Wm2Back) / sum(analysis.Wm2Front) ) )\n",
    "\n",
    "\n",
    "modWanted = 2\n",
    "rowWanted = 1\n",
    "frontscan, backscan = analysis.moduleAnalysis(clearanceheight=sceneDict['height'], azimuth=sceneDict['azimuth'], \n",
    "                                              tilt=sceneDict['tilt'], \n",
    "                                              pitch=sceneDict['pitch'], nMods=sceneDict['nMods'], nRows= sceneDict['nRows'], \n",
    "                                              sceney=moduleDict['sceney'], scenex=moduleDict['scenex'], offset=moduleDict['moduleoffset'],\n",
    "                                              modWanted=modWanted, rowWanted=rowWanted, sensorsy=sensorsy)\n",
    "\n",
    "analysis.analysis(octfile, simulationname+\"Mod2\", frontscan, backscan)  # compare the back vs front irradiance  \n",
    "print('Annual bifacial ratio average:  %0.3f' %( sum(analysis.Wm2Back) / sum(analysis.Wm2Front) ) )\n",
    "\n",
    "\n",
    "modWanted = 3\n",
    "rowWanted = 1\n",
    "frontscan, backscan = analysis.moduleAnalysis(clearanceheight=sceneDict['height'], azimuth=sceneDict['azimuth'], \n",
    "                                              tilt=sceneDict['tilt'], \n",
    "                                              pitch=sceneDict['pitch'], nMods=sceneDict['nMods'], nRows= sceneDict['nRows'], \n",
    "                                              sceney=moduleDict['sceney'], scenex=moduleDict['scenex'], offset=moduleDict['moduleoffset'],\n",
    "                                              modWanted=modWanted, rowWanted=rowWanted, sensorsy=sensorsy)\n",
    "\n",
    "        \n",
    "analysis.analysis(octfile, simulationname+\"Mod3\", frontscan, backscan)  # compare the back vs front irradiance  \n",
    "print('Annual bifacial ratio average:  %0.3f' %( sum(analysis.Wm2Back) / sum(analysis.Wm2Front) ) )"
   ]
  },
  {
   "cell_type": "code",
   "execution_count": null,
   "metadata": {},
   "outputs": [],
   "source": [
    "# HACK Frontscan and Backscan\n",
    "frontscan['xstart']=-1.2\n",
    "\n",
    "        \n",
    "analysis.analysis(octfile, simulationname+\"Mod3_point2\", frontscan, backscan)  # compare the back vs front irradiance  \n",
    "print('Annual bifacial ratio average:  %0.3f' %( sum(analysis.Wm2Back) / sum(analysis.Wm2Front) ) )\n"
   ]
  },
  {
   "cell_type": "markdown",
   "metadata": {},
   "source": []
  },
  {
   "cell_type": "code",
   "execution_count": null,
   "metadata": {},
   "outputs": [],
   "source": []
  },
  {
   "cell_type": "code",
   "execution_count": null,
   "metadata": {},
   "outputs": [],
   "source": []
  },
  {
   "cell_type": "markdown",
   "metadata": {},
   "source": []
  },
  {
   "cell_type": "code",
   "execution_count": null,
   "metadata": {},
   "outputs": [],
   "source": []
  },
  {
   "cell_type": "code",
   "execution_count": null,
   "metadata": {},
   "outputs": [],
   "source": []
  },
  {
   "cell_type": "code",
   "execution_count": null,
   "metadata": {},
   "outputs": [],
   "source": []
  }
 ],
 "metadata": {
  "kernelspec": {
   "display_name": "Python 3",
   "language": "python",
   "name": "python3"
  },
  "language_info": {
   "codemirror_mode": {
    "name": "ipython",
    "version": 3
   },
   "file_extension": ".py",
   "mimetype": "text/x-python",
   "name": "python",
   "nbconvert_exporter": "python",
   "pygments_lexer": "ipython3",
   "version": "3.7.3"
  }
 },
 "nbformat": 4,
 "nbformat_minor": 2
}
