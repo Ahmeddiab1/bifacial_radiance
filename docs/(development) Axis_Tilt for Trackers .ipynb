{
 "cells": [
  {
   "cell_type": "code",
   "execution_count": null,
   "metadata": {},
   "outputs": [],
   "source": [
    "try:\n",
    "    from bifacial_radiance import *\n",
    "except ImportError:\n",
    "    raise RuntimeError('bifacial_radiance is required. download distribution')\n",
    "    # Simple example system using Radiance.\n",
    "    \n",
    "import numpy as np"
   ]
  },
  {
   "cell_type": "code",
   "execution_count": null,
   "metadata": {},
   "outputs": [],
   "source": [
    "# The below routine creates a HEXAGONAL torque tube, for a 2-UP configuration of a specific module size. Parameters for the module, the torque tube, and the scene are below.\n",
    "# This is being run with gendaylit, for one specific timestamp\n",
    "# MODIFY THE TEST FOLDER TO YOUR LIKING. I utmostly dislike the interactive directory.\n",
    "testfolder = r'C:\\Users\\sayala\\Documents\\RadianceScenes\\Demo3'\n",
    "\n",
    "timestamp = 4020 # Noon, June 17th. \n",
    "simulationname = 'Regular_Array'\n",
    "\n",
    "# MakeModule Parameters\n",
    "moduletype=simulationname\n",
    "numpanels = 2\n",
    "x = 2  # 2-up landscape\n",
    "y = 1\n",
    "xgap = 0.5\n",
    "ygap = 0.5\n",
    "zgap = 0.1\n",
    "sensorsy = 9 \n",
    "\n",
    "\n",
    "# TorqueTube Parameters\n",
    "axisofrotationTorqueTube=True\n",
    "torqueTube = True\n",
    "tubetype = 'square'\n",
    "diameter = 0.1\n",
    "torqueTubeMaterial = 'Metal_Grey'       # IT's NOT GRAY, IT's GREY\n",
    "cellLevelModule = False\n",
    "numcellsx=10\n",
    "numcellsy=6\n",
    "\n",
    "# SceneDict Parameters\n",
    "gcr = 0.33   # ground cover ratio,  = module_height / pitch\n",
    "albedo = 0.28  #'concrete'     # ground albedo\n",
    "clearance_height = 0\n",
    "nMods = 4\n",
    "nRows =3\n",
    "\n",
    "azimuth_ang=90\n",
    "tilt =30\n",
    "axis_tilt = 20\n",
    "\n",
    "# Now let's run the example\n",
    "\n",
    "demo = RadianceObj(simulationname,path = testfolder)  # Create a RadianceObj 'object'\n",
    "demo.setGround(0.62) # input albedo number or material name like 'concrete'.  To see options, run this without any input.\n",
    "epwfile = demo.getEPW(37.5,-77.6) # pull TMY data for any global lat/lon\n",
    "metdata = demo.readEPW(epwfile) # read in the EPW weather data from above\n",
    "demo.gendaylit(metdata,4020)  # Noon, June 17th\n",
    "\n",
    "# Making module with all the variables\n",
    "moduleDict=demo.makeModule(name=moduletype,x=x,y=y,bifi=1, \n",
    "           torquetube=torqueTube, diameter = diameter, tubetype = tubetype, \n",
    "                           material = torqueTubeMaterial, zgap = zgap, numpanels = numpanels, ygap = ygap, \n",
    "                           rewriteModulefile = True, xgap=xgap, \n",
    "                           axisofrotationTorqueTube=axisofrotationTorqueTube, cellLevelModule=cellLevelModule, \n",
    "                           numcellsx=numcellsx, numcellsy = numcellsy)\n",
    "# create a scene with all the variables\n",
    "sceneDict = {'tilt':tilt,'pitch': 3,'height':clearance_height,'azimuth':azimuth_ang, 'module_type':simulationname, 'nMods': nMods, 'nRows': nRows, 'axis_tilt': axis_tilt}  \n",
    "scene = demo.makeScene(moduletype=moduletype, sceneDict=sceneDict) #makeScene creates a .rad file with 20 modules per row, 7 rows.\n",
    "octfile = demo.makeOct(demo.getfilelist())  # makeOct combines all of the ground, sky and object files into a .oct file.\n"
   ]
  },
  {
   "cell_type": "code",
   "execution_count": null,
   "metadata": {},
   "outputs": [],
   "source": [
    "name='Mycube'\n",
    "text='! genbox black cuteBox 0.05 0.05 7 | xform -t -0.025 -0.025 0'\n",
    "customObject = demo.makeCustomObject(name,text)\n",
    "demo.appendtoScene(scene.radfiles, customObject, '!xform -rz 0')\n",
    "'''\n",
    "name='Mycube2'\n",
    "text='! genbox black cuteBox 0.1 0.1 2.5 | xform -t 3 -1.491 0'\n",
    "customObject = demo.makeCustomObject(name,text)\n",
    "demo.appendtoScene(scene.radfiles, customObject, '!xform -rz 0')\n",
    "'''\n",
    "octfile = demo.makeOct(demo.getfilelist())  # makeOct combines all of the ground, sky and object files into a .oct file.\n"
   ]
  },
  {
   "cell_type": "markdown",
   "metadata": {},
   "source": [
    "At this point you should be able to go into a command window (cmd.exe) and check the geometry. Example:\n",
    "\n",
    "# rvu -vf views\\front.vp -e .01 Regular_Array.oct\n"
   ]
  },
  {
   "cell_type": "code",
   "execution_count": null,
   "metadata": {},
   "outputs": [],
   "source": []
  }
 ],
 "metadata": {
  "kernelspec": {
   "display_name": "Python 2",
   "language": "python",
   "name": "python2"
  },
  "language_info": {
   "codemirror_mode": {
    "name": "ipython",
    "version": 2
   },
   "file_extension": ".py",
   "mimetype": "text/x-python",
   "name": "python",
   "nbconvert_exporter": "python",
   "pygments_lexer": "ipython2",
   "version": "2.7.15"
  }
 },
 "nbformat": 4,
 "nbformat_minor": 2
}
