{
 "cells": [
  {
   "cell_type": "code",
   "execution_count": 1,
   "metadata": {},
   "outputs": [],
   "source": [
    "try:\n",
    "    from bifacial_radiance import *\n",
    "except ImportError:\n",
    "    raise RuntimeError('bifacial_radiance is required. download distribution')\n",
    "    # Simple example system using Radiance.\n",
    "    \n",
    "import numpy as np"
   ]
  },
  {
   "cell_type": "code",
   "execution_count": 9,
   "metadata": {},
   "outputs": [
    {
     "name": "stdout",
     "output_type": "stream",
     "text": [
      "path = C:\\Users\\sayala\\Documents\\RadianceScenes\\Demo3\n",
      "Getting weather file: USA_VA_Richmond.Intl.AP.724010_TMY.epw  ... OK!\n",
      "('\\nModule Name:', 'Regular_Array')\n",
      "REWRITING pre-existing module file. \n",
      "Module Regular_Array successfully created\n"
     ]
    }
   ],
   "source": [
    "# The below routine creates a HEXAGONAL torque tube, for a 2-UP configuration of a specific module size. Parameters for the module, the torque tube, and the scene are below.\n",
    "# This is being run with gendaylit, for one specific timestamp\n",
    "# MODIFY THE TEST FOLDER TO YOUR LIKING. I utmostly dislike the interactive directory.\n",
    "testfolder = r'C:\\Users\\sayala\\Documents\\RadianceScenes\\Demo3'\n",
    "\n",
    "timestamp = 4020 # Noon, June 17th. \n",
    "simulationname = 'Regular_Array'\n",
    "\n",
    "# MakeModule Parameters\n",
    "moduletype=simulationname\n",
    "numpanels = 2\n",
    "x = 2  # 2-up landscape\n",
    "y = 1\n",
    "xgap = 0.5\n",
    "ygap = 0.5\n",
    "zgap = 0.1\n",
    "sensorsy = 9 \n",
    "\n",
    "\n",
    "# TorqueTube Parameters\n",
    "axisofrotationTorqueTube=True\n",
    "torqueTube = True\n",
    "tubetype = 'square'\n",
    "diameter = 0.1\n",
    "torqueTubeMaterial = 'Metal_Grey'       # IT's NOT GRAY, IT's GREY\n",
    "cellLevelModule = False\n",
    "numcellsx=10\n",
    "numcellsy=6\n",
    "\n",
    "# SceneDict Parameters\n",
    "gcr = 0.33   # ground cover ratio,  = module_height / pitch\n",
    "albedo = 0.28  #'concrete'     # ground albedo\n",
    "clearance_height = 0\n",
    "nMods = 4\n",
    "nRows =3\n",
    "\n",
    "azimuth_ang=90\n",
    "tilt = 30\n",
    "axis_tilt = 30\n",
    "\n",
    "# Now let's run the example\n",
    "\n",
    "demo = RadianceObj(simulationname,path = testfolder)  # Create a RadianceObj 'object'\n",
    "demo.setGround(0.62) # input albedo number or material name like 'concrete'.  To see options, run this without any input.\n",
    "epwfile = demo.getEPW(37.5,-77.6) # pull TMY data for any global lat/lon\n",
    "metdata = demo.readEPW(epwfile) # read in the EPW weather data from above\n",
    "demo.gendaylit(metdata,4020)  # Noon, June 17th\n",
    "\n",
    "# Making module with all the variables\n",
    "moduleDict=demo.makeModule(name=moduletype,x=x,y=y,bifi=1, \n",
    "           torquetube=torqueTube, diameter = diameter, tubetype = tubetype, \n",
    "                           material = torqueTubeMaterial, zgap = zgap, numpanels = numpanels, ygap = ygap, \n",
    "                           rewriteModulefile = True, xgap=xgap, \n",
    "                           axisofrotationTorqueTube=axisofrotationTorqueTube, cellLevelModule=cellLevelModule, \n",
    "                           numcellsx=numcellsx, numcellsy = numcellsy)\n",
    "# create a scene with all the variables\n"
   ]
  },
  {
   "cell_type": "code",
   "execution_count": 10,
   "metadata": {},
   "outputs": [
    {
     "name": "stdout",
     "output_type": "stream",
     "text": [
      "Created Regular_Array.oct\n"
     ]
    }
   ],
   "source": [
    "sceneDict = {'tilt':tilt,'pitch': 3,'height':clearance_height,'azimuth':azimuth_ang, 'module_type':simulationname, 'nMods': nMods, 'nRows': nRows, 'axis_tilt': axis_tilt}  \n",
    "scene = demo.makeScene(moduletype=moduletype, sceneDict=sceneDict) #makeScene creates a .rad file with 20 modules per row, 7 rows.\n",
    "octfile = demo.makeOct(demo.getfilelist())  # makeOct combines all of the ground, sky and object files into a .oct file.\n"
   ]
  },
  {
   "cell_type": "code",
   "execution_count": 4,
   "metadata": {},
   "outputs": [
    {
     "name": "stdout",
     "output_type": "stream",
     "text": [
      "('\\nCustom Object Name', 'objects\\\\Mycube.rad')\n",
      "Created Regular_Array.oct\n"
     ]
    }
   ],
   "source": [
    "name='Mycube'\n",
    "text='! genbox black cuteBox 0.05 0.05 7 | xform -t -0.025 -0.025 0'\n",
    "customObject = demo.makeCustomObject(name,text)\n",
    "demo.appendtoScene(scene.radfiles, customObject, '!xform -rz 0')\n",
    "'''\n",
    "name='Mycube2'\n",
    "text='! genbox black cuteBox 0.1 0.1 2.5 | xform -t 3 -1.491 0'\n",
    "customObject = demo.makeCustomObject(name,text)\n",
    "demo.appendtoScene(scene.radfiles, customObject, '!xform -rz 0')\n",
    "'''\n",
    "octfile = demo.makeOct(demo.getfilelist())  # makeOct combines all of the ground, sky and object files into a .oct file.\n"
   ]
  },
  {
   "cell_type": "markdown",
   "metadata": {},
   "source": [
    "At this point you should be able to go into a command window (cmd.exe) and check the geometry. Example:\n",
    "\n",
    "# rvu -vf views\\front.vp -e .01 Regular_Array.oct\n"
   ]
  },
  {
   "cell_type": "code",
   "execution_count": 11,
   "metadata": {},
   "outputs": [
    {
     "name": "stdout",
     "output_type": "stream",
     "text": [
      "(0, 90, 0, 4, 3, 3, 0.15000000000000002, 2.5, 2.5)\n",
      "fixing height for axis_tilt\n",
      "Linescan in process: test3_Front\n",
      "Linescan in process: test3_Back\n",
      "Saved: results\\irr_test3.csv\n",
      "Annual bifacial ratio average:  0.361\n"
     ]
    }
   ],
   "source": [
    "analysis = AnalysisObj(octfile, demo.name)  # return an analysis object including the scan dimensions for back irradiance\n",
    "modWanted = 2\n",
    "rowWanted = 2\n",
    "frontscan, backscan = analysis.moduleAnalysis(scene, modWanted=modWanted, rowWanted=rowWanted)\n",
    "analysis.analysis(octfile, \"test3\", frontscan, backscan)  # compare the back vs front irradiance  \n",
    "print('Annual bifacial ratio average:  %0.3f' %( sum(analysis.Wm2Back) / sum(analysis.Wm2Front) ) )"
   ]
  },
  {
   "cell_type": "code",
   "execution_count": null,
   "metadata": {},
   "outputs": [],
   "source": [
    "scene.sceneDict"
   ]
  },
  {
   "cell_type": "code",
   "execution_count": 8,
   "metadata": {},
   "outputs": [
    {
     "data": {
      "text/plain": [
       "{'Nx': 1,\n",
       " 'Ny': 9.0,\n",
       " 'Nz': 1,\n",
       " 'orient': '0 0 -1',\n",
       " 'xinc': -0.21650635094610968,\n",
       " 'xstart': 0.9410254037844387,\n",
       " 'yinc': -1.3257190484061336e-17,\n",
       " 'ystart': 5.762118743304792e-17,\n",
       " 'zinc': 0.12499999999999999,\n",
       " 'zstart': 1.4899038105676656}"
      ]
     },
     "execution_count": 8,
     "metadata": {},
     "output_type": "execute_result"
    }
   ],
   "source": [
    "frontscan"
   ]
  },
  {
   "cell_type": "code",
   "execution_count": null,
   "metadata": {},
   "outputs": [],
   "source": []
  }
 ],
 "metadata": {
  "kernelspec": {
   "display_name": "Python 2",
   "language": "python",
   "name": "python2"
  },
  "language_info": {
   "codemirror_mode": {
    "name": "ipython",
    "version": 2
   },
   "file_extension": ".py",
   "mimetype": "text/x-python",
   "name": "python",
   "nbconvert_exporter": "python",
   "pygments_lexer": "ipython2",
   "version": "2.7.15"
  }
 },
 "nbformat": 4,
 "nbformat_minor": 2
}
