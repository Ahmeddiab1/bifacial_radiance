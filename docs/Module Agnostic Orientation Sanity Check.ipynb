{
 "cells": [
  {
   "cell_type": "code",
   "execution_count": 2,
   "metadata": {},
   "outputs": [
    {
     "name": "stdout",
     "output_type": "stream",
     "text": [
      " Successful import of bifacial_radiance version . \n"
     ]
    }
   ],
   "source": [
    "import sys\n",
    "\n",
    "sys.path.insert(0, '../bifacial_radiance')\n",
    "\n",
    "try:\n",
    "    from bifacial_radiance import *\n",
    "    print \" Successful import of bifacial_radiance version . \"\n",
    "except ImportError:\n",
    "    raise RuntimeError('bifacial_radiance is required. download distribution')\n",
    "    # Simple example system using Radiance."
   ]
  },
  {
   "cell_type": "code",
   "execution_count": 3,
   "metadata": {},
   "outputs": [
    {
     "name": "stdout",
     "output_type": "stream",
     "text": [
      "path = C:\\Users\\sayala\\Documents\\RadianceScenes\\Octtest\n",
      "Getting weather file: USA_VA_Richmond.Intl.AP.724010_TMY.epw  ... OK!\n",
      "('\\nModule Name:', 'landscape_module')\n",
      "Module file did not exist before, creating new module file\n",
      "Module landscape_module successfully created\n",
      "For this timestamp, panels are facing West\n",
      "Tracker theta has been calculated to 4.722, no rounding performed.\n",
      "Module clearance height has been calculated to 2.262, for this tracker theta.\n",
      "Created landscape_module.oct\n"
     ]
    }
   ],
   "source": [
    "testfolder = r'C:\\Users\\sayala\\Documents\\RadianceScenes\\Octtest'\n",
    "\n",
    "demo = RadianceObj('landscape_module',path = testfolder)  # Create a RadianceObj 'object'\n",
    "demo.setGround(0.62) # input albedo number or material name like 'concrete'.  To see options, run this without any input.\n",
    "try:\n",
    "    epwfile = demo.getEPW(37.5,-77.6) # pull TMY data for any global lat/lon\n",
    "except:\n",
    "    pass\n",
    "\n",
    "metdata = demo.readEPW(epwfile) # read in the EPW weather data from above\n",
    "#metdata = demo.readTMY() # select a TMY file using graphical picker\n",
    "# Now we either choose a single time point, or use cumulativesky for the entire year. \n",
    "demo.gendaylit(metdata,4020)  # Noon, June 17th\n",
    "\n",
    "\n",
    "timeindex = 4020 # Noon, June 17th. \n",
    "\n",
    "# MakeModule Parameters\n",
    "module_type='landscape_module'\n",
    "x = 1.996 \n",
    "y = 0.991\n",
    "tilt = 10\n",
    "\n",
    "# TorqueTube Parameters\n",
    "torqueTube = True\n",
    "numpanels = 2\n",
    "gap = 0.15\n",
    "tubetype = 'Hex'\n",
    "tubeZgap = 0.05\n",
    "diameter = 0.15\n",
    "torqueTubeMaterial = 'black'       # IT's NOT GRAY, IT's GREY\n",
    "axisofrotationTorqueTube = False\n",
    "\n",
    "# Tracking Angle Calculation Parameters\n",
    "hub_height = 2.35   \n",
    "axis_azimuth = 180.0\n",
    "roundTrackerAngleBool = False \n",
    "angledelta = 5\n",
    "limit_angle = 60\n",
    "backtrack = True\n",
    "# axisofrotationTorqueTube=False, diameter=0.1, tubeZgap=0.1\n",
    "# axisofrotationTorqueTube=axisofrotationTorqueTube, diameter=diameter, tubeZgap=tubeZgap\n",
    "\n",
    "# SceneDict Parameters\n",
    "gcr = 0.33   # ground cover ratio,  = module_he\n",
    "nMods = 3\n",
    "nRows=1\n",
    "sensorsy=9\n",
    "psx = 0.5\n",
    "\n",
    "#We have a 2-up configuration in portrait. This section helps sort what is the COLLECTOR WIDTH to use.\n",
    "\n",
    "moduledict = demo.makeModule(name=module_type,x=x,y=y,bifi=1,  \n",
    "       torquetube=torqueTube, diameter = diameter, tubetype = tubetype, material = torqueTubeMaterial, tubeZgap=tubeZgap, numpanels=numpanels, psx=psx, panelgap=gap)\n",
    "\n",
    "tracker_theta, tracker_height, azimuth_ang = demo._getTrackingGeometryTimeIndex(metdata, timeindex=timeindex, angledelta = angledelta, \n",
    "        roundTrackerAngleBool = roundTrackerAngleBool, axis_azimuth = axis_azimuth, \n",
    "        limit_angle = limit_angle, backtrack = backtrack, gcr = gcr, hubheight = hub_height, module_height = moduledict['collector_width'])\n",
    "\n",
    "\n",
    "sceneDict = {'tilt':tracker_theta,'pitch': np.round(moduledict['collector_width'] / gcr,3),'height':tracker_height,'azimuth':azimuth_ang, 'module_type':module_type}  \n",
    "\n",
    "scene = demo.makeScene(moduletype=module_type,sceneDict=sceneDict, nMods = nMods, nRows = nRows, sensorsy=sensorsy, psx=psx) #makeScene creates a .rad file with 20 modules per row, 7 rows.\n",
    "octfile = demo.makeOct(demo.getfilelist())  # makeOct combines all of the ground, sky and object files into a .oct file.\n",
    "\n"
   ]
  },
  {
   "cell_type": "markdown",
   "metadata": {},
   "source": [
    "At this point you should be able to go into a command window (cmd.exe) and check the geometry. Example:\n",
    "\n",
    "rvu -vf views\\front.vp -e .01 landscape_module.oct\n",
    "Looks good. Next:"
   ]
  },
  {
   "cell_type": "code",
   "execution_count": 5,
   "metadata": {},
   "outputs": [
    {
     "name": "stdout",
     "output_type": "stream",
     "text": [
      "path = C:\\Users\\sayala\\Documents\\RadianceScenes\\Octtest\n",
      "Getting weather file: USA_VA_Richmond.Intl.AP.724010_TMY.epw  ... OK!\n",
      "('\\nModule Name:', 'portrait_module')\n",
      "Module file did not exist before, creating new module file\n",
      "Module portrait_module successfully created\n",
      "For this timestamp, panels are facing West\n",
      "Tracker theta has been calculated to 4.722, no rounding performed.\n",
      "Module clearance height has been calculated to 2.179, for this tracker theta.\n",
      "Created portrait_module.oct\n"
     ]
    }
   ],
   "source": [
    "testfolder = r'C:\\Users\\sayala\\Documents\\RadianceScenes\\Octtest'\n",
    "\n",
    "demo = RadianceObj('portrait_module',path = testfolder)  # Create a RadianceObj 'object'\n",
    "demo.setGround(0.62) # input albedo number or material name like 'concrete'.  To see options, run this without any input.\n",
    "try:\n",
    "    epwfile = demo.getEPW(37.5,-77.6) # pull TMY data for any global lat/lon\n",
    "except:\n",
    "    pass\n",
    "\n",
    "metdata = demo.readEPW(epwfile) # read in the EPW weather data from above\n",
    "#metdata = demo.readTMY() # select a TMY file using graphical picker\n",
    "# Now we either choose a single time point, or use cumulativesky for the entire year. \n",
    "demo.gendaylit(metdata,4020)  # Noon, June 17th\n",
    "\n",
    "\n",
    "timeindex = 4020 # Noon, June 17th. \n",
    "\n",
    "# MakeModule Parameters\n",
    "module_type='portrait_module'\n",
    "y = 1.996 \n",
    "x = 0.991\n",
    "tilt = 10\n",
    "\n",
    "# TorqueTube Parameters\n",
    "torqueTube = True\n",
    "numpanels = 2\n",
    "gap = 0.15\n",
    "tubetype = 'Hex'\n",
    "tubeZgap = 0.05\n",
    "diameter = 0.15\n",
    "torqueTubeMaterial = 'black'       # IT's NOT GRAY, IT's GREY\n",
    "axisofrotationTorqueTube = False\n",
    "\n",
    "# Tracking Angle Calculation Parameters\n",
    "hub_height = 2.35   \n",
    "axis_azimuth = 180.0\n",
    "roundTrackerAngleBool = False \n",
    "angledelta = 5\n",
    "limit_angle = 60\n",
    "backtrack = True\n",
    "# axisofrotationTorqueTube=False, diameter=0.1, tubeZgap=0.1\n",
    "# axisofrotationTorqueTube=axisofrotationTorqueTube, diameter=diameter, tubeZgap=tubeZgap\n",
    "\n",
    "# SceneDict Parameters\n",
    "gcr = 0.33   # ground cover ratio,  = module_he\n",
    "nMods = 3\n",
    "nRows=1\n",
    "sensorsy=9\n",
    "psx = 0.5\n",
    "\n",
    "#We have a 2-up configuration in portrait. This section helps sort what is the COLLECTOR WIDTH to use.\n",
    "\n",
    "moduledict = demo.makeModule(name=module_type,x=x,y=y,bifi=1,  \n",
    "       torquetube=torqueTube, diameter = diameter, tubetype = tubetype, material = torqueTubeMaterial, tubeZgap=tubeZgap, numpanels=numpanels, psx=psx, panelgap=gap)\n",
    "\n",
    "tracker_theta, tracker_height, azimuth_ang = demo._getTrackingGeometryTimeIndex(metdata, timeindex=timeindex, angledelta = angledelta, \n",
    "        roundTrackerAngleBool = roundTrackerAngleBool, axis_azimuth = axis_azimuth, \n",
    "        limit_angle = limit_angle, backtrack = backtrack, gcr = gcr, hubheight = hub_height, module_height = moduledict['collector_width'])\n",
    "\n",
    "\n",
    "sceneDict = {'tilt':tracker_theta,'pitch': np.round(moduledict['collector_width'] / gcr,3),'height':tracker_height,'azimuth':azimuth_ang, 'module_type':module_type}  \n",
    "\n",
    "scene = demo.makeScene(moduletype=module_type,sceneDict=sceneDict, nMods = nMods, nRows = nRows, sensorsy=sensorsy, psx=psx) #makeScene creates a .rad file with 20 modules per row, 7 rows.\n",
    "octfile = demo.makeOct(demo.getfilelist())  # makeOct combines all of the ground, sky and object files into a .oct file.\n",
    "\n"
   ]
  },
  {
   "cell_type": "markdown",
   "metadata": {},
   "source": [
    "At this point you should be able to go into a command window (cmd.exe) and check the geometry. Example:\n",
    "\n",
    "### rvu -vf views\\front.vp -e .01 portrait_module.oct\n",
    "Looks good. Next: \n",
    "\n",
    "# Gencumsky 1 point Landscape"
   ]
  },
  {
   "cell_type": "code",
   "execution_count": 9,
   "metadata": {},
   "outputs": [
    {
     "name": "stdout",
     "output_type": "stream",
     "text": [
      "Creating ~4000 skyfiles.  Takes 1-2 minutes\n",
      "Created 4320 skyfiles in /skies/\n",
      "\n",
      "Making ~4000 .rad files for gendaylit 1-axis workflow (this takes a minute..)\n"
     ]
    },
    {
     "ename": "TypeError",
     "evalue": "string indices must be integers, not str",
     "output_type": "error",
     "traceback": [
      "\u001b[1;31m\u001b[0m",
      "\u001b[1;31mTypeError\u001b[0mTraceback (most recent call last)",
      "\u001b[1;32m<ipython-input-9-6299fda6bad4>\u001b[0m in \u001b[0;36m<module>\u001b[1;34m()\u001b[0m\n\u001b[0;32m      8\u001b[0m \u001b[0msceneDict\u001b[0m \u001b[1;33m=\u001b[0m \u001b[1;33m{\u001b[0m\u001b[1;34m'tilt'\u001b[0m\u001b[1;33m:\u001b[0m\u001b[0mtracker_theta\u001b[0m\u001b[1;33m,\u001b[0m\u001b[1;34m'pitch'\u001b[0m\u001b[1;33m:\u001b[0m \u001b[0mnp\u001b[0m\u001b[1;33m.\u001b[0m\u001b[0mround\u001b[0m\u001b[1;33m(\u001b[0m\u001b[0mmoduledict\u001b[0m\u001b[1;33m[\u001b[0m\u001b[1;34m'collector_width'\u001b[0m\u001b[1;33m]\u001b[0m \u001b[1;33m/\u001b[0m \u001b[0mgcr\u001b[0m\u001b[1;33m,\u001b[0m\u001b[1;36m3\u001b[0m\u001b[1;33m)\u001b[0m\u001b[1;33m,\u001b[0m\u001b[1;34m'height'\u001b[0m\u001b[1;33m:\u001b[0m\u001b[0mtracker_height\u001b[0m\u001b[1;33m,\u001b[0m \u001b[1;34m'module_type'\u001b[0m\u001b[1;33m:\u001b[0m\u001b[0mmodule_type\u001b[0m\u001b[1;33m}\u001b[0m\u001b[1;33m\u001b[0m\u001b[0m\n\u001b[0;32m      9\u001b[0m \u001b[1;33m\u001b[0m\u001b[0m\n\u001b[1;32m---> 10\u001b[1;33m \u001b[0mtrackerdict\u001b[0m \u001b[1;33m=\u001b[0m \u001b[0mdemo\u001b[0m\u001b[1;33m.\u001b[0m\u001b[0mmakeScene1axis\u001b[0m\u001b[1;33m(\u001b[0m\u001b[0mtrackerdict\u001b[0m\u001b[1;33m,\u001b[0m\u001b[0mmoduletype\u001b[0m\u001b[1;33m=\u001b[0m\u001b[0mmodule_type\u001b[0m\u001b[1;33m,\u001b[0m\u001b[0msceneDict\u001b[0m\u001b[1;33m=\u001b[0m\u001b[0msceneDict\u001b[0m\u001b[1;33m,\u001b[0m \u001b[0mcumulativesky\u001b[0m \u001b[1;33m=\u001b[0m \u001b[0mFalse\u001b[0m\u001b[1;33m,\u001b[0m \u001b[0mnMods\u001b[0m \u001b[1;33m=\u001b[0m \u001b[1;36m20\u001b[0m\u001b[1;33m,\u001b[0m \u001b[0mnRows\u001b[0m \u001b[1;33m=\u001b[0m \u001b[1;36m7\u001b[0m\u001b[1;33m,\u001b[0m \u001b[0msensorsy\u001b[0m\u001b[1;33m=\u001b[0m\u001b[0msensorsy\u001b[0m\u001b[1;33m,\u001b[0m \u001b[0mpsx\u001b[0m\u001b[1;33m=\u001b[0m\u001b[0mpsx\u001b[0m\u001b[1;33m)\u001b[0m \u001b[1;31m#makeScene creates a .rad file with 20 modules per row, 7 rows.\u001b[0m\u001b[1;33m\u001b[0m\u001b[0m\n\u001b[0m\u001b[0;32m     11\u001b[0m \u001b[1;33m\u001b[0m\u001b[0m\n\u001b[0;32m     12\u001b[0m \u001b[1;31m#for time in sorted(trackerdict.keys()):  # the full year\u001b[0m\u001b[1;33m\u001b[0m\u001b[1;33m\u001b[0m\u001b[0m\n",
      "\u001b[1;32mC:\\ProgramData\\Anaconda2\\lib\\site-packages\\bifacial_radiance\\bifacial_radiance.py\u001b[0m in \u001b[0;36mmakeScene1axis\u001b[1;34m(self, trackerdict, moduletype, sceneDict, nMods, nRows, psx, sensorsy, modwanted, rowwanted, cumulativesky)\u001b[0m\n\u001b[0;32m   1336\u001b[0m         \u001b[0mname\u001b[0m      \u001b[1;31m# name of module.\u001b[0m\u001b[1;33m\u001b[0m\u001b[0m\n\u001b[0;32m   1337\u001b[0m \u001b[1;33m\u001b[0m\u001b[0m\n\u001b[1;32m-> 1338\u001b[1;33m         \u001b[0mReturns\u001b[0m\u001b[1;33m\u001b[0m\u001b[0m\n\u001b[0m\u001b[0;32m   1339\u001b[0m         \u001b[1;33m-\u001b[0m\u001b[1;33m-\u001b[0m\u001b[1;33m-\u001b[0m\u001b[1;33m-\u001b[0m\u001b[1;33m-\u001b[0m\u001b[1;33m-\u001b[0m\u001b[1;33m-\u001b[0m\u001b[1;33m\u001b[0m\u001b[0m\n\u001b[0;32m   1340\u001b[0m         \u001b[0mdict\u001b[0m \u001b[0mof\u001b[0m \u001b[0mmodule\u001b[0m \u001b[0mparameters\u001b[0m\u001b[1;33m\u001b[0m\u001b[0m\n",
      "\u001b[1;31mTypeError\u001b[0m: string indices must be integers, not str"
     ]
    }
   ],
   "source": [
    "# Now this is the part that takes a long time, and will probably require parallel computing. For this example we just run one hourly point\n",
    "# NEW hourly gendaylit workflow. Note that trackerdict is returned with hourly time points as keys instead of tracker angles.\n",
    "trackerdict = demo.set1axis(metdata, limit_angle = limit_angle, backtrack = True, gcr = gcr, cumulativesky = False)\n",
    "\n",
    "# create the skyfiles needed for 1-axis tracking\n",
    "trackerdict = demo.gendaylit1axis()  # optional parameters 'startdate', 'enddate' inputs = string 'MM/DD' or 'MM_DD' \n",
    "\n",
    "sceneDict = {'tilt':tracker_theta,'pitch': np.round(moduledict['collector_width'] / gcr,3),'height':tracker_height, 'module_type':module_type}  \n",
    "\n"
   ]
  },
  {
   "cell_type": "code",
   "execution_count": 8,
   "metadata": {},
   "outputs": [
    {
     "data": {
      "text/plain": [
       "4.142"
      ]
     },
     "execution_count": 8,
     "metadata": {},
     "output_type": "execute_result"
    }
   ],
   "source": [
    "trackerdict = demo.makeScene1axis(trackerdict,moduletype=module_type,sceneDict=sceneDict, cumulativesky = False, nMods = 20, nRows = 7, sensorsy=sensorsy, psx=psx) #makeScene creates a .rad file with 20 modules per row, 7 rows.\n",
    "\n",
    "#for time in sorted(trackerdict.keys()):  # the full year\n",
    "for time in ['01_01_11','01_01_12']:  # just two timepoints\n",
    "    demo.makeOct1axis(trackerdict,time)"
   ]
  },
  {
   "cell_type": "markdown",
   "metadata": {},
   "source": [
    "At this point you should be able to go into a command window (cmd.exe) and check the geometry. Example:\n",
    "\n",
    "### rvu -vf views\\front.vp -e .01 portrait_module.oct\n",
    "Looks good. Next: \n",
    "\n",
    "# Gencumsky 1 point Portrait"
   ]
  },
  {
   "cell_type": "code",
   "execution_count": null,
   "metadata": {},
   "outputs": [],
   "source": [
    "orientation='landscape' \n",
    "\n",
    "moduledict = demo.makeModule(name=module_type,x=module_width,y=module_length,bifi=1,orientation=orientation, \n",
    "       torquetube=torqueTube, diameter = diameter, tubetype = tubetype, material = torqueTubeMaterial, tubeZgap=tubeZgap, numpanels=numpanels, psx=psx, panelgap=gap)\n",
    "\n",
    "# Now this is the part that takes a long time, and will probably require parallel computing. For this example we just run one hourly point\n",
    "# NEW hourly gendaylit workflow. Note that trackerdict is returned with hourly time points as keys instead of tracker angles.\n",
    "trackerdict = demo.set1axis(metdata, limit_angle = limit_angle, backtrack = True, gcr = gcr, cumulativesky = False)\n",
    "\n",
    "# create the skyfiles needed for 1-axis tracking\n",
    "trackerdict = demo.gendaylit1axis()  # optional parameters 'startdate', 'enddate' inputs = string 'MM/DD' or 'MM_DD' \n",
    "\n",
    "sceneDict = {'tilt':tracker_theta,'pitch': np.round(moduledict['collector_width'] / gcr,3),'height':tracker_height,'orientation':orientation, 'module_type':module_type}  \n",
    "\n",
    "trackerdict = demo.makeScene1axis(trackerdict,moduletype=module_type,sceneDict=sceneDict, cumulativesky = False, nMods = 3, nRows = 1, sensorsy=sensorsy, psx=psx) #makeScene creates a .rad file with 20 modules per row, 7 rows.\n",
    "\n",
    "#for time in sorted(trackerdict.keys()):  # the full year\n",
    "for time in ['01_01_11','01_01_12']:  # just two timepoints\n",
    "    demo.makeOct1axis(trackerdict,time)"
   ]
  }
 ],
 "metadata": {
  "kernelspec": {
   "display_name": "Python 2",
   "language": "python",
   "name": "python2"
  },
  "language_info": {
   "codemirror_mode": {
    "name": "ipython",
    "version": 2
   },
   "file_extension": ".py",
   "mimetype": "text/x-python",
   "name": "python",
   "nbconvert_exporter": "python",
   "pygments_lexer": "ipython2",
   "version": "2.7.15"
  }
 },
 "nbformat": 4,
 "nbformat_minor": 2
}
